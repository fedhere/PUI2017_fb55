{
 "cells": [
  {
   "cell_type": "markdown",
   "metadata": {
    "collapsed": true,
    "run_control": {
     "frozen": false,
     "read_only": false
    }
   },
   "source": [
    "** Skeleton of Assignment 4:**\n",
    "    test if the distribution of \n",
    "    \n",
    "    1) trip duration of bikers that ride during the day vs night\n",
    "    \n",
    "    2) age of bikers for trips originating in Manhattan and in Brooklyn\n",
    "    \n",
    "    are different. Use 3 tests: KS, Pearson's, Spearman's. \n",
    "    \n",
    "    Use the scipy.stats functions scipy.stats.ks_2samp, scipy.stats.pearsonr, scipy.stats.spearmanr. \n",
    "    \n",
    "    For the KS do the test with the entire dataset and with a subset 200 times smaller\n",
    "    \n",
    "    Choose a single significant threshold for the whole exercise. \n",
    "    \n",
    "    For each test phrase the Null Hypothesis in words.\n",
    "    \n",
    "    Describe the return of the scipy function you use in each case.\n",
    "    \n",
    "    State the result in terms of rejection of the Null."
   ]
  },
  {
   "cell_type": "code",
   "execution_count": 1,
   "metadata": {
    "ExecuteTime": {
     "end_time": "2017-10-16T20:30:35.071867",
     "start_time": "2017-10-16T20:30:35.049930"
    },
    "collapsed": false,
    "run_control": {
     "frozen": false,
     "read_only": false
    },
    "scrolled": false
   },
   "outputs": [
    {
     "name": "stdout",
     "output_type": "stream",
     "text": [
      "Populating the interactive namespace from numpy and matplotlib\n"
     ]
    },
    {
     "name": "stderr",
     "output_type": "stream",
     "text": [
      "/opt/rh/anaconda/root/envs/PUI2016_Python3/lib/python3.5/site-packages/matplotlib/__init__.py:800: MatplotlibDeprecationWarning: svg.embed_char_paths is deprecated and replaced with svg.fonttype; please use the latter.\n",
      "  mplDeprecation)\n",
      "/opt/rh/anaconda/root/envs/PUI2016_Python3/lib/python3.5/site-packages/matplotlib/__init__.py:800: MatplotlibDeprecationWarning: axes.color_cycle is deprecated and replaced with axes.prop_cycle; please use the latter.\n",
      "  mplDeprecation)\n"
     ]
    }
   ],
   "source": [
    "# my usual imports and setups\n",
    "from __future__ import print_function, division\n",
    "import pylab as pl\n",
    "import pandas as pd\n",
    "import numpy as np\n",
    "#imports downloader\n",
    "from getCitiBikeCSV import getCitiBikeCSV # must have this function locally or in path\n",
    "from get_jsonparsed_data import get_jsonparsed_data # must have this function locally or in path\n",
    "%pylab inline\n",
    "\n",
    "import scipy.stats\n",
    "import os\n",
    "#this makes my plots pretty! but it is totally not mandatory to do it\n",
    "import json\n",
    "s = json.load( open(os.getenv ('PUI2016')+\"/fbb_matplotlibrc.json\") )\n",
    "pl.rcParams.update(s)\n",
    "\n",
    "#set this to true while deeloping to subsample data\n",
    "DEVELOPING = False\n",
    "\n",
    "#chose day hours vs night hours:\n",
    "DAYTIME = (6, 18)"
   ]
  },
  {
   "cell_type": "markdown",
   "metadata": {},
   "source": [
    "** Statistical significance threshold throughout: $\\alpha = 0.05$ **"
   ]
  },
  {
   "cell_type": "code",
   "execution_count": 2,
   "metadata": {
    "ExecuteTime": {
     "end_time": "2017-10-16T20:10:54.437040",
     "start_time": "2017-10-16T20:10:54.433651"
    },
    "collapsed": true
   },
   "outputs": [],
   "source": [
    "alpha = 0.05"
   ]
  },
  {
   "cell_type": "markdown",
   "metadata": {
    "run_control": {
     "frozen": false,
     "read_only": false
    }
   },
   "source": [
    "# Read in data\n",
    "I am reading in data from January and June 2015 with the function that I created getCitiBikeCSV. You are requested to use 2 months at least. It would be a good idea to use data from a colder and a warmer months, since there are more riders in the warm weather and ridership patterns may change with weather, temperature, etc. You should use data from multiple months, joining multiple datasets (thus addressing some systematic errors as well)"
   ]
  },
  {
   "cell_type": "code",
   "execution_count": 3,
   "metadata": {
    "ExecuteTime": {
     "end_time": "2017-10-16T20:27:01.747210",
     "start_time": "2017-10-16T20:27:01.741053"
    },
    "collapsed": false,
    "run_control": {
     "frozen": false,
     "read_only": false
    }
   },
   "outputs": [
    {
     "name": "stdout",
     "output_type": "stream",
     "text": [
      "Downloading 201501\n",
      "file in place, you can continue\n",
      "Downloading 201506\n",
      "file in place, you can continue\n"
     ]
    }
   ],
   "source": [
    "# download data: a dataset from January \n",
    "datestring01 = '201501'\n",
    "getCitiBikeCSV(datestring01)\n",
    "datestring06 = '201506'\n",
    "getCitiBikeCSV(datestring06)"
   ]
  },
  {
   "cell_type": "code",
   "execution_count": 4,
   "metadata": {
    "ExecuteTime": {
     "end_time": "2017-10-16T20:11:10.393717",
     "start_time": "2017-10-16T20:11:09.422911"
    },
    "collapsed": false,
    "run_control": {
     "frozen": false,
     "read_only": false
    }
   },
   "outputs": [
    {
     "data": {
      "text/html": [
       "<div>\n",
       "<table border=\"1\" class=\"dataframe\">\n",
       "  <thead>\n",
       "    <tr style=\"text-align: right;\">\n",
       "      <th></th>\n",
       "      <th>tripduration</th>\n",
       "      <th>starttime</th>\n",
       "      <th>stoptime</th>\n",
       "      <th>start station id</th>\n",
       "      <th>start station name</th>\n",
       "      <th>start station latitude</th>\n",
       "      <th>start station longitude</th>\n",
       "      <th>end station id</th>\n",
       "      <th>end station name</th>\n",
       "      <th>end station latitude</th>\n",
       "      <th>end station longitude</th>\n",
       "      <th>bikeid</th>\n",
       "      <th>usertype</th>\n",
       "      <th>birth year</th>\n",
       "      <th>gender</th>\n",
       "    </tr>\n",
       "  </thead>\n",
       "  <tbody>\n",
       "    <tr>\n",
       "      <th>0</th>\n",
       "      <td>1346</td>\n",
       "      <td>1/1/2015 0:01</td>\n",
       "      <td>1/1/2015 0:24</td>\n",
       "      <td>455</td>\n",
       "      <td>1 Ave &amp; E 44 St</td>\n",
       "      <td>40.750020</td>\n",
       "      <td>-73.969053</td>\n",
       "      <td>265</td>\n",
       "      <td>Stanton St &amp; Chrystie St</td>\n",
       "      <td>40.722293</td>\n",
       "      <td>-73.991475</td>\n",
       "      <td>18660</td>\n",
       "      <td>Subscriber</td>\n",
       "      <td>1960.0</td>\n",
       "      <td>2</td>\n",
       "    </tr>\n",
       "    <tr>\n",
       "      <th>1</th>\n",
       "      <td>363</td>\n",
       "      <td>1/1/2015 0:02</td>\n",
       "      <td>1/1/2015 0:08</td>\n",
       "      <td>434</td>\n",
       "      <td>9 Ave &amp; W 18 St</td>\n",
       "      <td>40.743174</td>\n",
       "      <td>-74.003664</td>\n",
       "      <td>482</td>\n",
       "      <td>W 15 St &amp; 7 Ave</td>\n",
       "      <td>40.739355</td>\n",
       "      <td>-73.999318</td>\n",
       "      <td>16085</td>\n",
       "      <td>Subscriber</td>\n",
       "      <td>1963.0</td>\n",
       "      <td>1</td>\n",
       "    </tr>\n",
       "    <tr>\n",
       "      <th>2</th>\n",
       "      <td>346</td>\n",
       "      <td>1/1/2015 0:04</td>\n",
       "      <td>1/1/2015 0:10</td>\n",
       "      <td>491</td>\n",
       "      <td>E 24 St &amp; Park Ave S</td>\n",
       "      <td>40.740964</td>\n",
       "      <td>-73.986022</td>\n",
       "      <td>505</td>\n",
       "      <td>6 Ave &amp; W 33 St</td>\n",
       "      <td>40.749013</td>\n",
       "      <td>-73.988484</td>\n",
       "      <td>20845</td>\n",
       "      <td>Subscriber</td>\n",
       "      <td>1974.0</td>\n",
       "      <td>1</td>\n",
       "    </tr>\n",
       "    <tr>\n",
       "      <th>3</th>\n",
       "      <td>182</td>\n",
       "      <td>1/1/2015 0:04</td>\n",
       "      <td>1/1/2015 0:07</td>\n",
       "      <td>384</td>\n",
       "      <td>Fulton St &amp; Waverly Ave</td>\n",
       "      <td>40.683178</td>\n",
       "      <td>-73.965964</td>\n",
       "      <td>399</td>\n",
       "      <td>Lafayette Ave &amp; St James Pl</td>\n",
       "      <td>40.688515</td>\n",
       "      <td>-73.964763</td>\n",
       "      <td>19610</td>\n",
       "      <td>Subscriber</td>\n",
       "      <td>1969.0</td>\n",
       "      <td>1</td>\n",
       "    </tr>\n",
       "    <tr>\n",
       "      <th>4</th>\n",
       "      <td>969</td>\n",
       "      <td>1/1/2015 0:05</td>\n",
       "      <td>1/1/2015 0:21</td>\n",
       "      <td>474</td>\n",
       "      <td>5 Ave &amp; E 29 St</td>\n",
       "      <td>40.745168</td>\n",
       "      <td>-73.986831</td>\n",
       "      <td>432</td>\n",
       "      <td>E 7 St &amp; Avenue A</td>\n",
       "      <td>40.726218</td>\n",
       "      <td>-73.983799</td>\n",
       "      <td>20197</td>\n",
       "      <td>Subscriber</td>\n",
       "      <td>1977.0</td>\n",
       "      <td>1</td>\n",
       "    </tr>\n",
       "  </tbody>\n",
       "</table>\n",
       "</div>"
      ],
      "text/plain": [
       "   tripduration      starttime       stoptime  start station id  \\\n",
       "0          1346  1/1/2015 0:01  1/1/2015 0:24               455   \n",
       "1           363  1/1/2015 0:02  1/1/2015 0:08               434   \n",
       "2           346  1/1/2015 0:04  1/1/2015 0:10               491   \n",
       "3           182  1/1/2015 0:04  1/1/2015 0:07               384   \n",
       "4           969  1/1/2015 0:05  1/1/2015 0:21               474   \n",
       "\n",
       "        start station name  start station latitude  start station longitude  \\\n",
       "0          1 Ave & E 44 St               40.750020               -73.969053   \n",
       "1          9 Ave & W 18 St               40.743174               -74.003664   \n",
       "2     E 24 St & Park Ave S               40.740964               -73.986022   \n",
       "3  Fulton St & Waverly Ave               40.683178               -73.965964   \n",
       "4          5 Ave & E 29 St               40.745168               -73.986831   \n",
       "\n",
       "   end station id             end station name  end station latitude  \\\n",
       "0             265     Stanton St & Chrystie St             40.722293   \n",
       "1             482              W 15 St & 7 Ave             40.739355   \n",
       "2             505              6 Ave & W 33 St             40.749013   \n",
       "3             399  Lafayette Ave & St James Pl             40.688515   \n",
       "4             432            E 7 St & Avenue A             40.726218   \n",
       "\n",
       "   end station longitude  bikeid    usertype  birth year  gender  \n",
       "0             -73.991475   18660  Subscriber      1960.0       2  \n",
       "1             -73.999318   16085  Subscriber      1963.0       1  \n",
       "2             -73.988484   20845  Subscriber      1974.0       1  \n",
       "3             -73.964763   19610  Subscriber      1969.0       1  \n",
       "4             -73.983799   20197  Subscriber      1977.0       1  "
      ]
     },
     "execution_count": 4,
     "metadata": {},
     "output_type": "execute_result"
    }
   ],
   "source": [
    "# read in data Jan\n",
    "cb201501 = pd.read_csv(os.getenv(\"PUIDATA\") + \"/\" + datestring01 + '-citibike-tripdata.csv')\n",
    "cb201501.head()"
   ]
  },
  {
   "cell_type": "code",
   "execution_count": 5,
   "metadata": {
    "ExecuteTime": {
     "end_time": "2017-10-16T20:11:13.893956",
     "start_time": "2017-10-16T20:11:10.396668"
    },
    "collapsed": false
   },
   "outputs": [
    {
     "data": {
      "text/html": [
       "<div>\n",
       "<table border=\"1\" class=\"dataframe\">\n",
       "  <thead>\n",
       "    <tr style=\"text-align: right;\">\n",
       "      <th></th>\n",
       "      <th>tripduration</th>\n",
       "      <th>starttime</th>\n",
       "      <th>stoptime</th>\n",
       "      <th>start station id</th>\n",
       "      <th>start station name</th>\n",
       "      <th>start station latitude</th>\n",
       "      <th>start station longitude</th>\n",
       "      <th>end station id</th>\n",
       "      <th>end station name</th>\n",
       "      <th>end station latitude</th>\n",
       "      <th>end station longitude</th>\n",
       "      <th>bikeid</th>\n",
       "      <th>usertype</th>\n",
       "      <th>birth year</th>\n",
       "      <th>gender</th>\n",
       "    </tr>\n",
       "  </thead>\n",
       "  <tbody>\n",
       "    <tr>\n",
       "      <th>0</th>\n",
       "      <td>1338</td>\n",
       "      <td>6/1/2015 0:00</td>\n",
       "      <td>6/1/2015 0:22</td>\n",
       "      <td>128</td>\n",
       "      <td>MacDougal St &amp; Prince St</td>\n",
       "      <td>40.727103</td>\n",
       "      <td>-74.002971</td>\n",
       "      <td>2021</td>\n",
       "      <td>W 45 St &amp; 8 Ave</td>\n",
       "      <td>40.759291</td>\n",
       "      <td>-73.988597</td>\n",
       "      <td>20721</td>\n",
       "      <td>Subscriber</td>\n",
       "      <td>1984.0</td>\n",
       "      <td>1</td>\n",
       "    </tr>\n",
       "    <tr>\n",
       "      <th>1</th>\n",
       "      <td>290</td>\n",
       "      <td>6/1/2015 0:00</td>\n",
       "      <td>6/1/2015 0:05</td>\n",
       "      <td>438</td>\n",
       "      <td>St Marks Pl &amp; 1 Ave</td>\n",
       "      <td>40.727791</td>\n",
       "      <td>-73.985649</td>\n",
       "      <td>312</td>\n",
       "      <td>Allen St &amp; E Houston St</td>\n",
       "      <td>40.722055</td>\n",
       "      <td>-73.989111</td>\n",
       "      <td>21606</td>\n",
       "      <td>Subscriber</td>\n",
       "      <td>1997.0</td>\n",
       "      <td>1</td>\n",
       "    </tr>\n",
       "    <tr>\n",
       "      <th>2</th>\n",
       "      <td>634</td>\n",
       "      <td>6/1/2015 0:01</td>\n",
       "      <td>6/1/2015 0:11</td>\n",
       "      <td>383</td>\n",
       "      <td>Greenwich Ave &amp; Charles St</td>\n",
       "      <td>40.735238</td>\n",
       "      <td>-74.000271</td>\n",
       "      <td>388</td>\n",
       "      <td>W 26 St &amp; 10 Ave</td>\n",
       "      <td>40.749718</td>\n",
       "      <td>-74.002950</td>\n",
       "      <td>16595</td>\n",
       "      <td>Subscriber</td>\n",
       "      <td>1993.0</td>\n",
       "      <td>1</td>\n",
       "    </tr>\n",
       "    <tr>\n",
       "      <th>3</th>\n",
       "      <td>159</td>\n",
       "      <td>6/1/2015 0:01</td>\n",
       "      <td>6/1/2015 0:04</td>\n",
       "      <td>361</td>\n",
       "      <td>Allen St &amp; Hester St</td>\n",
       "      <td>40.716059</td>\n",
       "      <td>-73.991908</td>\n",
       "      <td>531</td>\n",
       "      <td>Forsyth St &amp; Broome St</td>\n",
       "      <td>40.718939</td>\n",
       "      <td>-73.992663</td>\n",
       "      <td>16949</td>\n",
       "      <td>Subscriber</td>\n",
       "      <td>1981.0</td>\n",
       "      <td>1</td>\n",
       "    </tr>\n",
       "    <tr>\n",
       "      <th>4</th>\n",
       "      <td>1233</td>\n",
       "      <td>6/1/2015 0:02</td>\n",
       "      <td>6/1/2015 0:22</td>\n",
       "      <td>382</td>\n",
       "      <td>University Pl &amp; E 14 St</td>\n",
       "      <td>40.734927</td>\n",
       "      <td>-73.992005</td>\n",
       "      <td>532</td>\n",
       "      <td>S 5 Pl &amp; S 4 St</td>\n",
       "      <td>40.710451</td>\n",
       "      <td>-73.960876</td>\n",
       "      <td>17028</td>\n",
       "      <td>Customer</td>\n",
       "      <td>NaN</td>\n",
       "      <td>0</td>\n",
       "    </tr>\n",
       "  </tbody>\n",
       "</table>\n",
       "</div>"
      ],
      "text/plain": [
       "   tripduration      starttime       stoptime  start station id  \\\n",
       "0          1338  6/1/2015 0:00  6/1/2015 0:22               128   \n",
       "1           290  6/1/2015 0:00  6/1/2015 0:05               438   \n",
       "2           634  6/1/2015 0:01  6/1/2015 0:11               383   \n",
       "3           159  6/1/2015 0:01  6/1/2015 0:04               361   \n",
       "4          1233  6/1/2015 0:02  6/1/2015 0:22               382   \n",
       "\n",
       "           start station name  start station latitude  \\\n",
       "0    MacDougal St & Prince St               40.727103   \n",
       "1         St Marks Pl & 1 Ave               40.727791   \n",
       "2  Greenwich Ave & Charles St               40.735238   \n",
       "3        Allen St & Hester St               40.716059   \n",
       "4     University Pl & E 14 St               40.734927   \n",
       "\n",
       "   start station longitude  end station id         end station name  \\\n",
       "0               -74.002971            2021          W 45 St & 8 Ave   \n",
       "1               -73.985649             312  Allen St & E Houston St   \n",
       "2               -74.000271             388         W 26 St & 10 Ave   \n",
       "3               -73.991908             531   Forsyth St & Broome St   \n",
       "4               -73.992005             532          S 5 Pl & S 4 St   \n",
       "\n",
       "   end station latitude  end station longitude  bikeid    usertype  \\\n",
       "0             40.759291             -73.988597   20721  Subscriber   \n",
       "1             40.722055             -73.989111   21606  Subscriber   \n",
       "2             40.749718             -74.002950   16595  Subscriber   \n",
       "3             40.718939             -73.992663   16949  Subscriber   \n",
       "4             40.710451             -73.960876   17028    Customer   \n",
       "\n",
       "   birth year  gender  \n",
       "0      1984.0       1  \n",
       "1      1997.0       1  \n",
       "2      1993.0       1  \n",
       "3      1981.0       1  \n",
       "4         NaN       0  "
      ]
     },
     "execution_count": 5,
     "metadata": {},
     "output_type": "execute_result"
    }
   ],
   "source": [
    "#read in data Jun\n",
    "cb201506 = pd.read_csv(os.getenv(\"PUIDATA\") + \"/\" + datestring06 + '-citibike-tripdata.csv')\n",
    "cb201506.head()"
   ]
  },
  {
   "cell_type": "code",
   "execution_count": 6,
   "metadata": {
    "ExecuteTime": {
     "end_time": "2017-10-16T21:10:12.460833",
     "start_time": "2017-10-16T21:10:11.875318"
    },
    "collapsed": false
   },
   "outputs": [],
   "source": [
    "#subsample data while developing code \n",
    "#THIS IS IMPORTANT! the computing speed when using the full sample is orohibitively slow\n",
    "#for a good workflow it was necessary to develope on a subsample, then run the whole notebook on the full dataset\n",
    "\n",
    "if DEVELOPING:\n",
    "    cb2015 = cb201501[::1000]\n",
    "else:\n",
    "    cb2015 = pd.concat([cb201501, cb201506])"
   ]
  },
  {
   "cell_type": "code",
   "execution_count": 7,
   "metadata": {
    "ExecuteTime": {
     "end_time": "2017-10-16T20:11:14.371359",
     "start_time": "2017-10-16T20:11:14.347393"
    },
    "collapsed": false
   },
   "outputs": [
    {
     "name": "stdout",
     "output_type": "stream",
     "text": [
      "Shape of CB DF\n"
     ]
    },
    {
     "data": {
      "text/plain": [
       "(1226771, 15)"
      ]
     },
     "execution_count": 7,
     "metadata": {},
     "output_type": "execute_result"
    }
   ],
   "source": [
    "print (\"Shape of CB DF\")\n",
    "cb2015.shape"
   ]
  },
  {
   "cell_type": "code",
   "execution_count": 8,
   "metadata": {
    "ExecuteTime": {
     "end_time": "2017-10-16T20:18:17.508711",
     "start_time": "2017-10-16T20:11:14.378186"
    },
    "collapsed": false,
    "run_control": {
     "frozen": false,
     "read_only": false
    }
   },
   "outputs": [
    {
     "name": "stderr",
     "output_type": "stream",
     "text": [
      "/opt/rh/anaconda/root/envs/PUI2016_Python3/lib/python3.5/site-packages/numpy/lib/function_base.py:3403: RuntimeWarning: Invalid value encountered in median\n",
      "  RuntimeWarning)\n"
     ]
    },
    {
     "data": {
      "text/html": [
       "<div>\n",
       "<table border=\"1\" class=\"dataframe\">\n",
       "  <thead>\n",
       "    <tr style=\"text-align: right;\">\n",
       "      <th></th>\n",
       "      <th>tripduration</th>\n",
       "      <th>start station id</th>\n",
       "      <th>start station latitude</th>\n",
       "      <th>start station longitude</th>\n",
       "      <th>end station id</th>\n",
       "      <th>end station latitude</th>\n",
       "      <th>end station longitude</th>\n",
       "      <th>bikeid</th>\n",
       "      <th>birth year</th>\n",
       "      <th>gender</th>\n",
       "    </tr>\n",
       "  </thead>\n",
       "  <tbody>\n",
       "    <tr>\n",
       "      <th>count</th>\n",
       "      <td>1.226771e+06</td>\n",
       "      <td>1.226771e+06</td>\n",
       "      <td>1.226771e+06</td>\n",
       "      <td>1.226771e+06</td>\n",
       "      <td>1.226771e+06</td>\n",
       "      <td>1.226771e+06</td>\n",
       "      <td>1.226771e+06</td>\n",
       "      <td>1.226771e+06</td>\n",
       "      <td>1.090751e+06</td>\n",
       "      <td>1.226771e+06</td>\n",
       "    </tr>\n",
       "    <tr>\n",
       "      <th>mean</th>\n",
       "      <td>8.463465e+02</td>\n",
       "      <td>4.561577e+02</td>\n",
       "      <td>4.073500e+01</td>\n",
       "      <td>-7.399105e+01</td>\n",
       "      <td>4.540858e+02</td>\n",
       "      <td>4.073470e+01</td>\n",
       "      <td>-7.399120e+01</td>\n",
       "      <td>1.816818e+04</td>\n",
       "      <td>1.975921e+03</td>\n",
       "      <td>1.084841e+00</td>\n",
       "    </tr>\n",
       "    <tr>\n",
       "      <th>std</th>\n",
       "      <td>3.052017e+03</td>\n",
       "      <td>3.730900e+02</td>\n",
       "      <td>1.923260e-02</td>\n",
       "      <td>1.226162e-02</td>\n",
       "      <td>3.707375e+02</td>\n",
       "      <td>1.919737e-02</td>\n",
       "      <td>1.228086e-02</td>\n",
       "      <td>2.102264e+03</td>\n",
       "      <td>1.150760e+01</td>\n",
       "      <td>5.481352e-01</td>\n",
       "    </tr>\n",
       "    <tr>\n",
       "      <th>min</th>\n",
       "      <td>6.000000e+01</td>\n",
       "      <td>7.200000e+01</td>\n",
       "      <td>4.068034e+01</td>\n",
       "      <td>-7.401713e+01</td>\n",
       "      <td>7.200000e+01</td>\n",
       "      <td>4.068034e+01</td>\n",
       "      <td>-7.401713e+01</td>\n",
       "      <td>1.452900e+04</td>\n",
       "      <td>1.885000e+03</td>\n",
       "      <td>0.000000e+00</td>\n",
       "    </tr>\n",
       "    <tr>\n",
       "      <th>25%</th>\n",
       "      <td>3.810000e+02</td>\n",
       "      <td>3.070000e+02</td>\n",
       "      <td>4.072182e+01</td>\n",
       "      <td>-7.400004e+01</td>\n",
       "      <td>3.060000e+02</td>\n",
       "      <td>4.072165e+01</td>\n",
       "      <td>-7.400026e+01</td>\n",
       "      <td>1.636700e+04</td>\n",
       "      <td>NaN</td>\n",
       "      <td>1.000000e+00</td>\n",
       "    </tr>\n",
       "    <tr>\n",
       "      <th>50%</th>\n",
       "      <td>6.050000e+02</td>\n",
       "      <td>4.170000e+02</td>\n",
       "      <td>4.073653e+01</td>\n",
       "      <td>-7.399076e+01</td>\n",
       "      <td>4.120000e+02</td>\n",
       "      <td>4.073650e+01</td>\n",
       "      <td>-7.399093e+01</td>\n",
       "      <td>1.815600e+04</td>\n",
       "      <td>NaN</td>\n",
       "      <td>1.000000e+00</td>\n",
       "    </tr>\n",
       "    <tr>\n",
       "      <th>75%</th>\n",
       "      <td>9.920000e+02</td>\n",
       "      <td>4.920000e+02</td>\n",
       "      <td>4.075020e+01</td>\n",
       "      <td>-7.398195e+01</td>\n",
       "      <td>4.910000e+02</td>\n",
       "      <td>4.074972e+01</td>\n",
       "      <td>-7.398195e+01</td>\n",
       "      <td>1.993100e+04</td>\n",
       "      <td>NaN</td>\n",
       "      <td>1.000000e+00</td>\n",
       "    </tr>\n",
       "    <tr>\n",
       "      <th>max</th>\n",
       "      <td>1.691873e+06</td>\n",
       "      <td>3.002000e+03</td>\n",
       "      <td>4.077152e+01</td>\n",
       "      <td>-7.395005e+01</td>\n",
       "      <td>3.002000e+03</td>\n",
       "      <td>4.077152e+01</td>\n",
       "      <td>-7.395005e+01</td>\n",
       "      <td>2.236400e+04</td>\n",
       "      <td>1.999000e+03</td>\n",
       "      <td>2.000000e+00</td>\n",
       "    </tr>\n",
       "  </tbody>\n",
       "</table>\n",
       "</div>"
      ],
      "text/plain": [
       "       tripduration  start station id  start station latitude  \\\n",
       "count  1.226771e+06      1.226771e+06            1.226771e+06   \n",
       "mean   8.463465e+02      4.561577e+02            4.073500e+01   \n",
       "std    3.052017e+03      3.730900e+02            1.923260e-02   \n",
       "min    6.000000e+01      7.200000e+01            4.068034e+01   \n",
       "25%    3.810000e+02      3.070000e+02            4.072182e+01   \n",
       "50%    6.050000e+02      4.170000e+02            4.073653e+01   \n",
       "75%    9.920000e+02      4.920000e+02            4.075020e+01   \n",
       "max    1.691873e+06      3.002000e+03            4.077152e+01   \n",
       "\n",
       "       start station longitude  end station id  end station latitude  \\\n",
       "count             1.226771e+06    1.226771e+06          1.226771e+06   \n",
       "mean             -7.399105e+01    4.540858e+02          4.073470e+01   \n",
       "std               1.226162e-02    3.707375e+02          1.919737e-02   \n",
       "min              -7.401713e+01    7.200000e+01          4.068034e+01   \n",
       "25%              -7.400004e+01    3.060000e+02          4.072165e+01   \n",
       "50%              -7.399076e+01    4.120000e+02          4.073650e+01   \n",
       "75%              -7.398195e+01    4.910000e+02          4.074972e+01   \n",
       "max              -7.395005e+01    3.002000e+03          4.077152e+01   \n",
       "\n",
       "       end station longitude        bikeid    birth year        gender  \n",
       "count           1.226771e+06  1.226771e+06  1.090751e+06  1.226771e+06  \n",
       "mean           -7.399120e+01  1.816818e+04  1.975921e+03  1.084841e+00  \n",
       "std             1.228086e-02  2.102264e+03  1.150760e+01  5.481352e-01  \n",
       "min            -7.401713e+01  1.452900e+04  1.885000e+03  0.000000e+00  \n",
       "25%            -7.400026e+01  1.636700e+04           NaN  1.000000e+00  \n",
       "50%            -7.399093e+01  1.815600e+04           NaN  1.000000e+00  \n",
       "75%            -7.398195e+01  1.993100e+04           NaN  1.000000e+00  \n",
       "max            -7.395005e+01  2.236400e+04  1.999000e+03  2.000000e+00  "
      ]
     },
     "execution_count": 8,
     "metadata": {},
     "output_type": "execute_result"
    }
   ],
   "source": [
    "cb2015['date'] = pd.to_datetime(cb2015.starttime)\n",
    "# note that with dataframes I can refer to variables as dictionary keys, \n",
    "# i.e. df['starttime'] or as attributes: df.starttime. \n",
    "cb2015.describe()"
   ]
  },
  {
   "cell_type": "code",
   "execution_count": 9,
   "metadata": {
    "ExecuteTime": {
     "end_time": "2017-10-16T20:18:17.517460",
     "start_time": "2017-10-16T20:18:17.510870"
    },
    "collapsed": false,
    "run_control": {
     "frozen": false,
     "read_only": false
    }
   },
   "outputs": [
    {
     "data": {
      "text/plain": [
       "Index(['tripduration', 'starttime', 'stoptime', 'start station id',\n",
       "       'start station name', 'start station latitude',\n",
       "       'start station longitude', 'end station id', 'end station name',\n",
       "       'end station latitude', 'end station longitude', 'bikeid', 'usertype',\n",
       "       'birth year', 'gender', 'date'],\n",
       "      dtype='object')"
      ]
     },
     "execution_count": 9,
     "metadata": {},
     "output_type": "execute_result"
    }
   ],
   "source": [
    "cb2015.columns"
   ]
  },
  {
   "cell_type": "markdown",
   "metadata": {
    "run_control": {
     "frozen": false,
     "read_only": false
    }
   },
   "source": [
    "## SPLIT BY CATEGORY\n",
    "\n",
    "splitting data by day vs night and looking at trip duration:\n",
    "\n",
    "**H0: there is no statistical difference in the trip duration distribution during the day and the night**\n",
    "$$ \\alpha = 0.05 $$\n",
    "\n",
    "extracting the age happens in the cell below"
   ]
  },
  {
   "cell_type": "code",
   "execution_count": 10,
   "metadata": {
    "ExecuteTime": {
     "end_time": "2017-10-16T20:18:19.715100",
     "start_time": "2017-10-16T20:18:17.520135"
    },
    "collapsed": false
   },
   "outputs": [],
   "source": [
    "#extract hour when trip started\n",
    "cb2015['starthour'] = pd.to_numeric(cb2015.starttime.apply(lambda x: \n",
    "                                                           x.split()[1].split(':')[0]))"
   ]
  },
  {
   "cell_type": "code",
   "execution_count": 11,
   "metadata": {
    "ExecuteTime": {
     "end_time": "2017-10-16T20:18:19.726708",
     "start_time": "2017-10-16T20:18:19.717668"
    },
    "collapsed": false
   },
   "outputs": [
    {
     "data": {
      "text/plain": [
       "0"
      ]
     },
     "execution_count": 11,
     "metadata": {},
     "output_type": "execute_result"
    }
   ],
   "source": [
    "#check start hour\n",
    "cb2015.starthour.values[0]"
   ]
  },
  {
   "cell_type": "code",
   "execution_count": 12,
   "metadata": {
    "ExecuteTime": {
     "end_time": "2017-10-16T20:18:19.744858",
     "start_time": "2017-10-16T20:18:19.729930"
    },
    "collapsed": false
   },
   "outputs": [],
   "source": [
    "# split day and night smaples\n",
    "# chose trip starting between 6 and 18 as day trips\n",
    "cb2015['dayride'] = (cb2015.starthour.values > DAYTIME[0]) & (cb2015.starthour.values < DAYTIME[1])"
   ]
  },
  {
   "cell_type": "code",
   "execution_count": 13,
   "metadata": {
    "ExecuteTime": {
     "end_time": "2017-10-16T20:18:20.041015",
     "start_time": "2017-10-16T20:18:19.747974"
    },
    "collapsed": false,
    "run_control": {
     "frozen": false,
     "read_only": false
    }
   },
   "outputs": [
    {
     "name": "stdout",
     "output_type": "stream",
     "text": [
      "The number of rows in the 2015 citibike dataset is 1226771\n"
     ]
    },
    {
     "data": {
      "text/html": [
       "<div>\n",
       "<table border=\"1\" class=\"dataframe\">\n",
       "  <thead>\n",
       "    <tr style=\"text-align: right;\">\n",
       "      <th></th>\n",
       "      <th>tripduration</th>\n",
       "      <th>start station id</th>\n",
       "      <th>start station name</th>\n",
       "      <th>dayride</th>\n",
       "    </tr>\n",
       "  </thead>\n",
       "  <tbody>\n",
       "    <tr>\n",
       "      <th>0</th>\n",
       "      <td>1346</td>\n",
       "      <td>455</td>\n",
       "      <td>1 Ave &amp; E 44 St</td>\n",
       "      <td>False</td>\n",
       "    </tr>\n",
       "    <tr>\n",
       "      <th>1</th>\n",
       "      <td>363</td>\n",
       "      <td>434</td>\n",
       "      <td>9 Ave &amp; W 18 St</td>\n",
       "      <td>False</td>\n",
       "    </tr>\n",
       "    <tr>\n",
       "      <th>2</th>\n",
       "      <td>346</td>\n",
       "      <td>491</td>\n",
       "      <td>E 24 St &amp; Park Ave S</td>\n",
       "      <td>False</td>\n",
       "    </tr>\n",
       "    <tr>\n",
       "      <th>3</th>\n",
       "      <td>182</td>\n",
       "      <td>384</td>\n",
       "      <td>Fulton St &amp; Waverly Ave</td>\n",
       "      <td>False</td>\n",
       "    </tr>\n",
       "    <tr>\n",
       "      <th>4</th>\n",
       "      <td>969</td>\n",
       "      <td>474</td>\n",
       "      <td>5 Ave &amp; E 29 St</td>\n",
       "      <td>False</td>\n",
       "    </tr>\n",
       "  </tbody>\n",
       "</table>\n",
       "</div>"
      ],
      "text/plain": [
       "   tripduration  start station id       start station name dayride\n",
       "0          1346               455          1 Ave & E 44 St   False\n",
       "1           363               434          9 Ave & W 18 St   False\n",
       "2           346               491     E 24 St & Park Ave S   False\n",
       "3           182               384  Fulton St & Waverly Ave   False\n",
       "4           969               474          5 Ave & E 29 St   False"
      ]
     },
     "execution_count": 13,
     "metadata": {},
     "output_type": "execute_result"
    }
   ],
   "source": [
    "#collecting latitude and longitude for later splitting borroughs\n",
    "latlon = (cb2015[['start station latitude', \n",
    "                'start station longitude']].values.astype(float))\n",
    "print(\"The number of rows in the 2015 citibike dataset is\", len(latlon))\n",
    "#dropping not needed columns to lighten memory load\n",
    "cb2015 = cb2015.drop(cb2015.columns[5:-1], axis=1).drop(cb2015.columns[1:3], axis=1)\n",
    "cb2015.head()"
   ]
  },
  {
   "cell_type": "code",
   "execution_count": 14,
   "metadata": {
    "ExecuteTime": {
     "end_time": "2017-10-16T20:18:20.240824",
     "start_time": "2017-10-16T20:18:20.044299"
    },
    "collapsed": false,
    "run_control": {
     "frozen": false,
     "read_only": false
    }
   },
   "outputs": [
    {
     "data": {
      "text/html": [
       "<div>\n",
       "<table border=\"1\" class=\"dataframe\">\n",
       "  <thead>\n",
       "    <tr style=\"text-align: right;\">\n",
       "      <th></th>\n",
       "      <th>tripduration</th>\n",
       "      <th>start station id</th>\n",
       "    </tr>\n",
       "  </thead>\n",
       "  <tbody>\n",
       "    <tr>\n",
       "      <th>count</th>\n",
       "      <td>1.226771e+06</td>\n",
       "      <td>1.226771e+06</td>\n",
       "    </tr>\n",
       "    <tr>\n",
       "      <th>mean</th>\n",
       "      <td>8.463465e+02</td>\n",
       "      <td>4.561577e+02</td>\n",
       "    </tr>\n",
       "    <tr>\n",
       "      <th>std</th>\n",
       "      <td>3.052017e+03</td>\n",
       "      <td>3.730900e+02</td>\n",
       "    </tr>\n",
       "    <tr>\n",
       "      <th>min</th>\n",
       "      <td>6.000000e+01</td>\n",
       "      <td>7.200000e+01</td>\n",
       "    </tr>\n",
       "    <tr>\n",
       "      <th>25%</th>\n",
       "      <td>3.810000e+02</td>\n",
       "      <td>3.070000e+02</td>\n",
       "    </tr>\n",
       "    <tr>\n",
       "      <th>50%</th>\n",
       "      <td>6.050000e+02</td>\n",
       "      <td>4.170000e+02</td>\n",
       "    </tr>\n",
       "    <tr>\n",
       "      <th>75%</th>\n",
       "      <td>9.920000e+02</td>\n",
       "      <td>4.920000e+02</td>\n",
       "    </tr>\n",
       "    <tr>\n",
       "      <th>max</th>\n",
       "      <td>1.691873e+06</td>\n",
       "      <td>3.002000e+03</td>\n",
       "    </tr>\n",
       "  </tbody>\n",
       "</table>\n",
       "</div>"
      ],
      "text/plain": [
       "       tripduration  start station id\n",
       "count  1.226771e+06      1.226771e+06\n",
       "mean   8.463465e+02      4.561577e+02\n",
       "std    3.052017e+03      3.730900e+02\n",
       "min    6.000000e+01      7.200000e+01\n",
       "25%    3.810000e+02      3.070000e+02\n",
       "50%    6.050000e+02      4.170000e+02\n",
       "75%    9.920000e+02      4.920000e+02\n",
       "max    1.691873e+06      3.002000e+03"
      ]
     },
     "execution_count": 14,
     "metadata": {},
     "output_type": "execute_result"
    }
   ],
   "source": [
    "#your df should look something like this\n",
    "# look at these data carefully... you may see someinteresting values!\n",
    "cb2015.describe()"
   ]
  },
  {
   "cell_type": "markdown",
   "metadata": {},
   "source": [
    "# exploratory analysis"
   ]
  },
  {
   "cell_type": "code",
   "execution_count": 15,
   "metadata": {
    "ExecuteTime": {
     "end_time": "2017-10-16T20:28:02.412991",
     "start_time": "2017-10-16T20:28:02.368275"
    },
    "collapsed": false
   },
   "outputs": [
    {
     "name": "stdout",
     "output_type": "stream",
     "text": [
      "Number of daytime rides 819517\n",
      "Number of nighttime rides 407254\n"
     ]
    }
   ],
   "source": [
    "print (\"Number of daytime rides\", cb2015.dayride.sum())\n",
    "print (\"Number of nighttime rides\", (~cb2015.dayride).sum())"
   ]
  },
  {
   "cell_type": "code",
   "execution_count": 16,
   "metadata": {
    "ExecuteTime": {
     "end_time": "2017-10-16T20:59:21.775880",
     "start_time": "2017-10-16T20:59:19.804721"
    },
    "collapsed": false
   },
   "outputs": [
    {
     "data": {
      "image/png": "[encoded data removed]",
      "text/plain": [
       "<matplotlib.figure.Figure at 0x7f55f596acc0>"
      ]
     },
     "metadata": {},
     "output_type": "display_data"
    }
   ],
   "source": [
    "# plot daytime trip duration histogram in 100 bins\n",
    "# plot 0% to 95% percentile because I expect these distribution to be long tailed and I see 43,000 hour trips above\n",
    "pc = np.percentile(cb2015.tripduration, [0, 99])\n",
    "bins = np.linspace(int(pc[0]), int(pc[1] / 100) * 100, 100)\n",
    "dayax = cb2015[cb2015.dayride].tripduration.groupby(\n",
    "    pd.cut(cb2015[cb2015.dayride].tripduration, bins)).\\\n",
    "                    agg([count_nonzero]).plot(kind='bar', legend=False)\n",
    "dayax.set_title(\"Jan and June 2015 rides\")\n",
    "# plot nighttime trip duration histogram\n",
    "cb2015[~cb2015.dayride].tripduration.groupby(\n",
    "    pd.cut(cb2015[~cb2015.dayride].tripduration, bins)).\\\n",
    "                    agg([count_nonzero]).plot(kind='bar', legend=False, ax=dayax, \n",
    "                                             color='IndianRed')\n",
    "xlab = dayax.get_xticklabels()\n",
    "dayax.set_xticklabels(['' if float(i)%10 > 0 else xlab[i] for i in range(len(xlab))]);\n",
    "dayax.set_xlabel(\" trip duration (minutes)\");\n",
    "\n"
   ]
  },
  {
   "cell_type": "code",
   "execution_count": 17,
   "metadata": {
    "ExecuteTime": {
     "end_time": "2017-10-16T20:51:36.389519",
     "start_time": "2017-10-16T20:51:36.383967"
    },
    "collapsed": false,
    "run_control": {
     "frozen": false,
     "read_only": false
    }
   },
   "outputs": [
    {
     "name": "stdout",
     "output_type": "stream",
     "text": [
      "Figure 1: histogrammed distribution of ride duration by day (blue) and night (red).\n",
      "The distributions are plotted up to the 95th percentile (removing outliers in the tail).\n",
      "The distributions look similar, such that visual inspection is not sufficient to determine if there is a difference.The number of rides is obviously higher during day hours.\n",
      "Note, that our definition of day includes 12 hours between hour 6 and 18\n"
     ]
    }
   ],
   "source": [
    "print (\"Figure 1: histogrammed distribution of ride duration by day (blue) and night (red).\\n\" +\n",
    "       \"The distributions are plotted up to the 95th percentile (removing outliers in the tail).\\n\" +\n",
    "       \"The distributions look similar, such that visual inspection is not sufficient \" +\n",
    "       \"to determine if there is a difference.\" + \n",
    "       \"The number of rides is obviously higher during day hours.\\n\" +\n",
    "       \"Note, that our definition of day includes %d hours between hour %d and %d\"%(DAYTIME[1] - DAYTIME[0],\n",
    "                                                                                    DAYTIME[0], DAYTIME[1]))"
   ]
  },
  {
   "cell_type": "code",
   "execution_count": 18,
   "metadata": {
    "ExecuteTime": {
     "end_time": "2017-10-16T21:05:42.382540",
     "start_time": "2017-10-16T21:05:41.678436"
    },
    "collapsed": false,
    "run_control": {
     "frozen": false,
     "read_only": false
    },
    "scrolled": false
   },
   "outputs": [
    {
     "data": {
      "image/png": "[encoded data removed]",
      "text/plain": [
       "<matplotlib.figure.Figure at 0x7f55f58b5d68>"
      ]
     },
     "metadata": {},
     "output_type": "display_data"
    }
   ],
   "source": [
    "#print df.ageS, df.ageS.cumsum()\n",
    "\n",
    "csD = cb2015[cb2015.dayride].tripduration.groupby(pd.cut(cb2015[cb2015.dayride].tripduration, \n",
    "                                                 bins)).agg([count_nonzero]).cumsum()\n",
    "\n",
    "csN = cb2015[~cb2015.dayride].tripduration.groupby(pd.cut(cb2015[~cb2015.dayride].tripduration, \n",
    "                                                  bins)).agg([count_nonzero]).cumsum()\n",
    "\n",
    "#print (np.abs(csD / csD.max()-csN / csN.max()))\n",
    "\n",
    "pl.plot(bins[:-1] + 5, csD / csD.max(), label = \"day\")\n",
    "pl.plot(bins[:-1] + 5, csN / csN.max(), label = \"night\")\n",
    "pl.plot(bins[:-1] + 5, np.abs(csN / csN.max() - csD / csD.max()), 'k-',\n",
    "        label = \"difference\")\n",
    "pl.xlabel(\"trip duration (minutes)\")\n",
    "pl.ylabel(\"Normalized Cumulative Number\")\n",
    "pl.legend();"
   ]
  },
  {
   "cell_type": "markdown",
   "metadata": {
    "run_control": {
     "frozen": false,
     "read_only": false
    }
   },
   "source": [
    "** Figure 2: the cumulative distribution of CitiBike riders' ages by day vs night trips.** \n",
    "\n",
    "The cumulative distribution is, by eye, practically identical with the maximum difference in heights between the cumulative distributions reached near 100 minutes of travel time. The difference is much less than 10%."
   ]
  },
  {
   "cell_type": "markdown",
   "metadata": {
    "collapsed": true,
    "run_control": {
     "frozen": false,
     "read_only": false
    }
   },
   "source": [
    "# KS tests to compare 2 samples\n",
    "\n",
    "http://docs.scipy.org/doc/scipy-0.15.1/reference/generated/scipy.stats.ks_2samp.html\n",
    "\n",
    "Null: the two distribution come from the same parent distribution"
   ]
  },
  {
   "cell_type": "code",
   "execution_count": 19,
   "metadata": {
    "ExecuteTime": {
     "end_time": "2017-10-16T20:28:16.494458",
     "start_time": "2017-10-16T20:28:16.223754"
    },
    "collapsed": false,
    "run_control": {
     "frozen": false,
     "read_only": false
    }
   },
   "outputs": [
    {
     "name": "stdout",
     "output_type": "stream",
     "text": [
      "Ks_2sampResult(statistic=0.010931405251323301, pvalue=1.1233645097381771e-28)\n",
      "The Null hypothesis that the two samples are generated by the same parent distribution is rejected (p<0.05)\n"
     ]
    }
   ],
   "source": [
    "ks = scipy.stats.ks_2samp(cb2015[cb2015.dayride].tripduration, cb2015[~cb2015.dayride].tripduration)\n",
    "print (ks)\n",
    "if ks[1] >= alpha: \n",
    "    print (\"The Null hypothesis that the two samples are generated \" + \n",
    "            \"by the same parent distribution cannot be rejected (p>=0.05)\")\n",
    "else: \n",
    "    print (\"The Null hypothesis that the two samples are generated \" + \n",
    "            \"by the same parent distribution is rejected (p<0.05)\")\n",
    "    "
   ]
  },
  {
   "cell_type": "markdown",
   "metadata": {},
   "source": [
    "** Note on the KS test: the KS test, and generally any test of Null Hypothesis Statistical Testing, has higher power for larger samples. With a million observations, 100s of thousands in each sample tiny differences tend to become statistically significant. ** (The distribution looked different by eye in a cumulative plot in the testig phase, with 1000 fewer samples but the p-value was less significant)"
   ]
  },
  {
   "cell_type": "markdown",
   "metadata": {
    "run_control": {
     "frozen": false,
     "read_only": false
    }
   },
   "source": [
    "** Now retest using a test for correlation. **\n",
    "\n",
    "The null hypothesis is that the two samples are generated from the same distribution. \n",
    "\n",
    "The alternative hypothesis is that the two samples are generated by unrelated distributions.\n",
    "\n",
    "Note that this is not a rigorous test, unlike the KS test, and according to scipy.stats.pearsonr _\"The p-values are not entirely reliable but are probably reasonable for datasets larger than 500 or so.\"_\n"
   ]
  },
  {
   "cell_type": "code",
   "execution_count": 20,
   "metadata": {
    "ExecuteTime": {
     "end_time": "2017-10-16T20:25:07.077103",
     "start_time": "2017-10-16T20:25:06.648556"
    },
    "collapsed": false,
    "run_control": {
     "frozen": false,
     "read_only": false
    }
   },
   "outputs": [],
   "source": [
    "#more rides during the day than during the night: subsample day rides\n",
    "dfday = cb2015[cb2015.dayride].iloc[np.random.choice(range(len(cb2015[cb2015.dayride])), (~cb2015.dayride).sum(), \n",
    "                                      replace=False)]"
   ]
  },
  {
   "cell_type": "code",
   "execution_count": 21,
   "metadata": {
    "ExecuteTime": {
     "end_time": "2017-10-16T20:28:20.638578",
     "start_time": "2017-10-16T20:28:20.533327"
    },
    "collapsed": false,
    "run_control": {
     "frozen": false,
     "read_only": false
    }
   },
   "outputs": [
    {
     "name": "stdout",
     "output_type": "stream",
     "text": [
      "Parson's test result (0.97285474771525382, 0.0)\n",
      "The Null hypothesis that the two samples are generated from uncorrelated distributions. is rejected (p = 0.000<0.05)\n"
     ]
    }
   ],
   "source": [
    "parsons = scipy.stats.pearsonr(np.sort(dfday.tripduration), np.sort(cb2015[~cb2015.dayride].tripduration))\n",
    "print (\"Parson's test result\", parsons)\n",
    "if parsons[1] >= alpha: \n",
    "    print (r\"The Null hypothesis that the two samples are generated from uncorrelated distributions. \" + \n",
    "           \"cannot be rejected (p>=0.05)\")\n",
    "else: \n",
    "    print (\"The Null hypothesis that the two samples are generated from uncorrelated distributions. \" + \n",
    "           \"is rejected (p = %.3f<0.05)\"%parsons[1])\n",
    " "
   ]
  },
  {
   "cell_type": "markdown",
   "metadata": {
    "run_control": {
     "frozen": false,
     "read_only": false
    }
   },
   "source": [
    "# Spearman's  test for correlation\n",
    "\n",
    "http://docs.scipy.org/doc/scipy/reference/generated/scipy.stats.spearmanr.html#scipy.stats.spearmanr"
   ]
  },
  {
   "cell_type": "code",
   "execution_count": 22,
   "metadata": {
    "ExecuteTime": {
     "end_time": "2017-10-16T20:28:25.257413",
     "start_time": "2017-10-16T20:28:25.085845"
    },
    "collapsed": false,
    "run_control": {
     "frozen": false,
     "read_only": false
    }
   },
   "outputs": [
    {
     "name": "stdout",
     "output_type": "stream",
     "text": [
      "Spearman's r test result SpearmanrResult(correlation=0.99999921875810915, pvalue=0.0)\n",
      "The Null hypothesis that the two samples are generated from uncorrelated distributions. is rejected (p = 0.000<0.05)\n"
     ]
    }
   ],
   "source": [
    "spearmanr = scipy.stats.spearmanr(np.sort(dfday.tripduration), np.sort(cb2015[~cb2015.dayride].tripduration))\n",
    "print (\"Spearman's r test result\", spearmanr)\n",
    "if spearmanr[1] >= alpha: \n",
    "    print (\"The Null hypothesis that the two samples are generated from uncorrelated distributions. \" + \n",
    "           \"cannot be rejected (p>=0.05)\")\n",
    "else: \n",
    "    print (\"The Null hypothesis that the two samples are generated from uncorrelated distributions. \" + \n",
    "           \"is rejected (p = %.3f<0.05)\"%spearmanr[1])\n",
    " "
   ]
  },
  {
   "cell_type": "markdown",
   "metadata": {
    "run_control": {
     "frozen": false,
     "read_only": false
    }
   },
   "source": [
    "** This test is often used to assess if sample are generated by the same distribution but in fact it tests if the samples are generated by _correlated_ distributions. As a test to assess independence it is not powerful, as even a small amount of correlation would raise the p-value**"
   ]
  },
  {
   "cell_type": "markdown",
   "metadata": {},
   "source": [
    "## BK vs Manhattan\n",
    "reverse geocoding will give me the coordinates of each station will give me its location:\n",
    "**NOTE: I do not need to run the query for every ride, but only for every station! **"
   ]
  },
  {
   "cell_type": "code",
   "execution_count": 23,
   "metadata": {
    "ExecuteTime": {
     "end_time": "2017-10-16T20:35:56.599000",
     "start_time": "2017-10-16T20:35:56.521295"
    },
    "collapsed": false
   },
   "outputs": [
    {
     "name": "stdout",
     "output_type": "stream",
     "text": [
      "number of stations:  335\n"
     ]
    }
   ],
   "source": [
    "nstations = pd.DataFrame(latlon).drop_duplicates().shape[0]\n",
    "print (\"number of stations: \", nstations)"
   ]
  },
  {
   "cell_type": "code",
   "execution_count": 24,
   "metadata": {
    "ExecuteTime": {
     "end_time": "2017-10-16T20:32:39.612688",
     "start_time": "2017-10-16T20:32:39.604451"
    },
    "collapsed": false
   },
   "outputs": [
    {
     "data": {
      "text/plain": [
       "array([ 40.75001986,  40.74317449,  40.74096374, ...,  40.75455731,\n",
       "        40.72066442,  40.71307916])"
      ]
     },
     "execution_count": 24,
     "metadata": {},
     "output_type": "execute_result"
    }
   ],
   "source": [
    "latlon[:,0]"
   ]
  },
  {
   "cell_type": "code",
   "execution_count": 27,
   "metadata": {
    "ExecuteTime": {
     "end_time": "2017-10-16T20:51:06.752754",
     "start_time": "2017-10-16T20:48:42.874079"
    },
    "collapsed": false,
    "run_control": {
     "frozen": false,
     "read_only": false
    }
   },
   "outputs": [
    {
     "name": "stdout",
     "output_type": "stream",
     "text": [
      "0/335\n",
      "1/335\n",
      "2/335\n",
      "3/335\n",
      "4/335\n",
      "5/335\n",
      "6/335\n",
      "7/335\n",
      "8/335\n",
      "9/335\n",
      "10/335\n",
      "11/335\n",
      "12/335\n",
      "13/335\n",
      "14/335\n",
      "15/335\n",
      "16/335\n",
      "17/335\n",
      "18/335\n",
      "19/335\n",
      "20/335\n",
      "21/335\n",
      "22/335\n",
      "23/335\n",
      "24/335\n",
      "25/335\n",
      "26/335\n",
      "27/335\n",
      "28/335\n",
      "29/335\n",
      "30/335\n",
      "31/335\n",
      "32/335\n",
      "33/335\n",
      "34/335\n",
      "35/335\n",
      "36/335\n",
      "37/335\n",
      "38/335\n",
      "39/335\n",
      "40/335\n",
      "41/335\n",
      "42/335\n",
      "43/335\n",
      "44/335\n",
      "45/335\n",
      "46/335\n",
      "47/335\n",
      "48/335\n",
      "49/335\n",
      "50/335\n",
      "51/335\n",
      "52/335\n",
      "53/335\n",
      "54/335\n",
      "55/335\n",
      "56/335\n",
      "57/335\n",
      "58/335\n",
      "59/335\n",
      "60/335\n",
      "61/335\n",
      "62/335\n",
      "63/335\n",
      "64/335\n",
      "65/335\n",
      "66/335\n",
      "67/335\n",
      "68/335\n",
      "69/335\n",
      "70/335\n",
      "71/335\n",
      "72/335\n",
      "73/335\n",
      "74/335\n",
      "75/335\n",
      "76/335\n",
      "77/335\n",
      "78/335\n",
      "79/335\n",
      "80/335\n",
      "81/335\n",
      "82/335\n",
      "83/335\n",
      "84/335\n",
      "85/335\n",
      "86/335\n",
      "87/335\n",
      "88/335\n",
      "89/335\n",
      "90/335\n",
      "91/335\n",
      "92/335\n",
      "93/335\n",
      "94/335\n",
      "95/335\n",
      "96/335\n",
      "97/335\n",
      "98/335\n",
      "99/335\n",
      "100/335\n",
      "101/335\n",
      "102/335\n",
      "103/335\n",
      "104/335\n",
      "105/335\n",
      "106/335\n",
      "107/335\n",
      "108/335\n",
      "109/335\n",
      "110/335\n",
      "111/335\n",
      "112/335\n",
      "113/335\n",
      "114/335\n",
      "115/335\n",
      "116/335\n",
      "117/335\n",
      "118/335\n",
      "119/335\n",
      "120/335\n",
      "121/335\n",
      "122/335\n",
      "123/335\n",
      "124/335\n",
      "125/335\n",
      "126/335\n",
      "127/335\n",
      "128/335\n",
      "129/335\n",
      "130/335\n",
      "131/335\n",
      "132/335\n",
      "133/335\n",
      "134/335\n",
      "135/335\n",
      "136/335\n",
      "137/335\n",
      "138/335\n",
      "139/335\n",
      "140/335\n",
      "141/335\n",
      "142/335\n",
      "143/335\n",
      "144/335\n",
      "145/335\n",
      "146/335\n",
      "147/335\n",
      "148/335\n",
      "149/335\n",
      "150/335\n",
      "151/335\n",
      "152/335\n",
      "153/335\n",
      "154/335\n",
      "155/335\n",
      "156/335\n",
      "157/335\n",
      "158/335\n",
      "159/335\n",
      "160/335\n",
      "161/335\n",
      "162/335\n",
      "163/335\n",
      "164/335\n",
      "165/335\n",
      "166/335\n",
      "167/335\n",
      "168/335\n",
      "169/335\n",
      "170/335\n",
      "171/335\n",
      "172/335\n",
      "173/335\n",
      "174/335\n",
      "175/335\n",
      "176/335\n",
      "177/335\n",
      "178/335\n",
      "179/335\n",
      "180/335\n",
      "181/335\n",
      "182/335\n",
      "183/335\n",
      "184/335\n",
      "185/335\n",
      "186/335\n",
      "187/335\n",
      "188/335\n",
      "189/335\n",
      "190/335\n",
      "191/335\n",
      "192/335\n",
      "193/335\n",
      "194/335\n",
      "195/335\n",
      "196/335\n",
      "197/335\n",
      "198/335\n",
      "199/335\n",
      "200/335\n",
      "201/335\n",
      "202/335\n",
      "203/335\n",
      "204/335\n",
      "205/335\n",
      "206/335\n",
      "207/335\n",
      "208/335\n",
      "209/335\n",
      "210/335\n",
      "211/335\n",
      "212/335\n",
      "213/335\n",
      "214/335\n",
      "215/335\n",
      "216/335\n",
      "217/335\n",
      "218/335\n",
      "219/335\n",
      "220/335\n",
      "221/335\n",
      "222/335\n",
      "223/335\n",
      "224/335\n",
      "225/335\n",
      "226/335\n",
      "227/335\n",
      "228/335\n",
      "229/335\n",
      "230/335\n",
      "231/335\n",
      "232/335\n",
      "233/335\n",
      "234/335\n",
      "235/335\n",
      "236/335\n",
      "237/335\n",
      "238/335\n",
      "239/335\n",
      "240/335\n",
      "241/335\n",
      "242/335\n",
      "243/335\n",
      "244/335\n",
      "245/335\n",
      "246/335\n",
      "247/335\n",
      "248/335\n",
      "249/335\n",
      "250/335\n",
      "251/335\n",
      "252/335\n",
      "253/335\n",
      "254/335\n",
      "255/335\n",
      "256/335\n",
      "257/335\n",
      "258/335\n",
      "259/335\n",
      "260/335\n",
      "261/335\n",
      "262/335\n",
      "263/335\n",
      "264/335\n",
      "265/335\n",
      "266/335\n",
      "267/335\n",
      "268/335\n",
      "269/335\n",
      "270/335\n",
      "271/335\n",
      "272/335\n",
      "273/335\n",
      "274/335\n",
      "275/335\n",
      "276/335\n",
      "277/335\n",
      "278/335\n",
      "279/335\n",
      "280/335\n",
      "281/335\n",
      "282/335\n",
      "283/335\n",
      "284/335\n",
      "285/335\n",
      "286/335\n",
      "287/335\n",
      "288/335\n",
      "289/335\n",
      "290/335\n",
      "291/335\n",
      "292/335\n",
      "293/335\n",
      "294/335\n",
      "295/335\n",
      "296/335\n",
      "297/335\n",
      "298/335\n",
      "299/335\n",
      "300/335\n",
      "301/335\n",
      "302/335\n",
      "303/335\n",
      "304/335\n",
      "305/335\n",
      "306/335\n",
      "307/335\n",
      "308/335\n",
      "309/335\n",
      "310/335\n",
      "311/335\n",
      "312/335\n",
      "313/335\n",
      "314/335\n",
      "315/335\n",
      "316/335\n",
      "317/335\n",
      "318/335\n",
      "319/335\n",
      "320/335\n",
      "321/335\n",
      "322/335\n",
      "323/335\n",
      "324/335\n",
      "325/335\n",
      "326/335\n",
      "327/335\n",
      "328/335\n",
      "329/335\n",
      "330/335\n",
      "331/335\n",
      "332/335\n",
      "333/335\n",
      "334/335\n"
     ]
    },
    {
     "data": {
      "text/html": [
       "<div>\n",
       "<table border=\"1\" class=\"dataframe\">\n",
       "  <thead>\n",
       "    <tr style=\"text-align: right;\">\n",
       "      <th></th>\n",
       "      <th>tripduration</th>\n",
       "      <th>start station id</th>\n",
       "      <th>start station name</th>\n",
       "      <th>dayride</th>\n",
       "      <th>county</th>\n",
       "    </tr>\n",
       "  </thead>\n",
       "  <tbody>\n",
       "    <tr>\n",
       "      <th>0</th>\n",
       "      <td>1346</td>\n",
       "      <td>455</td>\n",
       "      <td>1 Ave &amp; E 44 St</td>\n",
       "      <td>False</td>\n",
       "      <td>N</td>\n",
       "    </tr>\n",
       "    <tr>\n",
       "      <th>1</th>\n",
       "      <td>363</td>\n",
       "      <td>434</td>\n",
       "      <td>9 Ave &amp; W 18 St</td>\n",
       "      <td>False</td>\n",
       "      <td>N</td>\n",
       "    </tr>\n",
       "    <tr>\n",
       "      <th>2</th>\n",
       "      <td>346</td>\n",
       "      <td>491</td>\n",
       "      <td>E 24 St &amp; Park Ave S</td>\n",
       "      <td>False</td>\n",
       "      <td>N</td>\n",
       "    </tr>\n",
       "    <tr>\n",
       "      <th>3</th>\n",
       "      <td>182</td>\n",
       "      <td>384</td>\n",
       "      <td>Fulton St &amp; Waverly Ave</td>\n",
       "      <td>False</td>\n",
       "      <td>K</td>\n",
       "    </tr>\n",
       "    <tr>\n",
       "      <th>4</th>\n",
       "      <td>969</td>\n",
       "      <td>474</td>\n",
       "      <td>5 Ave &amp; E 29 St</td>\n",
       "      <td>False</td>\n",
       "      <td>N</td>\n",
       "    </tr>\n",
       "  </tbody>\n",
       "</table>\n",
       "</div>"
      ],
      "text/plain": [
       "   tripduration  start station id       start station name dayride county\n",
       "0          1346               455          1 Ave & E 44 St   False      N\n",
       "1           363               434          9 Ave & W 18 St   False      N\n",
       "2           346               491     E 24 St & Park Ave S   False      N\n",
       "3           182               384  Fulton St & Waverly Ave   False      K\n",
       "4           969               474          5 Ave & E 29 St   False      N"
      ]
     },
     "execution_count": 27,
     "metadata": {},
     "output_type": "execute_result"
    }
   ],
   "source": [
    "#this cells reverse geocodes coordinates to zip codes\n",
    "county = np.array([''] * len(cb2015))\n",
    "#my API is saved as an environmental variable\n",
    "#gAPI = os.getenv('GOOGLEAPI')\n",
    "#my API saved in a local file as gAPI = 'XXXXXXXXXXXXXXXXXXXXXXXXXXX'\n",
    "from gAPI import gAPI\n",
    "for i,ll in enumerate(pd.DataFrame(latlon).drop_duplicates().values):\n",
    "    print (\"%d/%d\"%(i, nstations))\n",
    "    url = (\"https://maps.googleapis.com/maps/api/geocode/json?latlng=\" +\n",
    "           \"%f,%f&key=%s\"%(\n",
    "            ll[0], ll[1], gAPI))\n",
    "    #print (\"https://maps.googleapis.com/maps/api/geocode/json?latlng=\" +\n",
    "    #       \"%f,%f&key=%s\"%(\n",
    "    #        ll[0], ll[1], os.getenv('GOOGLEAPI')))\n",
    "    #print (get_jsonparsed_data(url)[\"results\"][0]['address_components'][4])\n",
    "    # for testing break loop after N\n",
    "    #if i>10: break\n",
    "    revgeo = get_jsonparsed_data(url)[\"results\"][0]['address_components'][4]\n",
    "    #print (revgeo)\n",
    "    county[(latlon[:,0] == ll[0]) * \n",
    "           (latlon[:,1] == ll[1])] = revgeo['long_name']\n",
    "cb2015['county'] = county\n",
    "cb2015.head()"
   ]
  },
  {
   "cell_type": "code",
   "execution_count": 28,
   "metadata": {
    "ExecuteTime": {
     "end_time": "2017-10-16T20:52:13.284739",
     "start_time": "2017-10-16T20:52:13.271274"
    },
    "collapsed": true
   },
   "outputs": [],
   "source": [
    "cb2015['county'] = county\n"
   ]
  },
  {
   "cell_type": "code",
   "execution_count": 29,
   "metadata": {
    "ExecuteTime": {
     "end_time": "2017-10-16T20:53:04.890318",
     "start_time": "2017-10-16T20:53:04.881865"
    },
    "collapsed": false
   },
   "outputs": [
    {
     "data": {
      "text/plain": [
       "0    N\n",
       "1    N\n",
       "2    N\n",
       "3    K\n",
       "4    N\n",
       "Name: county, dtype: object"
      ]
     },
     "execution_count": 29,
     "metadata": {},
     "output_type": "execute_result"
    }
   ],
   "source": [
    "cb2015.county.head()"
   ]
  },
  {
   "cell_type": "code",
   "execution_count": 30,
   "metadata": {
    "ExecuteTime": {
     "end_time": "2017-10-16T20:53:21.334973",
     "start_time": "2017-10-16T20:53:21.272012"
    },
    "collapsed": false
   },
   "outputs": [],
   "source": [
    "cb2015['BK'] = (cb2015.county.values == \"K\")\n",
    "cb2015['M'] = (cb2015.county.values == \"N\")"
   ]
  },
  {
   "cell_type": "code",
   "execution_count": 31,
   "metadata": {
    "ExecuteTime": {
     "end_time": "2017-10-16T20:58:03.407462",
     "start_time": "2017-10-16T20:58:03.322173"
    },
    "collapsed": false
   },
   "outputs": [
    {
     "name": "stdout",
     "output_type": "stream",
     "text": [
      "Number of daytime rides 66267\n",
      "Number of nighttime rides 1153432\n",
      "ratio of rides BK to Manhattan: 0.0574520214456\n"
     ]
    }
   ],
   "source": [
    "print (\"Number of daytime rides\", cb2015.BK.sum())\n",
    "print (\"Number of nighttime rides\", cb2015.M.sum())\n",
    "print (\"ratio of rides BK to Manhattan:\", cb2015.BK.sum() * 1.0 / cb2015.M.sum())"
   ]
  },
  {
   "cell_type": "code",
   "execution_count": 32,
   "metadata": {
    "ExecuteTime": {
     "end_time": "2017-10-16T20:59:50.878950",
     "start_time": "2017-10-16T20:59:48.815161"
    },
    "collapsed": false
   },
   "outputs": [
    {
     "data": {
      "image/png": "[encoded data removed]",
      "text/plain": [
       "<matplotlib.figure.Figure at 0x7f55f5408cf8>"
      ]
     },
     "metadata": {},
     "output_type": "display_data"
    },
    {
     "data": {
      "image/png": "[encoded data removed]",
      "text/plain": [
       "<matplotlib.figure.Figure at 0x7f55f5408b70>"
      ]
     },
     "metadata": {},
     "output_type": "display_data"
    }
   ],
   "source": [
    "axM = cb2015[cb2015.M].tripduration.groupby(\n",
    "    pd.cut(cb2015[cb2015.M].tripduration, bins)).\\\n",
    "                    agg([count_nonzero]).plot(kind='bar', legend=False)\n",
    "axM.set_title(\"Jan and June 2015 rides\")\n",
    "\n",
    "# plot nighttime trip duration histogram\n",
    "axBK = cb2015[cb2015.BK].tripduration.groupby(\n",
    "    pd.cut(cb2015[cb2015.BK].tripduration, bins)).\\\n",
    "                    agg([count_nonzero]).plot(kind='bar', legend=False,#, ax=dayax, \n",
    "                                             color='IndianRed')\n",
    "xlab = dayax.get_xticklabels()\n",
    "axBK.set_xticklabels(['' if float(i)%10 > 0 else xlab[i] for i in range(len(xlab))]);\n",
    "axM.set_xticklabels(['' if float(i)%10 > 0 else xlab[i] for i in range(len(xlab))]);\n",
    "\n",
    "axM.set_xlabel(\" trip duration (minutes)\");\n",
    "axBK.set_xlabel(\" trip duration (minutes)\");\n"
   ]
  },
  {
   "cell_type": "markdown",
   "metadata": {},
   "source": [
    "** Figure 3: when splitting the sample by origin between Manhattan and Brooklyn the distribution of durations appear visibly different, with the BK distribution showing a flatter decline, and perhaps a second peak at ~1,000 minutes **. Also it should be note that now the number of rides is far more unbalanced between the two samples, with only about 5% of the rides originating from BK. "
   ]
  },
  {
   "cell_type": "code",
   "execution_count": 33,
   "metadata": {
    "ExecuteTime": {
     "end_time": "2017-10-16T21:05:26.164639",
     "start_time": "2017-10-16T21:05:25.447370"
    },
    "collapsed": false
   },
   "outputs": [
    {
     "data": {
      "image/png": "[encoded data removed]",
      "text/plain": [
       "<matplotlib.figure.Figure at 0x7f55f54467f0>"
      ]
     },
     "metadata": {},
     "output_type": "display_data"
    }
   ],
   "source": [
    "#print df.ageS, df.ageS.cumsum()\n",
    "\n",
    "csM = cb2015[cb2015.M].tripduration.groupby(pd.cut(cb2015[cb2015.M].tripduration, \n",
    "                                                 bins)).agg([count_nonzero]).cumsum()\n",
    "\n",
    "csBK = cb2015[cb2015.BK].tripduration.groupby(pd.cut(cb2015[cb2015.BK].tripduration, \n",
    "                                                  bins)).agg([count_nonzero]).cumsum()\n",
    "\n",
    "#print (np.abs(csD / csD.max()-csN / csN.max()))\n",
    "\n",
    "pl.plot(bins[:-1] + 5, csM / csM.max(), label = \"Manhattan\")\n",
    "pl.plot(bins[:-1] + 5, csBK / csBK.max(), label = \"BK\")\n",
    "pl.plot(bins[:-1] + 5, np.abs(csBK / csBK.max() - csM / csM.max()), 'k-',\n",
    "        label = \"difference\")\n",
    "pl.xlabel(\"trip duration (minutes)\")\n",
    "pl.ylabel(\"Normalized Cumulative Number\")\n",
    "pl.legend();"
   ]
  },
  {
   "cell_type": "markdown",
   "metadata": {},
   "source": [
    "** Figure 4: the difference between the distribution of trip duration for trips originating in Manhattan (blue) vs Brooklyn (red) in cumulative space is indicated by the black line. The distance appears bimodal, indicating an obvious difference in the shape of the distribution, and it peaks near 1,000 minutes at over 10% **"
   ]
  },
  {
   "cell_type": "code",
   "execution_count": 34,
   "metadata": {
    "ExecuteTime": {
     "end_time": "2017-10-16T21:00:13.720652",
     "start_time": "2017-10-16T21:00:13.411310"
    },
    "collapsed": false
   },
   "outputs": [
    {
     "name": "stdout",
     "output_type": "stream",
     "text": [
      "Ks_2sampResult(statistic=0.11289872747168939, pvalue=0.0)\n",
      "The Null hypothesis that the two samples are generated by the same parent distribution is rejected (p<0.05)\n"
     ]
    }
   ],
   "source": [
    "ks = scipy.stats.ks_2samp(cb2015[cb2015.BK].tripduration, cb2015[cb2015.M].tripduration)\n",
    "print (ks)\n",
    "if ks[1] >= alpha: \n",
    "    print (\"The Null hypothesis that the two samples are generated \" + \n",
    "            \"by the same parent distribution cannot be rejected (p>=0.05)\")\n",
    "else: \n",
    "    print (\"The Null hypothesis that the two samples are generated \" + \n",
    "            \"by the same parent distribution is rejected (p<0.05)\")\n",
    "    "
   ]
  },
  {
   "cell_type": "code",
   "execution_count": 35,
   "metadata": {
    "ExecuteTime": {
     "end_time": "2017-10-16T21:02:12.636458",
     "start_time": "2017-10-16T21:02:12.211883"
    },
    "collapsed": false
   },
   "outputs": [
    {
     "name": "stdout",
     "output_type": "stream",
     "text": [
      "Parson's test result (0.96658313204480495, 0.0)\n",
      "The Null hypothesis that the two samples are generated from uncorrelated distributions. is rejected (p = 0.000<0.05)\n"
     ]
    }
   ],
   "source": [
    "manhattan = cb2015[cb2015.M].iloc[np.random.choice(range(len(cb2015[cb2015.M])), (cb2015.BK).sum(), \n",
    "                                      replace=False)]\n",
    "parsons = scipy.stats.pearsonr(np.sort(manhattan.tripduration), np.sort(cb2015[cb2015.BK].tripduration))\n",
    "print (\"Parson's test result\", parsons)\n",
    "if parsons[1] >= alpha: \n",
    "    print (r\"The Null hypothesis that the two samples are generated from uncorrelated distributions. \" + \n",
    "           \"cannot be rejected (p>=0.05)\")\n",
    "else: \n",
    "    print (\"The Null hypothesis that the two samples are generated from uncorrelated distributions. \" + \n",
    "           \"is rejected (p = %.3f<0.05)\"%parsons[1])\n",
    " "
   ]
  },
  {
   "cell_type": "code",
   "execution_count": 36,
   "metadata": {
    "ExecuteTime": {
     "end_time": "2017-10-16T21:02:51.452676",
     "start_time": "2017-10-16T21:02:51.405161"
    },
    "collapsed": false
   },
   "outputs": [
    {
     "name": "stdout",
     "output_type": "stream",
     "text": [
      "Spearman's r test result SpearmanrResult(correlation=0.99999931484281246, pvalue=0.0)\n",
      "The Null hypothesis that the two samples are generated from uncorrelated distributions. is rejected (p = 0.000<0.05)\n"
     ]
    }
   ],
   "source": [
    "spearmanr = scipy.stats.spearmanr(np.sort(manhattan.tripduration), np.sort(cb2015[cb2015.BK].tripduration))\n",
    "print (\"Spearman's r test result\", spearmanr)\n",
    "if spearmanr[1] >= alpha: \n",
    "    print (\"The Null hypothesis that the two samples are generated from uncorrelated distributions. \" + \n",
    "           \"cannot be rejected (p>=0.05)\")\n",
    "else: \n",
    "    print (\"The Null hypothesis that the two samples are generated from uncorrelated distributions. \" + \n",
    "           \"is rejected (p = %.3f<0.05)\"%spearmanr[1])\n",
    " "
   ]
  },
  {
   "cell_type": "markdown",
   "metadata": {},
   "source": [
    "** The KS, Pearson's and Spearman's test conclude that the populations that generate the samples of rides from BK and Manhattan under consideration are different. Here we have a visual confirmation of this statistical difference, while earlier the statistical tests were reporting a result not obvious by visual inspection **"
   ]
  },
  {
   "cell_type": "markdown",
   "metadata": {
    "ExecuteTime": {
     "end_time": "2017-10-16T21:11:48.999825",
     "start_time": "2017-10-16T21:11:48.859548"
    },
    "collapsed": false
   },
   "source": [
    "## Note: alternative solution to split the sample\n",
    "\n",
    "this homework is not focusing on geospatial data, but on statistical tests. While the reverse geocoding solution is easily implemented and if you were familiar with geopandas a single sjoint call can split the sample between Manhattan and Brooklyn, a purely geometric soultion would be acceptable, even with low accuracy, as long as the purity of the samples was discussed. \n",
    "\n",
    "Here is its implementation: \n",
    "\n",
    "    1 In 2015 there were no stations in NJ or Queens, so those are not a concern.\n",
    "    2 Look on google maps for the coordinates of a line that separates Manhattan from BK\n",
    "\n",
    "x1 = (40.738102, -73.962194)\n",
    "\n",
    "x0 = (40.694456, -74.012116)\n",
    "\n",
    "to the East of this line you are in BK, to the West in Manhattan. \n",
    "   - if _lat_ > x1 : Manhattan\n",
    "   - if _lat_ < x0 : BK\n",
    "   - if _lat_ > x0 and _lat_ < x1 and _lon_ < _ylong(lat)_ : BK\n",
    "\n",
    "    _ylong(lat)_ = a * _lat_ + b =>\n",
    "\n",
    "    Using x1: \n",
    "                -73.962194 = a * 40.738102 + b \n",
    "                => b = - 73.962194 - a * 40.738102 \n",
    "\n",
    "    Using x0: \n",
    "                -74.012116 = a * 40.694456 + b =\n",
    "                => -74.012116 = a * 40.694456 - a * 40.738102 - 73.962194 = \n",
    "                => -74.012116 = a * (40.694456 - 40.738102) - 73.962194 \n",
    "                => a = (-74.012116 + 73.962194) / (40.694456 - 40.738102) = 1.143793\n",
    "                => b = - 73.962194 - 1.143793 * 40.738102  = -120.558150\n",
    "            => the equation of the line that split Manhattan from BK is \n",
    "            ylong(lat) = 1.143793 * lat - 120.558150\n",
    "   **if _lat_ > x0 and _lat_ < x1 and _long_ < _ylong(lat)_ : BK**"
   ]
  },
  {
   "cell_type": "code",
   "execution_count": 57,
   "metadata": {
    "collapsed": false
   },
   "outputs": [],
   "source": [
    "#defines a function that to place statin in BL or M based on 2 points\n",
    "\n",
    "x1 = (40.738102, -73.962194)\n",
    "x0 = (40.694456, -74.012116)\n",
    "\n",
    "def manORbk(coords):\n",
    "    ''' defined points in BK or Manhattan based on position w respect to a single boundary line\n",
    "    Arguments:\n",
    "    coords: (lat, lon) tuple or 1D array of size 2, coordinates in degrees\n",
    "    returns: character \"M\" or \"B\" for Manhattan and Brooklyn respectively\n",
    "    '''\n",
    "    lat,lon = coords\n",
    "    #print (lat, lon)\n",
    "    if lat >= x1[0] :\n",
    "        #print (1)\n",
    "        return 'M'\n",
    "    elif lat <= x0[0] :\n",
    "        #print (2)\n",
    "        return 'B'\n",
    "    elif lon > 1.143793 * lat -120.558150:\n",
    "        #print (3, 1.143793 * lat -120.558150)\n",
    "        return 'B'\n",
    "    else: \n",
    "        #print (4, 1.143793 * lat -120.558150, lon > 1.143793 * lat -120.558150)\n",
    "        return 'M'"
   ]
  },
  {
   "cell_type": "code",
   "execution_count": 92,
   "metadata": {
    "collapsed": false
   },
   "outputs": [
    {
     "data": {
      "text/plain": [
       "'B'"
      ]
     },
     "execution_count": 92,
     "metadata": {},
     "output_type": "execute_result"
    }
   ],
   "source": [
    "#test function\n",
    "manORbk((40.68807003, -73.98410637))"
   ]
  },
  {
   "cell_type": "code",
   "execution_count": 70,
   "metadata": {
    "collapsed": false
   },
   "outputs": [],
   "source": [
    "#this cells passes coordinates to manORbk\n",
    "cb2015['latlon'] = [(lat,lon) for lat, lon in latlon]\n",
    "cb2015['MorBK'] = cb2015['latlon'].apply(manORbk)\n"
   ]
  },
  {
   "cell_type": "code",
   "execution_count": 94,
   "metadata": {
    "collapsed": true
   },
   "outputs": [],
   "source": [
    "statsionsDF = cb2015.drop_duplicates(subset=[\"latlon\",\n",
    "                                             \"MorBK\",\n",
    "                                             \"BK\", \"M\"])\n"
   ]
  },
  {
   "cell_type": "code",
   "execution_count": 153,
   "metadata": {
    "collapsed": false
   },
   "outputs": [
    {
     "name": "stdout",
     "output_type": "stream",
     "text": [
      "number of miscategorized stations: 30\n"
     ]
    }
   ],
   "source": [
    "#assess contamination: \n",
    "#count the instances of station in manhattan for either location column 'M' and MorBK\n",
    "#and remove those that have Manhattan  for both classifications\n",
    "misclassified = np.array([((statsionsDF.iloc[i]['MorBK'] == 'M') or \\\n",
    "                 (statsionsDF.iloc[i].M)) \\\n",
    "                and not ((statsionsDF.iloc[i]['MorBK'] == 'M') and \\\n",
    "                         (statsionsDF.iloc[i].M)) \n",
    "                for i in range(len(statsionsDF))])\n",
    "\n",
    "print (\"number of miscategorized stations:\", \n",
    "       statsionsDF[misclassified].shape[0])\n"
   ]
  },
  {
   "cell_type": "code",
   "execution_count": 174,
   "metadata": {
    "collapsed": false
   },
   "outputs": [
    {
     "name": "stdout",
     "output_type": "stream",
     "text": [
      "also number of miscategorized stations: 32\n"
     ]
    }
   ],
   "source": [
    "misclassified2 = np.array([((statsionsDF.iloc[i]['MorBK'] == 'B') or \\\n",
    "                 (statsionsDF.iloc[i].BK)) \\\n",
    "                and not ((statsionsDF.iloc[i]['MorBK'] == 'B') and \\\n",
    "                         (statsionsDF.iloc[i].BK)) \n",
    "                for i in range(len(statsionsDF))])\n",
    "\n",
    "print (\"also number of miscategorized stations:\", \n",
    "       statsionsDF[misclassified2].shape[0])\n"
   ]
  },
  {
   "cell_type": "code",
   "execution_count": 180,
   "metadata": {
    "collapsed": false
   },
   "outputs": [
    {
     "name": "stdout",
     "output_type": "stream",
     "text": [
      "total fraction of misclassified trips: 0.04\n",
      "we do not expect this level of contamination to affect the  statistical result\n"
     ]
    }
   ],
   "source": [
    "print (\"total fraction of misclassified trips: %.2f\"%(1.0 * \n",
    "       cb2015.merge(statsionsDF[misclassified + misclassified2], \n",
    "                          on='start station id', \n",
    "                          how=\"inner\").shape[0] / cb2015.shape[0]))\n",
    "print (\"we do not expect this level of contamination to affect the \",\n",
    "       \"statistical result\")"
   ]
  },
  {
   "cell_type": "code",
   "execution_count": 155,
   "metadata": {
    "collapsed": false
   },
   "outputs": [
    {
     "name": "stdout",
     "output_type": "stream",
     "text": [
      "--2017-10-16 23:07:40--  https://data.cityofnewyork.us/download/i8iw-xf4u/application%2Fzip\n",
      "Resolving data.cityofnewyork.us... 52.206.140.205\n",
      "Connecting to data.cityofnewyork.us|52.206.140.205|:443... connected.\n",
      "HTTP request sent, awaiting response... 302 Found\n",
      "Location: https://data.cityofnewyork.us/api/views/i8iw-xf4u/files/YObIR0MbpUVA0EpQzZSq5x55FzKGM2ejSeahdvjqR20?filename=ZIP_CODE_040114.zip [following]\n",
      "--2017-10-16 23:07:41--  https://data.cityofnewyork.us/api/views/i8iw-xf4u/files/YObIR0MbpUVA0EpQzZSq5x55FzKGM2ejSeahdvjqR20?filename=ZIP_CODE_040114.zip\n",
      "Connecting to data.cityofnewyork.us|52.206.140.205|:443... connected.\n",
      "HTTP request sent, awaiting response... 200 OK\n",
      "Length: 1514401 (1.4M) [application/octet-stream]\n",
      "Saving to: “application%2Fzip.3”\n",
      "\n",
      "100%[======================================>] 1,514,401   1.97M/s   in 0.7s    \n",
      "\n",
      "2017-10-16 23:07:41 (1.97 MB/s) - “application%2Fzip.3” saved [1514401/1514401]\n",
      "\n",
      "Archive:  application%2Fzip\n",
      "replace ZIP_CODE_040114.shx? [y]es, [n]o, [A]ll, [N]one, [r]ename: ^C\n"
     ]
    }
   ],
   "source": [
    "#visualizing misclassified stations is fun, \n",
    "#but would absolutely not be necessary\n",
    "#could be done with gmaps, but it is easier with geopandas\n",
    "import geopandas as gpd\n",
    "\n",
    "\n",
    "#download unzip shape file\n",
    "!wget https://data.cityofnewyork.us/download/i8iw-xf4u/application%2Fzip\n",
    "!unzip application%2Fzip"
   ]
  },
  {
   "cell_type": "code",
   "execution_count": 156,
   "metadata": {
    "collapsed": false
   },
   "outputs": [],
   "source": [
    "zips = gpd.GeoDataFrame.from_file(\"ZIP_CODE_040114.shp\")\n",
    "#converting units to lat-lon\n",
    "zips = zips.to_crs(epsg=4326) # epsg=4326: lat/on | 26918: NAD83/UTM zone 18N | epsg=2263 is US feet"
   ]
  },
  {
   "cell_type": "code",
   "execution_count": 181,
   "metadata": {
    "collapsed": false
   },
   "outputs": [],
   "source": [
    "import shapely\n",
    "from fiona.crs import from_epsg\n",
    "\n",
    "# Create Point Geometry for based on lonlat column\n",
    "statsionsDF['geometry'] = statsionsDF[['latlon']].\\\n",
    "                applymap(lambda x: shapely.geometry.Point(list((x[1], x[0]))))\n",
    "statsionsDF = gpd.GeoDataFrame(statsionsDF)\n",
    "statsionsDF.crs = from_epsg(4326) "
   ]
  },
  {
   "cell_type": "code",
   "execution_count": 196,
   "metadata": {
    "collapsed": false
   },
   "outputs": [
    {
     "data": {
      "image/png": "[encoded data removed]",
      "text/plain": [
       "<matplotlib.figure.Figure at 0x7f55d447fb00>"
      ]
     },
     "metadata": {},
     "output_type": "display_data"
    }
   ],
   "source": [
    "ax = pl.figure(figsize=(10,10)).add_subplot(111)\n",
    "zips.plot(ax=ax)\n",
    "allstations = gpd.GeoDataFrame(cb2015.drop_duplicates(subset=[\"latlon\"]))\n",
    "allstations['geometry'] = allstations[['latlon']].\\\n",
    "                applymap(lambda x: shapely.geometry.Point(list((x[1], x[0]))))\n",
    "allstations[allstations.M].plot(color='w', ax=ax)\n",
    "allstations[allstations.BK].plot(color='b', ax=ax)\n",
    "                                                                                \n",
    "statsionsDF[misclassified + misclassified2].plot(ax=ax, color='r', alpha=0.3);\n",
    "pl.plot([x1[1], x0[1]], [x1[0], x0[0]], '-', color=\"orange\");"
   ]
  },
  {
   "cell_type": "markdown",
   "metadata": {},
   "source": [
    "** Figure 5: Map of NYC with the misclassified CitiBike stations overplotted in red. The stations identified as in Manhattan by the reverse geocoding loop are plotted in white, and those identified and brookly in blue. There are misclassifications due to our function classifying as BK the stations east of the yellow line, resulting in Mannattan station near City Hall classified as Brooklyn. However the remaining misclassified stations are misclassified by the reverse geocoding function classifiying them as Manhattan, while they are in fact in Brooklyn. ** The error induced by the simple geometric location is then lower than 4%, and there is some contamination (also less than 4%) in the reverse geocoded solution as well. These functions should be tested more thoroughtly but, as indicated, the contamination is small and we do not believe it affects the (very strong) statistical results."
   ]
  },
  {
   "cell_type": "code",
   "execution_count": null,
   "metadata": {
    "collapsed": true
   },
   "outputs": [],
   "source": []
  }
 ],
 "metadata": {
  "anaconda-cloud": {},
  "kernelspec": {
   "display_name": "PUI2016_Python3",
   "language": "python",
   "name": "pui2016_python3"
  },
  "language_info": {
   "codemirror_mode": {
    "name": "ipython",
    "version": 3
   },
   "file_extension": ".py",
   "mimetype": "text/x-python",
   "name": "python",
   "nbconvert_exporter": "python",
   "pygments_lexer": "ipython3",
   "version": "3.5.4"
  },
  "latex_envs": {
   "LaTeX_envs_menu_present": true,
   "bibliofile": "biblio.bib",
   "cite_by": "apalike",
   "current_citInitial": 1,
   "eqLabelWithNumbers": true,
   "eqNumInitial": 1,
   "hotkeys": {
    "equation": "Ctrl-E",
    "itemize": "Ctrl-I"
   },
   "labels_anchors": false,
   "latex_user_defs": false,
   "report_style_numbering": false,
   "user_envs_cfg": false
  },
  "toc": {
   "colors": {
    "hover_highlight": "#DAA520",
    "running_highlight": "#FF0000",
    "selected_highlight": "#FFD700"
   },
   "moveMenuLeft": true,
   "nav_menu": {
    "height": "135px",
    "width": "251px"
   },
   "navigate_menu": true,
   "number_sections": true,
   "sideBar": true,
   "threshold": 4,
   "toc_cell": false,
   "toc_section_display": "block",
   "toc_window_display": false
  }
 },
 "nbformat": 4,
 "nbformat_minor": 0
}
