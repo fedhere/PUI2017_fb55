{
 "cells": [
  {
   "cell_type": "markdown",
   "metadata": {
    "run_control": {
     "frozen": false,
     "read_only": false
    }
   },
   "source": [
    "# Python clustering with sklearn.\n",
    "\n",
    "You can perform clustering with sklearn chosing a number of different algorithms, including KMeans, Agglomerative, DBScan. All these methods work the same way:\n",
    "\n"
   ]
  },
  {
   "cell_type": "code",
   "execution_count": 125,
   "metadata": {
    "ExecuteTime": {
     "end_time": "2017-12-14T16:30:37.975553",
     "start_time": "2017-12-14T16:30:37.969562"
    },
    "collapsed": false
   },
   "outputs": [],
   "source": [
    "from sklearn import cluster"
   ]
  },
  {
   "cell_type": "code",
   "execution_count": 126,
   "metadata": {
    "ExecuteTime": {
     "end_time": "2017-12-14T16:30:38.595008",
     "start_time": "2017-12-14T16:30:38.496073"
    },
    "collapsed": false
   },
   "outputs": [
    {
     "data": {
      "text/html": [
       "<div>\n",
       "<table border=\"1\" class=\"dataframe\">\n",
       "  <thead>\n",
       "    <tr style=\"text-align: right;\">\n",
       "      <th></th>\n",
       "      <th>pctot</th>\n",
       "      <th>unemployment</th>\n",
       "    </tr>\n",
       "  </thead>\n",
       "  <tbody>\n",
       "    <tr>\n",
       "      <th>0</th>\n",
       "      <td>0.885387</td>\n",
       "      <td>0.021444</td>\n",
       "    </tr>\n",
       "    <tr>\n",
       "      <th>1</th>\n",
       "      <td>0.619575</td>\n",
       "      <td>0.046260</td>\n",
       "    </tr>\n",
       "    <tr>\n",
       "      <th>2</th>\n",
       "      <td>0.885014</td>\n",
       "      <td>0.029992</td>\n",
       "    </tr>\n",
       "    <tr>\n",
       "      <th>3</th>\n",
       "      <td>1.028160</td>\n",
       "      <td>0.052540</td>\n",
       "    </tr>\n",
       "    <tr>\n",
       "      <th>4</th>\n",
       "      <td>1.009746</td>\n",
       "      <td>0.041264</td>\n",
       "    </tr>\n",
       "    <tr>\n",
       "      <th>5</th>\n",
       "      <td>1.121391</td>\n",
       "      <td>0.048472</td>\n",
       "    </tr>\n",
       "    <tr>\n",
       "      <th>6</th>\n",
       "      <td>1.125576</td>\n",
       "      <td>0.038981</td>\n",
       "    </tr>\n",
       "    <tr>\n",
       "      <th>7</th>\n",
       "      <td>0.732771</td>\n",
       "      <td>0.034299</td>\n",
       "    </tr>\n",
       "    <tr>\n",
       "      <th>8</th>\n",
       "      <td>1.139381</td>\n",
       "      <td>0.024535</td>\n",
       "    </tr>\n",
       "    <tr>\n",
       "      <th>9</th>\n",
       "      <td>0.986520</td>\n",
       "      <td>0.033543</td>\n",
       "    </tr>\n",
       "    <tr>\n",
       "      <th>10</th>\n",
       "      <td>1.003253</td>\n",
       "      <td>0.024351</td>\n",
       "    </tr>\n",
       "    <tr>\n",
       "      <th>11</th>\n",
       "      <td>0.982310</td>\n",
       "      <td>0.027085</td>\n",
       "    </tr>\n",
       "    <tr>\n",
       "      <th>12</th>\n",
       "      <td>0.988989</td>\n",
       "      <td>0.249993</td>\n",
       "    </tr>\n",
       "    <tr>\n",
       "      <th>13</th>\n",
       "      <td>0.881606</td>\n",
       "      <td>0.072863</td>\n",
       "    </tr>\n",
       "    <tr>\n",
       "      <th>14</th>\n",
       "      <td>0.999586</td>\n",
       "      <td>0.043461</td>\n",
       "    </tr>\n",
       "    <tr>\n",
       "      <th>15</th>\n",
       "      <td>0.707561</td>\n",
       "      <td>0.095241</td>\n",
       "    </tr>\n",
       "    <tr>\n",
       "      <th>16</th>\n",
       "      <td>1.077913</td>\n",
       "      <td>0.026189</td>\n",
       "    </tr>\n",
       "    <tr>\n",
       "      <th>17</th>\n",
       "      <td>0.979382</td>\n",
       "      <td>0.049943</td>\n",
       "    </tr>\n",
       "    <tr>\n",
       "      <th>18</th>\n",
       "      <td>0.786431</td>\n",
       "      <td>0.069360</td>\n",
       "    </tr>\n",
       "    <tr>\n",
       "      <th>19</th>\n",
       "      <td>1.035814</td>\n",
       "      <td>0.103912</td>\n",
       "    </tr>\n",
       "    <tr>\n",
       "      <th>20</th>\n",
       "      <td>0.955040</td>\n",
       "      <td>0.069759</td>\n",
       "    </tr>\n",
       "    <tr>\n",
       "      <th>21</th>\n",
       "      <td>1.020001</td>\n",
       "      <td>0.062691</td>\n",
       "    </tr>\n",
       "    <tr>\n",
       "      <th>22</th>\n",
       "      <td>0.938657</td>\n",
       "      <td>0.094324</td>\n",
       "    </tr>\n",
       "    <tr>\n",
       "      <th>23</th>\n",
       "      <td>1.078803</td>\n",
       "      <td>0.069079</td>\n",
       "    </tr>\n",
       "    <tr>\n",
       "      <th>24</th>\n",
       "      <td>0.896150</td>\n",
       "      <td>0.082981</td>\n",
       "    </tr>\n",
       "    <tr>\n",
       "      <th>25</th>\n",
       "      <td>0.981866</td>\n",
       "      <td>0.073057</td>\n",
       "    </tr>\n",
       "    <tr>\n",
       "      <th>26</th>\n",
       "      <td>0.947728</td>\n",
       "      <td>0.080648</td>\n",
       "    </tr>\n",
       "    <tr>\n",
       "      <th>27</th>\n",
       "      <td>0.738824</td>\n",
       "      <td>0.066803</td>\n",
       "    </tr>\n",
       "    <tr>\n",
       "      <th>28</th>\n",
       "      <td>1.102868</td>\n",
       "      <td>0.082396</td>\n",
       "    </tr>\n",
       "    <tr>\n",
       "      <th>29</th>\n",
       "      <td>1.314779</td>\n",
       "      <td>0.069702</td>\n",
       "    </tr>\n",
       "    <tr>\n",
       "      <th>...</th>\n",
       "      <td>...</td>\n",
       "      <td>...</td>\n",
       "    </tr>\n",
       "    <tr>\n",
       "      <th>47</th>\n",
       "      <td>0.986652</td>\n",
       "      <td>0.064696</td>\n",
       "    </tr>\n",
       "    <tr>\n",
       "      <th>48</th>\n",
       "      <td>0.953075</td>\n",
       "      <td>0.069640</td>\n",
       "    </tr>\n",
       "    <tr>\n",
       "      <th>49</th>\n",
       "      <td>1.046902</td>\n",
       "      <td>0.028373</td>\n",
       "    </tr>\n",
       "    <tr>\n",
       "      <th>50</th>\n",
       "      <td>0.885984</td>\n",
       "      <td>0.085321</td>\n",
       "    </tr>\n",
       "    <tr>\n",
       "      <th>51</th>\n",
       "      <td>0.973910</td>\n",
       "      <td>0.097409</td>\n",
       "    </tr>\n",
       "    <tr>\n",
       "      <th>52</th>\n",
       "      <td>1.063080</td>\n",
       "      <td>0.091689</td>\n",
       "    </tr>\n",
       "    <tr>\n",
       "      <th>53</th>\n",
       "      <td>1.054567</td>\n",
       "      <td>0.044577</td>\n",
       "    </tr>\n",
       "    <tr>\n",
       "      <th>54</th>\n",
       "      <td>0.872281</td>\n",
       "      <td>0.079652</td>\n",
       "    </tr>\n",
       "    <tr>\n",
       "      <th>55</th>\n",
       "      <td>0.840781</td>\n",
       "      <td>0.056515</td>\n",
       "    </tr>\n",
       "    <tr>\n",
       "      <th>56</th>\n",
       "      <td>0.675921</td>\n",
       "      <td>0.049225</td>\n",
       "    </tr>\n",
       "    <tr>\n",
       "      <th>57</th>\n",
       "      <td>1.137323</td>\n",
       "      <td>0.029611</td>\n",
       "    </tr>\n",
       "    <tr>\n",
       "      <th>58</th>\n",
       "      <td>1.014152</td>\n",
       "      <td>0.071148</td>\n",
       "    </tr>\n",
       "    <tr>\n",
       "      <th>59</th>\n",
       "      <td>1.002524</td>\n",
       "      <td>0.047822</td>\n",
       "    </tr>\n",
       "    <tr>\n",
       "      <th>60</th>\n",
       "      <td>0.883080</td>\n",
       "      <td>0.092488</td>\n",
       "    </tr>\n",
       "    <tr>\n",
       "      <th>61</th>\n",
       "      <td>1.040651</td>\n",
       "      <td>0.037600</td>\n",
       "    </tr>\n",
       "    <tr>\n",
       "      <th>62</th>\n",
       "      <td>0.788268</td>\n",
       "      <td>0.053200</td>\n",
       "    </tr>\n",
       "    <tr>\n",
       "      <th>63</th>\n",
       "      <td>0.713342</td>\n",
       "      <td>0.061258</td>\n",
       "    </tr>\n",
       "    <tr>\n",
       "      <th>64</th>\n",
       "      <td>1.116100</td>\n",
       "      <td>0.043205</td>\n",
       "    </tr>\n",
       "    <tr>\n",
       "      <th>65</th>\n",
       "      <td>1.037231</td>\n",
       "      <td>0.029765</td>\n",
       "    </tr>\n",
       "    <tr>\n",
       "      <th>66</th>\n",
       "      <td>0.864666</td>\n",
       "      <td>0.040331</td>\n",
       "    </tr>\n",
       "    <tr>\n",
       "      <th>67</th>\n",
       "      <td>1.212217</td>\n",
       "      <td>0.022316</td>\n",
       "    </tr>\n",
       "    <tr>\n",
       "      <th>68</th>\n",
       "      <td>0.941434</td>\n",
       "      <td>0.037611</td>\n",
       "    </tr>\n",
       "    <tr>\n",
       "      <th>69</th>\n",
       "      <td>0.978503</td>\n",
       "      <td>0.033925</td>\n",
       "    </tr>\n",
       "    <tr>\n",
       "      <th>70</th>\n",
       "      <td>0.891091</td>\n",
       "      <td>0.053143</td>\n",
       "    </tr>\n",
       "    <tr>\n",
       "      <th>71</th>\n",
       "      <td>0.797700</td>\n",
       "      <td>0.039458</td>\n",
       "    </tr>\n",
       "    <tr>\n",
       "      <th>72</th>\n",
       "      <td>0.775278</td>\n",
       "      <td>0.037291</td>\n",
       "    </tr>\n",
       "    <tr>\n",
       "      <th>73</th>\n",
       "      <td>0.881414</td>\n",
       "      <td>0.048180</td>\n",
       "    </tr>\n",
       "    <tr>\n",
       "      <th>74</th>\n",
       "      <td>0.964336</td>\n",
       "      <td>0.034234</td>\n",
       "    </tr>\n",
       "    <tr>\n",
       "      <th>75</th>\n",
       "      <td>1.055803</td>\n",
       "      <td>0.032890</td>\n",
       "    </tr>\n",
       "    <tr>\n",
       "      <th>76</th>\n",
       "      <td>1.041579</td>\n",
       "      <td>0.028628</td>\n",
       "    </tr>\n",
       "  </tbody>\n",
       "</table>\n",
       "<p>77 rows × 2 columns</p>\n",
       "</div>"
      ],
      "text/plain": [
       "       pctot  unemployment\n",
       "0   0.885387      0.021444\n",
       "1   0.619575      0.046260\n",
       "2   0.885014      0.029992\n",
       "3   1.028160      0.052540\n",
       "4   1.009746      0.041264\n",
       "5   1.121391      0.048472\n",
       "6   1.125576      0.038981\n",
       "7   0.732771      0.034299\n",
       "8   1.139381      0.024535\n",
       "9   0.986520      0.033543\n",
       "10  1.003253      0.024351\n",
       "11  0.982310      0.027085\n",
       "12  0.988989      0.249993\n",
       "13  0.881606      0.072863\n",
       "14  0.999586      0.043461\n",
       "15  0.707561      0.095241\n",
       "16  1.077913      0.026189\n",
       "17  0.979382      0.049943\n",
       "18  0.786431      0.069360\n",
       "19  1.035814      0.103912\n",
       "20  0.955040      0.069759\n",
       "21  1.020001      0.062691\n",
       "22  0.938657      0.094324\n",
       "23  1.078803      0.069079\n",
       "24  0.896150      0.082981\n",
       "25  0.981866      0.073057\n",
       "26  0.947728      0.080648\n",
       "27  0.738824      0.066803\n",
       "28  1.102868      0.082396\n",
       "29  1.314779      0.069702\n",
       "..       ...           ...\n",
       "47  0.986652      0.064696\n",
       "48  0.953075      0.069640\n",
       "49  1.046902      0.028373\n",
       "50  0.885984      0.085321\n",
       "51  0.973910      0.097409\n",
       "52  1.063080      0.091689\n",
       "53  1.054567      0.044577\n",
       "54  0.872281      0.079652\n",
       "55  0.840781      0.056515\n",
       "56  0.675921      0.049225\n",
       "57  1.137323      0.029611\n",
       "58  1.014152      0.071148\n",
       "59  1.002524      0.047822\n",
       "60  0.883080      0.092488\n",
       "61  1.040651      0.037600\n",
       "62  0.788268      0.053200\n",
       "63  0.713342      0.061258\n",
       "64  1.116100      0.043205\n",
       "65  1.037231      0.029765\n",
       "66  0.864666      0.040331\n",
       "67  1.212217      0.022316\n",
       "68  0.941434      0.037611\n",
       "69  0.978503      0.033925\n",
       "70  0.891091      0.053143\n",
       "71  0.797700      0.039458\n",
       "72  0.775278      0.037291\n",
       "73  0.881414      0.048180\n",
       "74  0.964336      0.034234\n",
       "75  1.055803      0.032890\n",
       "76  1.041579      0.028628\n",
       "\n",
       "[77 rows x 2 columns]"
      ]
     },
     "execution_count": 126,
     "metadata": {},
     "output_type": "execute_result"
    }
   ],
   "source": [
    "import pandas as pd\n",
    "\n",
    "df_ = pd.read_csv(\"precinct_se.csv\")\n",
    "df_ = df_[[\"pctot\",\"unemployment\"]]\n",
    "df_"
   ]
  },
  {
   "cell_type": "markdown",
   "metadata": {},
   "source": [
    "## Preprocess the data"
   ]
  },
  {
   "cell_type": "code",
   "execution_count": 127,
   "metadata": {
    "ExecuteTime": {
     "end_time": "2017-12-14T16:30:39.696307",
     "start_time": "2017-12-14T16:30:39.692521"
    },
    "collapsed": true
   },
   "outputs": [],
   "source": [
    "from sklearn import preprocessing"
   ]
  },
  {
   "cell_type": "code",
   "execution_count": 128,
   "metadata": {
    "ExecuteTime": {
     "end_time": "2017-12-14T16:30:40.109569",
     "start_time": "2017-12-14T16:30:40.105785"
    },
    "collapsed": false
   },
   "outputs": [],
   "source": [
    "Xscaled = preprocessing.scale(df_)"
   ]
  },
  {
   "cell_type": "markdown",
   "metadata": {},
   "source": [
    "choose appropriately along which axis to scale (depending on the problem)"
   ]
  },
  {
   "cell_type": "code",
   "execution_count": 129,
   "metadata": {
    "ExecuteTime": {
     "end_time": "2017-12-14T16:30:41.156621",
     "start_time": "2017-12-14T16:30:41.147292"
    },
    "collapsed": false
   },
   "outputs": [
    {
     "data": {
      "text/plain": [
       "(array([ 1.,  1.]),\n",
       " array([ 0.29603725,  1.03973058,  0.15689418,  0.29715262,  0.41416519,\n",
       "         0.69089803,  0.85866824,  0.44842249,  1.14020729,  0.45690715,\n",
       "         0.66403101,  0.54621973,  3.02463674,  0.54639993,  0.34297349,\n",
       "         1.51985785,  0.89718353,  0.16734049,  0.82492346,  0.50427723,\n",
       "         0.23787534,  0.10473951,  0.69164813,  0.20871154,  0.65836149,\n",
       "         0.19663151,  0.43919756,  0.9512532 ,  0.07867864,  1.02925435,\n",
       "         0.36890906,  0.45428146,  0.06790219,  0.19854114,  0.48076499,\n",
       "         0.97667509,  0.06577431,  0.37716272,  0.84751282,  0.53655938,\n",
       "         0.42492478,  0.88591715,  0.72019099,  0.9150959 ,  0.46372854,\n",
       "         0.11352639,  0.19832749,  0.04496482,  0.24287538,  0.75280463,\n",
       "         0.73187871,  0.61730567,  0.21121935,  0.51850074,  0.68870072,\n",
       "         0.42649088,  0.889208  ,  1.05110359,  0.05220944,  0.28298892,\n",
       "         0.85767299,  0.58202949,  0.5578615 ,  0.95153422,  0.75720206,\n",
       "         0.69631915,  0.08145382,  1.43235379,  0.23261715,  0.42253121,\n",
       "         0.19504069,  0.30307358,  0.34706492,  0.14906201,  0.36768362,\n",
       "         0.71130244,  0.72995596]))"
      ]
     },
     "execution_count": 129,
     "metadata": {},
     "output_type": "execute_result"
    }
   ],
   "source": [
    "# preprocessed by stadndardizing by column\n",
    "Xscaled.std(axis=0), Xscaled.std(axis=1)"
   ]
  },
  {
   "cell_type": "code",
   "execution_count": 131,
   "metadata": {
    "ExecuteTime": {
     "end_time": "2017-12-14T16:30:47.811461",
     "start_time": "2017-12-14T16:30:47.801576"
    },
    "collapsed": false
   },
   "outputs": [
    {
     "data": {
      "text/plain": [
       "(array([  1.08838044e-16,   1.13869490e-16]),\n",
       " array([ 1.,  1.,  1.,  1.,  1.,  1.,  1.,  1.,  1.,  1.,  1.,  1.,  1.,\n",
       "         1.,  1.,  1.,  1.,  1.,  1.,  1.,  1.,  1.,  1.,  1.,  1.,  1.,\n",
       "         1.,  1.,  1.,  1.,  1.,  1.,  1.,  1.,  1.,  1.,  1.,  1.,  1.,\n",
       "         1.,  1.,  1.,  1.,  1.,  1.,  1.,  1.,  1.,  1.,  1.,  1.,  1.,\n",
       "         1.,  1.,  1.,  1.,  1.,  1.,  1.,  1.,  1.,  1.,  1.,  1.,  1.,\n",
       "         1.,  1.,  1.,  1.,  1.,  1.,  1.,  1.,  1.,  1.,  1.,  1.]))"
      ]
     },
     "execution_count": 131,
     "metadata": {},
     "output_type": "execute_result"
    }
   ],
   "source": [
    "# preprocessed by stadndardizing by row\n",
    "Xscaled2 = preprocessing.scale(df_, axis=1)\n",
    "Xscaled2.std(axis=0), Xscaled2.std(axis=1)"
   ]
  },
  {
   "cell_type": "markdown",
   "metadata": {},
   "source": [
    "you are not after a rigorous analysis here, you are still in exploratory phase. So you do not have to bee to strict in how you find the number of clusters. "
   ]
  },
  {
   "cell_type": "code",
   "execution_count": 132,
   "metadata": {
    "ExecuteTime": {
     "end_time": "2017-12-14T16:30:50.924281",
     "start_time": "2017-12-14T16:30:50.885324"
    },
    "collapsed": false
   },
   "outputs": [
    {
     "data": {
      "text/plain": [
       "KMeans(algorithm='auto', copy_x=True, init='k-means++', max_iter=300,\n",
       "    n_clusters=5, n_init=10, n_jobs=1, precompute_distances='auto',\n",
       "    random_state=123, tol=0.0001, verbose=0)"
      ]
     },
     "execution_count": 132,
     "metadata": {},
     "output_type": "execute_result"
    }
   ],
   "source": [
    "# K-Means clustering: the essential parameter is the number of clusters.\n",
    "Nc = 5\n",
    "km = cluster.KMeans(n_clusters=Nc, random_state=123)\n",
    "km.fit(Xscaled)"
   ]
  },
  {
   "cell_type": "markdown",
   "metadata": {
    "ExecuteTime": {
     "end_time": "2017-12-14T15:30:00.452023",
     "start_time": "2017-12-14T15:30:00.289930"
    }
   },
   "source": [
    "now the km object has a bunch of attributes: the mostt relevant ones are\n",
    "    - cluster labels (tells you which cluster a datapoint belongs to, its a 1D array of size N number of observations)\n",
    "    - cluster centers (tells you where the center of each cluster is, its an NcxNf-dimentional array of size Nc for the number of clusters, and Nf number of features you are clustering on - columns in the dataframe)"
   ]
  },
  {
   "cell_type": "code",
   "execution_count": 133,
   "metadata": {
    "ExecuteTime": {
     "end_time": "2017-12-14T16:30:51.994527",
     "start_time": "2017-12-14T16:30:51.985546"
    },
    "collapsed": false
   },
   "outputs": [
    {
     "data": {
      "text/plain": [
       "array([4, 1, 4, 4, 4, 0, 0, 1, 0, 4, 4, 4, 2, 3, 4, 1, 4, 4, 1, 3, 3, 3, 3,\n",
       "       0, 3, 3, 3, 1, 0, 0, 0, 0, 4, 3, 0, 0, 4, 1, 0, 0, 4, 1, 1, 3, 4, 3,\n",
       "       0, 3, 3, 4, 3, 3, 3, 4, 3, 1, 1, 0, 3, 4, 3, 4, 1, 1, 0, 4, 4, 0, 4,\n",
       "       4, 4, 1, 1, 4, 4, 4, 4], dtype=int32)"
      ]
     },
     "execution_count": 133,
     "metadata": {},
     "output_type": "execute_result"
    }
   ],
   "source": [
    "km.labels_"
   ]
  },
  {
   "cell_type": "code",
   "execution_count": 134,
   "metadata": {
    "ExecuteTime": {
     "end_time": "2017-12-14T16:30:52.520074",
     "start_time": "2017-12-14T16:30:52.511556"
    },
    "collapsed": false
   },
   "outputs": [
    {
     "data": {
      "text/plain": [
       "array([[ 1.29452027, -0.09424321],\n",
       "       [-1.59009674, -0.12685509],\n",
       "       [ 0.15579631,  6.20506979],\n",
       "       [-0.05801375,  0.7676328 ],\n",
       "       [ 0.09242574, -0.6483789 ]])"
      ]
     },
     "execution_count": 134,
     "metadata": {},
     "output_type": "execute_result"
    }
   ],
   "source": [
    "km.cluster_centers_\n"
   ]
  },
  {
   "cell_type": "markdown",
   "metadata": {},
   "source": [
    "You can create a cluster labels column that would allow you to plot the df"
   ]
  },
  {
   "cell_type": "code",
   "execution_count": 135,
   "metadata": {
    "ExecuteTime": {
     "end_time": "2017-12-14T16:30:53.707922",
     "start_time": "2017-12-14T16:30:53.548260"
    },
    "collapsed": false
   },
   "outputs": [
    {
     "data": {
      "text/html": [
       "<div>\n",
       "<table border=\"1\" class=\"dataframe\">\n",
       "  <thead>\n",
       "    <tr style=\"text-align: right;\">\n",
       "      <th></th>\n",
       "      <th>pctot</th>\n",
       "      <th>unemployment</th>\n",
       "      <th>clusters</th>\n",
       "    </tr>\n",
       "  </thead>\n",
       "  <tbody>\n",
       "    <tr>\n",
       "      <th>0</th>\n",
       "      <td>0.885387</td>\n",
       "      <td>0.021444</td>\n",
       "      <td>4</td>\n",
       "    </tr>\n",
       "    <tr>\n",
       "      <th>1</th>\n",
       "      <td>0.619575</td>\n",
       "      <td>0.046260</td>\n",
       "      <td>1</td>\n",
       "    </tr>\n",
       "    <tr>\n",
       "      <th>2</th>\n",
       "      <td>0.885014</td>\n",
       "      <td>0.029992</td>\n",
       "      <td>4</td>\n",
       "    </tr>\n",
       "    <tr>\n",
       "      <th>3</th>\n",
       "      <td>1.028160</td>\n",
       "      <td>0.052540</td>\n",
       "      <td>4</td>\n",
       "    </tr>\n",
       "    <tr>\n",
       "      <th>4</th>\n",
       "      <td>1.009746</td>\n",
       "      <td>0.041264</td>\n",
       "      <td>4</td>\n",
       "    </tr>\n",
       "  </tbody>\n",
       "</table>\n",
       "</div>"
      ],
      "text/plain": [
       "      pctot  unemployment  clusters\n",
       "0  0.885387      0.021444         4\n",
       "1  0.619575      0.046260         1\n",
       "2  0.885014      0.029992         4\n",
       "3  1.028160      0.052540         4\n",
       "4  1.009746      0.041264         4"
      ]
     },
     "execution_count": 135,
     "metadata": {},
     "output_type": "execute_result"
    }
   ],
   "source": [
    "df_['clusters'] = km.labels_\n",
    "df_.head()"
   ]
  },
  {
   "cell_type": "markdown",
   "metadata": {},
   "source": [
    "here I extract the observations in cluster 0"
   ]
  },
  {
   "cell_type": "code",
   "execution_count": 136,
   "metadata": {
    "ExecuteTime": {
     "end_time": "2017-12-14T16:30:54.691102",
     "start_time": "2017-12-14T16:30:54.679012"
    },
    "collapsed": false
   },
   "outputs": [
    {
     "data": {
      "text/html": [
       "<div>\n",
       "<table border=\"1\" class=\"dataframe\">\n",
       "  <thead>\n",
       "    <tr style=\"text-align: right;\">\n",
       "      <th></th>\n",
       "      <th>pctot</th>\n",
       "      <th>unemployment</th>\n",
       "      <th>clusters</th>\n",
       "    </tr>\n",
       "  </thead>\n",
       "  <tbody>\n",
       "    <tr>\n",
       "      <th>5</th>\n",
       "      <td>1.121391</td>\n",
       "      <td>0.048472</td>\n",
       "      <td>0</td>\n",
       "    </tr>\n",
       "    <tr>\n",
       "      <th>6</th>\n",
       "      <td>1.125576</td>\n",
       "      <td>0.038981</td>\n",
       "      <td>0</td>\n",
       "    </tr>\n",
       "    <tr>\n",
       "      <th>8</th>\n",
       "      <td>1.139381</td>\n",
       "      <td>0.024535</td>\n",
       "      <td>0</td>\n",
       "    </tr>\n",
       "    <tr>\n",
       "      <th>23</th>\n",
       "      <td>1.078803</td>\n",
       "      <td>0.069079</td>\n",
       "      <td>0</td>\n",
       "    </tr>\n",
       "    <tr>\n",
       "      <th>28</th>\n",
       "      <td>1.102868</td>\n",
       "      <td>0.082396</td>\n",
       "      <td>0</td>\n",
       "    </tr>\n",
       "    <tr>\n",
       "      <th>29</th>\n",
       "      <td>1.314779</td>\n",
       "      <td>0.069702</td>\n",
       "      <td>0</td>\n",
       "    </tr>\n",
       "    <tr>\n",
       "      <th>30</th>\n",
       "      <td>1.241891</td>\n",
       "      <td>0.094744</td>\n",
       "      <td>0</td>\n",
       "    </tr>\n",
       "    <tr>\n",
       "      <th>31</th>\n",
       "      <td>1.165486</td>\n",
       "      <td>0.072771</td>\n",
       "      <td>0</td>\n",
       "    </tr>\n",
       "    <tr>\n",
       "      <th>34</th>\n",
       "      <td>1.098229</td>\n",
       "      <td>0.056448</td>\n",
       "      <td>0</td>\n",
       "    </tr>\n",
       "    <tr>\n",
       "      <th>35</th>\n",
       "      <td>1.234586</td>\n",
       "      <td>0.055458</td>\n",
       "      <td>0</td>\n",
       "    </tr>\n",
       "    <tr>\n",
       "      <th>38</th>\n",
       "      <td>1.120007</td>\n",
       "      <td>0.038457</td>\n",
       "      <td>0</td>\n",
       "    </tr>\n",
       "    <tr>\n",
       "      <th>39</th>\n",
       "      <td>1.139725</td>\n",
       "      <td>0.062046</td>\n",
       "      <td>0</td>\n",
       "    </tr>\n",
       "    <tr>\n",
       "      <th>46</th>\n",
       "      <td>1.063610</td>\n",
       "      <td>0.066407</td>\n",
       "      <td>0</td>\n",
       "    </tr>\n",
       "    <tr>\n",
       "      <th>57</th>\n",
       "      <td>1.137323</td>\n",
       "      <td>0.029611</td>\n",
       "      <td>0</td>\n",
       "    </tr>\n",
       "    <tr>\n",
       "      <th>64</th>\n",
       "      <td>1.116100</td>\n",
       "      <td>0.043205</td>\n",
       "      <td>0</td>\n",
       "    </tr>\n",
       "    <tr>\n",
       "      <th>67</th>\n",
       "      <td>1.212217</td>\n",
       "      <td>0.022316</td>\n",
       "      <td>0</td>\n",
       "    </tr>\n",
       "  </tbody>\n",
       "</table>\n",
       "</div>"
      ],
      "text/plain": [
       "       pctot  unemployment  clusters\n",
       "5   1.121391      0.048472         0\n",
       "6   1.125576      0.038981         0\n",
       "8   1.139381      0.024535         0\n",
       "23  1.078803      0.069079         0\n",
       "28  1.102868      0.082396         0\n",
       "29  1.314779      0.069702         0\n",
       "30  1.241891      0.094744         0\n",
       "31  1.165486      0.072771         0\n",
       "34  1.098229      0.056448         0\n",
       "35  1.234586      0.055458         0\n",
       "38  1.120007      0.038457         0\n",
       "39  1.139725      0.062046         0\n",
       "46  1.063610      0.066407         0\n",
       "57  1.137323      0.029611         0\n",
       "64  1.116100      0.043205         0\n",
       "67  1.212217      0.022316         0"
      ]
     },
     "execution_count": 136,
     "metadata": {},
     "output_type": "execute_result"
    }
   ],
   "source": [
    "df_[df_.clusters==0]"
   ]
  },
  {
   "cell_type": "markdown",
   "metadata": {},
   "source": [
    "and plot them separately with the cluster centers as well"
   ]
  },
  {
   "cell_type": "code",
   "execution_count": 137,
   "metadata": {
    "ExecuteTime": {
     "end_time": "2017-12-14T16:30:56.221119",
     "start_time": "2017-12-14T16:30:55.910544"
    },
    "collapsed": false
   },
   "outputs": [
    {
     "data": {
      "image/png": "[encoded data removed]",
      "text/plain": [
       "<matplotlib.figure.Figure at 0x11823ec88>"
      ]
     },
     "metadata": {},
     "output_type": "display_data"
    }
   ],
   "source": [
    "import pylab as pl\n",
    "colors = ['r','b','y','k','g']\n",
    "ax = pl.figure().add_subplot(111)\n",
    "for i,c in enumerate(km.cluster_centers_):\n",
    "    df_[df_.clusters == i].plot(x='pctot', y='unemployment', kind=\"scatter\", color=colors[i], ax=ax)\n",
    "pl.show()"
   ]
  },
  {
   "cell_type": "markdown",
   "metadata": {
    "ExecuteTime": {
     "end_time": "2017-12-14T15:42:00.440631",
     "start_time": "2017-12-14T15:42:00.425594"
    }
   },
   "source": [
    "Notice that I cannot overplot the cluster centers here, because the centeres are scaled. To add the centers I need to sinverse scale them.\n"
   ]
  },
  {
   "cell_type": "code",
   "execution_count": 138,
   "metadata": {
    "ExecuteTime": {
     "end_time": "2017-12-14T16:30:57.321817",
     "start_time": "2017-12-14T16:30:57.313091"
    },
    "collapsed": false
   },
   "outputs": [
    {
     "data": {
      "text/plain": [
       "pctot           0.142984\n",
       "unemployment    0.031211\n",
       "clusters        1.603994\n",
       "dtype: float64"
      ]
     },
     "execution_count": 138,
     "metadata": {},
     "output_type": "execute_result"
    }
   ],
   "source": [
    "df_.std(axis=0)"
   ]
  },
  {
   "cell_type": "code",
   "execution_count": 139,
   "metadata": {
    "ExecuteTime": {
     "end_time": "2017-12-14T16:30:57.776269",
     "start_time": "2017-12-14T16:30:57.765116"
    },
    "collapsed": false
   },
   "outputs": [
    {
     "data": {
      "text/plain": [
       "(0.14298431865528724, 0.031211195938042308, array([[ 1.29452027, -0.09424321],\n",
       "        [-1.59009674, -0.12685509],\n",
       "        [ 0.15579631,  6.20506979],\n",
       "        [-0.05801375,  0.7676328 ],\n",
       "        [ 0.09242574, -0.6483789 ]]))"
      ]
     },
     "execution_count": 139,
     "metadata": {},
     "output_type": "execute_result"
    }
   ],
   "source": [
    "tmp_ = df_.std(axis=0)\n",
    "tmp_.pctot, tmp_.unemployment, km.cluster_centers_"
   ]
  },
  {
   "cell_type": "code",
   "execution_count": 143,
   "metadata": {
    "ExecuteTime": {
     "end_time": "2017-12-14T16:32:50.795167",
     "start_time": "2017-12-14T16:32:50.510107"
    },
    "collapsed": false
   },
   "outputs": [
    {
     "data": {
      "image/png": "[encoded data removed]",
      "text/plain": [
       "<matplotlib.figure.Figure at 0x118fa95c0>"
      ]
     },
     "metadata": {},
     "output_type": "display_data"
    }
   ],
   "source": [
    "ax = pl.figure().add_subplot(111)\n",
    "for i,c in enumerate(km.cluster_centers_):\n",
    "    ax.scatter(Xscaled[km.labels_ == i][:,0], Xscaled[km.labels_ == i][:,1], color=colors[i], alpha=0.3)\n",
    "    ax.scatter(c[0], c[1], color=colors[i], marker='x')\n",
    "pl.xlabel('pctot - standardized')\n",
    "pl.ylabel('unemployment - standardized')\n",
    "pl.show()"
   ]
  },
  {
   "cell_type": "markdown",
   "metadata": {},
   "source": [
    " in a non-rigorous exploratory analysis, I can still clearly see that 5 clusters are too many, since tthe data is not well separated, except for a single point, which is likely an outliers"
   ]
  }
 ],
 "metadata": {
  "anaconda-cloud": {},
  "kernelspec": {
   "display_name": "Python [conda env:py35]",
   "language": "python",
   "name": "conda-env-py35-py"
  },
  "language_info": {
   "codemirror_mode": {
    "name": "ipython",
    "version": 3
   },
   "file_extension": ".py",
   "mimetype": "text/x-python",
   "name": "python",
   "nbconvert_exporter": "python",
   "pygments_lexer": "ipython3",
   "version": "3.5.2"
  },
  "toc": {
   "colors": {
    "hover_highlight": "#DAA520",
    "running_highlight": "#FF0000",
    "selected_highlight": "#FFD700"
   },
   "moveMenuLeft": true,
   "nav_menu": {
    "height": "48px",
    "width": "252px"
   },
   "navigate_menu": true,
   "number_sections": false,
   "sideBar": false,
   "threshold": 4,
   "toc_cell": false,
   "toc_position": {
    "height": "208px",
    "left": "1px",
    "right": "20px",
    "top": "130.994px",
    "width": "212px"
   },
   "toc_section_display": "block",
   "toc_window_display": false
  }
 },
 "nbformat": 4,
 "nbformat_minor": 1
}
