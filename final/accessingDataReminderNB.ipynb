{
 "cells": [
  {
   "cell_type": "markdown",
   "metadata": {},
   "source": [
    "# ways to get data: "
   ]
  },
  {
   "cell_type": "markdown",
   "metadata": {},
   "source": [
    "## through an API"
   ]
  },
  {
   "cell_type": "code",
   "execution_count": 1,
   "metadata": {},
   "outputs": [],
   "source": [
    "#how to import an API key: \n",
    "#option 1: you can set it as an env variable and retrieve it with os.gettenv\n",
    "#option 1: you can createt a python file which contains the variable, read it in as a module. \n",
    "#in that case save the file locally but do not upload it to gitthub\n",
    "\n",
    "from myAPI import myAPIkey"
   ]
  },
  {
   "cell_type": "code",
   "execution_count": 18,
   "metadata": {},
   "outputs": [
    {
     "data": {
      "text/plain": [
       "'XXXXXXXX'"
      ]
     },
     "execution_count": 18,
     "metadata": {},
     "output_type": "execute_result"
    }
   ],
   "source": [
    "myAPIkey"
   ]
  },
  {
   "cell_type": "markdown",
   "metadata": {},
   "source": [
    "a key may or may not be needed.\n",
    "here is an example of how to retrieve from an API (HW9)"
   ]
  },
  {
   "cell_type": "code",
   "execution_count": 8,
   "metadata": {},
   "outputs": [
    {
     "name": "stdout",
     "output_type": "stream",
     "text": [
      "Archive:  file.gz\r\n",
      "  inflating: /home/cusp/fbianco/PUIdata/geo_export_6255e997-3f82-4268-9173-454498a95d22.dbf  \r\n",
      "  inflating: /home/cusp/fbianco/PUIdata/geo_export_6255e997-3f82-4268-9173-454498a95d22.shp  \r\n",
      "  inflating: /home/cusp/fbianco/PUIdata/geo_export_6255e997-3f82-4268-9173-454498a95d22.shx  \r\n",
      "  inflating: /home/cusp/fbianco/PUIdata/geo_export_6255e997-3f82-4268-9173-454498a95d22.prj  \r\n"
     ]
    }
   ],
   "source": [
    "import urllib\n",
    "\n",
    "url = \"https://data.cityofnewyork.us/api/geospatial/cwiz-gcty?method=export&format=Shapefile\" \n",
    "urllib.request.urlretrieve(url, \"file.gz\") \n",
    "!unzip -d $PUIDATA file.gz"
   ]
  },
  {
   "cell_type": "code",
   "execution_count": null,
   "metadata": {},
   "outputs": [],
   "source": []
  },
  {
   "cell_type": "code",
   "execution_count": 2,
   "metadata": {},
   "outputs": [
    {
     "data": {
      "text/plain": [
       "b'[[\"B28002_004E\",\"NAME\",\"state\",\"public use microdata area\"],\\n[\"32607\",\"St. Lawrence County PUMA, New York\",\"36\",\"00100\"],\\n[\"50811\",\"Clinton, Franklin, Essex & Hamilton Counties PUMA; New York\",\"36\",\"00200\"],\\n[\"41210\",\"Warren & Washington Counties PUMA, New York\",\"36\",\"00300\"],\\n[\"36075\",\"Herkimer (North & Central) & Oneida (Outer) Counties PUMA, New York\",\"36\",\"00401\"],\\n[\"47786\",\"Oneida County (Central)--Greater Utica & Rome Cities PUMA, New York\",\"36\",\"00402\"],\\n[\"32221\",\"Otsego, Schoharie, Oneida (South) & Herkimer (South) Counties PUMA; New York\",\"36\",\"00403\"],\\n[\"41386\",\"Jefferson & Lewis Counties PUMA, New York\",\"36\",\"00500\"],\\n[\"37692\",\"Oswego County PUMA, New York\",\"36\",\"00600\"],\\n[\"37719\",\"Onondaga County (Central)--Syracuse City PUMA, New York\",\"36\",\"00701\"],\\n[\"40309\",\"Onondaga County (North) PUMA, New York\",\"36\",\"00702\"],\\n[\"53338\",\"Onondaga County (Central)--Syracuse City (Outer) PUMA, New York\",\"36\",\"00703\"],\\n[\"34953\",\"Cayuga & Onondaga (South) Counties PUMA, New York\",\"36\",\"00704\"],\\n[\"41064\",\"Wayne & Seneca Counties PUMA, New York\",\"36\",\"00800\"],\\n[\"47436\",\"Monroe County (East) PUMA, New York\",\"36\",\"00901\"],\\n[\"36576\",\"Monroe County (Central)--Rochester City (East) PUMA, New York\",\"36\",\"00902\"],\\n[\"27111\",\"Monroe County (Central)--Rochester City (West) PUMA, New York\",\"36\",\"00903\"],\\n[\"44681\",\"Monroe County (Central)--Greece & Gates Towns PUMA, New York\",\"36\",\"00904\"],\\n[\"35228\",\"Monroe County (North & West) PUMA, New York\",\"36\",\"00905\"],\\n[\"58580\",\"Monroe County (South) PUMA, New York\",\"36\",\"00906\"],\\n[\"31035\",\"Genesee & Orleans Counties PUMA, New York\",\"36\",\"01000\"],\\n[\"34113\",\"Niagara County (Southwest)--Greater Niagara Falls & North Tonawanda Area PUMA, New York\",\"36\",\"01101\"],\\n[\"32736\",\"Niagara County (North & East) PUMA, New York\",\"36\",\"01102\"],\\n[\"37873\",\"Erie County (Northwest) PUMA, New York\",\"36\",\"01201\"],\\n[\"43611\",\"Erie County (North Central) PUMA, New York\",\"36\",\"01202\"],\\n[\"39498\",\"Erie County (Northeast) PUMA, New York\",\"36\",\"01203\"],\\n[\"52668\",\"Erie County (Central) PUMA, New York\",\"36\",\"01204\"],\\n[\"39257\",\"Erie County (West Central)--Buffalo City (East) PUMA, New York\",\"36\",\"01205\"],\\n[\"37568\",\"Erie County (West Central)--Buffalo City (West) PUMA, New York\",\"36\",\"01206\"],\\n[\"57095\",\"Erie County (South) PUMA, New York\",\"36\",\"01207\"],\\n[\"31862\",\"Livingston & Wyoming Counties PUMA, New York\",\"36\",\"01300\"],\\n[\"44251\",\"Ontario & Yates Counties PUMA, New York\",\"36\",\"01400\"],\\n[\"32425\",\"Madison & Cortland Counties PUMA, New York\",\"36\",\"01500\"],\\n[\"32860\",\"Fulton & Montgomery Counties PUMA, New York\",\"36\",\"01600\"],\\n[\"41495\",\"Schenectady County--Schenectady City PUMA, New York\",\"36\",\"01700\"],\\n[\"40279\",\"Saratoga County (South & Central) PUMA, New York\",\"36\",\"01801\"],\\n[\"41694\",\"Saratoga County (Outer) PUMA, New York\",\"36\",\"01802\"],\\n[\"53119\",\"Rensselaer County--Troy City PUMA, New York\",\"36\",\"01900\"],\\n[\"37282\",\"Albany County (East Central)--Albany City PUMA, New York\",\"36\",\"02001\"],\\n[\"67730\",\"Albany County (Outside Albany City) PUMA, New York\",\"36\",\"02002\"],\\n[\"31274\",\"Columbia & Greene Counties PUMA, New York\",\"36\",\"02100\"],\\n[\"39975\",\"Broome County (West Central)--Greater Binghamton City & Greater Johnson City Village PUMA, New York\",\"36\",\"02201\"],\\n[\"35539\",\"Broome (Outer West) & Tioga Counties PUMA, New York\",\"36\",\"02202\"],\\n[\"32786\",\"Chenango, Delaware & Broome (East) Counties PUMA; New York\",\"36\",\"02203\"],\\n[\"33036\",\"Tompkins County PUMA, New York\",\"36\",\"02300\"],\\n[\"32728\",\"Chemung (South) & Steuben (East) Counties--Greater Elmira & Greater Corning Cities PUMA, New York\",\"36\",\"02401\"],\\n[\"29960\",\"Steuben (North & West), Schuyler & Chemung (North) Counties PUMA; New York\",\"36\",\"02402\"],\\n[\"36389\",\"Cattaraugus & Allegany Counties PUMA, New York\",\"36\",\"02500\"],\\n[\"38590\",\"Chautauqua County PUMA, New York\",\"36\",\"02600\"],\\n[\"29750\",\"Sullivan & Ulster (West) Counties PUMA, New York\",\"36\",\"02701\"],\\n[\"48424\",\"Ulster County (East) PUMA, New York\",\"36\",\"02702\"],\\n[\"39472\",\"Dutchess County (North & East) PUMA, New York\",\"36\",\"02801\"],\\n[\"55442\",\"Dutchess County (Southwest) PUMA, New York\",\"36\",\"02802\"],\\n[\"34574\",\"Orange County (Northeast)--Greater Newburgh City PUMA, New York\",\"36\",\"02901\"],\\n[\"30334\",\"Orange County (Northwest) PUMA, New York\",\"36\",\"02902\"],\\n[\"31322\",\"Orange County (Southeast) PUMA, New York\",\"36\",\"02903\"],\\n[\"30229\",\"Rockland County (North)--New City & Congers PUMA, New York\",\"36\",\"03001\"],\\n[\"30413\",\"Rockland County (South)--Orangetown, Clarkstown (South) & Ramapo (Southeast) Towns PUMA; New York\",\"36\",\"03002\"],\\n[\"17925\",\"Rockland County (West)--Spring Valley, Suffern Villages & Monsey PUMA; New York\",\"36\",\"03003\"],\\n[\"33505\",\"Putnam County PUMA, New York\",\"36\",\"03101\"],\\n[\"43395\",\"Westchester County (Northwest) PUMA, New York\",\"36\",\"03102\"],\\n[\"43189\",\"Westchester County (Northeast) PUMA, New York\",\"36\",\"03103\"],\\n[\"35217\",\"Westchester County (Southeast) PUMA, New York\",\"36\",\"03104\"],\\n[\"55710\",\"Westchester County (Central)--White Plains City PUMA, New York\",\"36\",\"03105\"],\\n[\"57724\",\"Westchester County (Southwest)--Yonkers City PUMA, New York\",\"36\",\"03106\"],\\n[\"57491\",\"Westchester County (South Central)--New Rochelle & Mount Vernon Cities PUMA, New York\",\"36\",\"03107\"],\\n[\"37094\",\"Nassau County (Northwest)--North Hempstead Town (North) PUMA, New York\",\"36\",\"03201\"],\\n[\"35974\",\"Nassau County (Northeast)--Oyster Bay Town (North) & Glen Cove City PUMA, New York\",\"36\",\"03202\"],\\n[\"30628\",\"Nassau County (East Central)--Oyster Bay Town (Central) PUMA, New York\",\"36\",\"03203\"],\\n[\"32101\",\"Nassau County (West Central)--North Hempstead Town (South) PUMA, New York\",\"36\",\"03204\"],\\n[\"31210\",\"Nassau County (West Central)--Hempstead Town (Northwest) PUMA, New York\",\"36\",\"03205\"],\\n[\"33594\",\"Nassau County (Central)--Hempstead Town (North Central)--Meadowbrook Corridor PUMA, New York\",\"36\",\"03206\"],\\n[\"33165\",\"Nassau County (Central)--Hempstead Town (Northeast) PUMA, New York\",\"36\",\"03207\"],\\n[\"34252\",\"Nassau County (Southeast)--Oyster Bay Town (South) PUMA, New York\",\"36\",\"03208\"],\\n[\"31343\",\"Nassau County (Central)--Hempstead Town (East Central) PUMA, New York\",\"36\",\"03209\"],\\n[\"32844\",\"Nassau County (South Central)--Hempstead Town (Southeast) PUMA, New York\",\"36\",\"03210\"],\\n[\"32463\",\"Nassau County (West Central)--Hempstead Town (West Central) PUMA, New York\",\"36\",\"03211\"],\\n[\"32449\",\"Nassau County (Southwest)--Hempstead Town (Southwest) & Long Beach City PUMA, New York\",\"36\",\"03212\"],\\n[\"31525\",\"Suffolk County (Northwest)--Huntington Town (North) PUMA, New York\",\"36\",\"03301\"],\\n[\"30123\",\"Suffolk County (Northwest)--Huntington Town (South) PUMA, New York\",\"36\",\"03302\"],\\n[\"34152\",\"Suffolk County (Northwest)--Smithtown Town PUMA, New York\",\"36\",\"03303\"],\\n[\"32865\",\"Suffolk County (North Central)--Brookhaven Town (North) PUMA, New York\",\"36\",\"03304\"],\\n[\"39508\",\"Suffolk County (East) PUMA, New York\",\"36\",\"03305\"],\\n[\"35427\",\"Suffolk County (South Central)--Brookhaven Town (South) PUMA, New York\",\"36\",\"03306\"],\\n[\"37291\",\"Suffolk County (Central)--Brookhaven Town (Central) PUMA, New York\",\"36\",\"03307\"],\\n[\"29666\",\"Suffolk County (Central)--Brookhaven Town (West Central) PUMA, New York\",\"36\",\"03308\"],\\n[\"30726\",\"Suffolk County (Central)--Islip Town (East) PUMA, New York\",\"36\",\"03309\"],\\n[\"24067\",\"Suffolk County (Central)--Islip Town (Northwest) PUMA, New York\",\"36\",\"03310\"],\\n[\"29533\",\"Suffolk County (Southwest)--Islip Town (South) PUMA, New York\",\"36\",\"03311\"],\\n[\"27628\",\"Suffolk County (Southwest)--Babylon Town (Southeast) PUMA, New York\",\"36\",\"03312\"],\\n[\"27506\",\"Suffolk County (West Central)--Babylon Town (Northwest) PUMA, New York\",\"36\",\"03313\"],\\n[\"35529\",\"NYC-Bronx Community District 8--Riverdale, Fieldston & Kingsbridge PUMA; New York\",\"36\",\"03701\"],\\n[\"34030\",\"NYC-Bronx Community District 12--Wakefield, Williamsbridge & Woodlawn PUMA; New York\",\"36\",\"03702\"],\\n[\"36716\",\"NYC-Bronx Community District 10--Co-op City, Pelham Bay & Schuylerville PUMA; New York\",\"36\",\"03703\"],\\n[\"32269\",\"NYC-Bronx Community District 11--Pelham Parkway, Morris Park & Laconia PUMA; New York\",\"36\",\"03704\"],\\n[\"40757\",\"NYC-Bronx Community District 3 & 6--Belmont, Crotona Park East & East Tremont PUMA; New York\",\"36\",\"03705\"],\\n[\"34391\",\"NYC-Bronx Community District 7--Bedford Park, Fordham North & Norwood PUMA; New York\",\"36\",\"03706\"],\\n[\"32926\",\"NYC-Bronx Community District 5--Morris Heights, Fordham South & Mount Hope PUMA; New York\",\"36\",\"03707\"],\\n[\"35788\",\"NYC-Bronx Community District 4--Concourse, Highbridge & Mount Eden PUMA; New York\",\"36\",\"03708\"],\\n[\"49253\",\"NYC-Bronx Community District 9--Castle Hill, Clason Point & Parkchester PUMA; New York\",\"36\",\"03709\"],\\n[\"35410\",\"NYC-Bronx Community District 1 & 2--Hunts Point, Longwood & Melrose PUMA; New York\",\"36\",\"03710\"],\\n[\"60998\",\"NYC-Manhattan Community District 12--Washington Heights, Inwood & Marble Hill PUMA; New York\",\"36\",\"03801\"],\\n[\"35902\",\"NYC-Manhattan Community District 9--Hamilton Heights, Manhattanville & West Harlem PUMA; New York\",\"36\",\"03802\"],\\n[\"45628\",\"NYC-Manhattan Community District 10--Central Harlem PUMA, New York\",\"36\",\"03803\"],\\n[\"39063\",\"NYC-Manhattan Community District 11--East Harlem PUMA, New York\",\"36\",\"03804\"],\\n[\"102520\",\"NYC-Manhattan Community District 8--Upper East Side PUMA, New York\",\"36\",\"03805\"],\\n[\"89090\",\"NYC-Manhattan Community District 7--Upper West Side & West Side PUMA, New York\",\"36\",\"03806\"],\\n[\"73958\",\"NYC-Manhattan Community District 4 & 5--Chelsea, Clinton & Midtown Business District PUMA; New York\",\"36\",\"03807\"],\\n[\"67658\",\"NYC-Manhattan Community District 6--Murray Hill, Gramercy & Stuyvesant Town PUMA; New York\",\"36\",\"03808\"],\\n[\"41821\",\"NYC-Manhattan Community District 3--Chinatown & Lower East Side PUMA, New York\",\"36\",\"03809\"],\\n[\"68171\",\"NYC-Manhattan Community District 1 & 2--Battery Park City, Greenwich Village & Soho PUMA; New York\",\"36\",\"03810\"],\\n[\"49039\",\"NYC-Staten Island Community District 3--Tottenville, Great Kills & Annadale PUMA; New York\",\"36\",\"03901\"],\\n[\"38030\",\"NYC-Staten Island Community District 2--New Springville & South Beach PUMA, New York\",\"36\",\"03902\"],\\n[\"43132\",\"NYC-Staten Island Community District 1--Port Richmond, Stapleton & Mariner\\'s Harbor PUMA; New York\",\"36\",\"03903\"],\\n[\"46643\",\"NYC-Brooklyn Community District 1--Greenpoint & Williamsburg PUMA, New York\",\"36\",\"04001\"],\\n[\"34632\",\"NYC-Brooklyn Community District 4--Bushwick PUMA, New York\",\"36\",\"04002\"],\\n[\"39511\",\"NYC-Brooklyn Community District 3--Bedford-Stuyvesant PUMA, New York\",\"36\",\"04003\"],\\n[\"51562\",\"NYC-Brooklyn Community District 2--Brooklyn Heights & Fort Greene PUMA, New York\",\"36\",\"04004\"],\\n[\"41578\",\"NYC-Brooklyn Community District 6--Park Slope, Carroll Gardens & Red Hook PUMA; New York\",\"36\",\"04005\"],\\n[\"45162\",\"NYC-Brooklyn Community District 8--Crown Heights North & Prospect Heights PUMA, New York\",\"36\",\"04006\"],\\n[\"30110\",\"NYC-Brooklyn Community District 16--Brownsville & Ocean Hill PUMA, New York\",\"36\",\"04007\"],\\n[\"41946\",\"NYC-Brooklyn Community District 5--East New York & Starrett City PUMA, New York\",\"36\",\"04008\"],\\n[\"57622\",\"NYC-Brooklyn Community District 18--Canarsie & Flatlands PUMA, New York\",\"36\",\"04009\"],\\n[\"39234\",\"NYC-Brooklyn Community District 17--East Flatbush, Farragut & Rugby PUMA; New York\",\"36\",\"04010\"],\\n[\"31552\",\"NYC-Brooklyn Community District 9--Crown Heights South, Prospect Lefferts & Wingate PUMA; New York\",\"36\",\"04011\"],\\n[\"35141\",\"NYC-Brooklyn Community District 7--Sunset Park & Windsor Terrace PUMA, New York\",\"36\",\"04012\"],\\n[\"39555\",\"NYC-Brooklyn Community District 10--Bay Ridge & Dyker Heights PUMA, New York\",\"36\",\"04013\"],\\n[\"27834\",\"NYC-Brooklyn Community District 12--Borough Park, Kensington & Ocean Parkway PUMA; New York\",\"36\",\"04014\"],\\n[\"44079\",\"NYC-Brooklyn Community District 14--Flatbush & Midwood PUMA, New York\",\"36\",\"04015\"],\\n[\"49702\",\"NYC-Brooklyn Community District 15--Sheepshead Bay, Gerritsen Beach & Homecrest PUMA; New York\",\"36\",\"04016\"],\\n[\"53428\",\"NYC-Brooklyn Community District 11--Bensonhurst & Bath Beach PUMA, New York\",\"36\",\"04017\"],\\n[\"37294\",\"NYC-Brooklyn Community District 13--Brighton Beach & Coney Island PUMA, New York\",\"36\",\"04018\"],\\n[\"60273\",\"NYC-Queens Community District 1--Astoria & Long Island City PUMA, New York\",\"36\",\"04101\"],\\n[\"38714\",\"NYC-Queens Community District 3--Jackson Heights & North Corona PUMA, New York\",\"36\",\"04102\"],\\n[\"61573\",\"NYC-Queens Community District 7--Flushing, Murray Hill & Whitestone PUMA; New York\",\"36\",\"04103\"],\\n[\"36489\",\"NYC-Queens Community District 11--Bayside, Douglaston & Little Neck PUMA; New York\",\"36\",\"04104\"],\\n[\"50951\",\"NYC-Queens Community District 13--Queens Village, Cambria Heights & Rosedale PUMA; New York\",\"36\",\"04105\"],\\n[\"46272\",\"NYC-Queens Community District 8--Briarwood, Fresh Meadows & Hillcrest PUMA; New York\",\"36\",\"04106\"],\\n[\"31700\",\"NYC-Queens Community District 4--Elmhurst & South Corona PUMA, New York\",\"36\",\"04107\"],\\n[\"43731\",\"NYC-Queens Community District 6--Forest Hills & Rego Park PUMA, New York\",\"36\",\"04108\"],\\n[\"44737\",\"NYC-Queens Community District 2--Sunnyside & Woodside PUMA, New York\",\"36\",\"04109\"],\\n[\"50844\",\"NYC-Queens Community District 5--Ridgewood, Glendale & Middle Village PUMA; New York\",\"36\",\"04110\"],\\n[\"37570\",\"NYC-Queens Community District 9--Richmond Hill & Woodhaven PUMA, New York\",\"36\",\"04111\"],\\n[\"54603\",\"NYC-Queens Community District 12--Jamaica, Hollis & St. Albans PUMA; New York\",\"36\",\"04112\"],\\n[\"32506\",\"NYC-Queens Community District 10--Howard Beach & Ozone Park PUMA, New York\",\"36\",\"04113\"],\\n[\"32172\",\"NYC-Queens Community District 14--Far Rockaway, Breezy Point & Broad Channel PUMA; New York\",\"36\",\"04114\"]]'"
      ]
     },
     "execution_count": 2,
     "metadata": {},
     "output_type": "execute_result"
    }
   ],
   "source": [
    "import pandas as pd\n",
    "import io\n",
    "import requests\n",
    "url = \"https://api.census.gov/data/2016/acs/acs1?get=\" + 'B28002_004E'\\\n",
    "\",NAME&for=public%20use%20microdata%20area:*&in=state:36&key=\" + myAPIkey\n",
    "resp = requests.request('GET', url).content\n",
    "resp"
   ]
  },
  {
   "cell_type": "markdown",
   "metadata": {},
   "source": [
    "which I read in as"
   ]
  },
  {
   "cell_type": "code",
   "execution_count": 5,
   "metadata": {},
   "outputs": [
    {
     "data": {
      "text/html": [
       "<div>\n",
       "<table border=\"1\" class=\"dataframe\">\n",
       "  <thead>\n",
       "    <tr style=\"text-align: right;\">\n",
       "      <th></th>\n",
       "      <th>B28002_004E</th>\n",
       "      <th>NAME</th>\n",
       "      <th>state</th>\n",
       "      <th>public use microdata area</th>\n",
       "      <th>Unnamed: 4</th>\n",
       "    </tr>\n",
       "  </thead>\n",
       "  <tbody>\n",
       "    <tr>\n",
       "      <th>0</th>\n",
       "      <td>32607</td>\n",
       "      <td>St. Lawrence County PUMA, New York</td>\n",
       "      <td>36</td>\n",
       "      <td>100</td>\n",
       "      <td>NaN</td>\n",
       "    </tr>\n",
       "    <tr>\n",
       "      <th>1</th>\n",
       "      <td>50811</td>\n",
       "      <td>Clinton, Franklin, Essex &amp; Hamilton Counties P...</td>\n",
       "      <td>36</td>\n",
       "      <td>200</td>\n",
       "      <td>NaN</td>\n",
       "    </tr>\n",
       "    <tr>\n",
       "      <th>2</th>\n",
       "      <td>41210</td>\n",
       "      <td>Warren &amp; Washington Counties PUMA, New York</td>\n",
       "      <td>36</td>\n",
       "      <td>300</td>\n",
       "      <td>NaN</td>\n",
       "    </tr>\n",
       "    <tr>\n",
       "      <th>3</th>\n",
       "      <td>36075</td>\n",
       "      <td>Herkimer (North &amp; Central) &amp; Oneida (Outer) Co...</td>\n",
       "      <td>36</td>\n",
       "      <td>401</td>\n",
       "      <td>NaN</td>\n",
       "    </tr>\n",
       "    <tr>\n",
       "      <th>4</th>\n",
       "      <td>47786</td>\n",
       "      <td>Oneida County (Central)--Greater Utica &amp; Rome ...</td>\n",
       "      <td>36</td>\n",
       "      <td>402</td>\n",
       "      <td>NaN</td>\n",
       "    </tr>\n",
       "  </tbody>\n",
       "</table>\n",
       "</div>"
      ],
      "text/plain": [
       "   B28002_004E                                               NAME  state  \\\n",
       "0        32607                 St. Lawrence County PUMA, New York     36   \n",
       "1        50811  Clinton, Franklin, Essex & Hamilton Counties P...     36   \n",
       "2        41210        Warren & Washington Counties PUMA, New York     36   \n",
       "3        36075  Herkimer (North & Central) & Oneida (Outer) Co...     36   \n",
       "4        47786  Oneida County (Central)--Greater Utica & Rome ...     36   \n",
       "\n",
       "   public use microdata area  Unnamed: 4  \n",
       "0                        100         NaN  \n",
       "1                        200         NaN  \n",
       "2                        300         NaN  \n",
       "3                        401         NaN  \n",
       "4                        402         NaN  "
      ]
     },
     "execution_count": 5,
     "metadata": {},
     "output_type": "execute_result"
    }
   ],
   "source": [
    "pumaBB = pd.read_csv(io.StringIO(resp.decode('utf-8').replace('[','').replace(']','')))\n",
    "pumaBB.head()"
   ]
  },
  {
   "cell_type": "markdown",
   "metadata": {},
   "source": [
    "## downloading a link directly"
   ]
  },
  {
   "cell_type": "markdown",
   "metadata": {},
   "source": [
    "homework... all of them. remember to use the PUIDATA directory to store your data"
   ]
  },
  {
   "cell_type": "code",
   "execution_count": 6,
   "metadata": {},
   "outputs": [
    {
     "name": "stdout",
     "output_type": "stream",
     "text": [
      "--2017-12-14 12:58:16--  https://www1.nyc.gov/assets/planning/download/zip/data-maps/open-data/nybb_17d.zip\n",
      "Resolving www1.nyc.gov... 104.106.240.221, 2600:141b:13:297::1500, 2600:141b:13:292::1500\n",
      "Connecting to www1.nyc.gov|104.106.240.221|:443... connected.\n",
      "HTTP request sent, awaiting response... 200 OK\n",
      "Length: 658426 (643K) [application/zip]\n",
      "Saving to: “nybb_17d.zip”\n",
      "\n",
      "100%[======================================>] 658,426     --.-K/s   in 0.06s   \n",
      "\n",
      "2017-12-14 12:58:16 (9.87 MB/s) - “nybb_17d.zip” saved [658426/658426]\n",
      "\n"
     ]
    }
   ],
   "source": [
    "#example to download NYC zip shapefile\n",
    "!wget https://www1.nyc.gov/assets/planning/download/zip/data-maps/open-data/nybb_17d.zip"
   ]
  },
  {
   "cell_type": "code",
   "execution_count": 7,
   "metadata": {},
   "outputs": [
    {
     "name": "stdout",
     "output_type": "stream",
     "text": [
      "Archive:  nybb_17d.zip\r\n",
      "  inflating: /home/cusp/fbianco/PUIdata/nybb_17d/nybb.shp  \r\n",
      "  inflating: /home/cusp/fbianco/PUIdata/nybb_17d/nybb.dbf  \r\n",
      "  inflating: /home/cusp/fbianco/PUIdata/nybb_17d/nybb.shx  \r\n",
      "  inflating: /home/cusp/fbianco/PUIdata/nybb_17d/nybb.prj  \r\n",
      "  inflating: /home/cusp/fbianco/PUIdata/nybb_17d/nybb.shp.xml  \r\n"
     ]
    }
   ],
   "source": [
    "#unzip and move to PUIDATA at once\n",
    "!unzip -d $PUIDATA  nybb_17d.zip"
   ]
  },
  {
   "cell_type": "markdown",
   "metadata": {},
   "source": [
    "## with an sql query"
   ]
  },
  {
   "cell_type": "markdown",
   "metadata": {},
   "source": [
    "in homework 7 we defined a function that pulls data from carto's sql. you can that function itself, or extract the relevant pieces to build a function or statement that will query your data from the target SQL\n",
    "\n",
    "there is also a Carto API package\n",
    "https://github.com/CartoDB/carto-python\n",
    "\n",
    "turns out you can even just pass a properkly formatted string to pandas.read_csv!\n"
   ]
  },
  {
   "cell_type": "code",
   "execution_count": 21,
   "metadata": {},
   "outputs": [
    {
     "name": "stdout",
     "output_type": "stream",
     "text": [
      "https://fb55.carto.com:443/api/v2/sql?q=SELECT%20*%20FROM%20fb55.animalabuse311nyccalls%20LIMIT%2010&format=csv\n"
     ]
    },
    {
     "data": {
      "text/html": [
       "<div>\n",
       "<table border=\"1\" class=\"dataframe\">\n",
       "  <thead>\n",
       "    <tr style=\"text-align: right;\">\n",
       "      <th></th>\n",
       "      <th>the_geom</th>\n",
       "      <th>cartodb_id</th>\n",
       "      <th>the_geom_webmercator</th>\n",
       "      <th>created_da</th>\n",
       "    </tr>\n",
       "  </thead>\n",
       "  <tbody>\n",
       "    <tr>\n",
       "      <th>0</th>\n",
       "      <td>0101000020E6100000000000000000F87F000000000000...</td>\n",
       "      <td>290</td>\n",
       "      <td>NaN</td>\n",
       "      <td>2013-09-16 18:05:57+00</td>\n",
       "    </tr>\n",
       "    <tr>\n",
       "      <th>1</th>\n",
       "      <td>0101000020E6100000000000000000F87F000000000000...</td>\n",
       "      <td>627</td>\n",
       "      <td>NaN</td>\n",
       "      <td>2013-10-06 14:07:53+00</td>\n",
       "    </tr>\n",
       "    <tr>\n",
       "      <th>2</th>\n",
       "      <td>0101000020E6100000000000000000F87F000000000000...</td>\n",
       "      <td>1297</td>\n",
       "      <td>NaN</td>\n",
       "      <td>2013-11-13 08:24:22+00</td>\n",
       "    </tr>\n",
       "    <tr>\n",
       "      <th>3</th>\n",
       "      <td>0101000020E6100000000000000000F87F000000000000...</td>\n",
       "      <td>2172</td>\n",
       "      <td>NaN</td>\n",
       "      <td>2014-01-04 03:09:57+00</td>\n",
       "    </tr>\n",
       "    <tr>\n",
       "      <th>4</th>\n",
       "      <td>0101000020E6100000000000000000F87F000000000000...</td>\n",
       "      <td>3223</td>\n",
       "      <td>NaN</td>\n",
       "      <td>2014-01-17 14:38:42+00</td>\n",
       "    </tr>\n",
       "    <tr>\n",
       "      <th>5</th>\n",
       "      <td>0101000020E6100000000000000000F87F000000000000...</td>\n",
       "      <td>3919</td>\n",
       "      <td>NaN</td>\n",
       "      <td>2014-01-25 12:48:40+00</td>\n",
       "    </tr>\n",
       "    <tr>\n",
       "      <th>6</th>\n",
       "      <td>0101000020E6100000000000000000F87F000000000000...</td>\n",
       "      <td>4707</td>\n",
       "      <td>NaN</td>\n",
       "      <td>2014-02-05 15:02:45+00</td>\n",
       "    </tr>\n",
       "    <tr>\n",
       "      <th>7</th>\n",
       "      <td>0101000020E6100000000000000000F87F000000000000...</td>\n",
       "      <td>4885</td>\n",
       "      <td>NaN</td>\n",
       "      <td>2014-02-07 23:56:20+00</td>\n",
       "    </tr>\n",
       "    <tr>\n",
       "      <th>8</th>\n",
       "      <td>0101000020E6100000000000000000F87F000000000000...</td>\n",
       "      <td>5972</td>\n",
       "      <td>NaN</td>\n",
       "      <td>2014-02-24 12:20:58+00</td>\n",
       "    </tr>\n",
       "    <tr>\n",
       "      <th>9</th>\n",
       "      <td>0101000020E6100000000000000000F87F000000000000...</td>\n",
       "      <td>6260</td>\n",
       "      <td>NaN</td>\n",
       "      <td>2014-02-28 17:59:29+00</td>\n",
       "    </tr>\n",
       "  </tbody>\n",
       "</table>\n",
       "</div>"
      ],
      "text/plain": [
       "                                            the_geom  cartodb_id  \\\n",
       "0  0101000020E6100000000000000000F87F000000000000...         290   \n",
       "1  0101000020E6100000000000000000F87F000000000000...         627   \n",
       "2  0101000020E6100000000000000000F87F000000000000...        1297   \n",
       "3  0101000020E6100000000000000000F87F000000000000...        2172   \n",
       "4  0101000020E6100000000000000000F87F000000000000...        3223   \n",
       "5  0101000020E6100000000000000000F87F000000000000...        3919   \n",
       "6  0101000020E6100000000000000000F87F000000000000...        4707   \n",
       "7  0101000020E6100000000000000000F87F000000000000...        4885   \n",
       "8  0101000020E6100000000000000000F87F000000000000...        5972   \n",
       "9  0101000020E6100000000000000000F87F000000000000...        6260   \n",
       "\n",
       "   the_geom_webmercator              created_da  \n",
       "0                   NaN  2013-09-16 18:05:57+00  \n",
       "1                   NaN  2013-10-06 14:07:53+00  \n",
       "2                   NaN  2013-11-13 08:24:22+00  \n",
       "3                   NaN  2014-01-04 03:09:57+00  \n",
       "4                   NaN  2014-01-17 14:38:42+00  \n",
       "5                   NaN  2014-01-25 12:48:40+00  \n",
       "6                   NaN  2014-02-05 15:02:45+00  \n",
       "7                   NaN  2014-02-07 23:56:20+00  \n",
       "8                   NaN  2014-02-24 12:20:58+00  \n",
       "9                   NaN  2014-02-28 17:59:29+00  "
      ]
     },
     "execution_count": 21,
     "metadata": {},
     "output_type": "execute_result"
    }
   ],
   "source": [
    "resformat = 'csv'\n",
    "limit = 10\n",
    "db = 'fb55.animalabuse311nyccalls'\n",
    "\n",
    "#my query is \n",
    "#SELECT * FROM fb55.animalabuse311nyccalls LIMIT 10\n",
    "#and I want it in csv format\n",
    "\n",
    "url = 'https://fb55.carto.com:443/api/v2/sql?q=' + \\\n",
    "\"SELECT%20*%20FROM%20\" + db + \"%20LIMIT%20\" + \"%d\"%limit + \"&format=\" + resformat\n",
    "print(url)\n",
    "import pandas as pd\n",
    "df = pd.read_csv(url)\n",
    "df"
   ]
  },
  {
   "cell_type": "code",
   "execution_count": null,
   "metadata": {},
   "outputs": [],
   "source": []
  }
 ],
 "metadata": {
  "kernelspec": {
   "display_name": "PUI2016_Python3",
   "language": "python",
   "name": "pui2016_python3"
  },
  "language_info": {
   "codemirror_mode": {
    "name": "ipython",
    "version": 3
   },
   "file_extension": ".py",
   "mimetype": "text/x-python",
   "name": "python",
   "nbconvert_exporter": "python",
   "pygments_lexer": "ipython3",
   "version": "3.5.4"
  }
 },
 "nbformat": 4,
 "nbformat_minor": 2
}
