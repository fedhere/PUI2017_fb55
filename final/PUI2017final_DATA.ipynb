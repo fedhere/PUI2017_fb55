{
 "cells": [
  {
   "cell_type": "markdown",
   "metadata": {
    "run_control": {
     "frozen": false,
     "read_only": false
    }
   },
   "source": [
    "# PUI2017final_DATA\n"
   ]
  },
  {
   "cell_type": "markdown",
   "metadata": {},
   "source": [
    "you need 3 datasets for this final:\n",
    "\n",
    "\n"
   ]
  },
  {
   "cell_type": "markdown",
   "metadata": {
    "ExecuteTime": {
     "end_time": "2017-12-14T14:20:17.028896",
     "start_time": "2017-12-14T14:20:17.022660"
    }
   },
   "source": [
    "## NYC crime historical data by precinct\n",
    "you can obtain the data from NYC.gov it should be an excel file called seven-major-felony-offenses-by-precinct-2000-2016.xls"
   ]
  },
  {
   "cell_type": "markdown",
   "metadata": {},
   "source": [
    "## Precincts shapefile"
   ]
  },
  {
   "cell_type": "markdown",
   "metadata": {},
   "source": [
    "you will need a precincts shapefile. You can obtain it from NYC open data, or from other nyc.gov sites,\n",
    "for example from http://www1.nyc.gov/site/planning/data-maps/open-data.page\n",
    "Whichever is the method to obtain the data that you are most familiar with, choose your source accordingly."
   ]
  },
  {
   "cell_type": "markdown",
   "metadata": {},
   "source": [
    "## Socioeconomic features by precinct"
   ]
  },
  {
   "cell_type": "markdown",
   "metadata": {},
   "source": [
    "I aggregated median income and percentage of unemployment at the precinct level from the native census tract geometry, extracted from the 2015 5 year ACS survey. I also calculated the percentage of a precinct that is occupied by \"a green or park area\". You will need to access this file via an SQL query from Carto. The file is\n",
    "\n",
    "https://nyu.carto.com/u/fb55/dataset/nycsocioeconomicsbyprecinct\n"
   ]
  },
  {
   "cell_type": "markdown",
   "metadata": {},
   "source": [
    "## Additional data\n",
    "\n",
    "One of your extra credit options is to reproduce the aggregation that lead to the Socioeconomic features by precinct file. \n",
    "If you choose to do it you will need:\n",
    "\n",
    "a shapefile for the NYC parks which you can access from the https://data.cityofnewyork.us/\n",
    "\n",
    "a census tract shapefile also accessible through the NYC open data portal or http://www1.nyc.gov/site/planning/data-maps/open-data.page\n",
    "    \n",
    "tree features from the American Community Survey which you can find on American Fact Finder.   \n",
    "If, as they should, these are accessed through the API you API link should begin with https://api.census.gov/data/ (e.g. [5 year ACS](https://api.census.gov/data/2015/acs/acs5))\n",
    "\n",
    "- the 2015  5 year ACS survey unemployment data by census tract (the total number of individuals is available through the API at the census tract geometry aggregation level). \n",
    "\n",
    "- the 2015  5 year ACS survey total count of people by census tract (to generate the unemployment percentage).\n",
    "\n",
    "- the 2015  5 year ACS survey median income by census tract.\n",
    "\n"
   ]
  },
  {
   "cell_type": "code",
   "execution_count": null,
   "metadata": {
    "collapsed": true
   },
   "outputs": [],
   "source": []
  }
 ],
 "metadata": {
  "kernelspec": {
   "display_name": "Python 3",
   "language": "python",
   "name": "python3"
  },
  "language_info": {
   "codemirror_mode": {
    "name": "ipython",
    "version": 2
   },
   "file_extension": ".py",
   "mimetype": "text/x-python",
   "name": "python",
   "nbconvert_exporter": "python",
   "pygments_lexer": "ipython2",
   "version": "2.7.12"
  },
  "toc": {
   "colors": {
    "hover_highlight": "#DAA520",
    "running_highlight": "#FF0000",
    "selected_highlight": "#FFD700"
   },
   "moveMenuLeft": true,
   "nav_menu": {
    "height": "103px",
    "width": "252px"
   },
   "navigate_menu": true,
   "number_sections": false,
   "sideBar": true,
   "threshold": 4,
   "toc_cell": false,
   "toc_section_display": "block",
   "toc_window_display": true
  }
 },
 "nbformat": 4,
 "nbformat_minor": 1
}
