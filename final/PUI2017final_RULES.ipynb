{
 "cells": [
  {
   "cell_type": "markdown",
   "metadata": {
    "run_control": {
     "frozen": false,
     "read_only": false
    }
   },
   "source": [
    "# PUI2017 final RULES"
   ]
  },
  {
   "cell_type": "markdown",
   "metadata": {
    "run_control": {
     "frozen": false,
     "read_only": false
    }
   },
   "source": [
    "## This exam is take home. Deliver your solution as an ipython notebook uploading it to NYUclasses BY 12/17/2017 at 11:59:59 PM on [NYUclasses]\n",
    "\n",
    "## Work alone. If you have questions feel free to ask them to your instructors and TAs on the [slack channel](https://puifinal.slack.com) - you received an invitation to it on the NYU classes announcements. High level intellectual discussion is never forbidden, so general, conceptual questions can be discussed with your class mates, but do not exchange code, or algorithms (specific solution design)\n",
    "\n"
   ]
  },
  {
   "cell_type": "markdown",
   "metadata": {
    "run_control": {
     "frozen": false,
     "read_only": false
    }
   },
   "source": [
    "**Grading** Generally each step outlined in the instructions earns you 10 points (unless specified otherwise) or less for being done partially or not entirely correctly. There are 12 tasks.  Your submission will be downgraded 25% of the grade if the notebook does not run. The maximum number of points that one can obtain in the end is 100. Largely the grading will be on the output products: your tables and plots, and your comments. I will inspect code patches, and look at code where the output is not right to see what was incorrect and grade accordingly. The patches of code I inspect must be PEP8 compliant. I will grade the rendered notebook and then try to run it. You will have points taken off if your notebook does not run from top to end. You will have points taken off for PEP8 violations (see below). The extra credit tasks are more open ended, and the grading is therefore more subjective."
   ]
  },
  {
   "cell_type": "markdown",
   "metadata": {
    "run_control": {
     "frozen": false,
     "read_only": false
    }
   },
   "source": [
    "**Cite works of others when you use it.** That does not mean that you have to cite stackoverflow for every line of code you get there, or every line of code you inherited from me and the other lecturers of this class, but if you lift functions or significant chunks of code from other people, for example from their GitHub repos, cite the source.  Since this problem is conceived by me for your final there is no such thing as \"copying the solution\". You are not going to be penalized for researching and using code that is relevant to obtain your solution (this of course does not apply to researching from your classmates codes. See comments above.) "
   ]
  },
  {
   "cell_type": "markdown",
   "metadata": {
    "run_control": {
     "frozen": false,
     "read_only": false
    }
   },
   "source": [
    "**Make sure your work is reproducible.** Do not use paths that are unique to you and the machine you are working on (e.g. that include your username!) or, since you are not supposed to upload data, even paths that are not the ones we agreed upon (where we will have a copy of the data). You can use the environmental variable PUIDATA to point to the data that is stored there, or you can use SQL, urls, APIs, the data facility. If you download data the lines of code that download the data should be in the notebook. When not possible give details on what you downloaded, the relevant URLs and options you had to go through and instructions on how to reproduce it and obtain the same file as comments in your notebook.\n"
   ]
  },
  {
   "cell_type": "markdown",
   "metadata": {
    "run_control": {
     "frozen": false,
     "read_only": false
    }
   },
   "source": [
    "**Make it a presentation:** please label your plots, answer all questions, produce whatever outputs and plots I request you to produce, and any additional output that helps you in the process, but try and remove useless and redundant outputs from your final version, so that your notebook looks like a presentation (and it is easy for me to parse it). If you leave a plot in it, do explain what it is and what it is used for: there should be no unlabelled plots or unexplained outputs. \n",
    "\n",
    "**Comment on what you are discovering**! The coding is a mean to an end. The end is scientific inference, which lives in your findings and your interpretation of them.\n",
    "\n",
    "**Clearly state your answers in separate cells**, so they are not lost in the notebook, and we can clearly notice them. "
   ]
  },
  {
   "cell_type": "markdown",
   "metadata": {
    "run_control": {
     "frozen": false,
     "read_only": false
    }
   },
   "source": [
    "**Be PEP8 compliant**. Disregard of the \"simplest most basic PEP8 rules\" will cost you points.  The complete rules here https://www.python.org/dev/peps/pep-0008/ https://code.google.com/p/soc/wiki/PythonStyleGuide.\n",
    "If you forgot the \"simplest most basic PEP8 rules\" which are the very minimum we require, they are here https://docs.google.com/document/d/1-XnKK4xRBA5FXOBa4p0Z4in7qfVyk4CutjSMEX-jpTQ/edit?usp=sharing"
   ]
  }
 ],
 "metadata": {
  "anaconda-cloud": {},
  "kernelspec": {
   "display_name": "Python 3",
   "language": "python",
   "name": "python3"
  },
  "language_info": {
   "codemirror_mode": {
    "name": "ipython",
    "version": 2
   },
   "file_extension": ".py",
   "mimetype": "text/x-python",
   "name": "python",
   "nbconvert_exporter": "python",
   "pygments_lexer": "ipython2",
   "version": "2.7.12"
  },
  "toc": {
   "colors": {
    "hover_highlight": "#DAA520",
    "running_highlight": "#FF0000",
    "selected_highlight": "#FFD700"
   },
   "moveMenuLeft": true,
   "nav_menu": {
    "height": "66px",
    "width": "252px"
   },
   "navigate_menu": true,
   "number_sections": false,
   "sideBar": true,
   "threshold": 4,
   "toc_cell": false,
   "toc_section_display": "block",
   "toc_window_display": true
  }
 },
 "nbformat": 4,
 "nbformat_minor": 0
}
