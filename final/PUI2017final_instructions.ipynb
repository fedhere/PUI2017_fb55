{
 "cells": [
  {
   "cell_type": "markdown",
   "metadata": {
    "run_control": {
     "frozen": false,
     "read_only": false
    }
   },
   "source": [
    "# NYU-CUSP Principles of Urban Informatics 2017 final"
   ]
  },
  {
   "cell_type": "markdown",
   "metadata": {
    "run_control": {
     "frozen": false,
     "read_only": false
    }
   },
   "source": [
    "## READ THE [README](README.md) AND THE [RULES](https://github.com/fedhere/PUI2017_fb55/blob/master/final/PUI2017final_RULES.ipynb) FIRST! **\n",
    "\n",
    "\n",
    "There are [hints](https://docs.google.com/document/d/1lXM07wQsbxXKfCbWYP6RJlDqFOl0E1LWWzLVJ0bEmAM/edit?usp=sharing) and further details on the data in [PUI2017final_DATA](https://github.com/fedhere/PUI2017_fb55/blob/master/final/PUI2017final_DATA.ipynb) \n",
    "\n",
    "**Motivation:**\n",
    "\n",
    "The study of NYC crime is of broad interest in the Urban Science scene, and NYPD has provided statistics on the crime (by precinct) for several years. This is an important resource to understand and analyze urban crime. There are obvious connections between crime and wealth, which relate both to access to precious goods (opportunity), and to how easy it is to commit a crime (the neighborhood safety, or perceived safety). [It has been suggested](https://journalistsresource.org/studies/government/criminal-justice/unemployment-property-crime-burglary) that unemployment correlates strongly with burglary for example, due to both opportunity and motivation. In addition there are [several pieces of research](https://www.citylab.com/solutions/2016/04/vacant-lots-green-space-crime-research-statistics/476040/) that indicate that access to green spaces affects crime.\n",
    "\n",
    "In this final you should explore and model NYC crime:\n",
    "\n",
    "- The first part of the exam is an exploratory analysis of the crime time series for the seven major felonies 2000-2016 (temporal domain).\n",
    "\n",
    "- The second part of the exam attempts to relate socioeconomic features to individual crime rates by area (spatial domain).\n",
    "\n",
    "- Lastly, if you wish, in the extra credit, you can aggregate the socioeconomic features that I indicated at the precinct level: percentage of unemployment and median income, that natively come at the census tract level from the census bureau API, and green area, for which you can use the NYC parks shapefile.\n",
    "\n",
    "\n",
    "There are [hints](https://docs.google.com/document/d/1lXM07wQsbxXKfCbWYP6RJlDqFOl0E1LWWzLVJ0bEmAM/edit?usp=sharing), and partially processed datasets. Look for them. As in the midterm you can access the partially processed datasets (only one in this case) and go back to the processing task at a later time. If you then provide your own processing of the data you will be given points accordingly.\n"
   ]
  },
  {
   "cell_type": "markdown",
   "metadata": {
    "run_control": {
     "frozen": false,
     "read_only": false
    }
   },
   "source": [
    "# 1. Time domain exploratory analysis"
   ]
  },
  {
   "cell_type": "markdown",
   "metadata": {
    "run_control": {
     "frozen": false,
     "read_only": false
    }
   },
   "source": [
    "## 1.1 obtain historical data for 2000-2016 for all NYC police precincts\n",
    "you can obtain the data from NYC.gov it should be an excel file called seven-major-felony-offenses-by-precinct-2000-2016.xls"
   ]
  },
  {
   "cell_type": "code",
   "execution_count": 52,
   "metadata": {
    "ExecuteTime": {
     "end_time": "2017-12-14T22:35:38.005506",
     "start_time": "2017-12-14T22:35:37.961550"
    },
    "collapsed": false,
    "run_control": {
     "frozen": false,
     "marked": false,
     "read_only": false
    }
   },
   "outputs": [
    {
     "data": {
      "text/html": [
       "<div>\n",
       "<table border=\"1\" class=\"dataframe\">\n",
       "  <thead>\n",
       "    <tr style=\"text-align: right;\">\n",
       "      <th></th>\n",
       "      <th>PCT</th>\n",
       "      <th>CRIME</th>\n",
       "      <th>2000</th>\n",
       "      <th>2001</th>\n",
       "      <th>2002</th>\n",
       "      <th>2003</th>\n",
       "      <th>2004</th>\n",
       "      <th>2005</th>\n",
       "      <th>2006</th>\n",
       "      <th>2007</th>\n",
       "      <th>2008</th>\n",
       "      <th>2009</th>\n",
       "      <th>2010</th>\n",
       "      <th>2011</th>\n",
       "      <th>2012</th>\n",
       "      <th>2013</th>\n",
       "      <th>2014</th>\n",
       "      <th>2015</th>\n",
       "      <th>2016</th>\n",
       "    </tr>\n",
       "  </thead>\n",
       "  <tbody>\n",
       "    <tr>\n",
       "      <th>0</th>\n",
       "      <td>1</td>\n",
       "      <td>MURDER &amp; NON NEGL. MANSLAUGHTER               ...</td>\n",
       "      <td>3.0</td>\n",
       "      <td>1.0</td>\n",
       "      <td>2.0</td>\n",
       "      <td>2.0</td>\n",
       "      <td>2.0</td>\n",
       "      <td>0.0</td>\n",
       "      <td>1.0</td>\n",
       "      <td>0.0</td>\n",
       "      <td>1.0</td>\n",
       "      <td>2.0</td>\n",
       "      <td>2.0</td>\n",
       "      <td>0.0</td>\n",
       "      <td>1.0</td>\n",
       "      <td>0.0</td>\n",
       "      <td>0.0</td>\n",
       "      <td>1.0</td>\n",
       "      <td>0.0</td>\n",
       "    </tr>\n",
       "    <tr>\n",
       "      <th>1</th>\n",
       "      <td>1</td>\n",
       "      <td>RAPE</td>\n",
       "      <td>12.0</td>\n",
       "      <td>5.0</td>\n",
       "      <td>10.0</td>\n",
       "      <td>11.0</td>\n",
       "      <td>11.0</td>\n",
       "      <td>5.0</td>\n",
       "      <td>4.0</td>\n",
       "      <td>7.0</td>\n",
       "      <td>12.0</td>\n",
       "      <td>4.0</td>\n",
       "      <td>6.0</td>\n",
       "      <td>13.0</td>\n",
       "      <td>10.0</td>\n",
       "      <td>12.0</td>\n",
       "      <td>8.0</td>\n",
       "      <td>7.0</td>\n",
       "      <td>9.0</td>\n",
       "    </tr>\n",
       "    <tr>\n",
       "      <th>2</th>\n",
       "      <td>1</td>\n",
       "      <td>ROBBERY</td>\n",
       "      <td>252.0</td>\n",
       "      <td>188.0</td>\n",
       "      <td>210.0</td>\n",
       "      <td>164.0</td>\n",
       "      <td>154.0</td>\n",
       "      <td>172.0</td>\n",
       "      <td>119.0</td>\n",
       "      <td>128.0</td>\n",
       "      <td>108.0</td>\n",
       "      <td>106.0</td>\n",
       "      <td>96.0</td>\n",
       "      <td>102.0</td>\n",
       "      <td>81.0</td>\n",
       "      <td>68.0</td>\n",
       "      <td>50.0</td>\n",
       "      <td>79.0</td>\n",
       "      <td>60.0</td>\n",
       "    </tr>\n",
       "  </tbody>\n",
       "</table>\n",
       "</div>"
      ],
      "text/plain": [
       "  PCT                                              CRIME   2000   2001   2002  \\\n",
       "0   1  MURDER & NON NEGL. MANSLAUGHTER               ...    3.0    1.0    2.0   \n",
       "1   1             RAPE                                     12.0    5.0   10.0   \n",
       "2   1             ROBBERY                                 252.0  188.0  210.0   \n",
       "\n",
       "    2003   2004   2005   2006   2007   2008   2009  2010   2011  2012  2013  \\\n",
       "0    2.0    2.0    0.0    1.0    0.0    1.0    2.0   2.0    0.0   1.0   0.0   \n",
       "1   11.0   11.0    5.0    4.0    7.0   12.0    4.0   6.0   13.0  10.0  12.0   \n",
       "2  164.0  154.0  172.0  119.0  128.0  108.0  106.0  96.0  102.0  81.0  68.0   \n",
       "\n",
       "   2014  2015  2016  \n",
       "0   0.0   1.0   0.0  \n",
       "1   8.0   7.0   9.0  \n",
       "2  50.0  79.0  60.0  "
      ]
     },
     "execution_count": 52,
     "metadata": {},
     "output_type": "execute_result"
    }
   ],
   "source": [
    "crime.head(3)"
   ]
  },
  {
   "cell_type": "code",
   "execution_count": 53,
   "metadata": {
    "ExecuteTime": {
     "end_time": "2017-12-14T22:35:38.685522",
     "start_time": "2017-12-14T22:35:38.638909"
    },
    "collapsed": false,
    "run_control": {
     "frozen": false,
     "read_only": false
    }
   },
   "outputs": [
    {
     "data": {
      "text/html": [
       "<div>\n",
       "<table border=\"1\" class=\"dataframe\">\n",
       "  <thead>\n",
       "    <tr style=\"text-align: right;\">\n",
       "      <th></th>\n",
       "      <th>PCT</th>\n",
       "      <th>CRIME</th>\n",
       "      <th>2000</th>\n",
       "      <th>2001</th>\n",
       "      <th>2002</th>\n",
       "      <th>2003</th>\n",
       "      <th>2004</th>\n",
       "      <th>2005</th>\n",
       "      <th>2006</th>\n",
       "      <th>2007</th>\n",
       "      <th>2008</th>\n",
       "      <th>2009</th>\n",
       "      <th>2010</th>\n",
       "      <th>2011</th>\n",
       "      <th>2012</th>\n",
       "      <th>2013</th>\n",
       "      <th>2014</th>\n",
       "      <th>2015</th>\n",
       "      <th>2016</th>\n",
       "    </tr>\n",
       "  </thead>\n",
       "  <tbody>\n",
       "    <tr>\n",
       "      <th>633</th>\n",
       "      <td>5. On Sept. 28, 2012, there was a re-alignment...</td>\n",
       "      <td>TOTAL SEVEN MAJOR FELONY OFFENSES</td>\n",
       "      <td>636.0</td>\n",
       "      <td>514.0</td>\n",
       "      <td>495.0</td>\n",
       "      <td>467.0</td>\n",
       "      <td>464.0</td>\n",
       "      <td>570.0</td>\n",
       "      <td>475.0</td>\n",
       "      <td>496.0</td>\n",
       "      <td>515.0</td>\n",
       "      <td>414.0</td>\n",
       "      <td>371.0</td>\n",
       "      <td>413.0</td>\n",
       "      <td>396.0</td>\n",
       "      <td>378.0</td>\n",
       "      <td>413.0</td>\n",
       "      <td>379.0</td>\n",
       "      <td>509.0</td>\n",
       "    </tr>\n",
       "    <tr>\n",
       "      <th>634</th>\n",
       "      <td>6. The 121 pct was created on 7-1-2013 from pa...</td>\n",
       "      <td>TOTAL SEVEN MAJOR FELONY OFFENSES</td>\n",
       "      <td>636.0</td>\n",
       "      <td>514.0</td>\n",
       "      <td>495.0</td>\n",
       "      <td>467.0</td>\n",
       "      <td>464.0</td>\n",
       "      <td>570.0</td>\n",
       "      <td>475.0</td>\n",
       "      <td>496.0</td>\n",
       "      <td>515.0</td>\n",
       "      <td>414.0</td>\n",
       "      <td>371.0</td>\n",
       "      <td>413.0</td>\n",
       "      <td>396.0</td>\n",
       "      <td>378.0</td>\n",
       "      <td>413.0</td>\n",
       "      <td>379.0</td>\n",
       "      <td>509.0</td>\n",
       "    </tr>\n",
       "    <tr>\n",
       "      <th>635</th>\n",
       "      <td>7. As of 1-1-2014 complaints occurring within ...</td>\n",
       "      <td>TOTAL SEVEN MAJOR FELONY OFFENSES</td>\n",
       "      <td>636.0</td>\n",
       "      <td>514.0</td>\n",
       "      <td>495.0</td>\n",
       "      <td>467.0</td>\n",
       "      <td>464.0</td>\n",
       "      <td>570.0</td>\n",
       "      <td>475.0</td>\n",
       "      <td>496.0</td>\n",
       "      <td>515.0</td>\n",
       "      <td>414.0</td>\n",
       "      <td>371.0</td>\n",
       "      <td>413.0</td>\n",
       "      <td>396.0</td>\n",
       "      <td>378.0</td>\n",
       "      <td>413.0</td>\n",
       "      <td>379.0</td>\n",
       "      <td>509.0</td>\n",
       "    </tr>\n",
       "  </tbody>\n",
       "</table>\n",
       "</div>"
      ],
      "text/plain": [
       "                                                   PCT  \\\n",
       "633  5. On Sept. 28, 2012, there was a re-alignment...   \n",
       "634  6. The 121 pct was created on 7-1-2013 from pa...   \n",
       "635  7. As of 1-1-2014 complaints occurring within ...   \n",
       "\n",
       "                                 CRIME   2000   2001   2002   2003   2004  \\\n",
       "633  TOTAL SEVEN MAJOR FELONY OFFENSES  636.0  514.0  495.0  467.0  464.0   \n",
       "634  TOTAL SEVEN MAJOR FELONY OFFENSES  636.0  514.0  495.0  467.0  464.0   \n",
       "635  TOTAL SEVEN MAJOR FELONY OFFENSES  636.0  514.0  495.0  467.0  464.0   \n",
       "\n",
       "      2005   2006   2007   2008   2009   2010   2011   2012   2013   2014  \\\n",
       "633  570.0  475.0  496.0  515.0  414.0  371.0  413.0  396.0  378.0  413.0   \n",
       "634  570.0  475.0  496.0  515.0  414.0  371.0  413.0  396.0  378.0  413.0   \n",
       "635  570.0  475.0  496.0  515.0  414.0  371.0  413.0  396.0  378.0  413.0   \n",
       "\n",
       "      2015   2016  \n",
       "633  379.0  509.0  \n",
       "634  379.0  509.0  \n",
       "635  379.0  509.0  "
      ]
     },
     "execution_count": 53,
     "metadata": {},
     "output_type": "execute_result"
    }
   ],
   "source": [
    "crime.tail(3)"
   ]
  },
  {
   "cell_type": "code",
   "execution_count": 54,
   "metadata": {
    "ExecuteTime": {
     "end_time": "2017-12-14T22:35:44.029144",
     "start_time": "2017-12-14T22:35:43.954255"
    },
    "collapsed": false,
    "run_control": {
     "frozen": false,
     "read_only": false
    }
   },
   "outputs": [
    {
     "data": {
      "text/html": [
       "<div>\n",
       "<table border=\"1\" class=\"dataframe\">\n",
       "  <thead>\n",
       "    <tr style=\"text-align: right;\">\n",
       "      <th></th>\n",
       "      <th>2000</th>\n",
       "      <th>2001</th>\n",
       "      <th>2002</th>\n",
       "      <th>2003</th>\n",
       "      <th>2004</th>\n",
       "      <th>2005</th>\n",
       "      <th>2006</th>\n",
       "      <th>2007</th>\n",
       "      <th>2008</th>\n",
       "      <th>2009</th>\n",
       "      <th>2010</th>\n",
       "      <th>2011</th>\n",
       "      <th>2012</th>\n",
       "      <th>2013</th>\n",
       "      <th>2014</th>\n",
       "      <th>2015</th>\n",
       "      <th>2016</th>\n",
       "    </tr>\n",
       "  </thead>\n",
       "  <tbody>\n",
       "    <tr>\n",
       "      <th>count</th>\n",
       "      <td>636.000000</td>\n",
       "      <td>636.000000</td>\n",
       "      <td>636.000000</td>\n",
       "      <td>636.000000</td>\n",
       "      <td>636.000000</td>\n",
       "      <td>636.000000</td>\n",
       "      <td>636.000000</td>\n",
       "      <td>636.000000</td>\n",
       "      <td>636.000000</td>\n",
       "      <td>636.000000</td>\n",
       "      <td>636.000000</td>\n",
       "      <td>636.000000</td>\n",
       "      <td>636.000000</td>\n",
       "      <td>636.000000</td>\n",
       "      <td>636.000000</td>\n",
       "      <td>636.000000</td>\n",
       "      <td>636.000000</td>\n",
       "    </tr>\n",
       "    <tr>\n",
       "      <th>mean</th>\n",
       "      <td>630.188679</td>\n",
       "      <td>554.213836</td>\n",
       "      <td>527.141509</td>\n",
       "      <td>499.028302</td>\n",
       "      <td>483.877358</td>\n",
       "      <td>466.738994</td>\n",
       "      <td>441.257862</td>\n",
       "      <td>417.588050</td>\n",
       "      <td>408.408805</td>\n",
       "      <td>367.578616</td>\n",
       "      <td>361.676101</td>\n",
       "      <td>368.927673</td>\n",
       "      <td>386.603774</td>\n",
       "      <td>361.996855</td>\n",
       "      <td>343.396226</td>\n",
       "      <td>338.764151</td>\n",
       "      <td>329.465409</td>\n",
       "    </tr>\n",
       "    <tr>\n",
       "      <th>std</th>\n",
       "      <td>886.138426</td>\n",
       "      <td>790.743142</td>\n",
       "      <td>739.370608</td>\n",
       "      <td>697.085017</td>\n",
       "      <td>675.478938</td>\n",
       "      <td>638.157402</td>\n",
       "      <td>602.084727</td>\n",
       "      <td>571.483049</td>\n",
       "      <td>556.479626</td>\n",
       "      <td>505.148518</td>\n",
       "      <td>495.912139</td>\n",
       "      <td>504.452529</td>\n",
       "      <td>533.872234</td>\n",
       "      <td>509.611397</td>\n",
       "      <td>489.177964</td>\n",
       "      <td>482.938947</td>\n",
       "      <td>473.514493</td>\n",
       "    </tr>\n",
       "    <tr>\n",
       "      <th>min</th>\n",
       "      <td>0.000000</td>\n",
       "      <td>0.000000</td>\n",
       "      <td>0.000000</td>\n",
       "      <td>0.000000</td>\n",
       "      <td>0.000000</td>\n",
       "      <td>0.000000</td>\n",
       "      <td>0.000000</td>\n",
       "      <td>0.000000</td>\n",
       "      <td>0.000000</td>\n",
       "      <td>0.000000</td>\n",
       "      <td>0.000000</td>\n",
       "      <td>0.000000</td>\n",
       "      <td>0.000000</td>\n",
       "      <td>0.000000</td>\n",
       "      <td>0.000000</td>\n",
       "      <td>0.000000</td>\n",
       "      <td>0.000000</td>\n",
       "    </tr>\n",
       "    <tr>\n",
       "      <th>25%</th>\n",
       "      <td>75.500000</td>\n",
       "      <td>70.500000</td>\n",
       "      <td>74.500000</td>\n",
       "      <td>61.750000</td>\n",
       "      <td>56.750000</td>\n",
       "      <td>54.000000</td>\n",
       "      <td>43.500000</td>\n",
       "      <td>43.750000</td>\n",
       "      <td>42.250000</td>\n",
       "      <td>36.000000</td>\n",
       "      <td>35.000000</td>\n",
       "      <td>34.000000</td>\n",
       "      <td>33.000000</td>\n",
       "      <td>29.750000</td>\n",
       "      <td>28.750000</td>\n",
       "      <td>29.750000</td>\n",
       "      <td>28.000000</td>\n",
       "    </tr>\n",
       "    <tr>\n",
       "      <th>50%</th>\n",
       "      <td>361.000000</td>\n",
       "      <td>315.500000</td>\n",
       "      <td>305.500000</td>\n",
       "      <td>277.500000</td>\n",
       "      <td>279.000000</td>\n",
       "      <td>275.500000</td>\n",
       "      <td>254.000000</td>\n",
       "      <td>228.000000</td>\n",
       "      <td>222.500000</td>\n",
       "      <td>208.000000</td>\n",
       "      <td>196.500000</td>\n",
       "      <td>200.500000</td>\n",
       "      <td>205.000000</td>\n",
       "      <td>177.000000</td>\n",
       "      <td>169.500000</td>\n",
       "      <td>163.500000</td>\n",
       "      <td>141.500000</td>\n",
       "    </tr>\n",
       "    <tr>\n",
       "      <th>75%</th>\n",
       "      <td>648.250000</td>\n",
       "      <td>581.000000</td>\n",
       "      <td>561.500000</td>\n",
       "      <td>524.750000</td>\n",
       "      <td>496.250000</td>\n",
       "      <td>514.250000</td>\n",
       "      <td>475.000000</td>\n",
       "      <td>475.000000</td>\n",
       "      <td>460.000000</td>\n",
       "      <td>414.000000</td>\n",
       "      <td>396.250000</td>\n",
       "      <td>413.000000</td>\n",
       "      <td>435.000000</td>\n",
       "      <td>415.000000</td>\n",
       "      <td>413.000000</td>\n",
       "      <td>379.000000</td>\n",
       "      <td>425.250000</td>\n",
       "    </tr>\n",
       "    <tr>\n",
       "      <th>max</th>\n",
       "      <td>6857.000000</td>\n",
       "      <td>6088.000000</td>\n",
       "      <td>5265.000000</td>\n",
       "      <td>5105.000000</td>\n",
       "      <td>4730.000000</td>\n",
       "      <td>4423.000000</td>\n",
       "      <td>4173.000000</td>\n",
       "      <td>3971.000000</td>\n",
       "      <td>3708.000000</td>\n",
       "      <td>3330.000000</td>\n",
       "      <td>3103.000000</td>\n",
       "      <td>3393.000000</td>\n",
       "      <td>3780.000000</td>\n",
       "      <td>3902.000000</td>\n",
       "      <td>3751.000000</td>\n",
       "      <td>3506.000000</td>\n",
       "      <td>3287.000000</td>\n",
       "    </tr>\n",
       "  </tbody>\n",
       "</table>\n",
       "</div>"
      ],
      "text/plain": [
       "              2000         2001         2002         2003         2004  \\\n",
       "count   636.000000   636.000000   636.000000   636.000000   636.000000   \n",
       "mean    630.188679   554.213836   527.141509   499.028302   483.877358   \n",
       "std     886.138426   790.743142   739.370608   697.085017   675.478938   \n",
       "min       0.000000     0.000000     0.000000     0.000000     0.000000   \n",
       "25%      75.500000    70.500000    74.500000    61.750000    56.750000   \n",
       "50%     361.000000   315.500000   305.500000   277.500000   279.000000   \n",
       "75%     648.250000   581.000000   561.500000   524.750000   496.250000   \n",
       "max    6857.000000  6088.000000  5265.000000  5105.000000  4730.000000   \n",
       "\n",
       "              2005         2006         2007         2008         2009  \\\n",
       "count   636.000000   636.000000   636.000000   636.000000   636.000000   \n",
       "mean    466.738994   441.257862   417.588050   408.408805   367.578616   \n",
       "std     638.157402   602.084727   571.483049   556.479626   505.148518   \n",
       "min       0.000000     0.000000     0.000000     0.000000     0.000000   \n",
       "25%      54.000000    43.500000    43.750000    42.250000    36.000000   \n",
       "50%     275.500000   254.000000   228.000000   222.500000   208.000000   \n",
       "75%     514.250000   475.000000   475.000000   460.000000   414.000000   \n",
       "max    4423.000000  4173.000000  3971.000000  3708.000000  3330.000000   \n",
       "\n",
       "              2010         2011         2012         2013         2014  \\\n",
       "count   636.000000   636.000000   636.000000   636.000000   636.000000   \n",
       "mean    361.676101   368.927673   386.603774   361.996855   343.396226   \n",
       "std     495.912139   504.452529   533.872234   509.611397   489.177964   \n",
       "min       0.000000     0.000000     0.000000     0.000000     0.000000   \n",
       "25%      35.000000    34.000000    33.000000    29.750000    28.750000   \n",
       "50%     196.500000   200.500000   205.000000   177.000000   169.500000   \n",
       "75%     396.250000   413.000000   435.000000   415.000000   413.000000   \n",
       "max    3103.000000  3393.000000  3780.000000  3902.000000  3751.000000   \n",
       "\n",
       "              2015         2016  \n",
       "count   636.000000   636.000000  \n",
       "mean    338.764151   329.465409  \n",
       "std     482.938947   473.514493  \n",
       "min       0.000000     0.000000  \n",
       "25%      29.750000    28.000000  \n",
       "50%     163.500000   141.500000  \n",
       "75%     379.000000   425.250000  \n",
       "max    3506.000000  3287.000000  "
      ]
     },
     "execution_count": 54,
     "metadata": {},
     "output_type": "execute_result"
    }
   ],
   "source": [
    "crime.describe()"
   ]
  },
  {
   "cell_type": "markdown",
   "metadata": {
    "run_control": {
     "frozen": false,
     "read_only": false
    }
   },
   "source": [
    "## 1.2 remove outliers (likely wrongly input data)\n",
    "\n",
    "\n",
    "In the data there may be outliers. With the data version I downloaded and the processing up to the point where I got I had an obvious one (extremely large for all crimes). If there are outliers remove them and also decide what to do with missing data\n",
    "\n"
   ]
  },
  {
   "cell_type": "code",
   "execution_count": 56,
   "metadata": {
    "ExecuteTime": {
     "end_time": "2017-12-14T22:35:49.777601",
     "start_time": "2017-12-14T22:35:49.733604"
    },
    "collapsed": false,
    "run_control": {
     "frozen": false,
     "read_only": false
    }
   },
   "outputs": [
    {
     "data": {
      "text/html": [
       "<div>\n",
       "<table border=\"1\" class=\"dataframe\">\n",
       "  <thead>\n",
       "    <tr style=\"text-align: right;\">\n",
       "      <th></th>\n",
       "      <th>PCT</th>\n",
       "      <th>CRIME</th>\n",
       "      <th>2000</th>\n",
       "      <th>2001</th>\n",
       "      <th>2002</th>\n",
       "      <th>2003</th>\n",
       "      <th>2004</th>\n",
       "      <th>2005</th>\n",
       "      <th>2006</th>\n",
       "      <th>2007</th>\n",
       "      <th>2008</th>\n",
       "      <th>2009</th>\n",
       "      <th>2010</th>\n",
       "      <th>2011</th>\n",
       "      <th>2012</th>\n",
       "      <th>2013</th>\n",
       "      <th>2014</th>\n",
       "      <th>2015</th>\n",
       "      <th>2016</th>\n",
       "    </tr>\n",
       "  </thead>\n",
       "  <tbody>\n",
       "    <tr>\n",
       "      <th>613</th>\n",
       "      <td>123</td>\n",
       "      <td>GRAND LARCENY</td>\n",
       "      <td>101.0</td>\n",
       "      <td>90.0</td>\n",
       "      <td>116.0</td>\n",
       "      <td>137.0</td>\n",
       "      <td>166.0</td>\n",
       "      <td>233.0</td>\n",
       "      <td>175.0</td>\n",
       "      <td>181.0</td>\n",
       "      <td>191.0</td>\n",
       "      <td>171.0</td>\n",
       "      <td>147.0</td>\n",
       "      <td>175.0</td>\n",
       "      <td>183.0</td>\n",
       "      <td>171.0</td>\n",
       "      <td>194.0</td>\n",
       "      <td>163.0</td>\n",
       "      <td>145.0</td>\n",
       "    </tr>\n",
       "    <tr>\n",
       "      <th>614</th>\n",
       "      <td>123</td>\n",
       "      <td>GRAND LARCENY OF MOTOR VEHICLE                ...</td>\n",
       "      <td>266.0</td>\n",
       "      <td>193.0</td>\n",
       "      <td>143.0</td>\n",
       "      <td>131.0</td>\n",
       "      <td>95.0</td>\n",
       "      <td>96.0</td>\n",
       "      <td>114.0</td>\n",
       "      <td>87.0</td>\n",
       "      <td>81.0</td>\n",
       "      <td>51.0</td>\n",
       "      <td>39.0</td>\n",
       "      <td>48.0</td>\n",
       "      <td>31.0</td>\n",
       "      <td>40.0</td>\n",
       "      <td>30.0</td>\n",
       "      <td>20.0</td>\n",
       "      <td>23.0</td>\n",
       "    </tr>\n",
       "    <tr>\n",
       "      <th>615</th>\n",
       "      <td>123</td>\n",
       "      <td>TOTAL SEVEN MAJOR FELONY OFFENSES</td>\n",
       "      <td>636.0</td>\n",
       "      <td>514.0</td>\n",
       "      <td>495.0</td>\n",
       "      <td>467.0</td>\n",
       "      <td>464.0</td>\n",
       "      <td>570.0</td>\n",
       "      <td>475.0</td>\n",
       "      <td>496.0</td>\n",
       "      <td>515.0</td>\n",
       "      <td>414.0</td>\n",
       "      <td>371.0</td>\n",
       "      <td>413.0</td>\n",
       "      <td>396.0</td>\n",
       "      <td>378.0</td>\n",
       "      <td>378.0</td>\n",
       "      <td>348.0</td>\n",
       "      <td>302.0</td>\n",
       "    </tr>\n",
       "  </tbody>\n",
       "</table>\n",
       "</div>"
      ],
      "text/plain": [
       "     PCT                                              CRIME   2000   2001  \\\n",
       "613  123             GRAND LARCENY                           101.0   90.0   \n",
       "614  123  GRAND LARCENY OF MOTOR VEHICLE                ...  266.0  193.0   \n",
       "615  123                  TOTAL SEVEN MAJOR FELONY OFFENSES  636.0  514.0   \n",
       "\n",
       "      2002   2003   2004   2005   2006   2007   2008   2009   2010   2011  \\\n",
       "613  116.0  137.0  166.0  233.0  175.0  181.0  191.0  171.0  147.0  175.0   \n",
       "614  143.0  131.0   95.0   96.0  114.0   87.0   81.0   51.0   39.0   48.0   \n",
       "615  495.0  467.0  464.0  570.0  475.0  496.0  515.0  414.0  371.0  413.0   \n",
       "\n",
       "      2012   2013   2014   2015   2016  \n",
       "613  183.0  171.0  194.0  163.0  145.0  \n",
       "614   31.0   40.0   30.0   20.0   23.0  \n",
       "615  396.0  378.0  378.0  348.0  302.0  "
      ]
     },
     "execution_count": 56,
     "metadata": {},
     "output_type": "execute_result"
    }
   ],
   "source": [
    "#the tail of your DF should look like this: \n",
    "#remove rows that are not for a precinct (all precincts are identified by numbers)\n",
    "crime.tail(3)"
   ]
  },
  {
   "cell_type": "markdown",
   "metadata": {
    "run_control": {
     "frozen": false,
     "read_only": false
    }
   },
   "source": [
    "## 1.3  Plot the time series for each of the seven major felonies and for the total (aggregation of all felonies). \n",
    "There is a lot of data to plot. See the hints on how to get the time series to plot for the dataframe if you want to, or extract the data and plot with pylab. But be thoughtful about how you organize the display of information.\n",
    "This will help you spot the wrong rows if you do it before the outlier rejection (that is how I realized there was an outlier). Make sure your plot shows the clean dataset though. "
   ]
  },
  {
   "cell_type": "markdown",
   "metadata": {
    "run_control": {
     "frozen": false,
     "read_only": false
    }
   },
   "source": [
    "## 1.4 calculate the mean and standard deviation in time for each precinct and each crime"
   ]
  },
  {
   "cell_type": "markdown",
   "metadata": {
    "run_control": {
     "frozen": false,
     "read_only": false
    }
   },
   "source": [
    "### EC1 - you can do a quantitative analysis of these time series (trends, periodicity etc.). But I recommend you only do it after you proceed to the other mandatory tasks. "
   ]
  },
  {
   "cell_type": "markdown",
   "metadata": {
    "run_control": {
     "frozen": false,
     "read_only": false
    }
   },
   "source": [
    "## 1.5 extract the total crime row for each precinct and cluster the time series. Plot the clusters and discuss the clustering and the trends that you see. \n",
    "(as done in HW10 and 11, see [tips on clustering](https://github.com/fedhere/PUI2017_fb55/blob/master/final/preprocessinANDclustering.ipynb))\n",
    "I am not looking for a particularly rigorous clustering analysis here, so you do not need to obsess over the right number of clusters for example, or the exact density for DBscan. However, once the clusters are done, visualize them, and make sure that they are convincing clusters that do display homogeneous trends that are different for the different clusters."
   ]
  },
  {
   "cell_type": "code",
   "execution_count": 65,
   "metadata": {
    "ExecuteTime": {
     "end_time": "2017-12-14T22:38:27.267805",
     "start_time": "2017-12-14T22:38:27.218895"
    },
    "collapsed": false,
    "run_control": {
     "frozen": false,
     "read_only": false
    }
   },
   "outputs": [
    {
     "data": {
      "text/html": [
       "<div>\n",
       "<table border=\"1\" class=\"dataframe\">\n",
       "  <thead>\n",
       "    <tr style=\"text-align: right;\">\n",
       "      <th></th>\n",
       "      <th>PCT</th>\n",
       "      <th>CRIME</th>\n",
       "      <th>2000</th>\n",
       "      <th>2001</th>\n",
       "      <th>2002</th>\n",
       "      <th>2003</th>\n",
       "      <th>2004</th>\n",
       "      <th>2005</th>\n",
       "      <th>2006</th>\n",
       "      <th>2007</th>\n",
       "      <th>...</th>\n",
       "      <th>2009</th>\n",
       "      <th>2010</th>\n",
       "      <th>2011</th>\n",
       "      <th>2012</th>\n",
       "      <th>2013</th>\n",
       "      <th>2014</th>\n",
       "      <th>2015</th>\n",
       "      <th>2016</th>\n",
       "      <th>crimemean</th>\n",
       "      <th>stdev</th>\n",
       "    </tr>\n",
       "  </thead>\n",
       "  <tbody>\n",
       "    <tr>\n",
       "      <th>7</th>\n",
       "      <td>1</td>\n",
       "      <td>TOTAL SEVEN MAJOR FELONY OFFENSES</td>\n",
       "      <td>3438.0</td>\n",
       "      <td>3069.0</td>\n",
       "      <td>2715.0</td>\n",
       "      <td>2649.0</td>\n",
       "      <td>2383.0</td>\n",
       "      <td>2305.0</td>\n",
       "      <td>2013.0</td>\n",
       "      <td>1914.0</td>\n",
       "      <td>...</td>\n",
       "      <td>1578.0</td>\n",
       "      <td>1445.0</td>\n",
       "      <td>1402.0</td>\n",
       "      <td>1416.0</td>\n",
       "      <td>1416.0</td>\n",
       "      <td>1208.0</td>\n",
       "      <td>1446.0</td>\n",
       "      <td>1395.0</td>\n",
       "      <td>1970.588235</td>\n",
       "      <td>674.856379</td>\n",
       "    </tr>\n",
       "    <tr>\n",
       "      <th>15</th>\n",
       "      <td>5</td>\n",
       "      <td>TOTAL SEVEN MAJOR FELONY OFFENSES</td>\n",
       "      <td>1780.0</td>\n",
       "      <td>1458.0</td>\n",
       "      <td>1309.0</td>\n",
       "      <td>1231.0</td>\n",
       "      <td>1170.0</td>\n",
       "      <td>1131.0</td>\n",
       "      <td>1040.0</td>\n",
       "      <td>1031.0</td>\n",
       "      <td>...</td>\n",
       "      <td>975.0</td>\n",
       "      <td>969.0</td>\n",
       "      <td>962.0</td>\n",
       "      <td>1001.0</td>\n",
       "      <td>980.0</td>\n",
       "      <td>870.0</td>\n",
       "      <td>917.0</td>\n",
       "      <td>899.0</td>\n",
       "      <td>1103.058824</td>\n",
       "      <td>233.630443</td>\n",
       "    </tr>\n",
       "    <tr>\n",
       "      <th>23</th>\n",
       "      <td>6</td>\n",
       "      <td>TOTAL SEVEN MAJOR FELONY OFFENSES</td>\n",
       "      <td>2387.0</td>\n",
       "      <td>2141.0</td>\n",
       "      <td>2059.0</td>\n",
       "      <td>2068.0</td>\n",
       "      <td>2174.0</td>\n",
       "      <td>2055.0</td>\n",
       "      <td>1979.0</td>\n",
       "      <td>1837.0</td>\n",
       "      <td>...</td>\n",
       "      <td>1633.0</td>\n",
       "      <td>1530.0</td>\n",
       "      <td>1504.0</td>\n",
       "      <td>1574.0</td>\n",
       "      <td>1703.0</td>\n",
       "      <td>1575.0</td>\n",
       "      <td>1521.0</td>\n",
       "      <td>1388.0</td>\n",
       "      <td>1815.647059</td>\n",
       "      <td>294.198900</td>\n",
       "    </tr>\n",
       "  </tbody>\n",
       "</table>\n",
       "<p>3 rows × 21 columns</p>\n",
       "</div>"
      ],
      "text/plain": [
       "   PCT                              CRIME    2000    2001    2002    2003  \\\n",
       "7    1  TOTAL SEVEN MAJOR FELONY OFFENSES  3438.0  3069.0  2715.0  2649.0   \n",
       "15   5  TOTAL SEVEN MAJOR FELONY OFFENSES  1780.0  1458.0  1309.0  1231.0   \n",
       "23   6  TOTAL SEVEN MAJOR FELONY OFFENSES  2387.0  2141.0  2059.0  2068.0   \n",
       "\n",
       "      2004    2005    2006    2007     ...        2009    2010    2011  \\\n",
       "7   2383.0  2305.0  2013.0  1914.0     ...      1578.0  1445.0  1402.0   \n",
       "15  1170.0  1131.0  1040.0  1031.0     ...       975.0   969.0   962.0   \n",
       "23  2174.0  2055.0  1979.0  1837.0     ...      1633.0  1530.0  1504.0   \n",
       "\n",
       "      2012    2013    2014    2015    2016    crimemean       stdev  \n",
       "7   1416.0  1416.0  1208.0  1446.0  1395.0  1970.588235  674.856379  \n",
       "15  1001.0   980.0   870.0   917.0   899.0  1103.058824  233.630443  \n",
       "23  1574.0  1703.0  1575.0  1521.0  1388.0  1815.647059  294.198900  \n",
       "\n",
       "[3 rows x 21 columns]"
      ]
     },
     "execution_count": 65,
     "metadata": {},
     "output_type": "execute_result"
    }
   ],
   "source": [
    "totcrime.head(3)"
   ]
  },
  {
   "cell_type": "markdown",
   "metadata": {
    "ExecuteTime": {
     "end_time": "2017-12-14T01:37:15.047950",
     "start_time": "2017-12-14T01:37:15.042998"
    },
    "run_control": {
     "frozen": false,
     "read_only": false
    }
   },
   "source": [
    "# Part 2: connecting the temporal and spatial components.\n",
    "## 2.1 obtain the NYC precincts geometry and read it in as a shapefile           \n",
    "(see [the data tips](https://github.com/fedhere/PUI2017_fb55/blob/master/final/PUI2017final_DATA.ipynb))"
   ]
  },
  {
   "cell_type": "markdown",
   "metadata": {
    "run_control": {
     "frozen": false,
     "read_only": false
    }
   },
   "source": [
    "## 2.2 merge the precincts geodataframe with the dataframe of crime that you used to cluster the time series and plot a choropleth of the clusters. \n",
    "Discuss if you see spatial coherence - does the geographical information help interpret the trends you see in time domain?"
   ]
  },
  {
   "cell_type": "markdown",
   "metadata": {
    "run_control": {
     "frozen": false,
     "read_only": false
    }
   },
   "source": [
    "### EC2 visualize each crime by precinct. here you can choose the visual display that you prefer, but not a time series plot (like you did before) or a coropleth (like you will do later). It could be a box and whiskers plot for example"
   ]
  },
  {
   "cell_type": "markdown",
   "metadata": {
    "ExecuteTime": {
     "end_time": "2017-12-14T01:30:11.952368",
     "start_time": "2017-12-14T01:30:11.946880"
    },
    "run_control": {
     "frozen": false,
     "read_only": false
    }
   },
   "source": [
    "## 2.3 download the data containing the socioeconomic features to be used as exogenous variables. \n",
    "I prepared a file with socioeconomic features for each precinct: unemployed fraction, median income, fraction of the precinct area that is green. Dowload it from https://nyu.carto.com via sql (HW 7) ( ideally only extracting the relevant columns). The source sql is  'https://fb55.carto.com:443/api/v2/sql?q=' , the name of the file  *nycsocioeconomicsbyprecinct*\n"
   ]
  },
  {
   "cell_type": "code",
   "execution_count": 4,
   "metadata": {
    "ExecuteTime": {
     "end_time": "2017-12-14T23:22:44.648372",
     "start_time": "2017-12-14T23:22:44.626323"
    },
    "collapsed": false,
    "run_control": {
     "frozen": false,
     "marked": false,
     "read_only": false
    }
   },
   "outputs": [
    {
     "data": {
      "text/html": [
       "<div>\n",
       "<table border=\"1\" class=\"dataframe\">\n",
       "  <thead>\n",
       "    <tr style=\"text-align: right;\">\n",
       "      <th></th>\n",
       "      <th>precinct</th>\n",
       "      <th>green</th>\n",
       "      <th>medianincome</th>\n",
       "      <th>unemployment</th>\n",
       "    </tr>\n",
       "  </thead>\n",
       "  <tbody>\n",
       "    <tr>\n",
       "      <th>0</th>\n",
       "      <td>1</td>\n",
       "      <td>0.058702</td>\n",
       "      <td>124092.068749</td>\n",
       "      <td>0.021444</td>\n",
       "    </tr>\n",
       "    <tr>\n",
       "      <th>1</th>\n",
       "      <td>60</td>\n",
       "      <td>0.173512</td>\n",
       "      <td>35015.008703</td>\n",
       "      <td>0.056448</td>\n",
       "    </tr>\n",
       "    <tr>\n",
       "      <th>2</th>\n",
       "      <td>61</td>\n",
       "      <td>0.238375</td>\n",
       "      <td>65998.923662</td>\n",
       "      <td>0.055458</td>\n",
       "    </tr>\n",
       "    <tr>\n",
       "      <th>3</th>\n",
       "      <td>63</td>\n",
       "      <td>0.158530</td>\n",
       "      <td>33655.205265</td>\n",
       "      <td>0.031215</td>\n",
       "    </tr>\n",
       "    <tr>\n",
       "      <th>4</th>\n",
       "      <td>24</td>\n",
       "      <td>0.166040</td>\n",
       "      <td>113966.467973</td>\n",
       "      <td>0.043461</td>\n",
       "    </tr>\n",
       "  </tbody>\n",
       "</table>\n",
       "</div>"
      ],
      "text/plain": [
       "   precinct     green   medianincome  unemployment\n",
       "0         1  0.058702  124092.068749      0.021444\n",
       "1        60  0.173512   35015.008703      0.056448\n",
       "2        61  0.238375   65998.923662      0.055458\n",
       "3        63  0.158530   33655.205265      0.031215\n",
       "4        24  0.166040  113966.467973      0.043461"
      ]
     },
     "execution_count": 4,
     "metadata": {},
     "output_type": "execute_result"
    }
   ],
   "source": [
    "socioeconomics.head()"
   ]
  },
  {
   "cell_type": "markdown",
   "metadata": {
    "run_control": {
     "frozen": false,
     "read_only": false
    }
   },
   "source": [
    "## 2.4 *pivot* the crime dataframe so that you have a dataframe with precinct on the index and each crime type on the columns \n",
    "This task may be the most unfamiliar. look at the hints for an example on how to do it. If this fails you can download the pivoted file [here](https://github.com/fedhere/PUI2017_fb55/blob/master/final/crimepivoted.csv)"
   ]
  },
  {
   "cell_type": "code",
   "execution_count": 82,
   "metadata": {
    "ExecuteTime": {
     "end_time": "2017-12-14T22:40:09.863651",
     "start_time": "2017-12-14T22:40:09.830102"
    },
    "collapsed": false,
    "run_control": {
     "frozen": false,
     "marked": false,
     "read_only": false
    },
    "scrolled": false
   },
   "outputs": [
    {
     "data": {
      "text/html": [
       "<div>\n",
       "<table border=\"1\" class=\"dataframe\">\n",
       "  <thead>\n",
       "    <tr style=\"text-align: right;\">\n",
       "      <th>CRIME</th>\n",
       "      <th>BURGLARY</th>\n",
       "      <th>FELONY ASSAULT</th>\n",
       "      <th>GRAND LARCENY</th>\n",
       "      <th>GRAND LARCENY OF MOTOR VEHICLE</th>\n",
       "      <th>MURDER &amp; NON NEGL. MANSLAUGHTER</th>\n",
       "      <th>RAPE</th>\n",
       "      <th>ROBBERY</th>\n",
       "      <th>TOTAL SEVEN MAJOR FELONY OFFENSES</th>\n",
       "    </tr>\n",
       "    <tr>\n",
       "      <th>PCT</th>\n",
       "      <th></th>\n",
       "      <th></th>\n",
       "      <th></th>\n",
       "      <th></th>\n",
       "      <th></th>\n",
       "      <th></th>\n",
       "      <th></th>\n",
       "      <th></th>\n",
       "    </tr>\n",
       "  </thead>\n",
       "  <tbody>\n",
       "    <tr>\n",
       "      <th>1</th>\n",
       "      <td>242.176471</td>\n",
       "      <td>104.882353</td>\n",
       "      <td>1406.705882</td>\n",
       "      <td>81.470588</td>\n",
       "      <td>1.058824</td>\n",
       "      <td>8.588235</td>\n",
       "      <td>125.705882</td>\n",
       "      <td>1970.588235</td>\n",
       "    </tr>\n",
       "    <tr>\n",
       "      <th>5</th>\n",
       "      <td>152.941176</td>\n",
       "      <td>130.941176</td>\n",
       "      <td>616.823529</td>\n",
       "      <td>45.882353</td>\n",
       "      <td>1.882353</td>\n",
       "      <td>7.529412</td>\n",
       "      <td>147.058824</td>\n",
       "      <td>1103.058824</td>\n",
       "    </tr>\n",
       "    <tr>\n",
       "      <th>6</th>\n",
       "      <td>225.588235</td>\n",
       "      <td>114.352941</td>\n",
       "      <td>1183.000000</td>\n",
       "      <td>82.117647</td>\n",
       "      <td>1.294118</td>\n",
       "      <td>9.470588</td>\n",
       "      <td>199.823529</td>\n",
       "      <td>1815.647059</td>\n",
       "    </tr>\n",
       "    <tr>\n",
       "      <th>7</th>\n",
       "      <td>108.176471</td>\n",
       "      <td>124.411765</td>\n",
       "      <td>317.352941</td>\n",
       "      <td>74.117647</td>\n",
       "      <td>2.588235</td>\n",
       "      <td>10.705882</td>\n",
       "      <td>172.000000</td>\n",
       "      <td>809.352941</td>\n",
       "    </tr>\n",
       "    <tr>\n",
       "      <th>9</th>\n",
       "      <td>247.882353</td>\n",
       "      <td>169.647059</td>\n",
       "      <td>833.176471</td>\n",
       "      <td>89.529412</td>\n",
       "      <td>2.294118</td>\n",
       "      <td>15.470588</td>\n",
       "      <td>208.764706</td>\n",
       "      <td>1566.764706</td>\n",
       "    </tr>\n",
       "  </tbody>\n",
       "</table>\n",
       "</div>"
      ],
      "text/plain": [
       "CRIME  BURGLARY                                \\\n",
       "PCT                                             \n",
       "1                                  242.176471   \n",
       "5                                  152.941176   \n",
       "6                                  225.588235   \n",
       "7                                  108.176471   \n",
       "9                                  247.882353   \n",
       "\n",
       "CRIME  FELONY ASSAULT                          \\\n",
       "PCT                                             \n",
       "1                                  104.882353   \n",
       "5                                  130.941176   \n",
       "6                                  114.352941   \n",
       "7                                  124.411765   \n",
       "9                                  169.647059   \n",
       "\n",
       "CRIME  GRAND LARCENY                           \\\n",
       "PCT                                             \n",
       "1                                 1406.705882   \n",
       "5                                  616.823529   \n",
       "6                                 1183.000000   \n",
       "7                                  317.352941   \n",
       "9                                  833.176471   \n",
       "\n",
       "CRIME  GRAND LARCENY OF MOTOR VEHICLE                                    \\\n",
       "PCT                                                                       \n",
       "1                                              81.470588                  \n",
       "5                                              45.882353                  \n",
       "6                                              82.117647                  \n",
       "7                                              74.117647                  \n",
       "9                                              89.529412                  \n",
       "\n",
       "CRIME  MURDER & NON NEGL. MANSLAUGHTER                                  \\\n",
       "PCT                                                                      \n",
       "1                                               1.058824                 \n",
       "5                                               1.882353                 \n",
       "6                                               1.294118                 \n",
       "7                                               2.588235                 \n",
       "9                                               2.294118                 \n",
       "\n",
       "CRIME  RAPE                                    \\\n",
       "PCT                                             \n",
       "1                                    8.588235   \n",
       "5                                    7.529412   \n",
       "6                                    9.470588   \n",
       "7                                   10.705882   \n",
       "9                                   15.470588   \n",
       "\n",
       "CRIME  ROBBERY                                 \\\n",
       "PCT                                             \n",
       "1                                  125.705882   \n",
       "5                                  147.058824   \n",
       "6                                  199.823529   \n",
       "7                                  172.000000   \n",
       "9                                  208.764706   \n",
       "\n",
       "CRIME  TOTAL SEVEN MAJOR FELONY OFFENSES  \n",
       "PCT                                       \n",
       "1                            1970.588235  \n",
       "5                            1103.058824  \n",
       "6                            1815.647059  \n",
       "7                             809.352941  \n",
       "9                            1566.764706  "
      ]
     },
     "execution_count": 82,
     "metadata": {},
     "output_type": "execute_result"
    }
   ],
   "source": [
    "crimepivot.head()"
   ]
  },
  {
   "cell_type": "markdown",
   "metadata": {
    "run_control": {
     "frozen": false,
     "read_only": false
    }
   },
   "source": [
    "## 2.5 merge the dataframe with the socioeconomic data with the pivoted crime data,  and merge the precinct geodataframe with it. plot a choropleth of each of the 7 felonies, plus the total crime by precinct\n",
    "clean up your data so that the only columns left are the 7 felonies, the total number of felonies, and the socioeconomic features (unemployment, median income, park access). I recommend you rename the crime features: the dataframes have very annoying white spaces encoded in them. See the hints file to remove them."
   ]
  },
  {
   "cell_type": "markdown",
   "metadata": {
    "run_control": {
     "frozen": false,
     "read_only": false
    }
   },
   "source": [
    "## 2.6 cluster the data first using the socioeconomic features and then using the 7 felonies \n",
    "You can use a simple Euclidean distance, since these are all numerical features, which is the default for most packages, or define your distance. if you do that, which would be exciting, please justify your distance definition. Mind the preprocessing! Do the clusters make sense?, is the grouping preserved? are the outliers outliers in both clustering schemes?"
   ]
  },
  {
   "cell_type": "markdown",
   "metadata": {
    "run_control": {
     "frozen": false,
     "read_only": false
    }
   },
   "source": [
    "## 2.7 At last, create a function that for a target variable input generates a model based on median income (medianincome), green area (green), and unemployed fraction (unemployment), and returns some parameter of model quality and the most important feature in the model. The function should also print or otherwise report whether the feature is statistically significant. Run this function four times to predict BURGLARY, RAPE, MURDER, and TOTAL CRIME\n",
    "\n",
    "I want this to be a function:\n",
    "\n",
    "        def predictCrime(...):\n",
    "            ...\n",
    "            return importance,quality\n",
    "    \n",
    "You can run the function with all the precincts, or with the clusters you created above, but discuss the pros and cons of each scheme. You can use any model. I am ok with multi linear regression, but consider other options: trees, SVM, whatever you have explored in PUI, in other classes, in the EC project. I am not looking for a rigorous assessment. If you use statsmodels for regression you can pull any of the diagnostics in the model.summary() (any of the *appropriate* ones). If you use a machine learning method you can assess via cross validation, seeing how much the score changes between test and training sample. Keep in mind that am definitely more interested in the discussion than in the creation of a \"good\" model. \n",
    "\n",
    "**Discuss explicitly which features are important to predict what** "
   ]
  },
  {
   "cell_type": "markdown",
   "metadata": {
    "collapsed": true,
    "run_control": {
     "frozen": false,
     "read_only": false
    }
   },
   "source": [
    "# Extra Credit \n",
    "\n",
    "I decided to add this as the conversation kept getting pushed toward details of spatial joins during the final reviews. If this all was easy, recreate the percentage of green area in a precinct, the unemployment rate by precinct, and the median income by precinct.\n",
    "\n",
    "you will need:\n",
    "a shapefile for the NYC parks which you can access from the https://data.cityofnewyork.us/. With the overlay function get the area of the green spaces contained in a precinct. \n",
    "I only selectted the following park subcategories. \n",
    "\n",
    "selectedParks = ['Community Park', 'Recreation Field/Courts', 'Triangle/Plaza',\n",
    "       'Garden', 'Neighborhood Park', 'Nature Area', 'Waterfront Facility',\n",
    "       'Historic House Park', 'Playground', \n",
    "       'Flagship Park', \n",
    "       'Jointly Operated Playground', 'Managed Sites']\n",
    "\n",
    "\n",
    "A census tract shapefile is also accessible through the NYC open data portal or http://www1.nyc.gov/site/planning/data-maps/open-data.page\n",
    "    \n",
    "Overlay the census tract and precinct geometries (geopandas.overlay) to get the fraction of each tract in a precinct. This will allow you to create a weighted average of the unemployment percentage and median income.\n",
    "\n",
    "You will need tree features from the American Community Survey which you can find on American Fact Finder.   \n",
    "If, as they should, these are accessed through the API your API link should begin with https://api.census.gov/ (e.g. [5 year ACS](https://www.census.gov/data/developers/data-sets/acs-5year.html))\n",
    "\n",
    "- the 2015  5 year ACS survey unemployment data by census tract (the total number of individuals is available through the API at the census tract geometry aggregation level. \n",
    "\n",
    "- the 2015  5 year ACS survey total count of people by census tract (to generate the unemployment percentage).\n",
    "\n",
    "- the 2015  5 year ACS survey median income by census tract.\n",
    "\n",
    "Some precinct geometries will fail, and likely will report that the operation is not doable with MultiPolygons. These operations are actually doable with MultyPolygons, but some of the precincts have non valid geometries. For those you can use the convex hull (pctshp.geometry.map(lambda x: x.convex_hull)) to get the intersection, with some loss (is the loss in accuracy or precision?)"
   ]
  },
  {
   "cell_type": "code",
   "execution_count": null,
   "metadata": {
    "collapsed": true,
    "run_control": {
     "frozen": false,
     "read_only": false
    }
   },
   "outputs": [],
   "source": []
  }
 ],
 "metadata": {
  "anaconda-cloud": {},
  "kernelspec": {
   "display_name": "Python [default]",
   "language": "python",
   "name": "python2"
  },
  "language_info": {
   "codemirror_mode": {
    "name": "ipython",
    "version": 2
   },
   "file_extension": ".py",
   "mimetype": "text/x-python",
   "name": "python",
   "nbconvert_exporter": "python",
   "pygments_lexer": "ipython2",
   "version": "2.7.12"
  },
  "toc": {
   "colors": {
    "hover_highlight": "#DAA520",
    "running_highlight": "#FF0000",
    "selected_highlight": "#FFD700"
   },
   "moveMenuLeft": true,
   "nav_menu": {
    "height": "220px",
    "width": "252px"
   },
   "navigate_menu": true,
   "number_sections": false,
   "sideBar": true,
   "threshold": 4,
   "toc_cell": false,
   "toc_section_display": "block",
   "toc_window_display": false
  }
 },
 "nbformat": 4,
 "nbformat_minor": 1
}
