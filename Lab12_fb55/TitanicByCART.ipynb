{
 "cells": [
  {
   "cell_type": "code",
   "execution_count": 84,
   "metadata": {
    "ExecuteTime": {
     "end_time": "2017-12-11T15:04:39.113406",
     "start_time": "2017-12-11T15:04:39.110315"
    },
    "collapsed": true,
    "run_control": {
     "frozen": false,
     "read_only": false
    }
   },
   "outputs": [],
   "source": [
    "import pandas as pd\n",
    "import numpy as np"
   ]
  },
  {
   "cell_type": "code",
   "execution_count": 2,
   "metadata": {
    "ExecuteTime": {
     "end_time": "2017-12-11T14:34:37.757565",
     "start_time": "2017-12-11T14:34:37.701618"
    },
    "collapsed": false
   },
   "outputs": [],
   "source": [
    "titanic = pd.read_csv(\"train.csv\").dropna(subset=[\"Survived\", \"Sex\", \"Pclass\", \"Age\"])"
   ]
  },
  {
   "cell_type": "code",
   "execution_count": 3,
   "metadata": {
    "ExecuteTime": {
     "end_time": "2017-12-11T14:34:37.918278",
     "start_time": "2017-12-11T14:34:37.892016"
    },
    "collapsed": false
   },
   "outputs": [
    {
     "data": {
      "text/plain": [
       "(714, 12)"
      ]
     },
     "execution_count": 3,
     "metadata": {},
     "output_type": "execute_result"
    }
   ],
   "source": [
    "titanic.shape"
   ]
  },
  {
   "cell_type": "code",
   "execution_count": 4,
   "metadata": {
    "ExecuteTime": {
     "end_time": "2017-12-11T14:34:38.109683",
     "start_time": "2017-12-11T14:34:38.063736"
    },
    "collapsed": false
   },
   "outputs": [
    {
     "data": {
      "text/html": [
       "<div>\n",
       "<table border=\"1\" class=\"dataframe\">\n",
       "  <thead>\n",
       "    <tr style=\"text-align: right;\">\n",
       "      <th></th>\n",
       "      <th>PassengerId</th>\n",
       "      <th>Survived</th>\n",
       "      <th>Pclass</th>\n",
       "      <th>Name</th>\n",
       "      <th>Sex</th>\n",
       "      <th>Age</th>\n",
       "      <th>SibSp</th>\n",
       "      <th>Parch</th>\n",
       "      <th>Ticket</th>\n",
       "      <th>Fare</th>\n",
       "      <th>Cabin</th>\n",
       "      <th>Embarked</th>\n",
       "    </tr>\n",
       "  </thead>\n",
       "  <tbody>\n",
       "    <tr>\n",
       "      <th>0</th>\n",
       "      <td>1</td>\n",
       "      <td>0</td>\n",
       "      <td>3</td>\n",
       "      <td>Braund, Mr. Owen Harris</td>\n",
       "      <td>male</td>\n",
       "      <td>22.0</td>\n",
       "      <td>1</td>\n",
       "      <td>0</td>\n",
       "      <td>A/5 21171</td>\n",
       "      <td>7.2500</td>\n",
       "      <td>NaN</td>\n",
       "      <td>S</td>\n",
       "    </tr>\n",
       "    <tr>\n",
       "      <th>1</th>\n",
       "      <td>2</td>\n",
       "      <td>1</td>\n",
       "      <td>1</td>\n",
       "      <td>Cumings, Mrs. John Bradley (Florence Briggs Th...</td>\n",
       "      <td>female</td>\n",
       "      <td>38.0</td>\n",
       "      <td>1</td>\n",
       "      <td>0</td>\n",
       "      <td>PC 17599</td>\n",
       "      <td>71.2833</td>\n",
       "      <td>C85</td>\n",
       "      <td>C</td>\n",
       "    </tr>\n",
       "    <tr>\n",
       "      <th>2</th>\n",
       "      <td>3</td>\n",
       "      <td>1</td>\n",
       "      <td>3</td>\n",
       "      <td>Heikkinen, Miss. Laina</td>\n",
       "      <td>female</td>\n",
       "      <td>26.0</td>\n",
       "      <td>0</td>\n",
       "      <td>0</td>\n",
       "      <td>STON/O2. 3101282</td>\n",
       "      <td>7.9250</td>\n",
       "      <td>NaN</td>\n",
       "      <td>S</td>\n",
       "    </tr>\n",
       "  </tbody>\n",
       "</table>\n",
       "</div>"
      ],
      "text/plain": [
       "   PassengerId  Survived  Pclass  \\\n",
       "0            1         0       3   \n",
       "1            2         1       1   \n",
       "2            3         1       3   \n",
       "\n",
       "                                                Name     Sex   Age  SibSp  \\\n",
       "0                            Braund, Mr. Owen Harris    male  22.0      1   \n",
       "1  Cumings, Mrs. John Bradley (Florence Briggs Th...  female  38.0      1   \n",
       "2                             Heikkinen, Miss. Laina  female  26.0      0   \n",
       "\n",
       "   Parch            Ticket     Fare Cabin Embarked  \n",
       "0      0         A/5 21171   7.2500   NaN        S  \n",
       "1      0          PC 17599  71.2833   C85        C  \n",
       "2      0  STON/O2. 3101282   7.9250   NaN        S  "
      ]
     },
     "execution_count": 4,
     "metadata": {},
     "output_type": "execute_result"
    }
   ],
   "source": [
    "titanic.head(3)"
   ]
  },
  {
   "cell_type": "code",
   "execution_count": 5,
   "metadata": {
    "ExecuteTime": {
     "end_time": "2017-12-11T14:34:38.285880",
     "start_time": "2017-12-11T14:34:38.237253"
    },
    "collapsed": false
   },
   "outputs": [],
   "source": [
    "titanic[\"gender\"] = titanic.Sex.map({'male':0, 'female':1})"
   ]
  },
  {
   "cell_type": "code",
   "execution_count": 23,
   "metadata": {
    "ExecuteTime": {
     "end_time": "2017-12-11T14:37:16.072236",
     "start_time": "2017-12-11T14:37:16.059700"
    },
    "collapsed": true
   },
   "outputs": [],
   "source": [
    "titanic_short = titanic[[\"Pclass\", \"gender\", \"Age\"]].dropna()\n"
   ]
  },
  {
   "cell_type": "code",
   "execution_count": 24,
   "metadata": {
    "ExecuteTime": {
     "end_time": "2017-12-11T14:37:17.097447",
     "start_time": "2017-12-11T14:37:17.090470"
    },
    "collapsed": false
   },
   "outputs": [
    {
     "data": {
      "text/plain": [
       "array([[  3.,   0.,  22.],\n",
       "       [  1.,   1.,  38.],\n",
       "       [  3.,   1.,  26.],\n",
       "       ..., \n",
       "       [  1.,   1.,  19.],\n",
       "       [  1.,   0.,  26.],\n",
       "       [  3.,   0.,  32.]])"
      ]
     },
     "execution_count": 24,
     "metadata": {},
     "output_type": "execute_result"
    }
   ],
   "source": [
    "titanic_short.values"
   ]
  },
  {
   "cell_type": "code",
   "execution_count": 26,
   "metadata": {
    "ExecuteTime": {
     "end_time": "2017-12-11T14:37:24.632761",
     "start_time": "2017-12-11T14:37:24.625203"
    },
    "collapsed": false
   },
   "outputs": [
    {
     "data": {
      "text/plain": [
       "((714, 1), (714, 3))"
      ]
     },
     "execution_count": 26,
     "metadata": {},
     "output_type": "execute_result"
    }
   ],
   "source": [
    "titanic[[\"Survived\"]].values.shape, titanic_short.shape"
   ]
  },
  {
   "cell_type": "markdown",
   "metadata": {},
   "source": [
    "# first split"
   ]
  },
  {
   "cell_type": "markdown",
   "metadata": {},
   "source": [
    "### split by gender"
   ]
  },
  {
   "cell_type": "code",
   "execution_count": 174,
   "metadata": {
    "ExecuteTime": {
     "end_time": "2017-12-12T08:44:58.829873",
     "start_time": "2017-12-12T08:44:58.820997"
    },
    "collapsed": false,
    "run_control": {
     "marked": false
    }
   },
   "outputs": [
    {
     "name": "stdout",
     "output_type": "stream",
     "text": [
      "Survived fraction\n",
      " M     F \n",
      " 0.21 0.75\n"
     ]
    }
   ],
   "source": [
    "print (\"Survived fraction\\n M     F \\n {0:.2f} {1:.2f}\".format\n",
    "    (((titanic_short.gender.values == 0) & (titanic.Survived.values == 1)).sum() * 1.0 / \n",
    "       (titanic_short.gender.values == 0).sum(),\n",
    "     ((titanic_short.gender.values == 1) & (titanic.Survived.values == 1)).sum() * 1.0 / \n",
    "       (titanic_short.gender.values == 1).sum()))"
   ]
  },
  {
   "cell_type": "code",
   "execution_count": 173,
   "metadata": {
    "ExecuteTime": {
     "end_time": "2017-12-12T08:44:56.735943",
     "start_time": "2017-12-12T08:44:56.727196"
    },
    "collapsed": false
   },
   "outputs": [
    {
     "name": "stdout",
     "output_type": "stream",
     "text": [
      "Died fraction\n",
      " M     F \n",
      " 0.79 0.25\n"
     ]
    }
   ],
   "source": [
    "print (\"Died fraction\\n M     F \\n {0:.2f} {1:.2f}\".format\n",
    "    (((titanic_short.gender.values == 0) & (titanic.Survived.values == 0)).sum() * 1.0 / \n",
    "       (titanic_short.gender.values == 0).sum(),\n",
    "       ((titanic_short.gender.values == 1) & (titanic.Survived.values == 0)).sum() * 1.0 / \n",
    "      (titanic_short.gender.values == 1).sum()))"
   ]
  },
  {
   "cell_type": "markdown",
   "metadata": {},
   "source": [
    "### split by age (at 6.5)"
   ]
  },
  {
   "cell_type": "code",
   "execution_count": 172,
   "metadata": {
    "ExecuteTime": {
     "end_time": "2017-12-12T08:44:54.589227",
     "start_time": "2017-12-12T08:44:54.576549"
    },
    "collapsed": false
   },
   "outputs": [
    {
     "name": "stdout",
     "output_type": "stream",
     "text": [
      "Survived fraction\n",
      " >6.5  <6.5 \n",
      " 0.39  0.70\n"
     ]
    }
   ],
   "source": [
    "print (\"Survived fraction\\n >6.5  <6.5 \\n {0:.2f}  {1:.2f}\".format\n",
    "      (((titanic_short.Age.values >6.5) & (titanic.Survived.values == 1)).sum() * 1.0 / \n",
    "       (titanic_short.Age.values >6.5).sum(),\n",
    "      ((titanic_short.Age.values <=6.5) & (titanic.Survived.values == 1)).sum() * 1.0 / \n",
    "       (titanic_short.Age.values <=6.5).sum()))"
   ]
  },
  {
   "cell_type": "code",
   "execution_count": 171,
   "metadata": {
    "ExecuteTime": {
     "end_time": "2017-12-12T08:44:52.345600",
     "start_time": "2017-12-12T08:44:52.336503"
    },
    "collapsed": false
   },
   "outputs": [
    {
     "name": "stdout",
     "output_type": "stream",
     "text": [
      "Died fraction\n",
      " >6.5  <6.5 \n",
      " 0.61  0.30\n"
     ]
    }
   ],
   "source": [
    "print (\"Died fraction\\n >6.5  <6.5 \\n {0:.2f}  {1:.2f}\".format\n",
    "      (((titanic_short.Age.values >6.5) & (titanic.Survived.values == 0)).sum() * 1.0 / \n",
    "       (titanic_short.Age.values >6.5).sum(),\n",
    "      ((titanic_short.Age.values <=6.5) & (titanic.Survived.values == 0)).sum() * 1.0 / \n",
    "       (titanic_short.Age.values <=6.5).sum()))"
   ]
  },
  {
   "cell_type": "markdown",
   "metadata": {},
   "source": [
    "### split by travel class"
   ]
  },
  {
   "cell_type": "code",
   "execution_count": 170,
   "metadata": {
    "ExecuteTime": {
     "end_time": "2017-12-12T08:44:49.619422",
     "start_time": "2017-12-12T08:44:49.612121"
    },
    "collapsed": false
   },
   "outputs": [
    {
     "name": "stdout",
     "output_type": "stream",
     "text": [
      "Survived fraction\n",
      " 1st   2nd \n",
      " 0.66  0.48\n"
     ]
    }
   ],
   "source": [
    "print (\"Survived fraction\\n 1st   2nd \\n {0:.2f}  {1:.2f}\".format\n",
    "     (((titanic_short.Pclass.values == 1) & (titanic.Survived.values == 1)).sum() * 1.0 / \n",
    "      (titanic_short.Pclass.values == 1).sum(),\n",
    "       ((titanic_short.Pclass.values == 2) & (titanic.Survived.values == 1)).sum() * 1.0 / \n",
    "      (titanic_short.Pclass.values == 2).sum()))"
   ]
  },
  {
   "cell_type": "code",
   "execution_count": 169,
   "metadata": {
    "ExecuteTime": {
     "end_time": "2017-12-12T08:44:48.398693",
     "start_time": "2017-12-12T08:44:48.390092"
    },
    "collapsed": false
   },
   "outputs": [
    {
     "name": "stdout",
     "output_type": "stream",
     "text": [
      "Survived fraction\n",
      " 2nd   3rd \n",
      " 0.48  0.24\n"
     ]
    }
   ],
   "source": [
    "print (\"Survived fraction\\n 2nd   3rd \\n {0:.2f}  {1:.2f}\".format\n",
    "      (((titanic_short.Pclass.values == 2) & (titanic.Survived.values == 1)).sum() * 1.0 / \n",
    "       (titanic_short.Pclass.values == 2).sum(),\n",
    "        ((titanic_short.Pclass.values == 3) & (titanic.Survived.values == 1)).sum() * 1.0 / \n",
    "      (titanic_short.Pclass.values == 3).sum()))"
   ]
  },
  {
   "cell_type": "code",
   "execution_count": 168,
   "metadata": {
    "ExecuteTime": {
     "end_time": "2017-12-12T08:44:45.906906",
     "start_time": "2017-12-12T08:44:45.898116"
    },
    "collapsed": false
   },
   "outputs": [
    {
     "name": "stdout",
     "output_type": "stream",
     "text": [
      "Survived fraction\n",
      " 1st   3rd \n",
      " 0.66  0.24\n"
     ]
    }
   ],
   "source": [
    "print (\"Survived fraction\\n 1st   3rd \\n {0:.2f}  {1:.2f}\".format\n",
    "      (((titanic_short.Pclass.values == 1) & (titanic.Survived.values == 1)).sum() * 1.0 / \n",
    "       (titanic_short.Pclass.values == 1).sum(),\n",
    "        ((titanic_short.Pclass.values == 3) & (titanic.Survived.values == 1)).sum() * 1.0 / \n",
    "      (titanic_short.Pclass.values == 3).sum()))"
   ]
  },
  {
   "cell_type": "code",
   "execution_count": 219,
   "metadata": {
    "ExecuteTime": {
     "end_time": "2017-12-12T09:10:13.931878",
     "start_time": "2017-12-12T09:10:13.923852"
    },
    "collapsed": false
   },
   "outputs": [
    {
     "name": "stdout",
     "output_type": "stream",
     "text": [
      "Survived fraction\n",
      " 1st   2nd or 3rd \n",
      " 0.66  0.47\n"
     ]
    }
   ],
   "source": [
    "print (\"Survived fraction\\n 1st   2nd or 3rd \\n {0:.2f}  {1:.2f}\".format\n",
    "      (((titanic_short.Pclass.values == 1) & (titanic.Survived.values == 1)).sum() * 1.0 / \n",
    "       (titanic_short.Pclass.values == 1).sum(),\n",
    "        (((titanic_short.Pclass.values == 3) | (titanic_short.Pclass.values == 2)) & (titanic.Survived.values == 1)).sum() * 1.0 / \n",
    "      ((titanic_short.Pclass.values == 3) | (titanic_short.Pclass.values == 3)).sum()))"
   ]
  },
  {
   "cell_type": "markdown",
   "metadata": {},
   "source": [
    "# The purest split is by gender, so that is chosen as the first node"
   ]
  },
  {
   "cell_type": "markdown",
   "metadata": {},
   "source": [
    "# second split"
   ]
  },
  {
   "cell_type": "markdown",
   "metadata": {},
   "source": [
    "### by travel class"
   ]
  },
  {
   "cell_type": "code",
   "execution_count": 243,
   "metadata": {
    "ExecuteTime": {
     "end_time": "2017-12-12T09:26:14.630943",
     "start_time": "2017-12-12T09:26:14.621735"
    },
    "collapsed": false,
    "run_control": {
     "marked": false
    }
   },
   "outputs": [
    {
     "name": "stdout",
     "output_type": "stream",
     "text": [
      "Survived fraction of females: \n",
      " 1st   2nd,3rd\n",
      " 0.96  0.65\n"
     ]
    }
   ],
   "source": [
    "print (\"Survived fraction of females: \\n 1st   2nd,3rd\\n {0:.2f}  {1:.2f}\".format\n",
    "       (((titanic_short.gender.values == 1) & \n",
    "        (titanic_short.Pclass.values == 1) & (titanic.Survived.values == 1)).sum() * 1.0 / \n",
    "       ((titanic_short.gender.values == 1) & (titanic_short.Pclass.values == 1)).sum(),\n",
    "        ((titanic_short.gender.values == 1) & \n",
    "        ~(titanic_short.Pclass.values == 1) & (titanic.Survived.values == 1)).sum() * 1.0 / \n",
    "       ((titanic_short.gender.values == 1) & ~(titanic_short.Pclass.values == 1)).sum()))"
   ]
  },
  {
   "cell_type": "code",
   "execution_count": 242,
   "metadata": {
    "ExecuteTime": {
     "end_time": "2017-12-12T09:25:36.516794",
     "start_time": "2017-12-12T09:25:36.504698"
    },
    "collapsed": false
   },
   "outputs": [
    {
     "name": "stdout",
     "output_type": "stream",
     "text": [
      "Survived fraction of males: \n",
      " 1st   2nd,3rd\n",
      " 0.40  0.15\n"
     ]
    }
   ],
   "source": [
    "print (\"Survived fraction of males: \\n 1st   2nd,3rd\\n {0:.2f}  {1:.2f}\".format\n",
    "        (((titanic_short.gender.values == 0) & \n",
    "        (titanic_short.Pclass.values == 1) & (titanic.Survived.values == 1)).sum() * 1.0 / \n",
    "       ((titanic_short.gender.values == 0) & (titanic_short.Pclass.values == 1)).sum(), \n",
    "        ((titanic_short.gender.values == 0) & \n",
    "        (~(titanic_short.Pclass.values == 1)) & (titanic.Survived.values == 1)).sum() * 1.0 / \n",
    "       ((titanic_short.gender.values == 0) & (~(titanic_short.Pclass.values == 1))).sum() ))"
   ]
  },
  {
   "cell_type": "code",
   "execution_count": 269,
   "metadata": {
    "ExecuteTime": {
     "end_time": "2017-12-12T09:36:04.461540",
     "start_time": "2017-12-12T09:36:04.456658"
    },
    "collapsed": false
   },
   "outputs": [
    {
     "name": "stdout",
     "output_type": "stream",
     "text": [
      "61.6\n"
     ]
    }
   ],
   "source": [
    "print (((titanic_short.gender.values == 1) & (titanic_short.Pclass.values > 1)).sum() *0.35)"
   ]
  },
  {
   "cell_type": "markdown",
   "metadata": {
    "ExecuteTime": {
     "end_time": "2017-12-12T08:47:52.293498",
     "start_time": "2017-12-12T08:47:52.289236"
    }
   },
   "source": [
    "### by age"
   ]
  },
  {
   "cell_type": "code",
   "execution_count": 234,
   "metadata": {
    "ExecuteTime": {
     "end_time": "2017-12-12T09:22:57.171300",
     "start_time": "2017-12-12T09:22:57.161087"
    },
    "collapsed": false
   },
   "outputs": [
    {
     "name": "stdout",
     "output_type": "stream",
     "text": [
      "Survived fraction of females: \n",
      " <6.5  >=6.5   \n",
      " 0.74 0.76\n"
     ]
    }
   ],
   "source": [
    "print (\"Survived fraction of females: \\n <6.5  >=6.5   \\n {0:.2f} {1:.2f}\".format\n",
    "        (((titanic_short.gender.values == 1) & \n",
    "        (titanic_short.Age.values < 6.5) & (titanic.Survived.values == 1)).sum() * 1.0 / \n",
    "       ((titanic_short.gender.values == 1) & (titanic_short.Age.values < 6.5)).sum(),\n",
    "      \n",
    "       ((titanic_short.gender.values == 1) & \n",
    "        (titanic_short.Age.values >= 6.5) & (titanic.Survived.values == 1)).sum() * 1.0 / \n",
    "       ((titanic_short.gender.values == 1) & (titanic_short.Age.values >= 6.5)).sum()))"
   ]
  },
  {
   "cell_type": "code",
   "execution_count": 246,
   "metadata": {
    "ExecuteTime": {
     "end_time": "2017-12-12T09:29:02.417521",
     "start_time": "2017-12-12T09:29:02.406079"
    },
    "collapsed": false
   },
   "outputs": [
    {
     "name": "stdout",
     "output_type": "stream",
     "text": [
      "Survived fraction of males: \n",
      " <6.5 >=6.5   \n",
      " 0.67  0.18\n"
     ]
    }
   ],
   "source": [
    "print (\"Survived fraction of males: \\n <6.5 >=6.5   \\n {0:.2f}  {1:.2f}\".format\n",
    "     (((titanic_short.gender.values == 0) & \n",
    "        (titanic_short.Age.values < 6.5) & (titanic.Survived.values == 1)).sum() * 1.0 / \n",
    "       ((titanic_short.gender.values == 0) & (titanic_short.Age.values < 6.5)).sum(),\n",
    "     ((titanic_short.gender.values == 0) & \n",
    "        (titanic_short.Age.values >= 6.5) & (titanic.Survived.values == 1)).sum() * 1.0 / \n",
    "       ((titanic_short.gender.values == 0) & (titanic_short.Age.values >= 6.5)).sum()))"
   ]
  },
  {
   "cell_type": "markdown",
   "metadata": {},
   "source": [
    "# The purest split is \n",
    "# - for females by travel class\n",
    "# - for males by age"
   ]
  },
  {
   "cell_type": "code",
   "execution_count": 201,
   "metadata": {
    "ExecuteTime": {
     "end_time": "2017-12-12T09:02:38.316845",
     "start_time": "2017-12-12T09:02:38.301899"
    },
    "collapsed": false
   },
   "outputs": [
    {
     "data": {
      "text/plain": [
       "0.8081232492997199"
      ]
     },
     "execution_count": 201,
     "metadata": {},
     "output_type": "execute_result"
    }
   ],
   "source": [
    "from sklearn import tree\n",
    "clf =  tree.DecisionTreeClassifier(max_depth=3, criterion=\"gini\", random_state=222).fit(titanic_short.values, titanic[\"Survived\"])\n",
    "clf.score(titanic_short.values, titanic[\"Survived\"])"
   ]
  },
  {
   "cell_type": "code",
   "execution_count": 202,
   "metadata": {
    "ExecuteTime": {
     "end_time": "2017-12-12T09:02:39.999528",
     "start_time": "2017-12-12T09:02:39.987667"
    },
    "collapsed": false
   },
   "outputs": [],
   "source": [
    "import graphviz \n",
    "dot_data = tree.export_graphviz(clf, feature_names=titanic_short.columns, out_file=None) \n",
    "graph = graphviz.Source(dot_data) "
   ]
  },
  {
   "cell_type": "code",
   "execution_count": 203,
   "metadata": {
    "ExecuteTime": {
     "end_time": "2017-12-12T09:02:41.007955",
     "start_time": "2017-12-12T09:02:40.813845"
    },
    "collapsed": false
   },
   "outputs": [
    {
     "data": {
      "image/svg+xml": [
       "<?xml version=\"1.0\" encoding=\"UTF-8\" standalone=\"no\"?>\n",
       "<!DOCTYPE svg PUBLIC \"-//W3C//DTD SVG 1.1//EN\"\n",
       " \"http://www.w3.org/Graphics/SVG/1.1/DTD/svg11.dtd\">\n",
       "<!-- Generated by graphviz version 2.38.0 (20140413.2041)\n",
       " -->\n",
       "<!-- Title: Tree Pages: 1 -->\n",
       "<svg width=\"944pt\" height=\"358pt\"\n",
       " viewBox=\"0.00 0.00 944.28 358.00\" xmlns=\"http://www.w3.org/2000/svg\" xmlns:xlink=\"http://www.w3.org/1999/xlink\">\n",
       "<g id=\"graph0\" class=\"graph\" transform=\"scale(1 1) rotate(0) translate(4 354)\">\n",
       "<title>Tree</title>\n",
       "<polygon fill=\"white\" stroke=\"none\" points=\"-4,4 -4,-354 940.281,-354 940.281,4 -4,4\"/>\n",
       "<!-- 0 -->\n",
       "<g id=\"node1\" class=\"node\"><title>0</title>\n",
       "<polygon fill=\"none\" stroke=\"black\" points=\"524.807,-350 405.731,-350 405.731,-286 524.807,-286 524.807,-350\"/>\n",
       "<text text-anchor=\"middle\" x=\"465.269\" y=\"-334.8\" font-family=\"Times,serif\" font-size=\"14.00\">gender &lt;= 0.5</text>\n",
       "<text text-anchor=\"middle\" x=\"465.269\" y=\"-320.8\" font-family=\"Times,serif\" font-size=\"14.00\">gini = 0.4824</text>\n",
       "<text text-anchor=\"middle\" x=\"465.269\" y=\"-306.8\" font-family=\"Times,serif\" font-size=\"14.00\">samples = 714</text>\n",
       "<text text-anchor=\"middle\" x=\"465.269\" y=\"-292.8\" font-family=\"Times,serif\" font-size=\"14.00\">value = [424, 290]</text>\n",
       "</g>\n",
       "<!-- 1 -->\n",
       "<g id=\"node2\" class=\"node\"><title>1</title>\n",
       "<polygon fill=\"none\" stroke=\"black\" points=\"429.307,-250 317.23,-250 317.23,-186 429.307,-186 429.307,-250\"/>\n",
       "<text text-anchor=\"middle\" x=\"373.269\" y=\"-234.8\" font-family=\"Times,serif\" font-size=\"14.00\">Age &lt;= 6.5</text>\n",
       "<text text-anchor=\"middle\" x=\"373.269\" y=\"-220.8\" font-family=\"Times,serif\" font-size=\"14.00\">gini = 0.3263</text>\n",
       "<text text-anchor=\"middle\" x=\"373.269\" y=\"-206.8\" font-family=\"Times,serif\" font-size=\"14.00\">samples = 453</text>\n",
       "<text text-anchor=\"middle\" x=\"373.269\" y=\"-192.8\" font-family=\"Times,serif\" font-size=\"14.00\">value = [360, 93]</text>\n",
       "</g>\n",
       "<!-- 0&#45;&gt;1 -->\n",
       "<g id=\"edge1\" class=\"edge\"><title>0&#45;&gt;1</title>\n",
       "<path fill=\"none\" stroke=\"black\" d=\"M436.159,-285.992C427.685,-276.966 418.323,-266.993 409.469,-257.562\"/>\n",
       "<polygon fill=\"black\" stroke=\"black\" points=\"411.9,-255.038 402.504,-250.142 406.797,-259.829 411.9,-255.038\"/>\n",
       "<text text-anchor=\"middle\" x=\"401.715\" y=\"-270.93\" font-family=\"Times,serif\" font-size=\"14.00\">True</text>\n",
       "</g>\n",
       "<!-- 8 -->\n",
       "<g id=\"node9\" class=\"node\"><title>8</title>\n",
       "<polygon fill=\"none\" stroke=\"black\" points=\"614.307,-250 502.23,-250 502.23,-186 614.307,-186 614.307,-250\"/>\n",
       "<text text-anchor=\"middle\" x=\"558.269\" y=\"-234.8\" font-family=\"Times,serif\" font-size=\"14.00\">Pclass &lt;= 2.5</text>\n",
       "<text text-anchor=\"middle\" x=\"558.269\" y=\"-220.8\" font-family=\"Times,serif\" font-size=\"14.00\">gini = 0.3702</text>\n",
       "<text text-anchor=\"middle\" x=\"558.269\" y=\"-206.8\" font-family=\"Times,serif\" font-size=\"14.00\">samples = 261</text>\n",
       "<text text-anchor=\"middle\" x=\"558.269\" y=\"-192.8\" font-family=\"Times,serif\" font-size=\"14.00\">value = [64, 197]</text>\n",
       "</g>\n",
       "<!-- 0&#45;&gt;8 -->\n",
       "<g id=\"edge8\" class=\"edge\"><title>0&#45;&gt;8</title>\n",
       "<path fill=\"none\" stroke=\"black\" d=\"M494.694,-285.992C503.26,-276.966 512.724,-266.993 521.674,-257.562\"/>\n",
       "<polygon fill=\"black\" stroke=\"black\" points=\"524.37,-259.805 528.715,-250.142 519.293,-254.987 524.37,-259.805\"/>\n",
       "<text text-anchor=\"middle\" x=\"529.369\" y=\"-270.934\" font-family=\"Times,serif\" font-size=\"14.00\">False</text>\n",
       "</g>\n",
       "<!-- 2 -->\n",
       "<g id=\"node3\" class=\"node\"><title>2</title>\n",
       "<polygon fill=\"none\" stroke=\"black\" points=\"211.307,-150 113.23,-150 113.23,-86 211.307,-86 211.307,-150\"/>\n",
       "<text text-anchor=\"middle\" x=\"162.269\" y=\"-134.8\" font-family=\"Times,serif\" font-size=\"14.00\">Pclass &lt;= 2.5</text>\n",
       "<text text-anchor=\"middle\" x=\"162.269\" y=\"-120.8\" font-family=\"Times,serif\" font-size=\"14.00\">gini = 0.4444</text>\n",
       "<text text-anchor=\"middle\" x=\"162.269\" y=\"-106.8\" font-family=\"Times,serif\" font-size=\"14.00\">samples = 24</text>\n",
       "<text text-anchor=\"middle\" x=\"162.269\" y=\"-92.8\" font-family=\"Times,serif\" font-size=\"14.00\">value = [8, 16]</text>\n",
       "</g>\n",
       "<!-- 1&#45;&gt;2 -->\n",
       "<g id=\"edge2\" class=\"edge\"><title>1&#45;&gt;2</title>\n",
       "<path fill=\"none\" stroke=\"black\" d=\"M317.002,-190.867C287.24,-177.044 250.741,-160.092 220.667,-146.124\"/>\n",
       "<polygon fill=\"black\" stroke=\"black\" points=\"222.099,-142.929 211.555,-141.891 219.15,-149.278 222.099,-142.929\"/>\n",
       "</g>\n",
       "<!-- 5 -->\n",
       "<g id=\"node6\" class=\"node\"><title>5</title>\n",
       "<polygon fill=\"none\" stroke=\"black\" points=\"429.307,-150 317.23,-150 317.23,-86 429.307,-86 429.307,-150\"/>\n",
       "<text text-anchor=\"middle\" x=\"373.269\" y=\"-134.8\" font-family=\"Times,serif\" font-size=\"14.00\">Pclass &lt;= 1.5</text>\n",
       "<text text-anchor=\"middle\" x=\"373.269\" y=\"-120.8\" font-family=\"Times,serif\" font-size=\"14.00\">gini = 0.2945</text>\n",
       "<text text-anchor=\"middle\" x=\"373.269\" y=\"-106.8\" font-family=\"Times,serif\" font-size=\"14.00\">samples = 429</text>\n",
       "<text text-anchor=\"middle\" x=\"373.269\" y=\"-92.8\" font-family=\"Times,serif\" font-size=\"14.00\">value = [352, 77]</text>\n",
       "</g>\n",
       "<!-- 1&#45;&gt;5 -->\n",
       "<g id=\"edge5\" class=\"edge\"><title>1&#45;&gt;5</title>\n",
       "<path fill=\"none\" stroke=\"black\" d=\"M373.269,-185.992C373.269,-177.859 373.269,-168.959 373.269,-160.378\"/>\n",
       "<polygon fill=\"black\" stroke=\"black\" points=\"376.769,-160.142 373.269,-150.142 369.769,-160.142 376.769,-160.142\"/>\n",
       "</g>\n",
       "<!-- 3 -->\n",
       "<g id=\"node4\" class=\"node\"><title>3</title>\n",
       "<polygon fill=\"none\" stroke=\"black\" points=\"98.3067,-50 0.230363,-50 0.230363,-0 98.3067,-0 98.3067,-50\"/>\n",
       "<text text-anchor=\"middle\" x=\"49.2686\" y=\"-34.8\" font-family=\"Times,serif\" font-size=\"14.00\">gini = 0.0</text>\n",
       "<text text-anchor=\"middle\" x=\"49.2686\" y=\"-20.8\" font-family=\"Times,serif\" font-size=\"14.00\">samples = 10</text>\n",
       "<text text-anchor=\"middle\" x=\"49.2686\" y=\"-6.8\" font-family=\"Times,serif\" font-size=\"14.00\">value = [0, 10]</text>\n",
       "</g>\n",
       "<!-- 2&#45;&gt;3 -->\n",
       "<g id=\"edge3\" class=\"edge\"><title>2&#45;&gt;3</title>\n",
       "<path fill=\"none\" stroke=\"black\" d=\"M123.696,-85.9375C111.852,-76.3993 98.8355,-65.9167 87.0452,-56.4219\"/>\n",
       "<polygon fill=\"black\" stroke=\"black\" points=\"89.0919,-53.5763 79.1081,-50.0301 84.7013,-59.0282 89.0919,-53.5763\"/>\n",
       "</g>\n",
       "<!-- 4 -->\n",
       "<g id=\"node5\" class=\"node\"><title>4</title>\n",
       "<polygon fill=\"none\" stroke=\"black\" points=\"207.807,-50 116.73,-50 116.73,-0 207.807,-0 207.807,-50\"/>\n",
       "<text text-anchor=\"middle\" x=\"162.269\" y=\"-34.8\" font-family=\"Times,serif\" font-size=\"14.00\">gini = 0.4898</text>\n",
       "<text text-anchor=\"middle\" x=\"162.269\" y=\"-20.8\" font-family=\"Times,serif\" font-size=\"14.00\">samples = 14</text>\n",
       "<text text-anchor=\"middle\" x=\"162.269\" y=\"-6.8\" font-family=\"Times,serif\" font-size=\"14.00\">value = [8, 6]</text>\n",
       "</g>\n",
       "<!-- 2&#45;&gt;4 -->\n",
       "<g id=\"edge4\" class=\"edge\"><title>2&#45;&gt;4</title>\n",
       "<path fill=\"none\" stroke=\"black\" d=\"M162.269,-85.9375C162.269,-77.6833 162.269,-68.7219 162.269,-60.3053\"/>\n",
       "<polygon fill=\"black\" stroke=\"black\" points=\"165.769,-60.03 162.269,-50.0301 158.769,-60.0301 165.769,-60.03\"/>\n",
       "</g>\n",
       "<!-- 6 -->\n",
       "<g id=\"node7\" class=\"node\"><title>6</title>\n",
       "<polygon fill=\"none\" stroke=\"black\" points=\"331.807,-50 226.73,-50 226.73,-0 331.807,-0 331.807,-50\"/>\n",
       "<text text-anchor=\"middle\" x=\"279.269\" y=\"-34.8\" font-family=\"Times,serif\" font-size=\"14.00\">gini = 0.473</text>\n",
       "<text text-anchor=\"middle\" x=\"279.269\" y=\"-20.8\" font-family=\"Times,serif\" font-size=\"14.00\">samples = 99</text>\n",
       "<text text-anchor=\"middle\" x=\"279.269\" y=\"-6.8\" font-family=\"Times,serif\" font-size=\"14.00\">value = [61, 38]</text>\n",
       "</g>\n",
       "<!-- 5&#45;&gt;6 -->\n",
       "<g id=\"edge6\" class=\"edge\"><title>5&#45;&gt;6</title>\n",
       "<path fill=\"none\" stroke=\"black\" d=\"M341.182,-85.9375C331.614,-76.6744 321.125,-66.5207 311.545,-57.246\"/>\n",
       "<polygon fill=\"black\" stroke=\"black\" points=\"313.71,-54.4709 304.091,-50.0301 308.841,-59.5003 313.71,-54.4709\"/>\n",
       "</g>\n",
       "<!-- 7 -->\n",
       "<g id=\"node8\" class=\"node\"><title>7</title>\n",
       "<polygon fill=\"none\" stroke=\"black\" points=\"462.307,-50 350.23,-50 350.23,-0 462.307,-0 462.307,-50\"/>\n",
       "<text text-anchor=\"middle\" x=\"406.269\" y=\"-34.8\" font-family=\"Times,serif\" font-size=\"14.00\">gini = 0.2084</text>\n",
       "<text text-anchor=\"middle\" x=\"406.269\" y=\"-20.8\" font-family=\"Times,serif\" font-size=\"14.00\">samples = 330</text>\n",
       "<text text-anchor=\"middle\" x=\"406.269\" y=\"-6.8\" font-family=\"Times,serif\" font-size=\"14.00\">value = [291, 39]</text>\n",
       "</g>\n",
       "<!-- 5&#45;&gt;7 -->\n",
       "<g id=\"edge7\" class=\"edge\"><title>5&#45;&gt;7</title>\n",
       "<path fill=\"none\" stroke=\"black\" d=\"M384.533,-85.9375C387.626,-77.4081 390.993,-68.1236 394.133,-59.4655\"/>\n",
       "<polygon fill=\"black\" stroke=\"black\" points=\"397.435,-60.6242 397.554,-50.0301 390.855,-58.2378 397.435,-60.6242\"/>\n",
       "</g>\n",
       "<!-- 9 -->\n",
       "<g id=\"node10\" class=\"node\"><title>9</title>\n",
       "<polygon fill=\"none\" stroke=\"black\" points=\"610.807,-150 505.73,-150 505.73,-86 610.807,-86 610.807,-150\"/>\n",
       "<text text-anchor=\"middle\" x=\"558.269\" y=\"-134.8\" font-family=\"Times,serif\" font-size=\"14.00\">Age &lt;= 2.5</text>\n",
       "<text text-anchor=\"middle\" x=\"558.269\" y=\"-120.8\" font-family=\"Times,serif\" font-size=\"14.00\">gini = 0.1068</text>\n",
       "<text text-anchor=\"middle\" x=\"558.269\" y=\"-106.8\" font-family=\"Times,serif\" font-size=\"14.00\">samples = 159</text>\n",
       "<text text-anchor=\"middle\" x=\"558.269\" y=\"-92.8\" font-family=\"Times,serif\" font-size=\"14.00\">value = [9, 150]</text>\n",
       "</g>\n",
       "<!-- 8&#45;&gt;9 -->\n",
       "<g id=\"edge9\" class=\"edge\"><title>8&#45;&gt;9</title>\n",
       "<path fill=\"none\" stroke=\"black\" d=\"M558.269,-185.992C558.269,-177.859 558.269,-168.959 558.269,-160.378\"/>\n",
       "<polygon fill=\"black\" stroke=\"black\" points=\"561.769,-160.142 558.269,-150.142 554.769,-160.142 561.769,-160.142\"/>\n",
       "</g>\n",
       "<!-- 12 -->\n",
       "<g id=\"node13\" class=\"node\"><title>12</title>\n",
       "<polygon fill=\"none\" stroke=\"black\" points=\"819.807,-150 714.73,-150 714.73,-86 819.807,-86 819.807,-150\"/>\n",
       "<text text-anchor=\"middle\" x=\"767.269\" y=\"-134.8\" font-family=\"Times,serif\" font-size=\"14.00\">Age &lt;= 38.5</text>\n",
       "<text text-anchor=\"middle\" x=\"767.269\" y=\"-120.8\" font-family=\"Times,serif\" font-size=\"14.00\">gini = 0.4969</text>\n",
       "<text text-anchor=\"middle\" x=\"767.269\" y=\"-106.8\" font-family=\"Times,serif\" font-size=\"14.00\">samples = 102</text>\n",
       "<text text-anchor=\"middle\" x=\"767.269\" y=\"-92.8\" font-family=\"Times,serif\" font-size=\"14.00\">value = [55, 47]</text>\n",
       "</g>\n",
       "<!-- 8&#45;&gt;12 -->\n",
       "<g id=\"edge12\" class=\"edge\"><title>8&#45;&gt;12</title>\n",
       "<path fill=\"none\" stroke=\"black\" d=\"M614.552,-190.609C642.589,-177.462 676.559,-161.534 705.334,-148.041\"/>\n",
       "<polygon fill=\"black\" stroke=\"black\" points=\"706.912,-151.167 714.48,-143.753 703.94,-144.829 706.912,-151.167\"/>\n",
       "</g>\n",
       "<!-- 10 -->\n",
       "<g id=\"node11\" class=\"node\"><title>10</title>\n",
       "<polygon fill=\"none\" stroke=\"black\" points=\"571.807,-50 480.73,-50 480.73,-0 571.807,-0 571.807,-50\"/>\n",
       "<text text-anchor=\"middle\" x=\"526.269\" y=\"-34.8\" font-family=\"Times,serif\" font-size=\"14.00\">gini = 0.5</text>\n",
       "<text text-anchor=\"middle\" x=\"526.269\" y=\"-20.8\" font-family=\"Times,serif\" font-size=\"14.00\">samples = 2</text>\n",
       "<text text-anchor=\"middle\" x=\"526.269\" y=\"-6.8\" font-family=\"Times,serif\" font-size=\"14.00\">value = [1, 1]</text>\n",
       "</g>\n",
       "<!-- 9&#45;&gt;10 -->\n",
       "<g id=\"edge10\" class=\"edge\"><title>9&#45;&gt;10</title>\n",
       "<path fill=\"none\" stroke=\"black\" d=\"M547.345,-85.9375C544.346,-77.4081 541.081,-68.1236 538.037,-59.4655\"/>\n",
       "<polygon fill=\"black\" stroke=\"black\" points=\"541.338,-58.3027 534.719,-50.0301 534.734,-60.6249 541.338,-58.3027\"/>\n",
       "</g>\n",
       "<!-- 11 -->\n",
       "<g id=\"node12\" class=\"node\"><title>11</title>\n",
       "<polygon fill=\"none\" stroke=\"black\" points=\"695.807,-50 590.73,-50 590.73,-0 695.807,-0 695.807,-50\"/>\n",
       "<text text-anchor=\"middle\" x=\"643.269\" y=\"-34.8\" font-family=\"Times,serif\" font-size=\"14.00\">gini = 0.0967</text>\n",
       "<text text-anchor=\"middle\" x=\"643.269\" y=\"-20.8\" font-family=\"Times,serif\" font-size=\"14.00\">samples = 157</text>\n",
       "<text text-anchor=\"middle\" x=\"643.269\" y=\"-6.8\" font-family=\"Times,serif\" font-size=\"14.00\">value = [8, 149]</text>\n",
       "</g>\n",
       "<!-- 9&#45;&gt;11 -->\n",
       "<g id=\"edge11\" class=\"edge\"><title>9&#45;&gt;11</title>\n",
       "<path fill=\"none\" stroke=\"black\" d=\"M587.283,-85.9375C595.85,-76.7661 605.232,-66.7217 613.825,-57.5217\"/>\n",
       "<polygon fill=\"black\" stroke=\"black\" points=\"616.555,-59.7271 620.823,-50.0301 611.439,-54.9489 616.555,-59.7271\"/>\n",
       "</g>\n",
       "<!-- 13 -->\n",
       "<g id=\"node14\" class=\"node\"><title>13</title>\n",
       "<polygon fill=\"none\" stroke=\"black\" points=\"819.807,-50 714.73,-50 714.73,-0 819.807,-0 819.807,-50\"/>\n",
       "<text text-anchor=\"middle\" x=\"767.269\" y=\"-34.8\" font-family=\"Times,serif\" font-size=\"14.00\">gini = 0.4998</text>\n",
       "<text text-anchor=\"middle\" x=\"767.269\" y=\"-20.8\" font-family=\"Times,serif\" font-size=\"14.00\">samples = 90</text>\n",
       "<text text-anchor=\"middle\" x=\"767.269\" y=\"-6.8\" font-family=\"Times,serif\" font-size=\"14.00\">value = [44, 46]</text>\n",
       "</g>\n",
       "<!-- 12&#45;&gt;13 -->\n",
       "<g id=\"edge13\" class=\"edge\"><title>12&#45;&gt;13</title>\n",
       "<path fill=\"none\" stroke=\"black\" d=\"M767.269,-85.9375C767.269,-77.6833 767.269,-68.7219 767.269,-60.3053\"/>\n",
       "<polygon fill=\"black\" stroke=\"black\" points=\"770.769,-60.03 767.269,-50.0301 763.769,-60.0301 770.769,-60.03\"/>\n",
       "</g>\n",
       "<!-- 14 -->\n",
       "<g id=\"node15\" class=\"node\"><title>14</title>\n",
       "<polygon fill=\"none\" stroke=\"black\" points=\"936.293,-50 838.244,-50 838.244,-0 936.293,-0 936.293,-50\"/>\n",
       "<text text-anchor=\"middle\" x=\"887.269\" y=\"-34.8\" font-family=\"Times,serif\" font-size=\"14.00\">gini = 0.1528</text>\n",
       "<text text-anchor=\"middle\" x=\"887.269\" y=\"-20.8\" font-family=\"Times,serif\" font-size=\"14.00\">samples = 12</text>\n",
       "<text text-anchor=\"middle\" x=\"887.269\" y=\"-6.8\" font-family=\"Times,serif\" font-size=\"14.00\">value = [11, 1]</text>\n",
       "</g>\n",
       "<!-- 12&#45;&gt;14 -->\n",
       "<g id=\"edge14\" class=\"edge\"><title>12&#45;&gt;14</title>\n",
       "<path fill=\"none\" stroke=\"black\" d=\"M808.23,-85.9375C820.929,-76.3076 834.897,-65.7151 847.513,-56.1483\"/>\n",
       "<polygon fill=\"black\" stroke=\"black\" points=\"849.727,-58.8613 855.581,-50.0301 845.498,-53.2837 849.727,-58.8613\"/>\n",
       "</g>\n",
       "</g>\n",
       "</svg>\n"
      ],
      "text/plain": [
       "<graphviz.files.Source at 0x10e9a5b50>"
      ]
     },
     "execution_count": 203,
     "metadata": {},
     "output_type": "execute_result"
    }
   ],
   "source": [
    "graph"
   ]
  },
  {
   "cell_type": "code",
   "execution_count": 282,
   "metadata": {
    "ExecuteTime": {
     "end_time": "2017-12-12T10:14:58.113961",
     "start_time": "2017-12-12T10:14:57.944488"
    },
    "collapsed": false
   },
   "outputs": [
    {
     "data": {
      "text/plain": [
       "'TitanicTree.pdf'"
      ]
     },
     "execution_count": 282,
     "metadata": {},
     "output_type": "execute_result"
    }
   ],
   "source": [
    "graph.render(\"TitanicTree\")"
   ]
  },
  {
   "cell_type": "code",
   "execution_count": 283,
   "metadata": {
    "ExecuteTime": {
     "end_time": "2017-12-12T10:15:04.661496",
     "start_time": "2017-12-12T10:15:04.525558"
    },
    "collapsed": false
   },
   "outputs": [
    {
     "name": "stdout",
     "output_type": "stream",
     "text": [
      "total 53016\r\n",
      "-rw-r--r--   1 fbb  staff   2301804 May  1  2014 chromedriver_linux64.zip\r\n",
      "-rwxr-xr-x   1 fbb  staff  10840464 Oct  8  2015 \u001b[31mchromedriver\u001b[m\u001b[m\r\n",
      "-rw-r--r--@  1 fbb  staff     61194 Nov 14 00:57 train.csv\r\n",
      "-rw-r--r--@  1 fbb  staff     28629 Nov 14 00:57 test.csv\r\n",
      "-rw-r--r--@  1 fbb  staff      3258 Nov 14 00:57 gender_submission.csv\r\n",
      "-rw-r--r--   1 fbb  staff      3807 Dec  9 09:44 README.md\r\n",
      "drwxr-xr-x@ 11 fbb  staff       352 Dec  9 09:51 \u001b[34mzipcode-2.0.0\u001b[m\u001b[m\r\n",
      "-rwxr-xr-x@  1 fbb  staff  11924296 Dec  9 09:56 \u001b[31mchromedriver.exe\u001b[m\u001b[m\r\n",
      "-rw-r--r--   1 fbb  staff     11247 Dec  9 10:17 zillow_functions.py\r\n",
      "drwxr-xr-x   4 fbb  staff       128 Dec  9 10:17 \u001b[34m__pycache__\u001b[m\u001b[m\r\n",
      "-rw-r--r--   1 fbb  staff     10603 Dec  9 10:20 zillow_functions.pyc\r\n",
      "-rw-r--r--   1 fbb  staff    490762 Dec  9 10:53 2017-12-09_105310.csv\r\n",
      "-rw-r--r--   1 fbb  staff      5703 Dec  9 10:55 zillow_runfile.py\r\n",
      "-rw-r--r--   1 fbb  staff    190202 Dec  9 11:15 2017-12-09_111537.csv\r\n",
      "-rw-r--r--   1 fbb  staff    680964 Dec  9 13:38 allzips.csv\r\n",
      "-rw-r--r--   1 fbb  staff      1079 Dec  9 14:15 Untitled.ipynb\r\n",
      "-rw-r--r--@  1 fbb  staff     46308 Dec  9 14:36 McleodExtraCredit.ipynb\r\n",
      "-rw-r--r--   1 fbb  staff     16961 Dec 10 23:41 iris\r\n",
      "-rw-r--r--   1 fbb  staff     43579 Dec 10 23:41 iris.pdf\r\n",
      "-rw-r--r--@  1 fbb  staff     34757 Dec 11 14:23 titanic.zip\r\n",
      "-rw-r--r--   1 fbb  staff     22441 Dec 11 23:31 featureImportanceTest.ipynb\r\n",
      "-rw-r--r--   1 fbb  staff     12342 Dec 12 00:17 Untitled1-Copy1.ipynb\r\n",
      "-rw-r--r--   1 fbb  staff    283941 Dec 12 00:36 Untitled2.ipynb\r\n",
      "-rw-r--r--   1 fbb  staff     44681 Dec 12 10:14 TitaticByCART.ipynb\r\n",
      "-rw-r--r--   1 fbb  staff     18175 Dec 12 10:14 TitanicTree.pdf.pdf\r\n",
      "-rw-r--r--   1 fbb  staff      1278 Dec 12 10:14 TitanicTree\r\n",
      "-rw-r--r--   1 fbb  staff     18178 Dec 12 10:14 TitanicTree.pdf\r\n"
     ]
    }
   ],
   "source": [
    "!ls -ltr"
   ]
  },
  {
   "cell_type": "markdown",
   "metadata": {},
   "source": [
    "changing model to Random Forest"
   ]
  },
  {
   "cell_type": "code",
   "execution_count": 213,
   "metadata": {
    "ExecuteTime": {
     "end_time": "2017-12-12T09:06:16.040603",
     "start_time": "2017-12-12T09:06:15.929222"
    },
    "collapsed": false
   },
   "outputs": [
    {
     "data": {
      "text/plain": [
       "0.81932773109243695"
      ]
     },
     "execution_count": 213,
     "metadata": {},
     "output_type": "execute_result"
    }
   ],
   "source": [
    "from sklearn import ensemble\n",
    "clf =  ensemble.RandomForestClassifier(max_depth=3, criterion=\"gini\", random_state=222).fit(titanic_short.values, titanic[\"Survived\"])\n",
    "clf.score(titanic_short.values, titanic[\"Survived\"])"
   ]
  },
  {
   "cell_type": "markdown",
   "metadata": {},
   "source": [
    "changing max depth"
   ]
  },
  {
   "cell_type": "code",
   "execution_count": 214,
   "metadata": {
    "ExecuteTime": {
     "end_time": "2017-12-12T09:06:16.844722",
     "start_time": "2017-12-12T09:06:16.752298"
    },
    "collapsed": false
   },
   "outputs": [
    {
     "data": {
      "text/plain": [
       "0.83893557422969189"
      ]
     },
     "execution_count": 214,
     "metadata": {},
     "output_type": "execute_result"
    }
   ],
   "source": [
    "clf =  ensemble.RandomForestClassifier(max_depth=4, criterion=\"gini\", random_state=222).fit(titanic_short.values, titanic[\"Survived\"])\n",
    "clf.score(titanic_short.values, titanic[\"Survived\"])"
   ]
  },
  {
   "cell_type": "code",
   "execution_count": 215,
   "metadata": {
    "ExecuteTime": {
     "end_time": "2017-12-12T09:06:17.115585",
     "start_time": "2017-12-12T09:06:16.970181"
    },
    "collapsed": false
   },
   "outputs": [
    {
     "data": {
      "text/plain": [
       "0.89215686274509809"
      ]
     },
     "execution_count": 215,
     "metadata": {},
     "output_type": "execute_result"
    }
   ],
   "source": [
    "clf =  ensemble.RandomForestClassifier(criterion=\"gini\", random_state=222).fit(titanic_short.values, titanic[\"Survived\"])\n",
    "clf.score(titanic_short.values, titanic[\"Survived\"])"
   ]
  },
  {
   "cell_type": "markdown",
   "metadata": {},
   "source": [
    "changing model to Gradient Boosted Trees"
   ]
  },
  {
   "cell_type": "code",
   "execution_count": 217,
   "metadata": {
    "ExecuteTime": {
     "end_time": "2017-12-12T09:06:18.791292",
     "start_time": "2017-12-12T09:06:18.653402"
    },
    "collapsed": false
   },
   "outputs": [
    {
     "data": {
      "text/plain": [
       "0.88935574229691872"
      ]
     },
     "execution_count": 217,
     "metadata": {},
     "output_type": "execute_result"
    }
   ],
   "source": [
    "clf =  ensemble.GradientBoostingClassifier(max_depth=4, random_state=222).fit(titanic_short.values, titanic[\"Survived\"])\n",
    "clf.score(titanic_short.values, titanic[\"Survived\"])"
   ]
  },
  {
   "cell_type": "code",
   "execution_count": 271,
   "metadata": {
    "ExecuteTime": {
     "end_time": "2017-12-12T10:04:40.983577",
     "start_time": "2017-12-12T10:04:40.970492"
    },
    "collapsed": true
   },
   "outputs": [],
   "source": [
    "ensemble.GradientBoostingClassifier?"
   ]
  },
  {
   "cell_type": "code",
   "execution_count": null,
   "metadata": {
    "collapsed": true
   },
   "outputs": [],
   "source": []
  }
 ],
 "metadata": {
  "anaconda-cloud": {},
  "kernelspec": {
   "display_name": "Python [conda root]",
   "language": "python",
   "name": "conda-root-py"
  },
  "language_info": {
   "codemirror_mode": {
    "name": "ipython",
    "version": 2
   },
   "file_extension": ".py",
   "mimetype": "text/x-python",
   "name": "python",
   "nbconvert_exporter": "python",
   "pygments_lexer": "ipython2",
   "version": "2.7.12"
  },
  "toc": {
   "colors": {
    "hover_highlight": "#DAA520",
    "running_highlight": "#FF0000",
    "selected_highlight": "#FFD700"
   },
   "moveMenuLeft": true,
   "nav_menu": {
    "height": "203px",
    "width": "252px"
   },
   "navigate_menu": true,
   "number_sections": false,
   "sideBar": true,
   "threshold": 4,
   "toc_cell": false,
   "toc_section_display": "block",
   "toc_window_display": false
  }
 },
 "nbformat": 4,
 "nbformat_minor": 1
}
