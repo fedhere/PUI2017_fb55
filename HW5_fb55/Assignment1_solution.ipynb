{
 "cells": [
  {
   "cell_type": "code",
   "execution_count": 1,
   "metadata": {
    "ExecuteTime": {
     "end_time": "2017-10-24T12:41:06.037930",
     "start_time": "2017-10-24T12:41:05.100951Z"
    },
    "collapsed": false,
    "run_control": {
     "frozen": false,
     "read_only": false
    }
   },
   "outputs": [
    {
     "name": "stdout",
     "output_type": "stream",
     "text": [
      "Populating the interactive namespace from numpy and matplotlib\n"
     ]
    },
    {
     "name": "stderr",
     "output_type": "stream",
     "text": [
      "//anaconda/envs/py36/lib/python3.6/site-packages/IPython/core/magics/pylab.py:161: UserWarning: pylab import has clobbered these variables: ['norm']\n",
      "`%matplotlib` prevents importing * from pylab and numpy\n",
      "  \"\\n`%matplotlib` prevents importing * from pylab and numpy\"\n"
     ]
    }
   ],
   "source": [
    "from __future__ import division, print_function\n",
    "import pandas as pd\n",
    "import pylab as pl\n",
    "import scipy as sp\n",
    "from scipy import stats\n",
    "import numpy as np\n",
    "from numpy import random\n",
    "from scipy.stats import norm\n",
    "\n",
    "\n",
    "%pylab inline"
   ]
  },
  {
   "cell_type": "markdown",
   "metadata": {
    "run_control": {
     "frozen": false,
     "read_only": false
    }
   },
   "source": [
    "# drawing 100 1000-element distributions from a standard normal"
   ]
  },
  {
   "cell_type": "code",
   "execution_count": 2,
   "metadata": {
    "ExecuteTime": {
     "end_time": "2017-10-24T12:41:07.091069",
     "start_time": "2017-10-24T12:41:07.077340Z"
    },
    "collapsed": false,
    "run_control": {
     "frozen": false,
     "read_only": false
    }
   },
   "outputs": [],
   "source": [
    "np.random.seed(999)\n",
    "\n",
    "Ndraws, Nsamples = 100, 1000\n",
    "ran_samples = np.empty((Ndraws, Nsamples))\n",
    "for i in range(Nsamples):\n",
    "    ran_samples[:, i] = np.random.randn(Ndraws)\n",
    "    "
   ]
  },
  {
   "cell_type": "code",
   "execution_count": 3,
   "metadata": {
    "ExecuteTime": {
     "end_time": "2017-10-24T12:41:08.061085",
     "start_time": "2017-10-24T12:41:07.589639Z"
    },
    "collapsed": false,
    "run_control": {
     "frozen": false,
     "read_only": false
    }
   },
   "outputs": [
    {
     "data": {
      "image/png": "[encoded data removed]",
      "text/plain": [
       "<matplotlib.figure.Figure at 0x1112bca20>"
      ]
     },
     "metadata": {},
     "output_type": "display_data"
    }
   ],
   "source": [
    "for i in np.linspace(0, Nsamples-1, 10):\n",
    "    pl.hist(ran_samples[:, int(i)], alpha=0.5)"
   ]
  },
  {
   "cell_type": "markdown",
   "metadata": {
    "run_control": {
     "frozen": false,
     "read_only": false
    }
   },
   "source": [
    "Figure 1: 100 samples, each of 1000 elements drawn from a standard normal distribution N(0,1), overplotted. "
   ]
  },
  {
   "cell_type": "markdown",
   "metadata": {},
   "source": [
    "# Calculating the z statistics"
   ]
  },
  {
   "cell_type": "code",
   "execution_count": 4,
   "metadata": {
    "ExecuteTime": {
     "end_time": "2017-10-24T12:41:09.168954",
     "start_time": "2017-10-24T12:41:08.935616Z"
    },
    "collapsed": false,
    "run_control": {
     "frozen": false,
     "read_only": false
    }
   },
   "outputs": [
    {
     "data": {
      "image/png": "[encoded data removed]",
      "text/plain": [
       "<matplotlib.figure.Figure at 0x114720fd0>"
      ]
     },
     "metadata": {},
     "output_type": "display_data"
    }
   ],
   "source": [
    "Ndraws, Nsamples = 100, 1000\n",
    "ran_means = ran_samples.mean(axis=0)\n",
    "bins = np.arange(-2.5, 2.5, 0.3)\n",
    "hsbins = pl.hist(np.sqrt(Ndraws) * ran_means, bins=bins, normed=True)\n",
    "xrange = hsbins[1][:-1] + 0.5 * (hsbins[1][1] - hsbins[1][0])\n",
    "model = sp.stats.norm.pdf(hsbins[1][:-1] + 0.5 * (hsbins[1][1] - hsbins[1][0]));\n",
    "pl.plot(xrange, model);\n"
   ]
  },
  {
   "cell_type": "markdown",
   "metadata": {
    "run_control": {
     "frozen": false,
     "read_only": false
    }
   },
   "source": [
    "Figure 2: A histogram of the z statistics for the 100 samples above, z = sqrt(N) * sample_mean, note that the statistics reduces to this form since the population mean and standard deviations are 0 and 1 respectively. The z-statistics distribution is plotted in blue and a standard normal N(0,1) overplotted in orange. If the z test holds the standard distribution of z statistics should follow a standard normal."
   ]
  },
  {
   "cell_type": "markdown",
   "metadata": {},
   "source": [
    "# Fitting the z-statistics distribution with a Gaussian"
   ]
  },
  {
   "cell_type": "markdown",
   "metadata": {
    "run_control": {
     "frozen": false,
     "read_only": false
    }
   },
   "source": [
    "## changing gaussian mean"
   ]
  },
  {
   "cell_type": "code",
   "execution_count": 5,
   "metadata": {
    "ExecuteTime": {
     "end_time": "2017-10-24T12:36:26.344148",
     "start_time": "2017-10-24T12:36:26.337305Z"
    },
    "collapsed": false,
    "run_control": {
     "frozen": false,
     "read_only": false
    }
   },
   "outputs": [
    {
     "name": "stdout",
     "output_type": "stream",
     "text": [
      "0.0623710166014\n"
     ]
    }
   ],
   "source": [
    "def chisq(model, data):\n",
    "    errors = np.sqrt(data)\n",
    "    return ((model - data)**2 / errors**2).sum()\n",
    "print (chisq(model, hsbins[0]))"
   ]
  },
  {
   "cell_type": "code",
   "execution_count": 7,
   "metadata": {
    "ExecuteTime": {
     "end_time": "2017-10-24T12:36:35.787258",
     "start_time": "2017-10-24T12:36:35.760642Z"
    },
    "collapsed": false,
    "run_control": {
     "frozen": false,
     "read_only": false
    }
   },
   "outputs": [],
   "source": [
    "chisqs = np.zeros(100)\n",
    "for i,mu in enumerate(np.linspace(-2, 2, 100)):\n",
    "    chisqs[i] = chisq(sp.stats.norm.pdf(hsbins[1][:-1] + 0.5 * \n",
    "                                        (hsbins[1][1] - hsbins[1][0]),\n",
    "                            loc=mu), hsbins[0])\n"
   ]
  },
  {
   "cell_type": "code",
   "execution_count": 12,
   "metadata": {
    "ExecuteTime": {
     "end_time": "2017-10-24T12:37:32.538694",
     "start_time": "2017-10-24T12:37:32.309740Z"
    },
    "collapsed": false,
    "run_control": {
     "frozen": false,
     "read_only": false
    }
   },
   "outputs": [
    {
     "data": {
      "image/png": "[encoded data removed]",
      "text/plain": [
       "<matplotlib.figure.Figure at 0x116d54d68>"
      ]
     },
     "metadata": {},
     "output_type": "display_data"
    }
   ],
   "source": [
    "pl.plot(np.linspace(-2, 2, 100), chisqs)\n",
    "pl.xlabel(\"mean\", fontsize=20)\n",
    "pl.ylabel(\"chi2\", fontsize=20);"
   ]
  },
  {
   "cell_type": "markdown",
   "metadata": {
    "run_control": {
     "frozen": false,
     "read_only": false
    }
   },
   "source": [
    "Figure 3: a plot of the chi square value, assuming Poisson errors,  for the fit of a Gaussian model to the distribution of z statistics shown in Figure 2, as a function of changing mean."
   ]
  },
  {
   "cell_type": "markdown",
   "metadata": {
    "run_control": {
     "frozen": false,
     "read_only": false
    }
   },
   "source": [
    "## changing gaussian mean and standard deviation"
   ]
  },
  {
   "cell_type": "code",
   "execution_count": 13,
   "metadata": {
    "ExecuteTime": {
     "end_time": "2017-10-24T12:37:40.243895",
     "start_time": "2017-10-24T12:37:39.188623Z"
    },
    "collapsed": false,
    "run_control": {
     "frozen": false,
     "read_only": false
    }
   },
   "outputs": [],
   "source": [
    "chisqs = np.zeros((100,100))\n",
    "for i,mu in enumerate(np.linspace(-2, 2, 100)):\n",
    "    for j,sig in enumerate(np.linspace(0.1, 3, 100)):\n",
    "        chisqs[i,j] = chisq(sp.stats.norm.pdf(hsbins[1][:-1] + 0.5 * \n",
    "                                        (hsbins[1][1] - hsbins[1][0]),\n",
    "                            loc=mu, scale=sig), hsbins[0])"
   ]
  },
  {
   "cell_type": "code",
   "execution_count": 24,
   "metadata": {
    "ExecuteTime": {
     "end_time": "2017-10-13T16:06:04.974911",
     "start_time": "2017-10-13T16:06:04.596215Z"
    },
    "collapsed": false,
    "run_control": {
     "frozen": false,
     "read_only": false
    }
   },
   "outputs": [
    {
     "data": {
      "image/png": "[encoded data removed]",
      "text/plain": [
       "<matplotlib.figure.Figure at 0x118db2e48>"
      ]
     },
     "metadata": {},
     "output_type": "display_data"
    }
   ],
   "source": [
    "fig = pl.figure()\n",
    "ax = fig.add_subplot(111)\n",
    "ax.grid(True)\n",
    "im = pl.imshow(np.log(chisqs.reshape(100,100)), interpolation='nearest')\n",
    "cax = pl.colorbar()\n",
    "xticks = np.linspace(0, 100, 5)\n",
    "yticks = np.linspace(0, 100, 5)\n",
    "ax.set_xticks(xticks)\n",
    "ax.set_xticklabels(['%.1f'%f for f in np.linspace(0.1, 3, len(xticks))])\n",
    "ax.set_yticks(yticks)\n",
    "ax.set_yticklabels(['%.1f'%f for f in np.linspace(-2, 2, len(yticks))]);\n",
    "cax.set_label(\"log sum of residuals square\")\n",
    "ax.set_xlabel(\"slope\")\n",
    "ax.set_ylabel(r\"intercept\");\n"
   ]
  },
  {
   "cell_type": "markdown",
   "metadata": {
    "run_control": {
     "frozen": false,
     "read_only": false
    }
   },
   "source": [
    "FIgure 3: a plot of the chi square surface, assuming Poisson errors,for the fit of a Gaussian model to the distribution of z statistics shown in Figure 2, as a function of changing mean and standard distribution of the Gaussian model."
   ]
  },
  {
   "cell_type": "code",
   "execution_count": null,
   "metadata": {
    "collapsed": true,
    "run_control": {
     "frozen": false,
     "read_only": false
    }
   },
   "outputs": [],
   "source": []
  }
 ],
 "metadata": {
  "anaconda-cloud": {},
  "gist": {
   "data": {
    "description": "Untitled.ipynb",
    "public": false
   },
   "id": ""
  },
  "kernelspec": {
   "display_name": "Python [conda env:py36]",
   "language": "python",
   "name": "conda-env-py36-py"
  },
  "latex_envs": {
   "LaTeX_envs_menu_present": true,
   "bibliofile": "biblio.bib",
   "cite_by": "apalike",
   "current_citInitial": 1,
   "eqLabelWithNumbers": true,
   "eqNumInitial": 1,
   "hotkeys": {
    "equation": "Ctrl-E",
    "itemize": "Ctrl-I"
   },
   "labels_anchors": false,
   "latex_user_defs": false,
   "report_style_numbering": false,
   "user_envs_cfg": false
  },
  "toc": {
   "colors": {
    "hover_highlight": "#DAA520",
    "running_highlight": "#FF0000",
    "selected_highlight": "#FFD700"
   },
   "moveMenuLeft": true,
   "nav_menu": {
    "height": "13px",
    "width": "251px"
   },
   "navigate_menu": true,
   "number_sections": true,
   "sideBar": true,
   "threshold": 4,
   "toc_cell": false,
   "toc_section_display": "block",
   "toc_window_display": false
  }
 },
 "nbformat": 4,
 "nbformat_minor": 1
}
