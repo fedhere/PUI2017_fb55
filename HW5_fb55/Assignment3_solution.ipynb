{
 "cells": [
  {
   "cell_type": "markdown",
   "metadata": {
    "run_control": {
     "frozen": false,
     "read_only": false
    }
   },
   "source": [
    "**regression exercise**\n",
    "\n",
    "**written by Federica B Bianco CUSP 2017**\n",
    "\n",
    "**for PUI lecture on models and linear regression**"
   ]
  },
  {
   "cell_type": "code",
   "execution_count": 1,
   "metadata": {
    "ExecuteTime": {
     "end_time": "2017-10-23T22:05:07.353186",
     "start_time": "2017-10-23T22:05:05.281321"
    },
    "collapsed": false,
    "run_control": {
     "frozen": false,
     "read_only": false
    }
   },
   "outputs": [
    {
     "name": "stdout",
     "output_type": "stream",
     "text": [
      "Populating the interactive namespace from numpy and matplotlib\n"
     ]
    }
   ],
   "source": [
    "from __future__ import print_function\n",
    "import pandas as pd\n",
    "import pylab as pl\n",
    "import statsmodels.api as st\n",
    "import scipy as sp \n",
    "from scipy import stats\n",
    "import seaborn  as sns\n",
    "\n",
    "%pylab inline"
   ]
  },
  {
   "cell_type": "markdown",
   "metadata": {
    "run_control": {
     "frozen": false,
     "read_only": false
    }
   },
   "source": [
    "# data \n",
    "## data acquisition: \n",
    "\n",
    "The Guardian firearms murders and ownership data. The relevans sheet is uploaded in the github repository as a csv file. Download it from there. Note: this dataset is from 2012.\n",
    "\n",
    "**Extra credit**: download directly from google docs with a google API\n",
    "\n",
    "https://docs.google.com/spreadsheets/d/1chqUZHuY6cXYrRYkuE0uwXisGaYvr7durZHJhpLGycs/edit#gid=0\n",
    "\n",
    "Number of mass shootings: find the link here https://datawrapper.dwcdn.net/pvLFI/4/\n",
    "\n",
    "The world population by country find the download link here :\n",
    "https://data.worldbank.org/indicator/SP.POP.TOTL\n",
    "\n",
    "Remember that all read or downloads have to be reproducible."
   ]
  },
  {
   "cell_type": "code",
   "execution_count": 2,
   "metadata": {
    "ExecuteTime": {
     "end_time": "2017-10-23T22:05:07.510789",
     "start_time": "2017-10-23T22:05:07.356088"
    },
    "collapsed": false,
    "run_control": {
     "frozen": false,
     "read_only": false
    }
   },
   "outputs": [],
   "source": [
    "#reading in file from github. note that you must use the link to the raw data!\n",
    "furl = 'https://raw.githubusercontent.com/fedhere/PUI2017_fb55/master/HW5_fb55/World' +\\\n",
    "    '%20firearms%20murders%20and%20ownership%20-%20Sheet%201.csv'\n",
    "guns = pd.read_csv(furl)"
   ]
  },
  {
   "cell_type": "code",
   "execution_count": 3,
   "metadata": {
    "ExecuteTime": {
     "end_time": "2017-10-23T22:05:07.521813",
     "start_time": "2017-10-23T22:05:07.513172"
    },
    "collapsed": false,
    "run_control": {
     "frozen": false,
     "read_only": false
    }
   },
   "outputs": [
    {
     "data": {
      "text/plain": [
       "Index([u'Country/Territory', u'ISO code', u'Source',\n",
       "       u'% of homicides by firearm', u'Number of homicides by firearm',\n",
       "       u'Homicide by firearm rate per 100,000 pop',\n",
       "       u'Rank by rate of ownership', u'Average firearms per 100 people',\n",
       "       u'Average total all civilian firearms'],\n",
       "      dtype='object')"
      ]
     },
     "execution_count": 3,
     "metadata": {},
     "output_type": "execute_result"
    }
   ],
   "source": [
    "guns.columns"
   ]
  },
  {
   "cell_type": "code",
   "execution_count": 4,
   "metadata": {
    "ExecuteTime": {
     "end_time": "2017-10-23T22:05:07.553347",
     "start_time": "2017-10-23T22:05:07.524145"
    },
    "collapsed": false,
    "run_control": {
     "frozen": false,
     "read_only": false
    }
   },
   "outputs": [
    {
     "data": {
      "text/html": [
       "<div>\n",
       "<table border=\"1\" class=\"dataframe\">\n",
       "  <thead>\n",
       "    <tr style=\"text-align: right;\">\n",
       "      <th></th>\n",
       "      <th>Country/Territory</th>\n",
       "      <th>ISO code</th>\n",
       "      <th>Source</th>\n",
       "      <th>% of homicides by firearm</th>\n",
       "      <th>Number of homicides by firearm</th>\n",
       "      <th>Homicide by firearm rate per 100,000 pop</th>\n",
       "      <th>Rank by rate of ownership</th>\n",
       "      <th>Average firearms per 100 people</th>\n",
       "      <th>Average total all civilian firearms</th>\n",
       "    </tr>\n",
       "  </thead>\n",
       "  <tbody>\n",
       "    <tr>\n",
       "      <th>0</th>\n",
       "      <td>Albania</td>\n",
       "      <td>AL</td>\n",
       "      <td>CTS</td>\n",
       "      <td>65.9</td>\n",
       "      <td>56.0</td>\n",
       "      <td>1.76</td>\n",
       "      <td>70.0</td>\n",
       "      <td>8.6</td>\n",
       "      <td>270000.0</td>\n",
       "    </tr>\n",
       "    <tr>\n",
       "      <th>1</th>\n",
       "      <td>Algeria</td>\n",
       "      <td>DZ</td>\n",
       "      <td>CTS</td>\n",
       "      <td>4.8</td>\n",
       "      <td>20.0</td>\n",
       "      <td>0.06</td>\n",
       "      <td>78.0</td>\n",
       "      <td>7.6</td>\n",
       "      <td>1900000.0</td>\n",
       "    </tr>\n",
       "    <tr>\n",
       "      <th>2</th>\n",
       "      <td>Angola</td>\n",
       "      <td>AO</td>\n",
       "      <td>NaN</td>\n",
       "      <td>NaN</td>\n",
       "      <td>NaN</td>\n",
       "      <td>NaN</td>\n",
       "      <td>34.0</td>\n",
       "      <td>17.3</td>\n",
       "      <td>2800000.0</td>\n",
       "    </tr>\n",
       "    <tr>\n",
       "      <th>3</th>\n",
       "      <td>Anguilla</td>\n",
       "      <td>AI</td>\n",
       "      <td>WHO-MDB</td>\n",
       "      <td>24.0</td>\n",
       "      <td>1.0</td>\n",
       "      <td>7.14</td>\n",
       "      <td>NaN</td>\n",
       "      <td>NaN</td>\n",
       "      <td>NaN</td>\n",
       "    </tr>\n",
       "    <tr>\n",
       "      <th>4</th>\n",
       "      <td>Argentina</td>\n",
       "      <td>AR</td>\n",
       "      <td>Ministry of Justice</td>\n",
       "      <td>52.0</td>\n",
       "      <td>1198.0</td>\n",
       "      <td>3.02</td>\n",
       "      <td>62.0</td>\n",
       "      <td>10.2</td>\n",
       "      <td>3950000.0</td>\n",
       "    </tr>\n",
       "  </tbody>\n",
       "</table>\n",
       "</div>"
      ],
      "text/plain": [
       "  Country/Territory ISO code               Source  % of homicides by firearm  \\\n",
       "0           Albania       AL                  CTS                       65.9   \n",
       "1           Algeria       DZ                  CTS                        4.8   \n",
       "2            Angola       AO                  NaN                        NaN   \n",
       "3          Anguilla       AI              WHO-MDB                       24.0   \n",
       "4         Argentina       AR  Ministry of Justice                       52.0   \n",
       "\n",
       "   Number of homicides by firearm  Homicide by firearm rate per 100,000 pop  \\\n",
       "0                            56.0                                      1.76   \n",
       "1                            20.0                                      0.06   \n",
       "2                             NaN                                       NaN   \n",
       "3                             1.0                                      7.14   \n",
       "4                          1198.0                                      3.02   \n",
       "\n",
       "   Rank by rate of ownership  Average firearms per 100 people  \\\n",
       "0                       70.0                              8.6   \n",
       "1                       78.0                              7.6   \n",
       "2                       34.0                             17.3   \n",
       "3                        NaN                              NaN   \n",
       "4                       62.0                             10.2   \n",
       "\n",
       "   Average total all civilian firearms  \n",
       "0                             270000.0  \n",
       "1                            1900000.0  \n",
       "2                            2800000.0  \n",
       "3                                  NaN  \n",
       "4                            3950000.0  "
      ]
     },
     "execution_count": 4,
     "metadata": {},
     "output_type": "execute_result"
    }
   ],
   "source": [
    "guns.head()"
   ]
  },
  {
   "cell_type": "markdown",
   "metadata": {},
   "source": [
    "from the worldbank website I look for the right indicator: GDP and find the link to the GDP (current US$). By clicking on the indicator I get a page with a download csv link. The World bank also has an API, with a python data reader\n",
    "http://pandas-docs.github.io/pandas-docs-travis/ecosystem.html#pandas-datareader"
   ]
  },
  {
   "cell_type": "code",
   "execution_count": 5,
   "metadata": {
    "ExecuteTime": {
     "end_time": "2017-10-23T22:05:09.317900",
     "start_time": "2017-10-23T22:05:07.555386"
    },
    "collapsed": false
   },
   "outputs": [
    {
     "name": "stdout",
     "output_type": "stream",
     "text": [
      "Requirement already satisfied: pandas-datareader in /anaconda/lib/python2.7/site-packages\n",
      "Requirement already satisfied: pandas>=0.17.0 in /anaconda/lib/python2.7/site-packages (from pandas-datareader)\n",
      "Requirement already satisfied: requests>=2.3.0 in /anaconda/lib/python2.7/site-packages (from pandas-datareader)\n",
      "Requirement already satisfied: requests-ftp in /anaconda/lib/python2.7/site-packages (from pandas-datareader)\n",
      "Requirement already satisfied: requests-file in /anaconda/lib/python2.7/site-packages (from pandas-datareader)\n",
      "Requirement already satisfied: pytz>=2011k in /anaconda/lib/python2.7/site-packages (from pandas>=0.17.0->pandas-datareader)\n",
      "Requirement already satisfied: numpy>=1.7.0 in /anaconda/lib/python2.7/site-packages (from pandas>=0.17.0->pandas-datareader)\n",
      "Requirement already satisfied: python-dateutil in /anaconda/lib/python2.7/site-packages (from pandas>=0.17.0->pandas-datareader)\n",
      "Requirement already satisfied: six in /anaconda/lib/python2.7/site-packages (from requests-file->pandas-datareader)\n"
     ]
    }
   ],
   "source": [
    "!pip install --user pandas-datareader"
   ]
  },
  {
   "cell_type": "code",
   "execution_count": 6,
   "metadata": {
    "ExecuteTime": {
     "end_time": "2017-10-23T22:05:14.328214",
     "start_time": "2017-10-23T22:05:09.325183"
    },
    "collapsed": false
   },
   "outputs": [
    {
     "data": {
      "text/html": [
       "<div>\n",
       "<table border=\"1\" class=\"dataframe\">\n",
       "  <thead>\n",
       "    <tr style=\"text-align: right;\">\n",
       "      <th></th>\n",
       "      <th>id</th>\n",
       "      <th>name</th>\n",
       "    </tr>\n",
       "  </thead>\n",
       "  <tbody>\n",
       "    <tr>\n",
       "      <th>682</th>\n",
       "      <td>6.0.GDP_current</td>\n",
       "      <td>GDP (current $)</td>\n",
       "    </tr>\n",
       "    <tr>\n",
       "      <th>683</th>\n",
       "      <td>6.0.GDP_growth</td>\n",
       "      <td>GDP growth (annual %)</td>\n",
       "    </tr>\n",
       "    <tr>\n",
       "      <th>688</th>\n",
       "      <td>6.1.2_GDP.PPP</td>\n",
       "      <td>GDP (2011 USD PPP)</td>\n",
       "    </tr>\n",
       "    <tr>\n",
       "      <th>4860</th>\n",
       "      <td>EG.GDP.PUSE.KO.87</td>\n",
       "      <td>GDP per unit of energy use (1987 US$ per kg of...</td>\n",
       "    </tr>\n",
       "    <tr>\n",
       "      <th>4861</th>\n",
       "      <td>EG.GDP.PUSE.KO.KD</td>\n",
       "      <td>GDP per unit of energy use (2000 US$ per kg of...</td>\n",
       "    </tr>\n",
       "    <tr>\n",
       "      <th>4862</th>\n",
       "      <td>EG.GDP.PUSE.KO.PP</td>\n",
       "      <td>GDP per unit of energy use (PPP $ per kg of oi...</td>\n",
       "    </tr>\n",
       "    <tr>\n",
       "      <th>4863</th>\n",
       "      <td>EG.GDP.PUSE.KO.PP.KD</td>\n",
       "      <td>GDP per unit of energy use (constant 2011 PPP ...</td>\n",
       "    </tr>\n",
       "    <tr>\n",
       "      <th>4994</th>\n",
       "      <td>ER.GDP.FWTL.M3.KD</td>\n",
       "      <td>Water productivity, total (constant 2010 US$ G...</td>\n",
       "    </tr>\n",
       "    <tr>\n",
       "      <th>5011</th>\n",
       "      <td>EU.EGY.USES.GDP</td>\n",
       "      <td>GDP per unit of energy use (1987 US$ per kg of...</td>\n",
       "    </tr>\n",
       "    <tr>\n",
       "      <th>7709</th>\n",
       "      <td>NA.GDP.AGR.CR</td>\n",
       "      <td>GDP on Agriculture Sector (in IDR Million), Cu...</td>\n",
       "    </tr>\n",
       "    <tr>\n",
       "      <th>7710</th>\n",
       "      <td>NA.GDP.AGR.KR</td>\n",
       "      <td>GDP on Agriculture Sector (in IDR Million), Co...</td>\n",
       "    </tr>\n",
       "    <tr>\n",
       "      <th>7711</th>\n",
       "      <td>NA.GDP.CNST.CR</td>\n",
       "      <td>GDP on Construction Sector (in IDR Million), C...</td>\n",
       "    </tr>\n",
       "    <tr>\n",
       "      <th>7712</th>\n",
       "      <td>NA.GDP.CNST.KR</td>\n",
       "      <td>GDP on Construction Sector (in IDR Million), C...</td>\n",
       "    </tr>\n",
       "    <tr>\n",
       "      <th>7713</th>\n",
       "      <td>NA.GDP.EXC.OG.CR</td>\n",
       "      <td>Total GDP excluding Oil and Gas (in IDR Millio...</td>\n",
       "    </tr>\n",
       "    <tr>\n",
       "      <th>7714</th>\n",
       "      <td>NA.GDP.EXC.OG.KR</td>\n",
       "      <td>Total GDP excluding Oil and Gas (in IDR Millio...</td>\n",
       "    </tr>\n",
       "    <tr>\n",
       "      <th>7715</th>\n",
       "      <td>NA.GDP.FINS.CR</td>\n",
       "      <td>GDP on Financial Service Sector (in IDR Millio...</td>\n",
       "    </tr>\n",
       "    <tr>\n",
       "      <th>7717</th>\n",
       "      <td>NA.GDP.INC.OG.CR</td>\n",
       "      <td>Total GDP including Oil and Gas (in IDR Millio...</td>\n",
       "    </tr>\n",
       "    <tr>\n",
       "      <th>7718</th>\n",
       "      <td>NA.GDP.INC.OG.KR</td>\n",
       "      <td>Total GDP including Oil and Gas (in IDR Millio...</td>\n",
       "    </tr>\n",
       "    <tr>\n",
       "      <th>7719</th>\n",
       "      <td>NA.GDP.MINQ.CR</td>\n",
       "      <td>GDP on Mining and Quarrying Sector (in IDR Mil...</td>\n",
       "    </tr>\n",
       "    <tr>\n",
       "      <th>7720</th>\n",
       "      <td>NA.GDP.MINQ.KR</td>\n",
       "      <td>GDP on Mining and Quarrying Sector (in IDR Mil...</td>\n",
       "    </tr>\n",
       "    <tr>\n",
       "      <th>7721</th>\n",
       "      <td>NA.GDP.MNF.CR</td>\n",
       "      <td>GDP on Manufacturing Sector (in IDR Million), ...</td>\n",
       "    </tr>\n",
       "    <tr>\n",
       "      <th>7722</th>\n",
       "      <td>NA.GDP.MNF.KR</td>\n",
       "      <td>GDP on Manufacturing Sector (in IDR Million), ...</td>\n",
       "    </tr>\n",
       "    <tr>\n",
       "      <th>7723</th>\n",
       "      <td>NA.GDP.SRV.OTHR.CR</td>\n",
       "      <td>GDP on Other Service Sector (in IDR Million), ...</td>\n",
       "    </tr>\n",
       "    <tr>\n",
       "      <th>7725</th>\n",
       "      <td>NA.GDP.TRAN.COMM.CR</td>\n",
       "      <td>GDP on Transportation and Telecommunication Se...</td>\n",
       "    </tr>\n",
       "    <tr>\n",
       "      <th>7726</th>\n",
       "      <td>NA.GDP.TRAN.COMM.KR</td>\n",
       "      <td>GDP on Transportation and Telecommunication Se...</td>\n",
       "    </tr>\n",
       "    <tr>\n",
       "      <th>7727</th>\n",
       "      <td>NA.GDP.TRD.HTL.CR</td>\n",
       "      <td>GDP on Trade, Hotel and Restaurant Sector (in ...</td>\n",
       "    </tr>\n",
       "    <tr>\n",
       "      <th>7728</th>\n",
       "      <td>NA.GDP.TRD.HTL.KR</td>\n",
       "      <td>GDP on Trade, Hotel and Restaurant Sector (in ...</td>\n",
       "    </tr>\n",
       "    <tr>\n",
       "      <th>7729</th>\n",
       "      <td>NA.GDP.UTL.CR</td>\n",
       "      <td>GDP on Utilities Sector (in IDR Million), Curr...</td>\n",
       "    </tr>\n",
       "    <tr>\n",
       "      <th>7730</th>\n",
       "      <td>NA.GDP.UTL.KR</td>\n",
       "      <td>GDP on Utilities Sector (in IDR Million), Cons...</td>\n",
       "    </tr>\n",
       "    <tr>\n",
       "      <th>7807</th>\n",
       "      <td>NE.GDI.CON.GOVT.CR</td>\n",
       "      <td>GDP expenditure on general government consumpt...</td>\n",
       "    </tr>\n",
       "    <tr>\n",
       "      <th>...</th>\n",
       "      <td>...</td>\n",
       "      <td>...</td>\n",
       "    </tr>\n",
       "    <tr>\n",
       "      <th>8062</th>\n",
       "      <td>NY.GDP.FCST.KN.87</td>\n",
       "      <td>GDP at factor cost (constant 1987 LCU)</td>\n",
       "    </tr>\n",
       "    <tr>\n",
       "      <th>8065</th>\n",
       "      <td>NY.GDP.MKTP.CD</td>\n",
       "      <td>GDP (current US$)</td>\n",
       "    </tr>\n",
       "    <tr>\n",
       "      <th>8066</th>\n",
       "      <td>NY.GDP.MKTP.CD.XD</td>\n",
       "      <td>GDP deflator, index (2000=100; US$ series)</td>\n",
       "    </tr>\n",
       "    <tr>\n",
       "      <th>8067</th>\n",
       "      <td>NY.GDP.MKTP.CN</td>\n",
       "      <td>GDP (current LCU)</td>\n",
       "    </tr>\n",
       "    <tr>\n",
       "      <th>8068</th>\n",
       "      <td>NY.GDP.MKTP.CN.AD</td>\n",
       "      <td>GDP: linked series (current LCU)</td>\n",
       "    </tr>\n",
       "    <tr>\n",
       "      <th>8069</th>\n",
       "      <td>NY.GDP.MKTP.CN.XD</td>\n",
       "      <td>GDP deflator, period average (LCU index 2000=100)</td>\n",
       "    </tr>\n",
       "    <tr>\n",
       "      <th>8071</th>\n",
       "      <td>NY.GDP.MKTP.KD</td>\n",
       "      <td>GDP (constant 2010 US$)</td>\n",
       "    </tr>\n",
       "    <tr>\n",
       "      <th>8072</th>\n",
       "      <td>NY.GDP.MKTP.KD.87</td>\n",
       "      <td>GDP at market prices (constant 1987 US$)</td>\n",
       "    </tr>\n",
       "    <tr>\n",
       "      <th>8073</th>\n",
       "      <td>NY.GDP.MKTP.KD.ZG</td>\n",
       "      <td>GDP growth (annual %)</td>\n",
       "    </tr>\n",
       "    <tr>\n",
       "      <th>8074</th>\n",
       "      <td>NY.GDP.MKTP.KN</td>\n",
       "      <td>GDP (constant LCU)</td>\n",
       "    </tr>\n",
       "    <tr>\n",
       "      <th>8075</th>\n",
       "      <td>NY.GDP.MKTP.KN.87</td>\n",
       "      <td>GDP at market prices (constant 1987 LCU)</td>\n",
       "    </tr>\n",
       "    <tr>\n",
       "      <th>8076</th>\n",
       "      <td>NY.GDP.MKTP.KN.87.ZG</td>\n",
       "      <td>GDP growth (annual %)</td>\n",
       "    </tr>\n",
       "    <tr>\n",
       "      <th>8077</th>\n",
       "      <td>NY.GDP.MKTP.PP.CD</td>\n",
       "      <td>GDP, PPP (current international $)</td>\n",
       "    </tr>\n",
       "    <tr>\n",
       "      <th>8081</th>\n",
       "      <td>NY.GDP.MKTP.XU.E</td>\n",
       "      <td>GDP deflator, end period (base year varies by ...</td>\n",
       "    </tr>\n",
       "    <tr>\n",
       "      <th>8084</th>\n",
       "      <td>NY.GDP.PCAP.CD</td>\n",
       "      <td>GDP per capita (current US$)</td>\n",
       "    </tr>\n",
       "    <tr>\n",
       "      <th>8085</th>\n",
       "      <td>NY.GDP.PCAP.CN</td>\n",
       "      <td>GDP per capita (current LCU)</td>\n",
       "    </tr>\n",
       "    <tr>\n",
       "      <th>8086</th>\n",
       "      <td>NY.GDP.PCAP.KD</td>\n",
       "      <td>GDP per capita (constant 2010 US$)</td>\n",
       "    </tr>\n",
       "    <tr>\n",
       "      <th>8087</th>\n",
       "      <td>NY.GDP.PCAP.KD.ZG</td>\n",
       "      <td>GDP per capita growth (annual %)</td>\n",
       "    </tr>\n",
       "    <tr>\n",
       "      <th>8088</th>\n",
       "      <td>NY.GDP.PCAP.KN</td>\n",
       "      <td>GDP per capita (constant LCU)</td>\n",
       "    </tr>\n",
       "    <tr>\n",
       "      <th>8089</th>\n",
       "      <td>NY.GDP.PCAP.PP.CD</td>\n",
       "      <td>GDP per capita, PPP (current international $)</td>\n",
       "    </tr>\n",
       "    <tr>\n",
       "      <th>8092</th>\n",
       "      <td>NY.GDP.PCAP.PP.KD.ZG</td>\n",
       "      <td>GDP per capita, PPP annual growth (%)</td>\n",
       "    </tr>\n",
       "    <tr>\n",
       "      <th>8189</th>\n",
       "      <td>NYGDPMKTPKDZ</td>\n",
       "      <td>Annual percentage growth rate of GDP at market...</td>\n",
       "    </tr>\n",
       "    <tr>\n",
       "      <th>8190</th>\n",
       "      <td>NYGDPMKTPSACD</td>\n",
       "      <td>GDP,current US$,millions,seas. adj.,</td>\n",
       "    </tr>\n",
       "    <tr>\n",
       "      <th>8191</th>\n",
       "      <td>NYGDPMKTPSACN</td>\n",
       "      <td>GDP,current LCU,millions,seas. adj.,</td>\n",
       "    </tr>\n",
       "    <tr>\n",
       "      <th>8192</th>\n",
       "      <td>NYGDPMKTPSAKD</td>\n",
       "      <td>GDP,constant 2010 US$,millions,seas. adj.,</td>\n",
       "    </tr>\n",
       "    <tr>\n",
       "      <th>8193</th>\n",
       "      <td>NYGDPMKTPSAKN</td>\n",
       "      <td>GDP,constant 2010 LCU,millions,seas. adj.,</td>\n",
       "    </tr>\n",
       "    <tr>\n",
       "      <th>8215</th>\n",
       "      <td>PA.NUS.PPP</td>\n",
       "      <td>PPP conversion factor, GDP (LCU per internatio...</td>\n",
       "    </tr>\n",
       "    <tr>\n",
       "      <th>8216</th>\n",
       "      <td>PA.NUS.PPP.05</td>\n",
       "      <td>2005 PPP conversion factor, GDP (LCU per inter...</td>\n",
       "    </tr>\n",
       "    <tr>\n",
       "      <th>10109</th>\n",
       "      <td>SL.GDP.PCAP.EM.KD.ZG</td>\n",
       "      <td>GDP per person employed (annual % growth)</td>\n",
       "    </tr>\n",
       "    <tr>\n",
       "      <th>13112</th>\n",
       "      <td>exp_sa_pw_spe_tot</td>\n",
       "      <td>Total spending as percent of GDP - Public Works</td>\n",
       "    </tr>\n",
       "  </tbody>\n",
       "</table>\n",
       "<p>79 rows × 2 columns</p>\n",
       "</div>"
      ],
      "text/plain": [
       "                         id                                               name\n",
       "682         6.0.GDP_current                                    GDP (current $)\n",
       "683          6.0.GDP_growth                              GDP growth (annual %)\n",
       "688           6.1.2_GDP.PPP                                 GDP (2011 USD PPP)\n",
       "4860      EG.GDP.PUSE.KO.87  GDP per unit of energy use (1987 US$ per kg of...\n",
       "4861      EG.GDP.PUSE.KO.KD  GDP per unit of energy use (2000 US$ per kg of...\n",
       "4862      EG.GDP.PUSE.KO.PP  GDP per unit of energy use (PPP $ per kg of oi...\n",
       "4863   EG.GDP.PUSE.KO.PP.KD  GDP per unit of energy use (constant 2011 PPP ...\n",
       "4994      ER.GDP.FWTL.M3.KD  Water productivity, total (constant 2010 US$ G...\n",
       "5011        EU.EGY.USES.GDP  GDP per unit of energy use (1987 US$ per kg of...\n",
       "7709          NA.GDP.AGR.CR  GDP on Agriculture Sector (in IDR Million), Cu...\n",
       "7710          NA.GDP.AGR.KR  GDP on Agriculture Sector (in IDR Million), Co...\n",
       "7711         NA.GDP.CNST.CR  GDP on Construction Sector (in IDR Million), C...\n",
       "7712         NA.GDP.CNST.KR  GDP on Construction Sector (in IDR Million), C...\n",
       "7713       NA.GDP.EXC.OG.CR  Total GDP excluding Oil and Gas (in IDR Millio...\n",
       "7714       NA.GDP.EXC.OG.KR  Total GDP excluding Oil and Gas (in IDR Millio...\n",
       "7715         NA.GDP.FINS.CR  GDP on Financial Service Sector (in IDR Millio...\n",
       "7717       NA.GDP.INC.OG.CR  Total GDP including Oil and Gas (in IDR Millio...\n",
       "7718       NA.GDP.INC.OG.KR  Total GDP including Oil and Gas (in IDR Millio...\n",
       "7719         NA.GDP.MINQ.CR  GDP on Mining and Quarrying Sector (in IDR Mil...\n",
       "7720         NA.GDP.MINQ.KR  GDP on Mining and Quarrying Sector (in IDR Mil...\n",
       "7721          NA.GDP.MNF.CR  GDP on Manufacturing Sector (in IDR Million), ...\n",
       "7722          NA.GDP.MNF.KR  GDP on Manufacturing Sector (in IDR Million), ...\n",
       "7723     NA.GDP.SRV.OTHR.CR  GDP on Other Service Sector (in IDR Million), ...\n",
       "7725    NA.GDP.TRAN.COMM.CR  GDP on Transportation and Telecommunication Se...\n",
       "7726    NA.GDP.TRAN.COMM.KR  GDP on Transportation and Telecommunication Se...\n",
       "7727      NA.GDP.TRD.HTL.CR  GDP on Trade, Hotel and Restaurant Sector (in ...\n",
       "7728      NA.GDP.TRD.HTL.KR  GDP on Trade, Hotel and Restaurant Sector (in ...\n",
       "7729          NA.GDP.UTL.CR  GDP on Utilities Sector (in IDR Million), Curr...\n",
       "7730          NA.GDP.UTL.KR  GDP on Utilities Sector (in IDR Million), Cons...\n",
       "7807     NE.GDI.CON.GOVT.CR  GDP expenditure on general government consumpt...\n",
       "...                     ...                                                ...\n",
       "8062      NY.GDP.FCST.KN.87             GDP at factor cost (constant 1987 LCU)\n",
       "8065         NY.GDP.MKTP.CD                                  GDP (current US$)\n",
       "8066      NY.GDP.MKTP.CD.XD         GDP deflator, index (2000=100; US$ series)\n",
       "8067         NY.GDP.MKTP.CN                                  GDP (current LCU)\n",
       "8068      NY.GDP.MKTP.CN.AD                   GDP: linked series (current LCU)\n",
       "8069      NY.GDP.MKTP.CN.XD  GDP deflator, period average (LCU index 2000=100)\n",
       "8071         NY.GDP.MKTP.KD                            GDP (constant 2010 US$)\n",
       "8072      NY.GDP.MKTP.KD.87           GDP at market prices (constant 1987 US$)\n",
       "8073      NY.GDP.MKTP.KD.ZG                              GDP growth (annual %)\n",
       "8074         NY.GDP.MKTP.KN                                 GDP (constant LCU)\n",
       "8075      NY.GDP.MKTP.KN.87           GDP at market prices (constant 1987 LCU)\n",
       "8076   NY.GDP.MKTP.KN.87.ZG                              GDP growth (annual %)\n",
       "8077      NY.GDP.MKTP.PP.CD                 GDP, PPP (current international $)\n",
       "8081       NY.GDP.MKTP.XU.E  GDP deflator, end period (base year varies by ...\n",
       "8084         NY.GDP.PCAP.CD                       GDP per capita (current US$)\n",
       "8085         NY.GDP.PCAP.CN                       GDP per capita (current LCU)\n",
       "8086         NY.GDP.PCAP.KD                 GDP per capita (constant 2010 US$)\n",
       "8087      NY.GDP.PCAP.KD.ZG                   GDP per capita growth (annual %)\n",
       "8088         NY.GDP.PCAP.KN                      GDP per capita (constant LCU)\n",
       "8089      NY.GDP.PCAP.PP.CD      GDP per capita, PPP (current international $)\n",
       "8092   NY.GDP.PCAP.PP.KD.ZG              GDP per capita, PPP annual growth (%)\n",
       "8189           NYGDPMKTPKDZ  Annual percentage growth rate of GDP at market...\n",
       "8190          NYGDPMKTPSACD               GDP,current US$,millions,seas. adj.,\n",
       "8191          NYGDPMKTPSACN               GDP,current LCU,millions,seas. adj.,\n",
       "8192          NYGDPMKTPSAKD         GDP,constant 2010 US$,millions,seas. adj.,\n",
       "8193          NYGDPMKTPSAKN         GDP,constant 2010 LCU,millions,seas. adj.,\n",
       "8215             PA.NUS.PPP  PPP conversion factor, GDP (LCU per internatio...\n",
       "8216          PA.NUS.PPP.05  2005 PPP conversion factor, GDP (LCU per inter...\n",
       "10109  SL.GDP.PCAP.EM.KD.ZG          GDP per person employed (annual % growth)\n",
       "13112     exp_sa_pw_spe_tot    Total spending as percent of GDP - Public Works\n",
       "\n",
       "[79 rows x 2 columns]"
      ]
     },
     "execution_count": 6,
     "metadata": {},
     "output_type": "execute_result"
    }
   ],
   "source": [
    "from pandas_datareader import wb\n",
    "\n",
    "wb.search('gdp.*US*').iloc[:,:2]"
   ]
  },
  {
   "cell_type": "code",
   "execution_count": 7,
   "metadata": {
    "ExecuteTime": {
     "end_time": "2017-10-23T22:05:14.485273",
     "start_time": "2017-10-23T22:05:14.330971"
    },
    "collapsed": false
   },
   "outputs": [
    {
     "data": {
      "text/html": [
       "<div>\n",
       "<table border=\"1\" class=\"dataframe\">\n",
       "  <thead>\n",
       "    <tr style=\"text-align: right;\">\n",
       "      <th></th>\n",
       "      <th></th>\n",
       "      <th>NY.GDP.MKTP.CD</th>\n",
       "    </tr>\n",
       "    <tr>\n",
       "      <th>country</th>\n",
       "      <th>year</th>\n",
       "      <th></th>\n",
       "    </tr>\n",
       "  </thead>\n",
       "  <tbody>\n",
       "    <tr>\n",
       "      <th>Arab World</th>\n",
       "      <th>2012</th>\n",
       "      <td>2.740536e+12</td>\n",
       "    </tr>\n",
       "    <tr>\n",
       "      <th>Caribbean small states</th>\n",
       "      <th>2012</th>\n",
       "      <td>6.786056e+10</td>\n",
       "    </tr>\n",
       "    <tr>\n",
       "      <th>Central Europe and the Baltics</th>\n",
       "      <th>2012</th>\n",
       "      <td>1.350779e+12</td>\n",
       "    </tr>\n",
       "    <tr>\n",
       "      <th>Early-demographic dividend</th>\n",
       "      <th>2012</th>\n",
       "      <td>9.956217e+12</td>\n",
       "    </tr>\n",
       "    <tr>\n",
       "      <th>East Asia &amp; Pacific</th>\n",
       "      <th>2012</th>\n",
       "      <td>2.101311e+13</td>\n",
       "    </tr>\n",
       "  </tbody>\n",
       "</table>\n",
       "</div>"
      ],
      "text/plain": [
       "                                     NY.GDP.MKTP.CD\n",
       "country                        year                \n",
       "Arab World                     2012    2.740536e+12\n",
       "Caribbean small states         2012    6.786056e+10\n",
       "Central Europe and the Baltics 2012    1.350779e+12\n",
       "Early-demographic dividend     2012    9.956217e+12\n",
       "East Asia & Pacific            2012    2.101311e+13"
      ]
     },
     "execution_count": 7,
     "metadata": {},
     "output_type": "execute_result"
    }
   ],
   "source": [
    "gdp = wb.download(indicator='NY.GDP.MKTP.CD', country='all', start=2012, end=2012)\n",
    "gdp.head()"
   ]
  },
  {
   "cell_type": "code",
   "execution_count": 8,
   "metadata": {
    "ExecuteTime": {
     "end_time": "2017-10-23T22:05:14.569481",
     "start_time": "2017-10-23T22:05:14.487575"
    },
    "collapsed": false
   },
   "outputs": [
    {
     "data": {
      "text/html": [
       "<div>\n",
       "<table border=\"1\" class=\"dataframe\">\n",
       "  <thead>\n",
       "    <tr style=\"text-align: right;\">\n",
       "      <th></th>\n",
       "      <th>id</th>\n",
       "      <th>name</th>\n",
       "    </tr>\n",
       "  </thead>\n",
       "  <tbody>\n",
       "    <tr>\n",
       "      <th>10559</th>\n",
       "      <td>SP.POP.AG05.TO.UN</td>\n",
       "      <td>Population, age 5, total</td>\n",
       "    </tr>\n",
       "    <tr>\n",
       "      <th>10564</th>\n",
       "      <td>SP.POP.AG06.TO.UN</td>\n",
       "      <td>Population, age 6, total</td>\n",
       "    </tr>\n",
       "    <tr>\n",
       "      <th>10569</th>\n",
       "      <td>SP.POP.AG07.TO.UN</td>\n",
       "      <td>Population, age 7, total</td>\n",
       "    </tr>\n",
       "    <tr>\n",
       "      <th>10574</th>\n",
       "      <td>SP.POP.AG08.TO.UN</td>\n",
       "      <td>Population, age 8, total</td>\n",
       "    </tr>\n",
       "    <tr>\n",
       "      <th>10579</th>\n",
       "      <td>SP.POP.AG09.TO.UN</td>\n",
       "      <td>Population, age 9, total</td>\n",
       "    </tr>\n",
       "    <tr>\n",
       "      <th>10584</th>\n",
       "      <td>SP.POP.AG10.TO.UN</td>\n",
       "      <td>Population, age 10, total</td>\n",
       "    </tr>\n",
       "    <tr>\n",
       "      <th>10589</th>\n",
       "      <td>SP.POP.AG11.TO.UN</td>\n",
       "      <td>Population, age 11, total</td>\n",
       "    </tr>\n",
       "    <tr>\n",
       "      <th>10594</th>\n",
       "      <td>SP.POP.AG12.TO.UN</td>\n",
       "      <td>Population, age 12, total</td>\n",
       "    </tr>\n",
       "    <tr>\n",
       "      <th>10599</th>\n",
       "      <td>SP.POP.AG13.TO.UN</td>\n",
       "      <td>Population, age 13, total</td>\n",
       "    </tr>\n",
       "    <tr>\n",
       "      <th>10604</th>\n",
       "      <td>SP.POP.AG14.TO.UN</td>\n",
       "      <td>Population, age 14, total</td>\n",
       "    </tr>\n",
       "    <tr>\n",
       "      <th>10609</th>\n",
       "      <td>SP.POP.AG15.TO.UN</td>\n",
       "      <td>Population, age 15, total</td>\n",
       "    </tr>\n",
       "    <tr>\n",
       "      <th>10614</th>\n",
       "      <td>SP.POP.AG16.TO.UN</td>\n",
       "      <td>Population, age 16, total</td>\n",
       "    </tr>\n",
       "    <tr>\n",
       "      <th>10619</th>\n",
       "      <td>SP.POP.AG17.TO.UN</td>\n",
       "      <td>Population, age 17, total</td>\n",
       "    </tr>\n",
       "    <tr>\n",
       "      <th>10624</th>\n",
       "      <td>SP.POP.AG18.TO.UN</td>\n",
       "      <td>Population, age 18, total</td>\n",
       "    </tr>\n",
       "    <tr>\n",
       "      <th>10629</th>\n",
       "      <td>SP.POP.AG19.TO.UN</td>\n",
       "      <td>Population, age 19, total</td>\n",
       "    </tr>\n",
       "    <tr>\n",
       "      <th>10634</th>\n",
       "      <td>SP.POP.AG20.TO.UN</td>\n",
       "      <td>Population, age 20, total</td>\n",
       "    </tr>\n",
       "    <tr>\n",
       "      <th>10639</th>\n",
       "      <td>SP.POP.AG21.TO.UN</td>\n",
       "      <td>Population, age 21, total</td>\n",
       "    </tr>\n",
       "    <tr>\n",
       "      <th>10644</th>\n",
       "      <td>SP.POP.AG22.TO.UN</td>\n",
       "      <td>Population, age 22, total</td>\n",
       "    </tr>\n",
       "    <tr>\n",
       "      <th>10649</th>\n",
       "      <td>SP.POP.AG23.TO.UN</td>\n",
       "      <td>Population, age 23, total</td>\n",
       "    </tr>\n",
       "    <tr>\n",
       "      <th>10654</th>\n",
       "      <td>SP.POP.AG24.TO.UN</td>\n",
       "      <td>Population, age 24, total</td>\n",
       "    </tr>\n",
       "    <tr>\n",
       "      <th>10659</th>\n",
       "      <td>SP.POP.AG25.TO.UN</td>\n",
       "      <td>Population, age 25, total</td>\n",
       "    </tr>\n",
       "    <tr>\n",
       "      <th>10670</th>\n",
       "      <td>SP.POP.TOTL</td>\n",
       "      <td>Population, total</td>\n",
       "    </tr>\n",
       "    <tr>\n",
       "      <th>10672</th>\n",
       "      <td>SP.POP.TOTL.FE.ZS</td>\n",
       "      <td>Population, female (% of total)</td>\n",
       "    </tr>\n",
       "    <tr>\n",
       "      <th>10674</th>\n",
       "      <td>SP.POP.TOTL.MA.ZS</td>\n",
       "      <td>Population, male (% of total)</td>\n",
       "    </tr>\n",
       "    <tr>\n",
       "      <th>10675</th>\n",
       "      <td>SP.POP.TOTL.ZS</td>\n",
       "      <td>Population (% of total)</td>\n",
       "    </tr>\n",
       "    <tr>\n",
       "      <th>10690</th>\n",
       "      <td>SP.RUR.TOTL.FE.ZS</td>\n",
       "      <td>Rural population, female (% of total)</td>\n",
       "    </tr>\n",
       "    <tr>\n",
       "      <th>10691</th>\n",
       "      <td>SP.RUR.TOTL.MA.ZS</td>\n",
       "      <td>Rural population, male (% of total)</td>\n",
       "    </tr>\n",
       "    <tr>\n",
       "      <th>10693</th>\n",
       "      <td>SP.RUR.TOTL.ZS</td>\n",
       "      <td>Rural population (% of total population)</td>\n",
       "    </tr>\n",
       "    <tr>\n",
       "      <th>10710</th>\n",
       "      <td>SP.URB.MCTY.UR.ZS</td>\n",
       "      <td>Population in urban agglomerations &gt; 1 million...</td>\n",
       "    </tr>\n",
       "    <tr>\n",
       "      <th>10712</th>\n",
       "      <td>SP.URB.TOTL.FE.ZS</td>\n",
       "      <td>Urban population, female (% of total)</td>\n",
       "    </tr>\n",
       "    <tr>\n",
       "      <th>10713</th>\n",
       "      <td>SP.URB.TOTL.IN.ZS</td>\n",
       "      <td>Urban population (% of total)</td>\n",
       "    </tr>\n",
       "    <tr>\n",
       "      <th>10714</th>\n",
       "      <td>SP.URB.TOTL.MA.ZS</td>\n",
       "      <td>Urban population, male (% of total)</td>\n",
       "    </tr>\n",
       "    <tr>\n",
       "      <th>10715</th>\n",
       "      <td>SP.URB.TOTL.ZS</td>\n",
       "      <td>Percentage of Population in Urban Areas (in % ...</td>\n",
       "    </tr>\n",
       "    <tr>\n",
       "      <th>11213</th>\n",
       "      <td>UIS.EA.1.AG25T99</td>\n",
       "      <td>UIS: Percentage of population age 25+ with com...</td>\n",
       "    </tr>\n",
       "    <tr>\n",
       "      <th>11216</th>\n",
       "      <td>UIS.EA.1T6.AG25T99</td>\n",
       "      <td>UIS: Percentage of population age 25+ with at ...</td>\n",
       "    </tr>\n",
       "    <tr>\n",
       "      <th>11220</th>\n",
       "      <td>UIS.EA.2.AG25T99</td>\n",
       "      <td>UIS: Percentage of population age 25+ with com...</td>\n",
       "    </tr>\n",
       "    <tr>\n",
       "      <th>11223</th>\n",
       "      <td>UIS.EA.2T6.AG25T99</td>\n",
       "      <td>UIS: Percentage of population age 25+ with at ...</td>\n",
       "    </tr>\n",
       "    <tr>\n",
       "      <th>11227</th>\n",
       "      <td>UIS.EA.3.AG25T99</td>\n",
       "      <td>UIS: Percentage of population age 25+ with com...</td>\n",
       "    </tr>\n",
       "    <tr>\n",
       "      <th>11230</th>\n",
       "      <td>UIS.EA.3T6.AG25T99</td>\n",
       "      <td>UIS: Percentage of population age 25+ with at ...</td>\n",
       "    </tr>\n",
       "    <tr>\n",
       "      <th>11234</th>\n",
       "      <td>UIS.EA.4.AG25T99</td>\n",
       "      <td>UIS: Percentage of population age 25+ with com...</td>\n",
       "    </tr>\n",
       "    <tr>\n",
       "      <th>11237</th>\n",
       "      <td>UIS.EA.4T6.AG25T99</td>\n",
       "      <td>UIS: Percentage of population age 25+ with at ...</td>\n",
       "    </tr>\n",
       "    <tr>\n",
       "      <th>11241</th>\n",
       "      <td>UIS.EA.5.AG25T99</td>\n",
       "      <td>UIS: Percentage of population age 25+ with a c...</td>\n",
       "    </tr>\n",
       "    <tr>\n",
       "      <th>11244</th>\n",
       "      <td>UIS.EA.5T8.AG25T99</td>\n",
       "      <td>UIS: Percentage of population age 25+ with at ...</td>\n",
       "    </tr>\n",
       "    <tr>\n",
       "      <th>11248</th>\n",
       "      <td>UIS.EA.6.AG25T99</td>\n",
       "      <td>UIS: Percentage of population age 25+ with a c...</td>\n",
       "    </tr>\n",
       "    <tr>\n",
       "      <th>11251</th>\n",
       "      <td>UIS.EA.6T8.AG25T99</td>\n",
       "      <td>UIS: Percentage of population age 25+ with at ...</td>\n",
       "    </tr>\n",
       "    <tr>\n",
       "      <th>11255</th>\n",
       "      <td>UIS.EA.7.AG25T99</td>\n",
       "      <td>UIS: Percentage of population age 25+ with a c...</td>\n",
       "    </tr>\n",
       "    <tr>\n",
       "      <th>11258</th>\n",
       "      <td>UIS.EA.7T8.AG25T99</td>\n",
       "      <td>UIS: Percentage of population age 25+ with at ...</td>\n",
       "    </tr>\n",
       "    <tr>\n",
       "      <th>11262</th>\n",
       "      <td>UIS.EA.8.AG25T99</td>\n",
       "      <td>UIS: Percentage of population age 25+ with a d...</td>\n",
       "    </tr>\n",
       "    <tr>\n",
       "      <th>11266</th>\n",
       "      <td>UIS.EA.MEAN.1T6.AG25T99</td>\n",
       "      <td>UIS: Mean years of schooling of the population...</td>\n",
       "    </tr>\n",
       "    <tr>\n",
       "      <th>11269</th>\n",
       "      <td>UIS.EA.NS.AG25T99</td>\n",
       "      <td>UIS: Percentage of population age 25+ with no ...</td>\n",
       "    </tr>\n",
       "    <tr>\n",
       "      <th>11272</th>\n",
       "      <td>UIS.EA.S1.AG25T99</td>\n",
       "      <td>UIS: Percentage of population age 25+ with som...</td>\n",
       "    </tr>\n",
       "    <tr>\n",
       "      <th>11275</th>\n",
       "      <td>UIS.EA.UK.AG25T99</td>\n",
       "      <td>UIS: Percentage of population age 25+ with unk...</td>\n",
       "    </tr>\n",
       "  </tbody>\n",
       "</table>\n",
       "</div>"
      ],
      "text/plain": [
       "                            id  \\\n",
       "10559        SP.POP.AG05.TO.UN   \n",
       "10564        SP.POP.AG06.TO.UN   \n",
       "10569        SP.POP.AG07.TO.UN   \n",
       "10574        SP.POP.AG08.TO.UN   \n",
       "10579        SP.POP.AG09.TO.UN   \n",
       "10584        SP.POP.AG10.TO.UN   \n",
       "10589        SP.POP.AG11.TO.UN   \n",
       "10594        SP.POP.AG12.TO.UN   \n",
       "10599        SP.POP.AG13.TO.UN   \n",
       "10604        SP.POP.AG14.TO.UN   \n",
       "10609        SP.POP.AG15.TO.UN   \n",
       "10614        SP.POP.AG16.TO.UN   \n",
       "10619        SP.POP.AG17.TO.UN   \n",
       "10624        SP.POP.AG18.TO.UN   \n",
       "10629        SP.POP.AG19.TO.UN   \n",
       "10634        SP.POP.AG20.TO.UN   \n",
       "10639        SP.POP.AG21.TO.UN   \n",
       "10644        SP.POP.AG22.TO.UN   \n",
       "10649        SP.POP.AG23.TO.UN   \n",
       "10654        SP.POP.AG24.TO.UN   \n",
       "10659        SP.POP.AG25.TO.UN   \n",
       "10670              SP.POP.TOTL   \n",
       "10672        SP.POP.TOTL.FE.ZS   \n",
       "10674        SP.POP.TOTL.MA.ZS   \n",
       "10675           SP.POP.TOTL.ZS   \n",
       "10690        SP.RUR.TOTL.FE.ZS   \n",
       "10691        SP.RUR.TOTL.MA.ZS   \n",
       "10693           SP.RUR.TOTL.ZS   \n",
       "10710        SP.URB.MCTY.UR.ZS   \n",
       "10712        SP.URB.TOTL.FE.ZS   \n",
       "10713        SP.URB.TOTL.IN.ZS   \n",
       "10714        SP.URB.TOTL.MA.ZS   \n",
       "10715           SP.URB.TOTL.ZS   \n",
       "11213         UIS.EA.1.AG25T99   \n",
       "11216       UIS.EA.1T6.AG25T99   \n",
       "11220         UIS.EA.2.AG25T99   \n",
       "11223       UIS.EA.2T6.AG25T99   \n",
       "11227         UIS.EA.3.AG25T99   \n",
       "11230       UIS.EA.3T6.AG25T99   \n",
       "11234         UIS.EA.4.AG25T99   \n",
       "11237       UIS.EA.4T6.AG25T99   \n",
       "11241         UIS.EA.5.AG25T99   \n",
       "11244       UIS.EA.5T8.AG25T99   \n",
       "11248         UIS.EA.6.AG25T99   \n",
       "11251       UIS.EA.6T8.AG25T99   \n",
       "11255         UIS.EA.7.AG25T99   \n",
       "11258       UIS.EA.7T8.AG25T99   \n",
       "11262         UIS.EA.8.AG25T99   \n",
       "11266  UIS.EA.MEAN.1T6.AG25T99   \n",
       "11269        UIS.EA.NS.AG25T99   \n",
       "11272        UIS.EA.S1.AG25T99   \n",
       "11275        UIS.EA.UK.AG25T99   \n",
       "\n",
       "                                                    name  \n",
       "10559                           Population, age 5, total  \n",
       "10564                           Population, age 6, total  \n",
       "10569                           Population, age 7, total  \n",
       "10574                           Population, age 8, total  \n",
       "10579                           Population, age 9, total  \n",
       "10584                          Population, age 10, total  \n",
       "10589                          Population, age 11, total  \n",
       "10594                          Population, age 12, total  \n",
       "10599                          Population, age 13, total  \n",
       "10604                          Population, age 14, total  \n",
       "10609                          Population, age 15, total  \n",
       "10614                          Population, age 16, total  \n",
       "10619                          Population, age 17, total  \n",
       "10624                          Population, age 18, total  \n",
       "10629                          Population, age 19, total  \n",
       "10634                          Population, age 20, total  \n",
       "10639                          Population, age 21, total  \n",
       "10644                          Population, age 22, total  \n",
       "10649                          Population, age 23, total  \n",
       "10654                          Population, age 24, total  \n",
       "10659                          Population, age 25, total  \n",
       "10670                                  Population, total  \n",
       "10672                    Population, female (% of total)  \n",
       "10674                      Population, male (% of total)  \n",
       "10675                            Population (% of total)  \n",
       "10690              Rural population, female (% of total)  \n",
       "10691                Rural population, male (% of total)  \n",
       "10693           Rural population (% of total population)  \n",
       "10710  Population in urban agglomerations > 1 million...  \n",
       "10712              Urban population, female (% of total)  \n",
       "10713                      Urban population (% of total)  \n",
       "10714                Urban population, male (% of total)  \n",
       "10715  Percentage of Population in Urban Areas (in % ...  \n",
       "11213  UIS: Percentage of population age 25+ with com...  \n",
       "11216  UIS: Percentage of population age 25+ with at ...  \n",
       "11220  UIS: Percentage of population age 25+ with com...  \n",
       "11223  UIS: Percentage of population age 25+ with at ...  \n",
       "11227  UIS: Percentage of population age 25+ with com...  \n",
       "11230  UIS: Percentage of population age 25+ with at ...  \n",
       "11234  UIS: Percentage of population age 25+ with com...  \n",
       "11237  UIS: Percentage of population age 25+ with at ...  \n",
       "11241  UIS: Percentage of population age 25+ with a c...  \n",
       "11244  UIS: Percentage of population age 25+ with at ...  \n",
       "11248  UIS: Percentage of population age 25+ with a c...  \n",
       "11251  UIS: Percentage of population age 25+ with at ...  \n",
       "11255  UIS: Percentage of population age 25+ with a c...  \n",
       "11258  UIS: Percentage of population age 25+ with at ...  \n",
       "11262  UIS: Percentage of population age 25+ with a d...  \n",
       "11266  UIS: Mean years of schooling of the population...  \n",
       "11269  UIS: Percentage of population age 25+ with no ...  \n",
       "11272  UIS: Percentage of population age 25+ with som...  \n",
       "11275  UIS: Percentage of population age 25+ with unk...  "
      ]
     },
     "execution_count": 8,
     "metadata": {},
     "output_type": "execute_result"
    }
   ],
   "source": [
    "#same for population, though there are very many populatin files so it requires a buit of a harder search. \n",
    "# Finally I am able to visualize it after removing the first couple hundred entries. \n",
    "#The name of the direct download file helps the search\n",
    "wb.search('POP.*TOTL*').iloc[270:,:2]"
   ]
  },
  {
   "cell_type": "code",
   "execution_count": 9,
   "metadata": {
    "ExecuteTime": {
     "end_time": "2017-10-23T22:05:14.703445",
     "start_time": "2017-10-23T22:05:14.571533"
    },
    "collapsed": false
   },
   "outputs": [
    {
     "data": {
      "text/html": [
       "<div>\n",
       "<table border=\"1\" class=\"dataframe\">\n",
       "  <thead>\n",
       "    <tr style=\"text-align: right;\">\n",
       "      <th></th>\n",
       "      <th></th>\n",
       "      <th>SP.POP.TOTL</th>\n",
       "    </tr>\n",
       "    <tr>\n",
       "      <th>country</th>\n",
       "      <th>year</th>\n",
       "      <th></th>\n",
       "    </tr>\n",
       "  </thead>\n",
       "  <tbody>\n",
       "    <tr>\n",
       "      <th>Arab World</th>\n",
       "      <th>2012</th>\n",
       "      <td>3.733070e+08</td>\n",
       "    </tr>\n",
       "    <tr>\n",
       "      <th>Caribbean small states</th>\n",
       "      <th>2012</th>\n",
       "      <td>7.074129e+06</td>\n",
       "    </tr>\n",
       "    <tr>\n",
       "      <th>Central Europe and the Baltics</th>\n",
       "      <th>2012</th>\n",
       "      <td>1.039353e+08</td>\n",
       "    </tr>\n",
       "    <tr>\n",
       "      <th>Early-demographic dividend</th>\n",
       "      <th>2012</th>\n",
       "      <td>2.996573e+09</td>\n",
       "    </tr>\n",
       "    <tr>\n",
       "      <th>East Asia &amp; Pacific</th>\n",
       "      <th>2012</th>\n",
       "      <td>2.235430e+09</td>\n",
       "    </tr>\n",
       "  </tbody>\n",
       "</table>\n",
       "</div>"
      ],
      "text/plain": [
       "                                      SP.POP.TOTL\n",
       "country                        year              \n",
       "Arab World                     2012  3.733070e+08\n",
       "Caribbean small states         2012  7.074129e+06\n",
       "Central Europe and the Baltics 2012  1.039353e+08\n",
       "Early-demographic dividend     2012  2.996573e+09\n",
       "East Asia & Pacific            2012  2.235430e+09"
      ]
     },
     "execution_count": 9,
     "metadata": {},
     "output_type": "execute_result"
    }
   ],
   "source": [
    "pop = wb.download(indicator='SP.POP.TOTL', country='all', start=2012, end=2012)\n",
    "pop.head()"
   ]
  },
  {
   "cell_type": "markdown",
   "metadata": {},
   "source": [
    "last file is the guns per person. The link in the page I pointed you to is a link to a downloader. There are APIs that allow you to interact with the downloader, but **if it gets too complicated** (and only in that case) it is fair to state the data source in detail, access date and time (since it may be then different than the last time the notebook was run!), and download by hand"
   ]
  },
  {
   "cell_type": "markdown",
   "metadata": {},
   "source": [
    "** DATA SOURCE FOR NUMBER OF MASS SHOOTINGS: **\n",
    "The number of mass shooting is extracted from a [Creative Commons](https://creativecommons.org/licenses/by-nd/4.0/). The file can be accessed through [this link](https://datawrapper.dwcdn.net/pvLFI/4/) (which leads to this download statement for data-wrapper:  data:application/octet-stream;charset=utf-8,Country%2CGuns%2F100%20inhabitants%2CNumber%20of%20mass%20shootings%0AAustralia%2C15%2C4%0AAustria%2C30.4%2C1%0ABeligium%2C17.2%2C2%0ACanada%2C30.8%2C4%0ADenmark%2C12%2C0%0AFinland%2C45.3%2C2%0AFrance%2C31.2%2C6%0AGermany%2C30.3%2C7%0AGreece%2C22.5%2C0%0AHolland%2C3.9%2C2%0AHungary%2C5.5%2C0%0AIceland%2C30.3%2C0%0AIreland%2C8.6%2C0%0AItaly%2C11.9%2C0%0AJapan%2C0.6%2C0%0ALuxembourg%2C15.3%2C0%0ANew%20Zealand%2C22.6%2C3%0ANorway%2C31.3%2C1%0APoland%2C1.3%2C0%0APortugal%2C8.5%2C1%0ASpain%2C10.4%2C1%0ASweden%2C31.6%2C2%0ASwitzerland%2C45.7%2C2%0AUnited%20Kingdom%2C6.2%2C3%0AUnited%20States%2C88.8%2C78)\n",
    "\n",
    "Publication date is unknown, accessed on October 14, 2017 10:04AM and saved locally as data-pvLFI.csv\n",
    "\n",
    "(note: if I accessed this first I would only have to query a subset of countries from the worldbank database which may be a smart idea to limit download and memory)"
   ]
  },
  {
   "cell_type": "code",
   "execution_count": 10,
   "metadata": {
    "ExecuteTime": {
     "end_time": "2017-10-23T22:05:14.726254",
     "start_time": "2017-10-23T22:05:14.705522"
    },
    "collapsed": false,
    "run_control": {
     "frozen": false,
     "read_only": false
    }
   },
   "outputs": [
    {
     "data": {
      "text/html": [
       "<div>\n",
       "<table border=\"1\" class=\"dataframe\">\n",
       "  <thead>\n",
       "    <tr style=\"text-align: right;\">\n",
       "      <th></th>\n",
       "      <th>Country</th>\n",
       "      <th>Guns/100 inhabitants</th>\n",
       "      <th>Number of mass shootings</th>\n",
       "    </tr>\n",
       "  </thead>\n",
       "  <tbody>\n",
       "    <tr>\n",
       "      <th>0</th>\n",
       "      <td>Australia</td>\n",
       "      <td>15.0</td>\n",
       "      <td>4</td>\n",
       "    </tr>\n",
       "    <tr>\n",
       "      <th>1</th>\n",
       "      <td>Austria</td>\n",
       "      <td>30.4</td>\n",
       "      <td>1</td>\n",
       "    </tr>\n",
       "    <tr>\n",
       "      <th>2</th>\n",
       "      <td>Beligium</td>\n",
       "      <td>17.2</td>\n",
       "      <td>2</td>\n",
       "    </tr>\n",
       "    <tr>\n",
       "      <th>3</th>\n",
       "      <td>Canada</td>\n",
       "      <td>30.8</td>\n",
       "      <td>4</td>\n",
       "    </tr>\n",
       "    <tr>\n",
       "      <th>4</th>\n",
       "      <td>Denmark</td>\n",
       "      <td>12.0</td>\n",
       "      <td>0</td>\n",
       "    </tr>\n",
       "  </tbody>\n",
       "</table>\n",
       "</div>"
      ],
      "text/plain": [
       "     Country  Guns/100 inhabitants  Number of mass shootings\n",
       "0  Australia                  15.0                         4\n",
       "1    Austria                  30.4                         1\n",
       "2   Beligium                  17.2                         2\n",
       "3     Canada                  30.8                         4\n",
       "4    Denmark                  12.0                         0"
      ]
     },
     "execution_count": 10,
     "metadata": {},
     "output_type": "execute_result"
    }
   ],
   "source": [
    "ms = pd.read_csv(\"data-pvLFI.csv\")\n",
    "ms.head()"
   ]
  },
  {
   "cell_type": "markdown",
   "metadata": {},
   "source": [
    "## data aggregation\n",
    "\n",
    "merging all datasets together"
   ]
  },
  {
   "cell_type": "code",
   "execution_count": 11,
   "metadata": {
    "ExecuteTime": {
     "end_time": "2017-10-23T22:05:14.775864",
     "start_time": "2017-10-23T22:05:14.728725"
    },
    "collapsed": false
   },
   "outputs": [
    {
     "data": {
      "text/html": [
       "<div>\n",
       "<table border=\"1\" class=\"dataframe\">\n",
       "  <thead>\n",
       "    <tr style=\"text-align: right;\">\n",
       "      <th></th>\n",
       "      <th>gdp</th>\n",
       "      <th>pop</th>\n",
       "    </tr>\n",
       "    <tr>\n",
       "      <th>country</th>\n",
       "      <th></th>\n",
       "      <th></th>\n",
       "    </tr>\n",
       "  </thead>\n",
       "  <tbody>\n",
       "    <tr>\n",
       "      <th>Arab World</th>\n",
       "      <td>2.740536e+12</td>\n",
       "      <td>3.733070e+08</td>\n",
       "    </tr>\n",
       "    <tr>\n",
       "      <th>Caribbean small states</th>\n",
       "      <td>6.786056e+10</td>\n",
       "      <td>7.074129e+06</td>\n",
       "    </tr>\n",
       "    <tr>\n",
       "      <th>Central Europe and the Baltics</th>\n",
       "      <td>1.350779e+12</td>\n",
       "      <td>1.039353e+08</td>\n",
       "    </tr>\n",
       "    <tr>\n",
       "      <th>Early-demographic dividend</th>\n",
       "      <td>9.956217e+12</td>\n",
       "      <td>2.996573e+09</td>\n",
       "    </tr>\n",
       "    <tr>\n",
       "      <th>East Asia &amp; Pacific</th>\n",
       "      <td>2.101311e+13</td>\n",
       "      <td>2.235430e+09</td>\n",
       "    </tr>\n",
       "    <tr>\n",
       "      <th>East Asia &amp; Pacific (excluding high income)</th>\n",
       "      <td>1.073815e+13</td>\n",
       "      <td>1.993009e+09</td>\n",
       "    </tr>\n",
       "    <tr>\n",
       "      <th>East Asia &amp; Pacific (IDA &amp; IBRD countries)</th>\n",
       "      <td>1.071738e+13</td>\n",
       "      <td>1.968120e+09</td>\n",
       "    </tr>\n",
       "    <tr>\n",
       "      <th>Euro area</th>\n",
       "      <td>1.263759e+13</td>\n",
       "      <td>3.361673e+08</td>\n",
       "    </tr>\n",
       "    <tr>\n",
       "      <th>Europe &amp; Central Asia</th>\n",
       "      <td>2.227831e+13</td>\n",
       "      <td>8.946667e+08</td>\n",
       "    </tr>\n",
       "    <tr>\n",
       "      <th>Europe &amp; Central Asia (excluding high income)</th>\n",
       "      <td>4.070879e+12</td>\n",
       "      <td>4.077066e+08</td>\n",
       "    </tr>\n",
       "    <tr>\n",
       "      <th>Europe &amp; Central Asia (IDA &amp; IBRD countries)</th>\n",
       "      <td>4.571224e+12</td>\n",
       "      <td>4.457697e+08</td>\n",
       "    </tr>\n",
       "    <tr>\n",
       "      <th>European Union</th>\n",
       "      <td>1.727172e+13</td>\n",
       "      <td>5.051043e+08</td>\n",
       "    </tr>\n",
       "    <tr>\n",
       "      <th>Fragile and conflict affected situations</th>\n",
       "      <td>7.492119e+11</td>\n",
       "      <td>4.602282e+08</td>\n",
       "    </tr>\n",
       "    <tr>\n",
       "      <th>Heavily indebted poor countries (HIPC)</th>\n",
       "      <td>5.584288e+11</td>\n",
       "      <td>6.664886e+08</td>\n",
       "    </tr>\n",
       "    <tr>\n",
       "      <th>High income</th>\n",
       "      <td>4.879008e+13</td>\n",
       "      <td>1.161900e+09</td>\n",
       "    </tr>\n",
       "    <tr>\n",
       "      <th>IBRD only</th>\n",
       "      <td>2.500213e+13</td>\n",
       "      <td>4.517417e+09</td>\n",
       "    </tr>\n",
       "    <tr>\n",
       "      <th>IDA &amp; IBRD total</th>\n",
       "      <td>2.676812e+13</td>\n",
       "      <td>5.955532e+09</td>\n",
       "    </tr>\n",
       "    <tr>\n",
       "      <th>IDA blend</th>\n",
       "      <td>8.830717e+11</td>\n",
       "      <td>4.749935e+08</td>\n",
       "    </tr>\n",
       "    <tr>\n",
       "      <th>IDA only</th>\n",
       "      <td>8.758537e+11</td>\n",
       "      <td>9.631215e+08</td>\n",
       "    </tr>\n",
       "    <tr>\n",
       "      <th>IDA total</th>\n",
       "      <td>1.768118e+12</td>\n",
       "      <td>1.438115e+09</td>\n",
       "    </tr>\n",
       "    <tr>\n",
       "      <th>Late-demographic dividend</th>\n",
       "      <td>1.758859e+13</td>\n",
       "      <td>2.208050e+09</td>\n",
       "    </tr>\n",
       "    <tr>\n",
       "      <th>Latin America &amp; Caribbean</th>\n",
       "      <td>6.118413e+12</td>\n",
       "      <td>6.105450e+08</td>\n",
       "    </tr>\n",
       "    <tr>\n",
       "      <th>Latin America &amp; Caribbean (excluding high income)</th>\n",
       "      <td>5.639789e+12</td>\n",
       "      <td>5.835154e+08</td>\n",
       "    </tr>\n",
       "    <tr>\n",
       "      <th>Latin America &amp; the Caribbean (IDA &amp; IBRD countries)</th>\n",
       "      <td>5.912679e+12</td>\n",
       "      <td>5.943307e+08</td>\n",
       "    </tr>\n",
       "    <tr>\n",
       "      <th>Least developed countries: UN classification</th>\n",
       "      <td>7.967494e+11</td>\n",
       "      <td>8.904235e+08</td>\n",
       "    </tr>\n",
       "    <tr>\n",
       "      <th>Low &amp; middle income</th>\n",
       "      <td>2.596837e+13</td>\n",
       "      <td>5.935501e+09</td>\n",
       "    </tr>\n",
       "    <tr>\n",
       "      <th>Low income</th>\n",
       "      <td>3.523048e+11</td>\n",
       "      <td>5.915762e+08</td>\n",
       "    </tr>\n",
       "    <tr>\n",
       "      <th>Lower middle income</th>\n",
       "      <td>5.526563e+12</td>\n",
       "      <td>2.841935e+09</td>\n",
       "    </tr>\n",
       "    <tr>\n",
       "      <th>Middle East &amp; North Africa</th>\n",
       "      <td>3.517290e+12</td>\n",
       "      <td>4.047824e+08</td>\n",
       "    </tr>\n",
       "    <tr>\n",
       "      <th>Middle East &amp; North Africa (excluding high income)</th>\n",
       "      <td>1.668158e+12</td>\n",
       "      <td>3.481957e+08</td>\n",
       "    </tr>\n",
       "    <tr>\n",
       "      <th>...</th>\n",
       "      <td>...</td>\n",
       "      <td>...</td>\n",
       "    </tr>\n",
       "    <tr>\n",
       "      <th>Sweden</th>\n",
       "      <td>5.438806e+11</td>\n",
       "      <td>9.519374e+06</td>\n",
       "    </tr>\n",
       "    <tr>\n",
       "      <th>Switzerland</th>\n",
       "      <td>6.650541e+11</td>\n",
       "      <td>7.996861e+06</td>\n",
       "    </tr>\n",
       "    <tr>\n",
       "      <th>Syrian Arab Republic</th>\n",
       "      <td>NaN</td>\n",
       "      <td>2.042070e+07</td>\n",
       "    </tr>\n",
       "    <tr>\n",
       "      <th>Tajikistan</th>\n",
       "      <td>7.633050e+09</td>\n",
       "      <td>7.995062e+06</td>\n",
       "    </tr>\n",
       "    <tr>\n",
       "      <th>Tanzania</th>\n",
       "      <td>3.908775e+10</td>\n",
       "      <td>4.908300e+07</td>\n",
       "    </tr>\n",
       "    <tr>\n",
       "      <th>Thailand</th>\n",
       "      <td>3.975600e+11</td>\n",
       "      <td>6.784398e+07</td>\n",
       "    </tr>\n",
       "    <tr>\n",
       "      <th>Timor-Leste</th>\n",
       "      <td>1.293000e+09</td>\n",
       "      <td>1.156760e+06</td>\n",
       "    </tr>\n",
       "    <tr>\n",
       "      <th>Togo</th>\n",
       "      <td>3.866617e+09</td>\n",
       "      <td>6.859482e+06</td>\n",
       "    </tr>\n",
       "    <tr>\n",
       "      <th>Tonga</th>\n",
       "      <td>4.724414e+08</td>\n",
       "      <td>1.049510e+05</td>\n",
       "    </tr>\n",
       "    <tr>\n",
       "      <th>Trinidad and Tobago</th>\n",
       "      <td>2.569416e+10</td>\n",
       "      <td>1.341588e+06</td>\n",
       "    </tr>\n",
       "    <tr>\n",
       "      <th>Tunisia</th>\n",
       "      <td>4.504418e+10</td>\n",
       "      <td>1.088667e+07</td>\n",
       "    </tr>\n",
       "    <tr>\n",
       "      <th>Turkey</th>\n",
       "      <td>8.739818e+11</td>\n",
       "      <td>7.456987e+07</td>\n",
       "    </tr>\n",
       "    <tr>\n",
       "      <th>Turkmenistan</th>\n",
       "      <td>3.516421e+10</td>\n",
       "      <td>5.267839e+06</td>\n",
       "    </tr>\n",
       "    <tr>\n",
       "      <th>Turks and Caicos Islands</th>\n",
       "      <td>NaN</td>\n",
       "      <td>3.243100e+04</td>\n",
       "    </tr>\n",
       "    <tr>\n",
       "      <th>Tuvalu</th>\n",
       "      <td>3.987575e+07</td>\n",
       "      <td>1.072500e+04</td>\n",
       "    </tr>\n",
       "    <tr>\n",
       "      <th>Uganda</th>\n",
       "      <td>2.351608e+10</td>\n",
       "      <td>3.630680e+07</td>\n",
       "    </tr>\n",
       "    <tr>\n",
       "      <th>Ukraine</th>\n",
       "      <td>1.757814e+11</td>\n",
       "      <td>4.559330e+07</td>\n",
       "    </tr>\n",
       "    <tr>\n",
       "      <th>United Arab Emirates</th>\n",
       "      <td>3.748180e+11</td>\n",
       "      <td>8.900453e+06</td>\n",
       "    </tr>\n",
       "    <tr>\n",
       "      <th>United Kingdom</th>\n",
       "      <td>2.646003e+12</td>\n",
       "      <td>6.370030e+07</td>\n",
       "    </tr>\n",
       "    <tr>\n",
       "      <th>United States</th>\n",
       "      <td>1.615526e+13</td>\n",
       "      <td>3.139984e+08</td>\n",
       "    </tr>\n",
       "    <tr>\n",
       "      <th>Uruguay</th>\n",
       "      <td>5.126439e+10</td>\n",
       "      <td>3.396777e+06</td>\n",
       "    </tr>\n",
       "    <tr>\n",
       "      <th>Uzbekistan</th>\n",
       "      <td>5.182157e+10</td>\n",
       "      <td>2.977450e+07</td>\n",
       "    </tr>\n",
       "    <tr>\n",
       "      <th>Vanuatu</th>\n",
       "      <td>7.817029e+08</td>\n",
       "      <td>2.474850e+05</td>\n",
       "    </tr>\n",
       "    <tr>\n",
       "      <th>Venezuela, RB</th>\n",
       "      <td>3.812862e+11</td>\n",
       "      <td>2.989308e+07</td>\n",
       "    </tr>\n",
       "    <tr>\n",
       "      <th>Vietnam</th>\n",
       "      <td>1.558200e+11</td>\n",
       "      <td>8.880920e+07</td>\n",
       "    </tr>\n",
       "    <tr>\n",
       "      <th>Virgin Islands (U.S.)</th>\n",
       "      <td>4.095000e+09</td>\n",
       "      <td>1.052750e+05</td>\n",
       "    </tr>\n",
       "    <tr>\n",
       "      <th>West Bank and Gaza</th>\n",
       "      <td>1.127940e+10</td>\n",
       "      <td>4.046901e+06</td>\n",
       "    </tr>\n",
       "    <tr>\n",
       "      <th>Yemen, Rep.</th>\n",
       "      <td>3.540134e+10</td>\n",
       "      <td>2.490997e+07</td>\n",
       "    </tr>\n",
       "    <tr>\n",
       "      <th>Zambia</th>\n",
       "      <td>2.550337e+10</td>\n",
       "      <td>1.469994e+07</td>\n",
       "    </tr>\n",
       "    <tr>\n",
       "      <th>Zimbabwe</th>\n",
       "      <td>1.405838e+10</td>\n",
       "      <td>1.471083e+07</td>\n",
       "    </tr>\n",
       "  </tbody>\n",
       "</table>\n",
       "<p>264 rows × 2 columns</p>\n",
       "</div>"
      ],
      "text/plain": [
       "                                                             gdp           pop\n",
       "country                                                                       \n",
       "Arab World                                          2.740536e+12  3.733070e+08\n",
       "Caribbean small states                              6.786056e+10  7.074129e+06\n",
       "Central Europe and the Baltics                      1.350779e+12  1.039353e+08\n",
       "Early-demographic dividend                          9.956217e+12  2.996573e+09\n",
       "East Asia & Pacific                                 2.101311e+13  2.235430e+09\n",
       "East Asia & Pacific (excluding high income)         1.073815e+13  1.993009e+09\n",
       "East Asia & Pacific (IDA & IBRD countries)          1.071738e+13  1.968120e+09\n",
       "Euro area                                           1.263759e+13  3.361673e+08\n",
       "Europe & Central Asia                               2.227831e+13  8.946667e+08\n",
       "Europe & Central Asia (excluding high income)       4.070879e+12  4.077066e+08\n",
       "Europe & Central Asia (IDA & IBRD countries)        4.571224e+12  4.457697e+08\n",
       "European Union                                      1.727172e+13  5.051043e+08\n",
       "Fragile and conflict affected situations            7.492119e+11  4.602282e+08\n",
       "Heavily indebted poor countries (HIPC)              5.584288e+11  6.664886e+08\n",
       "High income                                         4.879008e+13  1.161900e+09\n",
       "IBRD only                                           2.500213e+13  4.517417e+09\n",
       "IDA & IBRD total                                    2.676812e+13  5.955532e+09\n",
       "IDA blend                                           8.830717e+11  4.749935e+08\n",
       "IDA only                                            8.758537e+11  9.631215e+08\n",
       "IDA total                                           1.768118e+12  1.438115e+09\n",
       "Late-demographic dividend                           1.758859e+13  2.208050e+09\n",
       "Latin America & Caribbean                           6.118413e+12  6.105450e+08\n",
       "Latin America & Caribbean (excluding high income)   5.639789e+12  5.835154e+08\n",
       "Latin America & the Caribbean (IDA & IBRD count...  5.912679e+12  5.943307e+08\n",
       "Least developed countries: UN classification        7.967494e+11  8.904235e+08\n",
       "Low & middle income                                 2.596837e+13  5.935501e+09\n",
       "Low income                                          3.523048e+11  5.915762e+08\n",
       "Lower middle income                                 5.526563e+12  2.841935e+09\n",
       "Middle East & North Africa                          3.517290e+12  4.047824e+08\n",
       "Middle East & North Africa (excluding high income)  1.668158e+12  3.481957e+08\n",
       "...                                                          ...           ...\n",
       "Sweden                                              5.438806e+11  9.519374e+06\n",
       "Switzerland                                         6.650541e+11  7.996861e+06\n",
       "Syrian Arab Republic                                         NaN  2.042070e+07\n",
       "Tajikistan                                          7.633050e+09  7.995062e+06\n",
       "Tanzania                                            3.908775e+10  4.908300e+07\n",
       "Thailand                                            3.975600e+11  6.784398e+07\n",
       "Timor-Leste                                         1.293000e+09  1.156760e+06\n",
       "Togo                                                3.866617e+09  6.859482e+06\n",
       "Tonga                                               4.724414e+08  1.049510e+05\n",
       "Trinidad and Tobago                                 2.569416e+10  1.341588e+06\n",
       "Tunisia                                             4.504418e+10  1.088667e+07\n",
       "Turkey                                              8.739818e+11  7.456987e+07\n",
       "Turkmenistan                                        3.516421e+10  5.267839e+06\n",
       "Turks and Caicos Islands                                     NaN  3.243100e+04\n",
       "Tuvalu                                              3.987575e+07  1.072500e+04\n",
       "Uganda                                              2.351608e+10  3.630680e+07\n",
       "Ukraine                                             1.757814e+11  4.559330e+07\n",
       "United Arab Emirates                                3.748180e+11  8.900453e+06\n",
       "United Kingdom                                      2.646003e+12  6.370030e+07\n",
       "United States                                       1.615526e+13  3.139984e+08\n",
       "Uruguay                                             5.126439e+10  3.396777e+06\n",
       "Uzbekistan                                          5.182157e+10  2.977450e+07\n",
       "Vanuatu                                             7.817029e+08  2.474850e+05\n",
       "Venezuela, RB                                       3.812862e+11  2.989308e+07\n",
       "Vietnam                                             1.558200e+11  8.880920e+07\n",
       "Virgin Islands (U.S.)                               4.095000e+09  1.052750e+05\n",
       "West Bank and Gaza                                  1.127940e+10  4.046901e+06\n",
       "Yemen, Rep.                                         3.540134e+10  2.490997e+07\n",
       "Zambia                                              2.550337e+10  1.469994e+07\n",
       "Zimbabwe                                            1.405838e+10  1.471083e+07\n",
       "\n",
       "[264 rows x 2 columns]"
      ]
     },
     "execution_count": 11,
     "metadata": {},
     "output_type": "execute_result"
    }
   ],
   "source": [
    "gdp_all = gdp.merge(pop, right_index=True, left_index=True)\n",
    "gdp_all.rename(columns = {u'NY.GDP.MKTP.CD':'gdp', u'SP.POP.TOTL': 'pop'}, inplace=True)\n",
    "gdp_all.index = gdp_all.index.droplevel(1)\n",
    "gdp_all"
   ]
  },
  {
   "cell_type": "code",
   "execution_count": 12,
   "metadata": {
    "ExecuteTime": {
     "end_time": "2017-10-23T22:05:14.806375",
     "start_time": "2017-10-23T22:05:14.779465"
    },
    "collapsed": false
   },
   "outputs": [
    {
     "name": "stderr",
     "output_type": "stream",
     "text": [
      "//anaconda/lib/python2.7/site-packages/pandas/tools/merge.py:1324: UnicodeWarning: Unicode equal comparison failed to convert both arguments to Unicode - interpreting them as being unequal\n",
      "  rlab = rizer.factorize(rk)\n"
     ]
    },
    {
     "data": {
      "text/html": [
       "<div>\n",
       "<table border=\"1\" class=\"dataframe\">\n",
       "  <thead>\n",
       "    <tr style=\"text-align: right;\">\n",
       "      <th></th>\n",
       "      <th>Country</th>\n",
       "      <th>Average total all civilian firearms</th>\n",
       "      <th>pop</th>\n",
       "      <th>gdp</th>\n",
       "      <th>Number of homicides by firearm</th>\n",
       "    </tr>\n",
       "  </thead>\n",
       "  <tbody>\n",
       "    <tr>\n",
       "      <th>0</th>\n",
       "      <td>Albania</td>\n",
       "      <td>270000.0</td>\n",
       "      <td>2900401.0</td>\n",
       "      <td>1.231978e+10</td>\n",
       "      <td>56.0</td>\n",
       "    </tr>\n",
       "    <tr>\n",
       "      <th>1</th>\n",
       "      <td>Algeria</td>\n",
       "      <td>1900000.0</td>\n",
       "      <td>37565847.0</td>\n",
       "      <td>2.090474e+11</td>\n",
       "      <td>20.0</td>\n",
       "    </tr>\n",
       "    <tr>\n",
       "      <th>2</th>\n",
       "      <td>Angola</td>\n",
       "      <td>2800000.0</td>\n",
       "      <td>25096150.0</td>\n",
       "      <td>1.153984e+11</td>\n",
       "      <td>NaN</td>\n",
       "    </tr>\n",
       "    <tr>\n",
       "      <th>4</th>\n",
       "      <td>Argentina</td>\n",
       "      <td>3950000.0</td>\n",
       "      <td>42096739.0</td>\n",
       "      <td>5.459824e+11</td>\n",
       "      <td>1198.0</td>\n",
       "    </tr>\n",
       "    <tr>\n",
       "      <th>5</th>\n",
       "      <td>Armenia</td>\n",
       "      <td>380000.0</td>\n",
       "      <td>2881922.0</td>\n",
       "      <td>1.061932e+10</td>\n",
       "      <td>9.0</td>\n",
       "    </tr>\n",
       "  </tbody>\n",
       "</table>\n",
       "</div>"
      ],
      "text/plain": [
       "     Country  Average total all civilian firearms         pop           gdp  \\\n",
       "0    Albania                             270000.0   2900401.0  1.231978e+10   \n",
       "1    Algeria                            1900000.0  37565847.0  2.090474e+11   \n",
       "2     Angola                            2800000.0  25096150.0  1.153984e+11   \n",
       "4  Argentina                            3950000.0  42096739.0  5.459824e+11   \n",
       "5    Armenia                             380000.0   2881922.0  1.061932e+10   \n",
       "\n",
       "   Number of homicides by firearm  \n",
       "0                            56.0  \n",
       "1                            20.0  \n",
       "2                             NaN  \n",
       "4                          1198.0  \n",
       "5                             9.0  "
      ]
     },
     "execution_count": 12,
     "metadata": {},
     "output_type": "execute_result"
    }
   ],
   "source": [
    "df_ = guns.merge(gdp_all, right_index=True, \n",
    "                 left_on=\"Country/Territory\")[[\"Country/Territory\",\n",
    "                                               'Average total all civilian firearms', \n",
    "                                               \"pop\",\n",
    "                                               \"gdp\",\n",
    "                                               \"Number of homicides by firearm\"]].rename(columns={\"Country/Territory\":\"Country\"})\n",
    "df_.head()"
   ]
  },
  {
   "cell_type": "code",
   "execution_count": 13,
   "metadata": {
    "ExecuteTime": {
     "end_time": "2017-10-23T22:05:14.817060",
     "start_time": "2017-10-23T22:05:14.809026"
    },
    "collapsed": false,
    "run_control": {
     "frozen": false,
     "read_only": false
    }
   },
   "outputs": [],
   "source": [
    "df_ = df_.merge(ms, on=\"Country\")"
   ]
  },
  {
   "cell_type": "markdown",
   "metadata": {},
   "source": [
    "** Checking how much data was lost in the merge process**\n"
   ]
  },
  {
   "cell_type": "code",
   "execution_count": 14,
   "metadata": {
    "ExecuteTime": {
     "end_time": "2017-10-23T22:05:14.824967",
     "start_time": "2017-10-23T22:05:14.818987"
    },
    "collapsed": false
   },
   "outputs": [
    {
     "data": {
      "text/plain": [
       "((25, 3), (22, 7))"
      ]
     },
     "execution_count": 14,
     "metadata": {},
     "output_type": "execute_result"
    }
   ],
   "source": [
    "ms.shape, df_.shape"
   ]
  },
  {
   "cell_type": "code",
   "execution_count": 15,
   "metadata": {
    "ExecuteTime": {
     "end_time": "2017-10-23T22:05:14.841056",
     "start_time": "2017-10-23T22:05:14.827920"
    },
    "collapsed": false
   },
   "outputs": [
    {
     "data": {
      "text/html": [
       "<div>\n",
       "<table border=\"1\" class=\"dataframe\">\n",
       "  <thead>\n",
       "    <tr style=\"text-align: right;\">\n",
       "      <th></th>\n",
       "      <th>Country</th>\n",
       "      <th>Guns/100 inhabitants</th>\n",
       "      <th>Number of mass shootings</th>\n",
       "    </tr>\n",
       "  </thead>\n",
       "  <tbody>\n",
       "    <tr>\n",
       "      <th>2</th>\n",
       "      <td>Beligium</td>\n",
       "      <td>17.2</td>\n",
       "      <td>2</td>\n",
       "    </tr>\n",
       "    <tr>\n",
       "      <th>9</th>\n",
       "      <td>Holland</td>\n",
       "      <td>3.9</td>\n",
       "      <td>2</td>\n",
       "    </tr>\n",
       "    <tr>\n",
       "      <th>23</th>\n",
       "      <td>United Kingdom</td>\n",
       "      <td>6.2</td>\n",
       "      <td>3</td>\n",
       "    </tr>\n",
       "  </tbody>\n",
       "</table>\n",
       "</div>"
      ],
      "text/plain": [
       "           Country  Guns/100 inhabitants  Number of mass shootings\n",
       "2         Beligium                  17.2                         2\n",
       "9          Holland                   3.9                         2\n",
       "23  United Kingdom                   6.2                         3"
      ]
     },
     "execution_count": 15,
     "metadata": {},
     "output_type": "execute_result"
    }
   ],
   "source": [
    "#rows that were lost in the merge\n",
    "ms[~ms['Country'].isin(df_['Country'])]"
   ]
  },
  {
   "cell_type": "markdown",
   "metadata": {},
   "source": [
    "#### Belgium\n",
    "Belgium is typed as Beligium in the mass shootings dataframe. I will correc that"
   ]
  },
  {
   "cell_type": "code",
   "execution_count": 17,
   "metadata": {
    "ExecuteTime": {
     "end_time": "2017-10-23T22:05:14.891303",
     "start_time": "2017-10-23T22:05:14.887987"
    },
    "collapsed": false
   },
   "outputs": [],
   "source": [
    "ms = ms.set_value(2, \"Country\", 'Belgium')"
   ]
  },
  {
   "cell_type": "markdown",
   "metadata": {},
   "source": [
    "#### Holland\n",
    "Holland should appear as Netherlands (Holland is a. region in the Netherlands). I will check that the Netherlands are in the gdp df and change the name in the mass shooting df"
   ]
  },
  {
   "cell_type": "code",
   "execution_count": 18,
   "metadata": {
    "ExecuteTime": {
     "end_time": "2017-10-23T22:05:14.911125",
     "start_time": "2017-10-23T22:05:14.893761"
    },
    "collapsed": false
   },
   "outputs": [
    {
     "data": {
      "text/html": [
       "<div>\n",
       "<table border=\"1\" class=\"dataframe\">\n",
       "  <thead>\n",
       "    <tr style=\"text-align: right;\">\n",
       "      <th></th>\n",
       "      <th>gdp</th>\n",
       "      <th>pop</th>\n",
       "    </tr>\n",
       "    <tr>\n",
       "      <th>country</th>\n",
       "      <th></th>\n",
       "      <th></th>\n",
       "    </tr>\n",
       "  </thead>\n",
       "  <tbody>\n",
       "    <tr>\n",
       "      <th>North America</th>\n",
       "      <td>1.798508e+13</td>\n",
       "      <td>348813722.0</td>\n",
       "    </tr>\n",
       "    <tr>\n",
       "      <th>Not classified</th>\n",
       "      <td>NaN</td>\n",
       "      <td>NaN</td>\n",
       "    </tr>\n",
       "    <tr>\n",
       "      <th>Namibia</th>\n",
       "      <td>1.301627e+10</td>\n",
       "      <td>2263934.0</td>\n",
       "    </tr>\n",
       "    <tr>\n",
       "      <th>Nauru</th>\n",
       "      <td>1.038120e+08</td>\n",
       "      <td>10279.0</td>\n",
       "    </tr>\n",
       "    <tr>\n",
       "      <th>Nepal</th>\n",
       "      <td>1.885151e+10</td>\n",
       "      <td>27649925.0</td>\n",
       "    </tr>\n",
       "    <tr>\n",
       "      <th>Netherlands</th>\n",
       "      <td>8.289468e+11</td>\n",
       "      <td>16754962.0</td>\n",
       "    </tr>\n",
       "    <tr>\n",
       "      <th>New Caledonia</th>\n",
       "      <td>NaN</td>\n",
       "      <td>259000.0</td>\n",
       "    </tr>\n",
       "    <tr>\n",
       "      <th>New Zealand</th>\n",
       "      <td>1.761929e+11</td>\n",
       "      <td>4408100.0</td>\n",
       "    </tr>\n",
       "    <tr>\n",
       "      <th>Nicaragua</th>\n",
       "      <td>1.053200e+10</td>\n",
       "      <td>5877108.0</td>\n",
       "    </tr>\n",
       "    <tr>\n",
       "      <th>Niger</th>\n",
       "      <td>6.942210e+09</td>\n",
       "      <td>17731634.0</td>\n",
       "    </tr>\n",
       "    <tr>\n",
       "      <th>Nigeria</th>\n",
       "      <td>4.609538e+11</td>\n",
       "      <td>167297284.0</td>\n",
       "    </tr>\n",
       "    <tr>\n",
       "      <th>Northern Mariana Islands</th>\n",
       "      <td>7.510000e+08</td>\n",
       "      <td>53718.0</td>\n",
       "    </tr>\n",
       "    <tr>\n",
       "      <th>Norway</th>\n",
       "      <td>5.097049e+11</td>\n",
       "      <td>5018573.0</td>\n",
       "    </tr>\n",
       "  </tbody>\n",
       "</table>\n",
       "</div>"
      ],
      "text/plain": [
       "                                   gdp          pop\n",
       "country                                            \n",
       "North America             1.798508e+13  348813722.0\n",
       "Not classified                     NaN          NaN\n",
       "Namibia                   1.301627e+10    2263934.0\n",
       "Nauru                     1.038120e+08      10279.0\n",
       "Nepal                     1.885151e+10   27649925.0\n",
       "Netherlands               8.289468e+11   16754962.0\n",
       "New Caledonia                      NaN     259000.0\n",
       "New Zealand               1.761929e+11    4408100.0\n",
       "Nicaragua                 1.053200e+10    5877108.0\n",
       "Niger                     6.942210e+09   17731634.0\n",
       "Nigeria                   4.609538e+11  167297284.0\n",
       "Northern Mariana Islands  7.510000e+08      53718.0\n",
       "Norway                    5.097049e+11    5018573.0"
      ]
     },
     "execution_count": 18,
     "metadata": {},
     "output_type": "execute_result"
    }
   ],
   "source": [
    "gdp_all[[c.startswith('N') for c in gdp_all.index.values]]"
   ]
  },
  {
   "cell_type": "code",
   "execution_count": 19,
   "metadata": {
    "ExecuteTime": {
     "end_time": "2017-10-23T22:05:14.916786",
     "start_time": "2017-10-23T22:05:14.912915"
    },
    "collapsed": true
   },
   "outputs": [],
   "source": [
    "ms = ms.set_value(9, \"Country\", 'Netherlands')"
   ]
  },
  {
   "cell_type": "markdown",
   "metadata": {},
   "source": [
    "#### United Kingdom\n",
    "Turns out the UK is not in the guns df so I will lose it. "
   ]
  },
  {
   "cell_type": "code",
   "execution_count": 20,
   "metadata": {
    "ExecuteTime": {
     "end_time": "2017-10-23T22:05:14.931350",
     "start_time": "2017-10-23T22:05:14.918993"
    },
    "collapsed": true
   },
   "outputs": [],
   "source": [
    "### Redo the last 2 merges\n",
    "df_ = guns.merge(gdp_all, right_index=True, \n",
    "                 left_on=\"Country/Territory\")[[\"Country/Territory\",\n",
    "                                               'Average total all civilian firearms', \n",
    "                                               \"pop\",\n",
    "                                               \"gdp\",\n",
    "                                               \"Number of homicides by firearm\"]].rename(columns={\"Country/Territory\":\"Country\"})\n",
    "df_ = df_.merge(ms, on=\"Country\")"
   ]
  },
  {
   "cell_type": "code",
   "execution_count": 21,
   "metadata": {
    "ExecuteTime": {
     "end_time": "2017-10-23T22:05:14.945084",
     "start_time": "2017-10-23T22:05:14.933411"
    },
    "collapsed": false
   },
   "outputs": [
    {
     "data": {
      "text/html": [
       "<div>\n",
       "<table border=\"1\" class=\"dataframe\">\n",
       "  <thead>\n",
       "    <tr style=\"text-align: right;\">\n",
       "      <th></th>\n",
       "      <th>Country</th>\n",
       "      <th>Guns/100 inhabitants</th>\n",
       "      <th>Number of mass shootings</th>\n",
       "    </tr>\n",
       "  </thead>\n",
       "  <tbody>\n",
       "    <tr>\n",
       "      <th>23</th>\n",
       "      <td>United Kingdom</td>\n",
       "      <td>6.2</td>\n",
       "      <td>3</td>\n",
       "    </tr>\n",
       "  </tbody>\n",
       "</table>\n",
       "</div>"
      ],
      "text/plain": [
       "           Country  Guns/100 inhabitants  Number of mass shootings\n",
       "23  United Kingdom                   6.2                         3"
      ]
     },
     "execution_count": 21,
     "metadata": {},
     "output_type": "execute_result"
    }
   ],
   "source": [
    "ms.shape, df_.shape\n",
    "ms[~ms['Country'].isin(df_['Country'])]\n"
   ]
  },
  {
   "cell_type": "code",
   "execution_count": 22,
   "metadata": {
    "ExecuteTime": {
     "end_time": "2017-10-23T22:05:14.951623",
     "start_time": "2017-10-23T22:05:14.947057"
    },
    "collapsed": false
   },
   "outputs": [],
   "source": [
    "#converting to float since it is safer to do math with \n",
    "ms['Number of mass shootings'] = ms['Number of mass shootings'].apply(lambda x: float(x))"
   ]
  },
  {
   "cell_type": "code",
   "execution_count": 23,
   "metadata": {
    "ExecuteTime": {
     "end_time": "2017-10-23T22:05:14.959762",
     "start_time": "2017-10-23T22:05:14.953740"
    },
    "collapsed": true
   },
   "outputs": [],
   "source": [
    "ms.drop([\"Guns/100 inhabitants\"], axis=1, inplace=True)\n"
   ]
  },
  {
   "cell_type": "code",
   "execution_count": 24,
   "metadata": {
    "ExecuteTime": {
     "end_time": "2017-10-23T22:05:14.978462",
     "start_time": "2017-10-23T22:05:14.965241"
    },
    "collapsed": false
   },
   "outputs": [
    {
     "data": {
      "text/html": [
       "<div>\n",
       "<table border=\"1\" class=\"dataframe\">\n",
       "  <thead>\n",
       "    <tr style=\"text-align: right;\">\n",
       "      <th></th>\n",
       "      <th>Country</th>\n",
       "      <th>Number of mass shootings</th>\n",
       "    </tr>\n",
       "  </thead>\n",
       "  <tbody>\n",
       "    <tr>\n",
       "      <th>0</th>\n",
       "      <td>Australia</td>\n",
       "      <td>4.0</td>\n",
       "    </tr>\n",
       "    <tr>\n",
       "      <th>1</th>\n",
       "      <td>Austria</td>\n",
       "      <td>1.0</td>\n",
       "    </tr>\n",
       "    <tr>\n",
       "      <th>2</th>\n",
       "      <td>Belgium</td>\n",
       "      <td>2.0</td>\n",
       "    </tr>\n",
       "    <tr>\n",
       "      <th>3</th>\n",
       "      <td>Canada</td>\n",
       "      <td>4.0</td>\n",
       "    </tr>\n",
       "    <tr>\n",
       "      <th>4</th>\n",
       "      <td>Denmark</td>\n",
       "      <td>0.0</td>\n",
       "    </tr>\n",
       "  </tbody>\n",
       "</table>\n",
       "</div>"
      ],
      "text/plain": [
       "     Country  Number of mass shootings\n",
       "0  Australia                       4.0\n",
       "1    Austria                       1.0\n",
       "2    Belgium                       2.0\n",
       "3     Canada                       4.0\n",
       "4    Denmark                       0.0"
      ]
     },
     "execution_count": 24,
     "metadata": {},
     "output_type": "execute_result"
    }
   ],
   "source": [
    "ms.head()"
   ]
  },
  {
   "cell_type": "markdown",
   "metadata": {},
   "source": [
    "The 4 cells of code below are the merge in case you download the world bank files locally."
   ]
  },
  {
   "cell_type": "code",
   "execution_count": null,
   "metadata": {
    "ExecuteTime": {
     "end_time": "2017-10-19T09:13:51.488078",
     "start_time": "2017-10-19T09:13:51.476987"
    },
    "collapsed": false,
    "run_control": {
     "frozen": true,
     "read_only": true
    }
   },
   "outputs": [],
   "source": [
    "#note: If I had downloaded the WorldBank files and saved locally they would have a differentformat: \n",
    "gdp.columns"
   ]
  },
  {
   "cell_type": "code",
   "execution_count": null,
   "metadata": {
    "ExecuteTime": {
     "end_time": "2017-10-19T09:13:52.672950",
     "start_time": "2017-10-19T09:13:52.649459"
    },
    "collapsed": true,
    "run_control": {
     "frozen": true,
     "read_only": true
    }
   },
   "outputs": [],
   "source": [
    "gdpall = gdp.merge(pop[[u'Country Name','2012']], on=u'Country Name')"
   ]
  },
  {
   "cell_type": "code",
   "execution_count": null,
   "metadata": {
    "ExecuteTime": {
     "end_time": "2017-10-19T09:13:55.737862",
     "start_time": "2017-10-19T09:13:55.696684"
    },
    "collapsed": true,
    "run_control": {
     "frozen": true,
     "read_only": true
    }
   },
   "outputs": [],
   "source": [
    "gdpall = gdpall[[u'Country Name','2012_x', '2012_y']]\n",
    "gdpall.rename(columns = {u'2012_x': 'gdp', u'2012_y': \"pop\"}, inplace=True)\n",
    "gdpall.columns"
   ]
  },
  {
   "cell_type": "code",
   "execution_count": null,
   "metadata": {
    "collapsed": true,
    "run_control": {
     "frozen": true,
     "read_only": true
    }
   },
   "outputs": [],
   "source": [
    "df_ = guns.merge(gdpall[[u'Country Name', 'pop', 'gdp']], right_on=\"Country Name\", \n",
    "                 left_on=\"Country/Territory\")[[\"Country Name\",\n",
    "                                               'Average total all civilian firearms', \n",
    "                                               \"pop\",\n",
    "                                               \"gdp\",\n",
    "                                               \"Number of homicides by firearm\"]].rename(columns={\"Country Name\":\"Country\"})"
   ]
  },
  {
   "cell_type": "code",
   "execution_count": 25,
   "metadata": {
    "ExecuteTime": {
     "end_time": "2017-10-23T22:05:15.004475",
     "start_time": "2017-10-23T22:05:14.981014"
    },
    "collapsed": false
   },
   "outputs": [
    {
     "data": {
      "text/html": [
       "<div>\n",
       "<table border=\"1\" class=\"dataframe\">\n",
       "  <thead>\n",
       "    <tr style=\"text-align: right;\">\n",
       "      <th></th>\n",
       "      <th>Country</th>\n",
       "      <th>Average total all civilian firearms</th>\n",
       "      <th>pop</th>\n",
       "      <th>gdp</th>\n",
       "      <th>Number of homicides by firearm</th>\n",
       "      <th>Guns/100 inhabitants</th>\n",
       "      <th>Number of mass shootings</th>\n",
       "    </tr>\n",
       "  </thead>\n",
       "  <tbody>\n",
       "    <tr>\n",
       "      <th>0</th>\n",
       "      <td>Australia</td>\n",
       "      <td>3050000.0</td>\n",
       "      <td>22728254.0</td>\n",
       "      <td>1.538194e+12</td>\n",
       "      <td>30.0</td>\n",
       "      <td>15.0</td>\n",
       "      <td>4</td>\n",
       "    </tr>\n",
       "    <tr>\n",
       "      <th>1</th>\n",
       "      <td>Austria</td>\n",
       "      <td>2500000.0</td>\n",
       "      <td>8429991.0</td>\n",
       "      <td>4.074516e+11</td>\n",
       "      <td>18.0</td>\n",
       "      <td>30.4</td>\n",
       "      <td>1</td>\n",
       "    </tr>\n",
       "    <tr>\n",
       "      <th>2</th>\n",
       "      <td>Belgium</td>\n",
       "      <td>1800000.0</td>\n",
       "      <td>11128246.0</td>\n",
       "      <td>4.978841e+11</td>\n",
       "      <td>70.0</td>\n",
       "      <td>17.2</td>\n",
       "      <td>2</td>\n",
       "    </tr>\n",
       "    <tr>\n",
       "      <th>3</th>\n",
       "      <td>Canada</td>\n",
       "      <td>9950000.0</td>\n",
       "      <td>34750545.0</td>\n",
       "      <td>1.824289e+12</td>\n",
       "      <td>173.0</td>\n",
       "      <td>30.8</td>\n",
       "      <td>4</td>\n",
       "    </tr>\n",
       "    <tr>\n",
       "      <th>4</th>\n",
       "      <td>Denmark</td>\n",
       "      <td>650000.0</td>\n",
       "      <td>5591572.0</td>\n",
       "      <td>3.271489e+11</td>\n",
       "      <td>15.0</td>\n",
       "      <td>12.0</td>\n",
       "      <td>0</td>\n",
       "    </tr>\n",
       "  </tbody>\n",
       "</table>\n",
       "</div>"
      ],
      "text/plain": [
       "     Country  Average total all civilian firearms         pop           gdp  \\\n",
       "0  Australia                            3050000.0  22728254.0  1.538194e+12   \n",
       "1    Austria                            2500000.0   8429991.0  4.074516e+11   \n",
       "2    Belgium                            1800000.0  11128246.0  4.978841e+11   \n",
       "3     Canada                            9950000.0  34750545.0  1.824289e+12   \n",
       "4    Denmark                             650000.0   5591572.0  3.271489e+11   \n",
       "\n",
       "   Number of homicides by firearm  Guns/100 inhabitants  \\\n",
       "0                            30.0                  15.0   \n",
       "1                            18.0                  30.4   \n",
       "2                            70.0                  17.2   \n",
       "3                           173.0                  30.8   \n",
       "4                            15.0                  12.0   \n",
       "\n",
       "   Number of mass shootings  \n",
       "0                         4  \n",
       "1                         1  \n",
       "2                         2  \n",
       "3                         4  \n",
       "4                         0  "
      ]
     },
     "execution_count": 25,
     "metadata": {},
     "output_type": "execute_result"
    }
   ],
   "source": [
    "df_.head()"
   ]
  },
  {
   "cell_type": "code",
   "execution_count": 26,
   "metadata": {
    "ExecuteTime": {
     "end_time": "2017-10-23T22:05:15.043111",
     "start_time": "2017-10-23T22:05:15.007083"
    },
    "collapsed": false
   },
   "outputs": [
    {
     "data": {
      "text/html": [
       "<div>\n",
       "<table border=\"1\" class=\"dataframe\">\n",
       "  <thead>\n",
       "    <tr style=\"text-align: right;\">\n",
       "      <th></th>\n",
       "      <th>Average total all civilian firearms</th>\n",
       "      <th>pop</th>\n",
       "      <th>gdp</th>\n",
       "      <th>Number of homicides by firearm</th>\n",
       "      <th>Guns/100 inhabitants</th>\n",
       "      <th>Number of mass shootings</th>\n",
       "    </tr>\n",
       "  </thead>\n",
       "  <tbody>\n",
       "    <tr>\n",
       "      <th>count</th>\n",
       "      <td>2.400000e+01</td>\n",
       "      <td>2.400000e+01</td>\n",
       "      <td>2.400000e+01</td>\n",
       "      <td>24.000000</td>\n",
       "      <td>24.000000</td>\n",
       "      <td>24.000000</td>\n",
       "    </tr>\n",
       "    <tr>\n",
       "      <th>mean</th>\n",
       "      <td>1.502438e+07</td>\n",
       "      <td>3.753117e+07</td>\n",
       "      <td>1.706438e+12</td>\n",
       "      <td>436.833333</td>\n",
       "      <td>22.958333</td>\n",
       "      <td>4.833333</td>\n",
       "    </tr>\n",
       "    <tr>\n",
       "      <th>std</th>\n",
       "      <td>5.465004e+07</td>\n",
       "      <td>6.654550e+07</td>\n",
       "      <td>3.386945e+12</td>\n",
       "      <td>1857.147244</td>\n",
       "      <td>19.106200</td>\n",
       "      <td>15.705625</td>\n",
       "    </tr>\n",
       "    <tr>\n",
       "      <th>min</th>\n",
       "      <td>7.000000e+04</td>\n",
       "      <td>3.207160e+05</td>\n",
       "      <td>1.421858e+10</td>\n",
       "      <td>0.000000</td>\n",
       "      <td>0.600000</td>\n",
       "      <td>0.000000</td>\n",
       "    </tr>\n",
       "    <tr>\n",
       "      <th>25%</th>\n",
       "      <td>6.275000e+05</td>\n",
       "      <td>5.547172e+06</td>\n",
       "      <td>2.407078e+11</td>\n",
       "      <td>14.000000</td>\n",
       "      <td>9.950000</td>\n",
       "      <td>0.000000</td>\n",
       "    </tr>\n",
       "    <tr>\n",
       "      <th>50%</th>\n",
       "      <td>2.100000e+06</td>\n",
       "      <td>1.077993e+07</td>\n",
       "      <td>5.050246e+11</td>\n",
       "      <td>32.500000</td>\n",
       "      <td>19.850000</td>\n",
       "      <td>1.000000</td>\n",
       "    </tr>\n",
       "    <tr>\n",
       "      <th>75%</th>\n",
       "      <td>3.675000e+06</td>\n",
       "      <td>4.024064e+07</td>\n",
       "      <td>1.609718e+12</td>\n",
       "      <td>60.250000</td>\n",
       "      <td>30.900000</td>\n",
       "      <td>2.250000</td>\n",
       "    </tr>\n",
       "    <tr>\n",
       "      <th>max</th>\n",
       "      <td>2.700000e+08</td>\n",
       "      <td>3.139984e+08</td>\n",
       "      <td>1.615526e+13</td>\n",
       "      <td>9146.000000</td>\n",
       "      <td>88.800000</td>\n",
       "      <td>78.000000</td>\n",
       "    </tr>\n",
       "  </tbody>\n",
       "</table>\n",
       "</div>"
      ],
      "text/plain": [
       "       Average total all civilian firearms           pop           gdp  \\\n",
       "count                         2.400000e+01  2.400000e+01  2.400000e+01   \n",
       "mean                          1.502438e+07  3.753117e+07  1.706438e+12   \n",
       "std                           5.465004e+07  6.654550e+07  3.386945e+12   \n",
       "min                           7.000000e+04  3.207160e+05  1.421858e+10   \n",
       "25%                           6.275000e+05  5.547172e+06  2.407078e+11   \n",
       "50%                           2.100000e+06  1.077993e+07  5.050246e+11   \n",
       "75%                           3.675000e+06  4.024064e+07  1.609718e+12   \n",
       "max                           2.700000e+08  3.139984e+08  1.615526e+13   \n",
       "\n",
       "       Number of homicides by firearm  Guns/100 inhabitants  \\\n",
       "count                       24.000000             24.000000   \n",
       "mean                       436.833333             22.958333   \n",
       "std                       1857.147244             19.106200   \n",
       "min                          0.000000              0.600000   \n",
       "25%                         14.000000              9.950000   \n",
       "50%                         32.500000             19.850000   \n",
       "75%                         60.250000             30.900000   \n",
       "max                       9146.000000             88.800000   \n",
       "\n",
       "       Number of mass shootings  \n",
       "count                 24.000000  \n",
       "mean                   4.833333  \n",
       "std                   15.705625  \n",
       "min                    0.000000  \n",
       "25%                    0.000000  \n",
       "50%                    1.000000  \n",
       "75%                    2.250000  \n",
       "max                   78.000000  "
      ]
     },
     "execution_count": 26,
     "metadata": {},
     "output_type": "execute_result"
    }
   ],
   "source": [
    "df_.describe()"
   ]
  },
  {
   "cell_type": "markdown",
   "metadata": {},
   "source": [
    "# exploration"
   ]
  },
  {
   "cell_type": "markdown",
   "metadata": {},
   "source": [
    "lets begin by printing three-sigma outliers. that is a standard cut to identify outliers"
   ]
  },
  {
   "cell_type": "code",
   "execution_count": 27,
   "metadata": {
    "ExecuteTime": {
     "end_time": "2017-10-23T22:05:15.064325",
     "start_time": "2017-10-23T22:05:15.045844"
    },
    "collapsed": false
   },
   "outputs": [
    {
     "data": {
      "text/html": [
       "<div>\n",
       "<table border=\"1\" class=\"dataframe\">\n",
       "  <thead>\n",
       "    <tr style=\"text-align: right;\">\n",
       "      <th></th>\n",
       "      <th>Country</th>\n",
       "      <th>Average total all civilian firearms</th>\n",
       "      <th>pop</th>\n",
       "      <th>gdp</th>\n",
       "      <th>Number of homicides by firearm</th>\n",
       "      <th>Guns/100 inhabitants</th>\n",
       "      <th>Number of mass shootings</th>\n",
       "    </tr>\n",
       "  </thead>\n",
       "  <tbody>\n",
       "    <tr>\n",
       "      <th>23</th>\n",
       "      <td>United States</td>\n",
       "      <td>270000000.0</td>\n",
       "      <td>313998379.0</td>\n",
       "      <td>1.615526e+13</td>\n",
       "      <td>9146.0</td>\n",
       "      <td>88.8</td>\n",
       "      <td>78</td>\n",
       "    </tr>\n",
       "  </tbody>\n",
       "</table>\n",
       "</div>"
      ],
      "text/plain": [
       "          Country  Average total all civilian firearms          pop  \\\n",
       "23  United States                          270000000.0  313998379.0   \n",
       "\n",
       "             gdp  Number of homicides by firearm  Guns/100 inhabitants  \\\n",
       "23  1.615526e+13                          9146.0                  88.8   \n",
       "\n",
       "    Number of mass shootings  \n",
       "23                        78  "
      ]
     },
     "execution_count": 27,
     "metadata": {},
     "output_type": "execute_result"
    }
   ],
   "source": [
    "df_[df_[\"Number of homicides by firearm\"] > df_[\"Number of homicides by firearm\"].mean() + \n",
    "    3.0 * df_[\"Number of homicides by firearm\"].std()]"
   ]
  },
  {
   "cell_type": "code",
   "execution_count": 28,
   "metadata": {
    "ExecuteTime": {
     "end_time": "2017-10-23T22:05:15.093260",
     "start_time": "2017-10-23T22:05:15.066484"
    },
    "collapsed": false
   },
   "outputs": [
    {
     "data": {
      "text/html": [
       "<div>\n",
       "<table border=\"1\" class=\"dataframe\">\n",
       "  <thead>\n",
       "    <tr style=\"text-align: right;\">\n",
       "      <th></th>\n",
       "      <th>Country</th>\n",
       "      <th>Average total all civilian firearms</th>\n",
       "      <th>pop</th>\n",
       "      <th>gdp</th>\n",
       "      <th>Number of homicides by firearm</th>\n",
       "      <th>Guns/100 inhabitants</th>\n",
       "      <th>Number of mass shootings</th>\n",
       "    </tr>\n",
       "  </thead>\n",
       "  <tbody>\n",
       "    <tr>\n",
       "      <th>23</th>\n",
       "      <td>United States</td>\n",
       "      <td>270000000.0</td>\n",
       "      <td>313998379.0</td>\n",
       "      <td>1.615526e+13</td>\n",
       "      <td>9146.0</td>\n",
       "      <td>88.8</td>\n",
       "      <td>78</td>\n",
       "    </tr>\n",
       "  </tbody>\n",
       "</table>\n",
       "</div>"
      ],
      "text/plain": [
       "          Country  Average total all civilian firearms          pop  \\\n",
       "23  United States                          270000000.0  313998379.0   \n",
       "\n",
       "             gdp  Number of homicides by firearm  Guns/100 inhabitants  \\\n",
       "23  1.615526e+13                          9146.0                  88.8   \n",
       "\n",
       "    Number of mass shootings  \n",
       "23                        78  "
      ]
     },
     "execution_count": 28,
     "metadata": {},
     "output_type": "execute_result"
    }
   ],
   "source": [
    "df_[df_[\"Number of mass shootings\"] > df_[\"Number of mass shootings\"].mean() + \n",
    "    3.0 * df_[\"Number of mass shootings\"].std()]"
   ]
  },
  {
   "cell_type": "code",
   "execution_count": 29,
   "metadata": {
    "ExecuteTime": {
     "end_time": "2017-10-23T22:05:15.125705",
     "start_time": "2017-10-23T22:05:15.096115"
    },
    "collapsed": false
   },
   "outputs": [
    {
     "data": {
      "text/html": [
       "<div>\n",
       "<table border=\"1\" class=\"dataframe\">\n",
       "  <thead>\n",
       "    <tr style=\"text-align: right;\">\n",
       "      <th></th>\n",
       "      <th>Country</th>\n",
       "      <th>Average total all civilian firearms</th>\n",
       "      <th>pop</th>\n",
       "      <th>gdp</th>\n",
       "      <th>Number of homicides by firearm</th>\n",
       "      <th>Guns/100 inhabitants</th>\n",
       "      <th>Number of mass shootings</th>\n",
       "    </tr>\n",
       "  </thead>\n",
       "  <tbody>\n",
       "    <tr>\n",
       "      <th>23</th>\n",
       "      <td>United States</td>\n",
       "      <td>270000000.0</td>\n",
       "      <td>313998379.0</td>\n",
       "      <td>1.615526e+13</td>\n",
       "      <td>9146.0</td>\n",
       "      <td>88.8</td>\n",
       "      <td>78</td>\n",
       "    </tr>\n",
       "  </tbody>\n",
       "</table>\n",
       "</div>"
      ],
      "text/plain": [
       "          Country  Average total all civilian firearms          pop  \\\n",
       "23  United States                          270000000.0  313998379.0   \n",
       "\n",
       "             gdp  Number of homicides by firearm  Guns/100 inhabitants  \\\n",
       "23  1.615526e+13                          9146.0                  88.8   \n",
       "\n",
       "    Number of mass shootings  \n",
       "23                        78  "
      ]
     },
     "execution_count": 29,
     "metadata": {},
     "output_type": "execute_result"
    }
   ],
   "source": [
    "df_[df_[\"Average total all civilian firearms\"] > df_[\"Average total all civilian firearms\"].mean() + \n",
    "    3.0 * df_[\"Average total all civilian firearms\"].std()]"
   ]
  },
  {
   "cell_type": "markdown",
   "metadata": {
    "run_control": {
     "frozen": false,
     "read_only": false
    }
   },
   "source": [
    "## plot mass shooting vs gdp in absolute numbers, and per person. Show the errorbars (y errors)\n",
    "\n",
    "Use Poisson statistics for the errorbars on the number of mass shootings (optional: include errors on the population, also as Poisson statistics)\n",
    "\n",
    "Are there any points that look like they may be outilers?"
   ]
  },
  {
   "cell_type": "markdown",
   "metadata": {},
   "source": [
    "Note: I am plotting with the mpld3  which offers minimal plot interactivity within the notebook: for example the row label (country name) will appear on hover, which is helpful to visually identify \"outliers\". This is not required or necessary of course. Once ponts away from the core of the distribution are seen in the plot the corresponding row can be extracted from the dataframe by cutting the dataframe at relevant variable values (broadcasting/slicing in python parlance). Those plot dont render on github though, so I am commenting the relevant lines of code out. Uncomment to see mpld3 in action."
   ]
  },
  {
   "cell_type": "code",
   "execution_count": 30,
   "metadata": {
    "ExecuteTime": {
     "end_time": "2017-10-23T22:05:15.449321",
     "start_time": "2017-10-23T22:05:15.128458"
    },
    "collapsed": false,
    "run_control": {
     "frozen": false,
     "read_only": false
    }
   },
   "outputs": [
    {
     "data": {
      "image/png": "[encoded data removed]",
      "text/plain": [
       "<matplotlib.figure.Figure at 0x114c84dd0>"
      ]
     },
     "metadata": {},
     "output_type": "display_data"
    }
   ],
   "source": [
    "#import mpld3\n",
    "fig, ax = plt.subplots()\n",
    "\n",
    "scatter = ax.scatter(df_.gdp * 1e-12, df_['Number of mass shootings'])\n",
    "ax.errorbar(df_.gdp * 1e-12, df_['Number of mass shootings'], \n",
    "            yerr = np.sqrt(df_['Number of mass shootings'] * 1.0), fmt = '.')\n",
    "ax.set_xlabel(\"GDP (in tillion $)\")\n",
    "ax.set_ylabel(\"Number of mass shooting per person\")\n",
    "ax.set_ylim();\n",
    "#labels = ['{0}, {1}'.format(c, n) for c,n in zip(df_[\"Country\"].values, \n",
    "#                                                 df_[\"Number of mass shootings\"].values)]\n",
    "#tooltip = mpld3.plugins.PointLabelTooltip(scatter, labels=labels)\n",
    "#mpld3.plugins.connect(fig, tooltip)\n",
    "#mpld3.display()"
   ]
  },
  {
   "cell_type": "markdown",
   "metadata": {},
   "source": [
    "Figure 1: Scatter plot of number of mass shootings as a function of GDP for all country available in the . \n",
    "An obvious outlier on the top right quadrant of the plot, with both high GDP and high number of mass shootings is the USA.  Errorbars are Poisson statistics on the dependent variable, number of mass shootings, only. "
   ]
  },
  {
   "cell_type": "markdown",
   "metadata": {},
   "source": [
    "The obvious outlier, in both GDP and mass shootings is the USA. "
   ]
  },
  {
   "cell_type": "code",
   "execution_count": 31,
   "metadata": {
    "ExecuteTime": {
     "end_time": "2017-10-23T22:05:15.535273",
     "start_time": "2017-10-23T22:05:15.453921"
    },
    "collapsed": false
   },
   "outputs": [
    {
     "data": {
      "text/html": [
       "<div>\n",
       "<table border=\"1\" class=\"dataframe\">\n",
       "  <thead>\n",
       "    <tr style=\"text-align: right;\">\n",
       "      <th></th>\n",
       "      <th>Country</th>\n",
       "      <th>Average total all civilian firearms</th>\n",
       "      <th>pop</th>\n",
       "      <th>gdp</th>\n",
       "      <th>Number of homicides by firearm</th>\n",
       "      <th>Guns/100 inhabitants</th>\n",
       "      <th>Number of mass shootings</th>\n",
       "    </tr>\n",
       "  </thead>\n",
       "  <tbody>\n",
       "    <tr>\n",
       "      <th>23</th>\n",
       "      <td>United States</td>\n",
       "      <td>270000000.0</td>\n",
       "      <td>313998379.0</td>\n",
       "      <td>1.615526e+13</td>\n",
       "      <td>9146.0</td>\n",
       "      <td>88.8</td>\n",
       "      <td>78</td>\n",
       "    </tr>\n",
       "  </tbody>\n",
       "</table>\n",
       "</div>"
      ],
      "text/plain": [
       "          Country  Average total all civilian firearms          pop  \\\n",
       "23  United States                          270000000.0  313998379.0   \n",
       "\n",
       "             gdp  Number of homicides by firearm  Guns/100 inhabitants  \\\n",
       "23  1.615526e+13                          9146.0                  88.8   \n",
       "\n",
       "    Number of mass shootings  \n",
       "23                        78  "
      ]
     },
     "execution_count": 31,
     "metadata": {},
     "output_type": "execute_result"
    }
   ],
   "source": [
    "df_[df_.gdp > 10e12]"
   ]
  },
  {
   "cell_type": "code",
   "execution_count": 32,
   "metadata": {
    "ExecuteTime": {
     "end_time": "2017-10-23T22:05:15.569813",
     "start_time": "2017-10-23T22:05:15.539116"
    },
    "collapsed": false
   },
   "outputs": [
    {
     "data": {
      "text/html": [
       "<div>\n",
       "<table border=\"1\" class=\"dataframe\">\n",
       "  <thead>\n",
       "    <tr style=\"text-align: right;\">\n",
       "      <th></th>\n",
       "      <th>Country</th>\n",
       "      <th>Average total all civilian firearms</th>\n",
       "      <th>pop</th>\n",
       "      <th>gdp</th>\n",
       "      <th>Number of homicides by firearm</th>\n",
       "      <th>Guns/100 inhabitants</th>\n",
       "      <th>Number of mass shootings</th>\n",
       "    </tr>\n",
       "  </thead>\n",
       "  <tbody>\n",
       "    <tr>\n",
       "      <th>23</th>\n",
       "      <td>United States</td>\n",
       "      <td>270000000.0</td>\n",
       "      <td>313998379.0</td>\n",
       "      <td>1.615526e+13</td>\n",
       "      <td>9146.0</td>\n",
       "      <td>88.8</td>\n",
       "      <td>78</td>\n",
       "    </tr>\n",
       "  </tbody>\n",
       "</table>\n",
       "</div>"
      ],
      "text/plain": [
       "          Country  Average total all civilian firearms          pop  \\\n",
       "23  United States                          270000000.0  313998379.0   \n",
       "\n",
       "             gdp  Number of homicides by firearm  Guns/100 inhabitants  \\\n",
       "23  1.615526e+13                          9146.0                  88.8   \n",
       "\n",
       "    Number of mass shootings  \n",
       "23                        78  "
      ]
     },
     "execution_count": 32,
     "metadata": {},
     "output_type": "execute_result"
    }
   ],
   "source": [
    "df_[df_[\"Number of mass shootings\"] > 10]"
   ]
  },
  {
   "cell_type": "markdown",
   "metadata": {},
   "source": [
    "The USA has a large population, so a more indicative quantity may be the number of mass shootings per person vs GDP per person. NOTE: While the ratio of mass shooting to GDP will remain the same for each country (that is the angle of the line that connects the datapoint to the origin) the distribution of points should change. "
   ]
  },
  {
   "cell_type": "code",
   "execution_count": 33,
   "metadata": {
    "ExecuteTime": {
     "end_time": "2017-10-23T22:05:15.896285",
     "start_time": "2017-10-23T22:05:15.572965"
    },
    "collapsed": false,
    "run_control": {
     "frozen": false,
     "read_only": false
    }
   },
   "outputs": [
    {
     "data": {
      "text/plain": [
       "<matplotlib.text.Text at 0x114c843d0>"
      ]
     },
     "execution_count": 33,
     "metadata": {},
     "output_type": "execute_result"
    },
    {
     "data": {
      "image/png": "[encoded data removed]",
      "text/plain": [
       "<matplotlib.figure.Figure at 0x1157d3850>"
      ]
     },
     "metadata": {},
     "output_type": "display_data"
    }
   ],
   "source": [
    "fig, ax = plt.subplots()\n",
    "\n",
    "scatter = ax.scatter(df_.gdp / df_['pop'], df_['Number of mass shootings'] / df_['pop'] * 1e7)\n",
    "ax.errorbar(df_.gdp / df_['pop'], df_['Number of mass shootings'] / df_['pop'] * 1e7, \n",
    "            yerr = np.sqrt(df_['Number of mass shootings'] * 1.0) / df_['pop'] * 1e7, fmt = '.')\n",
    "ax.set_xlabel(\"GDP per person\")\n",
    "ax.set_ylabel(\"Number of mass shooting per person - multiplied by 1e7\")\n",
    "#labels = ['{0}, {1}'.format(c, n) for c,n in zip(df_[\"Country\"].values, \n",
    "                                                # df_[\"Number of mass shootings\"].values)]\n",
    "#tooltip = mpld3.plugins.PointLabelTooltip(scatter, labels=labels)\n",
    "#mpld3.plugins.connect(fig, tooltip)\n",
    "#mpld3.display()"
   ]
  },
  {
   "cell_type": "markdown",
   "metadata": {},
   "source": [
    "Figure 2:  Scatter plot of number of mass shootings per person as a function of GDP per person.     \n",
    "Errorbars are still Poisson statistics on the absolute number of mass shootings only. \n",
    "The USA is now in the core of the distribution. New Zealand is now the outlier at high number of mass shootings per person, but with a large uncertainty on the number of mass shootings because of the low original absolute number of shooting (3) which has a Poisson uncertainty of 60% on its value.\n"
   ]
  },
  {
   "cell_type": "markdown",
   "metadata": {
    "run_control": {
     "frozen": false,
     "read_only": false
    }
   },
   "source": [
    "## plot the average number of civilian fire arms per person\n",
    "first without errors, then with errors. are there  points that look like outliers?"
   ]
  },
  {
   "cell_type": "code",
   "execution_count": 34,
   "metadata": {
    "ExecuteTime": {
     "end_time": "2017-10-23T22:05:15.905242",
     "start_time": "2017-10-23T22:05:15.898539"
    },
    "collapsed": false
   },
   "outputs": [
    {
     "data": {
      "text/plain": [
       "0    3050000.0\n",
       "1    2500000.0\n",
       "2    1800000.0\n",
       "3    9950000.0\n",
       "4     650000.0\n",
       "Name: Average total all civilian firearms, dtype: float64"
      ]
     },
     "execution_count": 34,
     "metadata": {},
     "output_type": "execute_result"
    }
   ],
   "source": [
    "df_['Average total all civilian firearms'].head()"
   ]
  },
  {
   "cell_type": "code",
   "execution_count": 35,
   "metadata": {
    "ExecuteTime": {
     "end_time": "2017-10-23T22:05:16.143708",
     "start_time": "2017-10-23T22:05:15.907875"
    },
    "collapsed": false
   },
   "outputs": [
    {
     "data": {
      "text/plain": [
       "<matplotlib.text.Text at 0x111f5cc10>"
      ]
     },
     "execution_count": 35,
     "metadata": {},
     "output_type": "execute_result"
    },
    {
     "data": {
      "image/png": "[encoded data removed]",
      "text/plain": [
       "<matplotlib.figure.Figure at 0x114a708d0>"
      ]
     },
     "metadata": {},
     "output_type": "display_data"
    }
   ],
   "source": [
    "ax = pl.figure(figsize(5,5)).add_subplot(111)\n",
    "\n",
    "scatter = ax.scatter(df_.gdp * 1e-12, \n",
    "        df_['Average total all civilian firearms'] * 1e-9)\n",
    "ax.errorbar(df_.gdp * 1e-12, \n",
    "        df_['Average total all civilian firearms'] * 1e-9,\n",
    "           yerr = np.sqrt(df_['Average total all civilian firearms']) * 1e-5, \n",
    "                         fmt='.')\n",
    "ax.set_xlabel(\"GDP (in trillions of $)\")\n",
    "ax.set_ylabel(\"Average total all civilian firearms (in millions)\")\n",
    "#labels = ['{0}, {1}'.format(c, n) for c,n in zip(df_[\"Country\"].values, \n",
    "#                                                 df_[\"Average total all civilian firearms\"].values)]\n",
    "#tooltip = mpld3.plugins.PointLabelTooltip(scatter, labels=labels)\n",
    "#mpld3.plugins.connect(fig, tooltip)\n",
    "#mpld3.display()"
   ]
  },
  {
   "cell_type": "markdown",
   "metadata": {},
   "source": [
    "Figure 3: Scatter plot of number of civilian fire arms as a function of GDP for all country available in the mass shootings dataset (except UK). Errorbars inflated by a factor 10,000 for visibility are from Poisson statistics on number of civilian fire arms alone.\n",
    "An obvious outlier on the top right quadrant of the plot, with both high GDP and high number of mass shootings is the USA.  "
   ]
  },
  {
   "cell_type": "code",
   "execution_count": 36,
   "metadata": {
    "ExecuteTime": {
     "end_time": "2017-10-23T22:05:16.439846",
     "start_time": "2017-10-23T22:05:16.146195"
    },
    "collapsed": false,
    "run_control": {
     "frozen": false,
     "read_only": false
    }
   },
   "outputs": [
    {
     "data": {
      "text/plain": [
       "<matplotlib.text.Text at 0x11629cb50>"
      ]
     },
     "execution_count": 36,
     "metadata": {},
     "output_type": "execute_result"
    },
    {
     "data": {
      "image/png": "[encoded data removed]",
      "text/plain": [
       "<matplotlib.figure.Figure at 0x117281190>"
      ]
     },
     "metadata": {},
     "output_type": "display_data"
    }
   ],
   "source": [
    "fig, ax = plt.subplots()\n",
    "\n",
    "scatter = ax.scatter(df_.gdp / df_['pop'], \n",
    "        df_['Average total all civilian firearms'] / df_['pop'])\n",
    "ax.errorbar(df_.gdp / df_['pop'], \n",
    "        df_['Average total all civilian firearms'] / df_['pop'],\n",
    "           yerr = np.sqrt(df_['Average total all civilian firearms'] / df_['pop']), \n",
    "                         fmt='.')\n",
    "ax.set_xlabel(\"GDP per person\")\n",
    "ax.set_ylabel(\"Average total all civilian firearms per person\")\n",
    "#labels = ['{0}, {1}'.format(c, n) for c,n in zip(df_[\"Country\"].values, \n",
    "#                                                 df_[\"Average total all civilian firearms\"].values)]\n",
    "#tooltip = mpld3.plugins.PointLabelTooltip(scatter, labels=labels)\n",
    "#mpld3.plugins.connect(fig, tooltip)\n",
    "#mpld3.display()"
   ]
  },
  {
   "cell_type": "markdown",
   "metadata": {},
   "source": [
    "Figure 4: As figure 2, but for average number of fire arms against GDP. \n",
    "The US remains at the edge of the distribution with the highest number of fire arms per person, though consistent within Poisson uncertainties with the rest of the distribution."
   ]
  },
  {
   "cell_type": "code",
   "execution_count": 37,
   "metadata": {
    "ExecuteTime": {
     "end_time": "2017-10-23T22:05:16.504056",
     "start_time": "2017-10-23T22:05:16.442183"
    },
    "collapsed": false
   },
   "outputs": [
    {
     "data": {
      "text/html": [
       "<div>\n",
       "<table border=\"1\" class=\"dataframe\">\n",
       "  <thead>\n",
       "    <tr style=\"text-align: right;\">\n",
       "      <th></th>\n",
       "      <th>Country</th>\n",
       "      <th>Average total all civilian firearms</th>\n",
       "      <th>pop</th>\n",
       "      <th>gdp</th>\n",
       "      <th>Number of homicides by firearm</th>\n",
       "      <th>Guns/100 inhabitants</th>\n",
       "      <th>Number of mass shootings</th>\n",
       "    </tr>\n",
       "  </thead>\n",
       "  <tbody>\n",
       "    <tr>\n",
       "      <th>23</th>\n",
       "      <td>United States</td>\n",
       "      <td>270000000.0</td>\n",
       "      <td>313998379.0</td>\n",
       "      <td>1.615526e+13</td>\n",
       "      <td>9146.0</td>\n",
       "      <td>88.8</td>\n",
       "      <td>78</td>\n",
       "    </tr>\n",
       "  </tbody>\n",
       "</table>\n",
       "</div>"
      ],
      "text/plain": [
       "          Country  Average total all civilian firearms          pop  \\\n",
       "23  United States                          270000000.0  313998379.0   \n",
       "\n",
       "             gdp  Number of homicides by firearm  Guns/100 inhabitants  \\\n",
       "23  1.615526e+13                          9146.0                  88.8   \n",
       "\n",
       "    Number of mass shootings  \n",
       "23                        78  "
      ]
     },
     "execution_count": 37,
     "metadata": {},
     "output_type": "execute_result"
    }
   ],
   "source": [
    "df_[df_['Average total all civilian firearms'] / df_['pop'] > 0.6] "
   ]
  },
  {
   "cell_type": "markdown",
   "metadata": {
    "run_control": {
     "frozen": false,
     "read_only": false
    }
   },
   "source": [
    "## plot the average number of homicide by fire arms per person\n",
    "first as a histogram\n",
    "\n",
    "then against the country GDP, with statistical errors. are there  points that look like outliers?"
   ]
  },
  {
   "cell_type": "code",
   "execution_count": 38,
   "metadata": {
    "ExecuteTime": {
     "end_time": "2017-10-23T22:05:16.521048",
     "start_time": "2017-10-23T22:05:16.509682"
    },
    "collapsed": true,
    "run_control": {
     "frozen": false,
     "read_only": false
    }
   },
   "outputs": [],
   "source": [
    "df_['shootingspp'] = df_[\"Number of mass shootings\"] / df_['pop'] * 1e3"
   ]
  },
  {
   "cell_type": "code",
   "execution_count": 39,
   "metadata": {
    "ExecuteTime": {
     "end_time": "2017-10-23T22:05:16.991164",
     "start_time": "2017-10-23T22:05:16.533254"
    },
    "collapsed": false,
    "run_control": {
     "frozen": false,
     "read_only": false
    }
   },
   "outputs": [
    {
     "data": {
      "text/html": [
       "<div>\n",
       "<table border=\"1\" class=\"dataframe\">\n",
       "  <thead>\n",
       "    <tr style=\"text-align: right;\">\n",
       "      <th></th>\n",
       "      <th>Country</th>\n",
       "      <th>Average total all civilian firearms</th>\n",
       "      <th>pop</th>\n",
       "      <th>gdp</th>\n",
       "      <th>Number of homicides by firearm</th>\n",
       "      <th>Guns/100 inhabitants</th>\n",
       "      <th>Number of mass shootings</th>\n",
       "      <th>shootingspp</th>\n",
       "    </tr>\n",
       "  </thead>\n",
       "  <tbody>\n",
       "    <tr>\n",
       "      <th>23</th>\n",
       "      <td>United States</td>\n",
       "      <td>270000000.0</td>\n",
       "      <td>313998379.0</td>\n",
       "      <td>1.615526e+13</td>\n",
       "      <td>9146.0</td>\n",
       "      <td>88.8</td>\n",
       "      <td>78</td>\n",
       "      <td>0.000248</td>\n",
       "    </tr>\n",
       "  </tbody>\n",
       "</table>\n",
       "</div>"
      ],
      "text/plain": [
       "          Country  Average total all civilian firearms          pop  \\\n",
       "23  United States                          270000000.0  313998379.0   \n",
       "\n",
       "             gdp  Number of homicides by firearm  Guns/100 inhabitants  \\\n",
       "23  1.615526e+13                          9146.0                  88.8   \n",
       "\n",
       "    Number of mass shootings  shootingspp  \n",
       "23                        78     0.000248  "
      ]
     },
     "execution_count": 39,
     "metadata": {},
     "output_type": "execute_result"
    },
    {
     "data": {
      "image/png": "[encoded data removed]",
      "text/plain": [
       "<matplotlib.figure.Figure at 0x114ed5e50>"
      ]
     },
     "metadata": {},
     "output_type": "display_data"
    }
   ],
   "source": [
    "fig, ax = plt.subplots()\n",
    "ax.hist(df_['Number of homicides by firearm'] / df_['pop'] * 100000)\n",
    "ax.set_xlabel('homicides by firearm per 100000 people');\n",
    "df_[df_['Number of homicides by firearm'] / df_['pop'] > 2.5 / 100000]"
   ]
  },
  {
   "cell_type": "markdown",
   "metadata": {},
   "source": [
    "Figure 5: distrubution of number of homicides by fire arm per person (per 100,000 people). The outlier in the tail of the distribuion is again the USA. "
   ]
  },
  {
   "cell_type": "code",
   "execution_count": 40,
   "metadata": {
    "ExecuteTime": {
     "end_time": "2017-10-23T22:05:17.246636",
     "start_time": "2017-10-23T22:05:17.001641"
    },
    "collapsed": false,
    "run_control": {
     "frozen": false,
     "read_only": false
    }
   },
   "outputs": [
    {
     "data": {
      "text/plain": [
       "<matplotlib.text.Text at 0x117056d90>"
      ]
     },
     "execution_count": 40,
     "metadata": {},
     "output_type": "execute_result"
    },
    {
     "data": {
      "image/png": "[encoded data removed]",
      "text/plain": [
       "<matplotlib.figure.Figure at 0x1164021d0>"
      ]
     },
     "metadata": {},
     "output_type": "display_data"
    }
   ],
   "source": [
    "fig, ax = plt.subplots()\n",
    "\n",
    "scatter = ax.scatter(df_.gdp / df_['pop'], df_['Number of homicides by firearm'] / df_['pop'] * 1e5)\n",
    "ax.errorbar(df_.gdp / df_['pop'], df_['Number of homicides by firearm'] / df_['pop'] * 1e5, \n",
    "            yerr = np.sqrt(df_['Number of homicides by firearm'] * 1.0) / df_['pop'] * 1e5, fmt = '.')\n",
    "ax.set_xlabel(\"GDP per person\")\n",
    "ax.set_ylabel(\"Number of homicides by firearm per person x 100,000\")\n",
    "#labels = ['{0}, {1}'.format(c, n) for c,n in zip(df_[\"Country\"].values, \n",
    "#                                                 df_[\"Number of homicides by firearm\"].values)]\n",
    "#tooltip = mpld3.plugins.PointLabelTooltip(scatter, labels=labels)\n",
    "#mpld3.plugins.connect(fig, tooltip)\n",
    "#mpld3.display()\n"
   ]
  },
  {
   "cell_type": "markdown",
   "metadata": {},
   "source": [
    "Figure 6: as Figure 2 and 4 for number of homicides by fire arms per person against GDP per person. The USA is the outlier on the top, with GDP per person near the median value, but substantially higher number of homicides per person. Poissonian errorbars accounting only for the count statistics in the number of homicides."
   ]
  },
  {
   "cell_type": "markdown",
   "metadata": {
    "run_control": {
     "frozen": false,
     "read_only": false
    }
   },
   "source": [
    "## plot the number of  homicides by fire arm against the number of civilian firearms. plot the  US in a different color"
   ]
  },
  {
   "cell_type": "code",
   "execution_count": 41,
   "metadata": {
    "ExecuteTime": {
     "end_time": "2017-10-23T22:05:17.632114",
     "start_time": "2017-10-23T22:05:17.248536"
    },
    "collapsed": false,
    "run_control": {
     "frozen": false,
     "read_only": false
    }
   },
   "outputs": [
    {
     "data": {
      "image/png": "[encoded data removed]",
      "text/plain": [
       "<matplotlib.figure.Figure at 0x11661de50>"
      ]
     },
     "metadata": {},
     "output_type": "display_data"
    }
   ],
   "source": [
    "fig, ax = plt.subplots()\n",
    "\n",
    "scatter = ax.scatter(df_[u'Average total all civilian firearms'] / df_['pop'], \n",
    "                     df_['Number of homicides by firearm'] / df_['pop'] * 1e5, alpha = 0.5)\n",
    "\n",
    "ax.errorbar(df_[u'Average total all civilian firearms'] / df_['pop']  , \n",
    "            df_['Number of homicides by firearm'] / df_['pop'] * 1e5, \n",
    "            yerr = np.sqrt(df_['Number of homicides by firearm'] * 1.0) \n",
    "            / df_['pop'] * 1e5, fmt = '.', alpha =0.51)\n",
    "#labels = ['{0}, {1}'.format(c, n) for c,n in zip(df_[\"Country\"].values, df_[\"Number of homicides by firearm\"].values)]\n",
    "#tooltip = mpld3.plugins.PointLabelTooltip(scatter, labels=labels)\n",
    "ax.scatter(df_[df_[\"Country\"] == 'United States'][u'Average total all civilian firearms'] / \n",
    "           df_[df_[\"Country\"] == 'United States']['pop'], \n",
    "                     df_[df_[\"Country\"] == 'United States']['Number of homicides by firearm'] / \n",
    "           df_[df_[\"Country\"] == 'United States']['pop'] * 1e5, color='r', alpha=1)\n",
    "\n",
    "ax.set_xlabel(\"civilian fire arms per person\")\n",
    "ax.set_ylabel(\"firearm homicides arms per person  (x 10,000)\");\n",
    "     \n",
    "#mpld3.plugins.connect(fig, tooltip)\n",
    "#mpld3.display()\n"
   ]
  },
  {
   "cell_type": "markdown",
   "metadata": {},
   "source": [
    "Figure 7: Homicides by fire arms per person against number of fire arms per person. The outlier int he top right quadrant, plotted in red, is the USA, reporting both uncharacteristically high number of homicides by fire arms and number of fire arms per person. Values on the y axis are multiplied by 10,000 for readability, errorbars are inflated accordingly and are calculated as Poisson statistics on the y-axis variable (number of homicides) only."
   ]
  },
  {
   "cell_type": "markdown",
   "metadata": {
    "run_control": {
     "frozen": false,
     "read_only": false
    }
   },
   "source": [
    "## plot the number of  mass shootings against the number of civilian firearms. plot the  US in a different color"
   ]
  },
  {
   "cell_type": "code",
   "execution_count": 42,
   "metadata": {
    "ExecuteTime": {
     "end_time": "2017-10-23T22:05:18.012422",
     "start_time": "2017-10-23T22:05:17.635702"
    },
    "collapsed": false,
    "run_control": {
     "frozen": false,
     "read_only": false
    }
   },
   "outputs": [
    {
     "data": {
      "text/plain": [
       "<matplotlib.text.Text at 0x116c65ed0>"
      ]
     },
     "execution_count": 42,
     "metadata": {},
     "output_type": "execute_result"
    },
    {
     "data": {
      "image/png": "[encoded data removed]",
      "text/plain": [
       "<matplotlib.figure.Figure at 0x115142bd0>"
      ]
     },
     "metadata": {},
     "output_type": "display_data"
    }
   ],
   "source": [
    "fig, ax = plt.subplots()\n",
    "\n",
    "scatter = ax.scatter(df_[u'Average total all civilian firearms'] / df_['pop'], \n",
    "                     df_['Number of mass shootings'] / df_['pop'] * 1e5, alpha=0.5)\n",
    "ax.errorbar(df_[u'Average total all civilian firearms'] / df_['pop'], \n",
    "                     df_['Number of mass shootings'] / df_['pop'] * 1e5, \n",
    "            yerr = np.sqrt(df_['Number of mass shootings'] * 1.0) / df_['pop'] * 1e5, \n",
    "            fmt = '.', alpha=0.5)\n",
    "ax.scatter(df_[df_[\"Country\"] == 'United States'][u'Average total all civilian firearms'] / \n",
    "           df_[df_[\"Country\"] == 'United States']['pop'] , \n",
    "                     df_[df_[\"Country\"] == 'United States']['Number of mass shootings']  / \n",
    "           df_[df_[\"Country\"] == 'United States']['pop'] * 1e5, color='r', alpha=1)\n",
    "#labels = ['{0}, {1}'.format(c, n) for c,n in zip(df_[\"Country\"].values, \n",
    "#                                                 df_[\"Number of mass shootings\"].values)]\n",
    "ax.set_ylabel(\"Number of mass shootings per person (x 10,000)\")\n",
    "ax.set_xlabel(\"civilian fire arms per person\")\n",
    "#tooltip = mpld3.plugins.PointLabelTooltip(scatter, labels=labels)\n",
    "#mpld3.plugins.connect(fig, tooltip)\n",
    "#mpld3.display()\n"
   ]
  },
  {
   "cell_type": "markdown",
   "metadata": {},
   "source": [
    "Figure 7: Mass shootings per person (inflated by 10,000) against number of fire arms per person. The outlier with large x-values is the US, plotted in red. The US number of mass shootings per person ranks number three overall, with both New Zealand and Finland showing a hisgher number of mass shooting per person in 2012. Uncertainties are inflated by (10,000) as well.\n",
    "However, the uncertainty in the number of mass shootings per person for Finland (2) and New Zealand (3), calculated as the Poisson statistics on the number of mass shootings alone, is large, making the number consistent with the number of mass shootings in the US as indicated by the overlap of the datapoint (and errorbar) for the US with the errorbar for each country."
   ]
  },
  {
   "cell_type": "markdown",
   "metadata": {
    "run_control": {
     "frozen": false,
     "read_only": false
    }
   },
   "source": [
    "# Modeling\n",
    "\n",
    "** fit a line to the Number of mass shootings  per person as a function of Average total all civilian firearms per person. Before you do it it is a good idea to make sure that both quantities are roughly of the same order of magnitude (unity). Use**\n",
    "    - analytical solution\n",
    "    - polyfit\n",
    "    - statsmodels OLS\n",
    "    - statsmodels WLS\n",
    "    - seaborn\n",
    "    \n",
    "in each case show your model parameters\n",
    "\n",
    "at least for statsmodels plot a summary of your model and point out metrics that show if the fit is good. \n",
    "\n",
    "plot each model. \n",
    "\n",
    "Use the seaborn python package to plot the regression confidence intervals. \n",
    "\n",
    "** Extra credit: calculate the confidence interval by hand and also plot them (you can use pl.fill_between)**\n"
   ]
  },
  {
   "cell_type": "code",
   "execution_count": 43,
   "metadata": {
    "ExecuteTime": {
     "end_time": "2017-10-23T22:05:18.024853",
     "start_time": "2017-10-23T22:05:18.016041"
    },
    "collapsed": false,
    "run_control": {
     "frozen": false,
     "read_only": false
    }
   },
   "outputs": [],
   "source": [
    "df_['x'] = df_[u'Average total all civilian firearms'] / df_['pop'] * 10\n",
    "df_['y'] = df_[u'Number of mass shootings'] / df_['pop'] * 1e7"
   ]
  },
  {
   "cell_type": "markdown",
   "metadata": {},
   "source": [
    "## Analytical solution"
   ]
  },
  {
   "cell_type": "code",
   "execution_count": 44,
   "metadata": {
    "ExecuteTime": {
     "end_time": "2017-10-23T22:05:18.561010",
     "start_time": "2017-10-23T22:05:18.032214"
    },
    "collapsed": false
   },
   "outputs": [
    {
     "name": "stdout",
     "output_type": "stream",
     "text": [
      "coefficients from analytical solution 0.113291383502 0.514364474734\n"
     ]
    },
    {
     "data": {
      "image/png": "[encoded data removed]",
      "text/plain": [
       "<matplotlib.figure.Figure at 0x1169bfb10>"
      ]
     },
     "metadata": {},
     "output_type": "display_data"
    }
   ],
   "source": [
    "cor = stats.spearmanr(df_.x, df_.y)\n",
    "beta1 = cor[0] * df_.y.std() / df_.x.std()\n",
    "beta0 = df_.y.mean() - beta1 * df_.x.mean()\n",
    "\n",
    "fig = pl.figure(figsize=(10,5))\n",
    "ax = fig.add_subplot(111)\n",
    "df_.plot.scatter(x=\"x\", y=\"y\", ax=ax)\n",
    "ax.plot(df_.x, beta0 + beta1 * df_.x, '-', color='k', label=\"analytical\")\n",
    "ax.set_ylabel(\"Number of mass shootings per person (x 10,000,000)\")\n",
    "ax.set_xlabel(\"Average civilian fire arms per person\")\n",
    "pl.legend()\n",
    "print (\"coefficients from analytical solution\", beta0, beta1)\n"
   ]
  },
  {
   "cell_type": "markdown",
   "metadata": {},
   "source": [
    "Figure 8: scatter plot of \"Number of mass shootings per person (inflated by a factor 10,000,000) against Average number of civilian fire arms per person for all countries in the mass shootings dataset except UK. The orange line represent the best fit as calculated analytically. The best fit coefficients are slope: 0.11, intercept: 0.51"
   ]
  },
  {
   "cell_type": "markdown",
   "metadata": {},
   "source": [
    "## Polyfit"
   ]
  },
  {
   "cell_type": "code",
   "execution_count": 45,
   "metadata": {
    "ExecuteTime": {
     "end_time": "2017-10-23T22:05:19.040888",
     "start_time": "2017-10-23T22:05:18.562952"
    },
    "collapsed": false
   },
   "outputs": [
    {
     "name": "stdout",
     "output_type": "stream",
     "text": [
      "polyfit coefficients: [ 0.36674823  0.43491589]\n"
     ]
    },
    {
     "data": {
      "image/png": "[encoded data removed]",
      "text/plain": [
       "<matplotlib.figure.Figure at 0x117249390>"
      ]
     },
     "metadata": {},
     "output_type": "display_data"
    }
   ],
   "source": [
    "polyfit_coeffs = np.polyfit(df_['x'], df_['y'], 1)\n",
    "\n",
    "fig = pl.figure(figsize=(10,5))\n",
    "ax = fig.add_subplot(111)\n",
    "df_.plot.scatter(x=\"x\", y=\"y\", ax=ax)\n",
    "ax.plot(df_.x, polyfit_coeffs[0] + polyfit_coeffs[1] * df_.x, '-', color='DarkOrange', label=\"polyfit\")\n",
    "ax.set_ylabel(\"Number of mass shootings per person (x 10,000,000)\")\n",
    "ax.set_xlabel(\"Average civilian fire arms per person\")\n",
    "pl.legend()\n",
    "print (\"polyfit coefficients:\", polyfit_coeffs)"
   ]
  },
  {
   "cell_type": "markdown",
   "metadata": {},
   "source": [
    "Figure 9: scatter plot of \"Number of mass shootings per person (inflated by a factor 10,000,000) against Average number of civilian fire arms per person for all countries in the mass shootings dataset except UK. The orange line represent the best fit as calculated by numpy.polyfit. The best fit coefficients are slope: 0.37, intercept: 0.43"
   ]
  },
  {
   "cell_type": "markdown",
   "metadata": {},
   "source": [
    "## Statsmodels OLS"
   ]
  },
  {
   "cell_type": "code",
   "execution_count": 46,
   "metadata": {
    "ExecuteTime": {
     "end_time": "2017-10-23T22:05:19.582512",
     "start_time": "2017-10-23T22:05:19.044232"
    },
    "collapsed": false,
    "run_control": {
     "frozen": false,
     "read_only": false
    }
   },
   "outputs": [
    {
     "data": {
      "image/png": "[encoded data removed]",
      "text/plain": [
       "<matplotlib.figure.Figure at 0x115aecdd0>"
      ]
     },
     "metadata": {},
     "output_type": "display_data"
    }
   ],
   "source": [
    "modelOLS = st.OLS(exog=st.add_constant(df_.x), endog=df_.y).fit()\n",
    "\n",
    "fig = pl.figure(figsize=(10,5))\n",
    "ax = fig.add_subplot(111)\n",
    "df_.plot.scatter(x=\"x\", y=\"y\", ax=ax)\n",
    "ax.plot(df_.x, polyfit_coeffs[1] + polyfit_coeffs[0] * df_.x, '-', color='DarkOrange', label=\"polyfit\")\n",
    "ax.plot(df_.x, modelOLS.fittedvalues, color=\"DarkGreen\", label=\"OLS\")\n",
    "ax.set_ylabel(\"Number of mass shootings per person (x 10,000,000)\")\n",
    "ax.set_xlabel(\"Average civilian fire arms per person\")\n",
    "pl.legend();\n"
   ]
  },
  {
   "cell_type": "markdown",
   "metadata": {},
   "source": [
    "Figure 10: as Figures 8 and 9, with the added ordinary least square fit line calculated by statsmodels, in green, (which unsurprisingly) coincides with the best fit by numpy polyfit"
   ]
  },
  {
   "cell_type": "code",
   "execution_count": 47,
   "metadata": {
    "ExecuteTime": {
     "end_time": "2017-10-23T22:05:19.624761",
     "start_time": "2017-10-23T22:05:19.585505"
    },
    "collapsed": false,
    "run_control": {
     "frozen": false,
     "read_only": false
    }
   },
   "outputs": [
    {
     "data": {
      "text/html": [
       "<table class=\"simpletable\">\n",
       "<caption>OLS Regression Results</caption>\n",
       "<tr>\n",
       "  <th>Dep. Variable:</th>            <td>y</td>        <th>  R-squared:         </th> <td>   0.184</td>\n",
       "</tr>\n",
       "<tr>\n",
       "  <th>Model:</th>                   <td>OLS</td>       <th>  Adj. R-squared:    </th> <td>   0.147</td>\n",
       "</tr>\n",
       "<tr>\n",
       "  <th>Method:</th>             <td>Least Squares</td>  <th>  F-statistic:       </th> <td>   4.951</td>\n",
       "</tr>\n",
       "<tr>\n",
       "  <th>Date:</th>             <td>Mon, 23 Oct 2017</td> <th>  Prob (F-statistic):</th>  <td>0.0366</td> \n",
       "</tr>\n",
       "<tr>\n",
       "  <th>Time:</th>                 <td>22:05:19</td>     <th>  Log-Likelihood:    </th> <td> -42.053</td>\n",
       "</tr>\n",
       "<tr>\n",
       "  <th>No. Observations:</th>      <td>    24</td>      <th>  AIC:               </th> <td>   88.11</td>\n",
       "</tr>\n",
       "<tr>\n",
       "  <th>Df Residuals:</th>          <td>    22</td>      <th>  BIC:               </th> <td>   90.46</td>\n",
       "</tr>\n",
       "<tr>\n",
       "  <th>Df Model:</th>              <td>     1</td>      <th>                     </th>     <td> </td>   \n",
       "</tr>\n",
       "<tr>\n",
       "  <th>Covariance Type:</th>      <td>nonrobust</td>    <th>                     </th>     <td> </td>   \n",
       "</tr>\n",
       "</table>\n",
       "<table class=\"simpletable\">\n",
       "<tr>\n",
       "    <td></td>       <th>coef</th>     <th>std err</th>      <th>t</th>      <th>P>|t|</th> <th>[95.0% Conf. Int.]</th> \n",
       "</tr>\n",
       "<tr>\n",
       "  <th>const</th> <td>    0.4349</td> <td>    0.466</td> <td>    0.933</td> <td> 0.361</td> <td>   -0.532     1.402</td>\n",
       "</tr>\n",
       "<tr>\n",
       "  <th>x</th>     <td>    0.3667</td> <td>    0.165</td> <td>    2.225</td> <td> 0.037</td> <td>    0.025     0.709</td>\n",
       "</tr>\n",
       "</table>\n",
       "<table class=\"simpletable\">\n",
       "<tr>\n",
       "  <th>Omnibus:</th>       <td>34.742</td> <th>  Durbin-Watson:     </th> <td>   1.632</td>\n",
       "</tr>\n",
       "<tr>\n",
       "  <th>Prob(Omnibus):</th> <td> 0.000</td> <th>  Jarque-Bera (JB):  </th> <td>  92.222</td>\n",
       "</tr>\n",
       "<tr>\n",
       "  <th>Skew:</th>          <td> 2.632</td> <th>  Prob(JB):          </th> <td>9.42e-21</td>\n",
       "</tr>\n",
       "<tr>\n",
       "  <th>Kurtosis:</th>      <td>11.032</td> <th>  Cond. No.          </th> <td>    4.78</td>\n",
       "</tr>\n",
       "</table>"
      ],
      "text/plain": [
       "<class 'statsmodels.iolib.summary.Summary'>\n",
       "\"\"\"\n",
       "                            OLS Regression Results                            \n",
       "==============================================================================\n",
       "Dep. Variable:                      y   R-squared:                       0.184\n",
       "Model:                            OLS   Adj. R-squared:                  0.147\n",
       "Method:                 Least Squares   F-statistic:                     4.951\n",
       "Date:                Mon, 23 Oct 2017   Prob (F-statistic):             0.0366\n",
       "Time:                        22:05:19   Log-Likelihood:                -42.053\n",
       "No. Observations:                  24   AIC:                             88.11\n",
       "Df Residuals:                      22   BIC:                             90.46\n",
       "Df Model:                           1                                         \n",
       "Covariance Type:            nonrobust                                         \n",
       "==============================================================================\n",
       "                 coef    std err          t      P>|t|      [95.0% Conf. Int.]\n",
       "------------------------------------------------------------------------------\n",
       "const          0.4349      0.466      0.933      0.361        -0.532     1.402\n",
       "x              0.3667      0.165      2.225      0.037         0.025     0.709\n",
       "==============================================================================\n",
       "Omnibus:                       34.742   Durbin-Watson:                   1.632\n",
       "Prob(Omnibus):                  0.000   Jarque-Bera (JB):               92.222\n",
       "Skew:                           2.632   Prob(JB):                     9.42e-21\n",
       "Kurtosis:                      11.032   Cond. No.                         4.78\n",
       "==============================================================================\n",
       "\n",
       "Warnings:\n",
       "[1] Standard Errors assume that the covariance matrix of the errors is correctly specified.\n",
       "\"\"\""
      ]
     },
     "execution_count": 47,
     "metadata": {},
     "output_type": "execute_result"
    }
   ],
   "source": [
    "modelOLS.summary()"
   ]
  },
  {
   "cell_type": "markdown",
   "metadata": {},
   "source": [
    "## statsmodel WLS"
   ]
  },
  {
   "cell_type": "markdown",
   "metadata": {},
   "source": [
    "Note: when the number of mass shootings is 0 the error is 0. But 0 errros cannot be used as weight (cause 1/0 = infinity). Thus I am setting the error on the values Nmassshootings = 0 to 1, which is the uncertainty on Nmassshootings = 1."
   ]
  },
  {
   "cell_type": "code",
   "execution_count": 48,
   "metadata": {
    "ExecuteTime": {
     "end_time": "2017-10-23T22:05:20.498289",
     "start_time": "2017-10-23T22:05:19.636523"
    },
    "collapsed": false,
    "run_control": {
     "frozen": false,
     "read_only": false
    }
   },
   "outputs": [
    {
     "name": "stdout",
     "output_type": "stream",
     "text": [
      "WLS coefficients: const    1.096026\n",
      "x        0.280361\n",
      "dtype: float64\n"
     ]
    },
    {
     "data": {
      "image/png": "[encoded data removed]",
      "text/plain": [
       "<matplotlib.figure.Figure at 0x1154055d0>"
      ]
     },
     "metadata": {},
     "output_type": "display_data"
    }
   ],
   "source": [
    "df_['yerr'] = np.sqrt(df_[u'Number of mass shootings'] \n",
    "                             / df_['pop'] * 1e7) + 1\n",
    "df_.w = 1.0 / df_.yerr\n",
    "\n",
    "\n",
    "modelWLS = st.WLS(exog=st.add_constant(df_.x), endog=df_.y,\n",
    "      weights = 1.0/df_.w).fit()\n",
    "\n",
    "fig = pl.figure(figsize=(10,5))\n",
    "ax = fig.add_subplot(111)\n",
    "df_.plot.scatter(x=\"x\", y=\"y\", yerr=df_.yerr, ax=ax)\n",
    "ax.plot(df_.x, polyfit_coeffs[1] + polyfit_coeffs[0] * df_.x, '-', color='DarkOrange', label=\"polyfit\")\n",
    "ax.plot(df_.x, modelOLS.fittedvalues, color=\"DarkGreen\", label=\"OLS\")\n",
    "ax.plot(df_.x, modelWLS.fittedvalues, '-', color='IndianRed', label=\"WLS\")\n",
    "ax.set_ylabel(\"Number of mass shootings per person (x 10,000,000)\")\n",
    "ax.set_xlabel(\"Average civilian fire arms per person\")\n",
    "pl.legend()\n",
    "print (\"WLS coefficients:\",  modelWLS.params)\n"
   ]
  },
  {
   "cell_type": "markdown",
   "metadata": {},
   "source": [
    "Figure 11: as figure 9 and 10, with the added Weighted Least Square fit calculated by statsmodels.api. The uncertainties are calculated as Poisson statistics on the Number of mass shootings per person, but uncertainties on the 0 value are set to 1. The parameters are slope 0.28, intercept 1.10"
   ]
  },
  {
   "cell_type": "code",
   "execution_count": 49,
   "metadata": {
    "ExecuteTime": {
     "end_time": "2017-10-23T22:05:20.526488",
     "start_time": "2017-10-23T22:05:20.500943"
    },
    "collapsed": false,
    "run_control": {
     "frozen": false,
     "read_only": false
    }
   },
   "outputs": [
    {
     "data": {
      "text/html": [
       "<table class=\"simpletable\">\n",
       "<caption>WLS Regression Results</caption>\n",
       "<tr>\n",
       "  <th>Dep. Variable:</th>            <td>y</td>        <th>  R-squared:         </th> <td>   0.090</td>\n",
       "</tr>\n",
       "<tr>\n",
       "  <th>Model:</th>                   <td>WLS</td>       <th>  Adj. R-squared:    </th> <td>   0.049</td>\n",
       "</tr>\n",
       "<tr>\n",
       "  <th>Method:</th>             <td>Least Squares</td>  <th>  F-statistic:       </th> <td>   2.180</td>\n",
       "</tr>\n",
       "<tr>\n",
       "  <th>Date:</th>             <td>Mon, 23 Oct 2017</td> <th>  Prob (F-statistic):</th>  <td> 0.154</td> \n",
       "</tr>\n",
       "<tr>\n",
       "  <th>Time:</th>                 <td>22:05:20</td>     <th>  Log-Likelihood:    </th> <td> -48.229</td>\n",
       "</tr>\n",
       "<tr>\n",
       "  <th>No. Observations:</th>      <td>    24</td>      <th>  AIC:               </th> <td>   100.5</td>\n",
       "</tr>\n",
       "<tr>\n",
       "  <th>Df Residuals:</th>          <td>    22</td>      <th>  BIC:               </th> <td>   102.8</td>\n",
       "</tr>\n",
       "<tr>\n",
       "  <th>Df Model:</th>              <td>     1</td>      <th>                     </th>     <td> </td>   \n",
       "</tr>\n",
       "<tr>\n",
       "  <th>Covariance Type:</th>      <td>nonrobust</td>    <th>                     </th>     <td> </td>   \n",
       "</tr>\n",
       "</table>\n",
       "<table class=\"simpletable\">\n",
       "<tr>\n",
       "    <td></td>       <th>coef</th>     <th>std err</th>      <th>t</th>      <th>P>|t|</th> <th>[95.0% Conf. Int.]</th> \n",
       "</tr>\n",
       "<tr>\n",
       "  <th>const</th> <td>    1.0960</td> <td>    0.610</td> <td>    1.795</td> <td> 0.086</td> <td>   -0.170     2.362</td>\n",
       "</tr>\n",
       "<tr>\n",
       "  <th>x</th>     <td>    0.2804</td> <td>    0.190</td> <td>    1.476</td> <td> 0.154</td> <td>   -0.113     0.674</td>\n",
       "</tr>\n",
       "</table>\n",
       "<table class=\"simpletable\">\n",
       "<tr>\n",
       "  <th>Omnibus:</th>       <td>45.777</td> <th>  Durbin-Watson:     </th> <td>   1.782</td>\n",
       "</tr>\n",
       "<tr>\n",
       "  <th>Prob(Omnibus):</th> <td> 0.000</td> <th>  Jarque-Bera (JB):  </th> <td> 191.091</td>\n",
       "</tr>\n",
       "<tr>\n",
       "  <th>Skew:</th>          <td> 3.422</td> <th>  Prob(JB):          </th> <td>3.20e-42</td>\n",
       "</tr>\n",
       "<tr>\n",
       "  <th>Kurtosis:</th>      <td>15.010</td> <th>  Cond. No.          </th> <td>    5.67</td>\n",
       "</tr>\n",
       "</table>"
      ],
      "text/plain": [
       "<class 'statsmodels.iolib.summary.Summary'>\n",
       "\"\"\"\n",
       "                            WLS Regression Results                            \n",
       "==============================================================================\n",
       "Dep. Variable:                      y   R-squared:                       0.090\n",
       "Model:                            WLS   Adj. R-squared:                  0.049\n",
       "Method:                 Least Squares   F-statistic:                     2.180\n",
       "Date:                Mon, 23 Oct 2017   Prob (F-statistic):              0.154\n",
       "Time:                        22:05:20   Log-Likelihood:                -48.229\n",
       "No. Observations:                  24   AIC:                             100.5\n",
       "Df Residuals:                      22   BIC:                             102.8\n",
       "Df Model:                           1                                         \n",
       "Covariance Type:            nonrobust                                         \n",
       "==============================================================================\n",
       "                 coef    std err          t      P>|t|      [95.0% Conf. Int.]\n",
       "------------------------------------------------------------------------------\n",
       "const          1.0960      0.610      1.795      0.086        -0.170     2.362\n",
       "x              0.2804      0.190      1.476      0.154        -0.113     0.674\n",
       "==============================================================================\n",
       "Omnibus:                       45.777   Durbin-Watson:                   1.782\n",
       "Prob(Omnibus):                  0.000   Jarque-Bera (JB):              191.091\n",
       "Skew:                           3.422   Prob(JB):                     3.20e-42\n",
       "Kurtosis:                      15.010   Cond. No.                         5.67\n",
       "==============================================================================\n",
       "\n",
       "Warnings:\n",
       "[1] Standard Errors assume that the covariance matrix of the errors is correctly specified.\n",
       "\"\"\""
      ]
     },
     "execution_count": 49,
     "metadata": {},
     "output_type": "execute_result"
    }
   ],
   "source": [
    "modelWLS.summary()"
   ]
  },
  {
   "cell_type": "markdown",
   "metadata": {},
   "source": [
    "## calculate confidence intervals by hand"
   ]
  },
  {
   "cell_type": "code",
   "execution_count": 50,
   "metadata": {
    "ExecuteTime": {
     "end_time": "2017-10-23T22:05:20.534099",
     "start_time": "2017-10-23T22:05:20.528973"
    },
    "collapsed": false,
    "run_control": {
     "frozen": false,
     "read_only": false
    }
   },
   "outputs": [],
   "source": [
    "#t statistics that I need for the analytical solution\n",
    "tp = sp.stats.t.ppf(0.975, len(df_.x - 1 - modelOLS.df_model))"
   ]
  },
  {
   "cell_type": "code",
   "execution_count": 51,
   "metadata": {
    "ExecuteTime": {
     "end_time": "2017-10-23T22:05:20.541939",
     "start_time": "2017-10-23T22:05:20.536266"
    },
    "collapsed": true,
    "run_control": {
     "frozen": false,
     "read_only": false
    }
   },
   "outputs": [],
   "source": [
    "def serr(x, xhat=None): \n",
    "    if xhat is None:\n",
    "        return np.sqrt(((x - x.mean())**2 / (len(x) - 2)).sum())\n",
    "    else: \n",
    "        return np.sqrt(((x - xhat)**2 / (len(x) - 2)).sum())\n",
    "        "
   ]
  },
  {
   "cell_type": "code",
   "execution_count": 52,
   "metadata": {
    "ExecuteTime": {
     "end_time": "2017-10-23T22:05:20.553669",
     "start_time": "2017-10-23T22:05:20.545247"
    },
    "collapsed": false,
    "run_control": {
     "frozen": false,
     "read_only": false
    }
   },
   "outputs": [],
   "source": [
    "#confidence interval of each prediction\n",
    "n = len(df_.x)\n",
    "ci = tp * serr(df_.y, modelOLS.predict()) * np.sqrt( 1.0 / n + ((df_.x - df_.x.mean())**2 / \n",
    "                                       (n - 1) / serr(df_.x)**2))\n"
   ]
  },
  {
   "cell_type": "code",
   "execution_count": 53,
   "metadata": {
    "ExecuteTime": {
     "end_time": "2017-10-23T22:05:20.563507",
     "start_time": "2017-10-23T22:05:20.555709"
    },
    "collapsed": false,
    "run_control": {
     "frozen": false,
     "read_only": false
    }
   },
   "outputs": [
    {
     "data": {
      "text/plain": [
       "(0.024914553289408836, -0.11347522877347005)"
      ]
     },
     "execution_count": 53,
     "metadata": {},
     "output_type": "execute_result"
    }
   ],
   "source": [
    "modelOLS.conf_int()[0].x, modelWLS.conf_int()[0].x"
   ]
  },
  {
   "cell_type": "code",
   "execution_count": 54,
   "metadata": {
    "ExecuteTime": {
     "end_time": "2017-10-23T22:05:23.459620",
     "start_time": "2017-10-23T22:05:20.565888"
    },
    "collapsed": false,
    "run_control": {
     "frozen": false,
     "read_only": false
    }
   },
   "outputs": [
    {
     "data": {
      "image/png": "[encoded data removed]",
      "text/plain": [
       "<matplotlib.figure.Figure at 0x1152288d0>"
      ]
     },
     "metadata": {},
     "output_type": "display_data"
    },
    {
     "data": {
      "image/png": "[encoded data removed]",
      "text/plain": [
       "<matplotlib.figure.Figure at 0x117056a10>"
      ]
     },
     "metadata": {},
     "output_type": "display_data"
    }
   ],
   "source": [
    "fig = pl.figure(figsize=(10,10))\n",
    "ax = fig.add_subplot(221)\n",
    "ax.plot(df_.x, df_.y, '.', label=\"data\")\n",
    "ax.set_ylabel(\"mass shootings pp (x10,000,000)\")\n",
    "ax.set_xlabel(\"civilian fire arms pp\")\n",
    "pl.legend()\n",
    "\n",
    "\n",
    "ax = fig.add_subplot(222)\n",
    "ax.plot(df_.x, df_.y, '.', label=\"data\")\n",
    "ax.plot(df_.x,\n",
    "        modelOLS.fittedvalues, '.', label=\"OSL prediction\")\n",
    "ax.plot([df_.x.min(), df_.x.max()],\n",
    "        modelOLS.params[1] * np.array([df_.x.min(), df_.x.max()]) +\n",
    "        modelOLS.params[0], 'k-', alpha=0.6, label=\"OLS fit line\")\n",
    "ax.set_ylabel(\"mass shootings pp (x10,000,000)\")\n",
    "ax.set_xlabel(\"civilian fire arms pp\")\n",
    "pl.legend()\n",
    "\n",
    "\n",
    "ax = fig.add_subplot(223)\n",
    "ax.plot(df_.x, df_.y, '.', label=\"data\")\n",
    "ax.plot([df_.x.min(), df_.x.max()],\n",
    "        modelOLS.params[1] * np.array([df_.x.min(), df_.x.max()]) +\n",
    "        modelOLS.params[0], 'k-', label=\"OLS fit line\")\n",
    "ax.errorbar(df_.x,\n",
    "            modelOLS.fittedvalues, yerr=ci, \n",
    "            color='k', alpha=0.5, label=\"prediction confidence interval\")\n",
    "ax.set_ylabel(\"mass shootings pp (x10,000,000)\")\n",
    "ax.set_xlabel(\"civilian fire arms pp\")\n",
    "pl.legend()\n",
    "\n",
    "ax = fig.add_subplot(224)\n",
    "ax.plot(df_.x, df_.y, '.', label=\"data\")\n",
    "ax.plot([df_.x.min(), df_.x.max()],\n",
    "        modelOLS.params[1] * np.array([df_.x.min(), df_.x.max()]) +\n",
    "        modelOLS.params[0], 'k-')\n",
    "ax.errorbar(df_.x,\n",
    "            modelOLS.fittedvalues, yerr=ci, \n",
    "            color='k', alpha=0.5, label=\"prediction confidence interval\")\n",
    "ax.fill_between([df_.x.min(), df_.x.max()],\n",
    "        (modelOLS.conf_int()[0].x) * np.array([df_.x.min(), df_.x.max()]) +\n",
    "        modelOLS.conf_int()[0].const,\n",
    "        (modelOLS.conf_int()[1].x) * np.array([df_.x.min(), df_.x.max()]) +\n",
    "        modelOLS.conf_int()[1].const, color='k', alpha=0.3, label=\"OLS confidence band\")\n",
    "ax.set_ylabel(\"mass shootings pp (x10,000,000)\")\n",
    "ax.set_xlabel(\"civilian fire arms pp\")\n",
    "pl.legend()\n",
    "\n",
    "\n",
    "xx = st.add_constant(np.sort(df_.x)) \n",
    "axsort = np.argsort(df_.x)\n",
    "xsort = df_.x[axsort]\n",
    "y_hat = modelOLS.predict(xx) # x is an array \n",
    "\n",
    "y_err = df_.y[axsort] - y_hat\n",
    "\n",
    "mean_x = xx.T[1].mean()\n",
    "\n",
    "nn = len(xx)\n",
    "#degreed of freedom: numbr of points - number of model parameters \n",
    "dof = nn - modelOLS.df_model - 1\n",
    "\n",
    "t = stats.t.ppf(1-0.025, df=dof)\n",
    "\n",
    "s_err = np.sum(np.power(y_err, 2))\n",
    "\n",
    "conf = t * np.sqrt((s_err / (nn - 2))*(1.0 / nn + (np.power((xsort - mean_x),2) / \n",
    "     ((np.sum(np.power(xsort, 2))) - nn*(np.power(mean_x, 2))))))\n",
    "upper = y_hat + conf\n",
    "lower = y_hat - conf\n",
    "pl.figure(figsize=(10,5))\n",
    "#pl.plot(df_.x, df_.y, '.')\n",
    "pl.plot(df_.x,\n",
    "        modelOLS.fittedvalues, '-')\n",
    "pl.fill_between(df_.x[axsort], lower, upper, color='#888888', alpha=0.4, label=\"manual confidence\")\n",
    "sns.regplot(x=\"x\", y=\"y\", data=df_);\n"
   ]
  },
  {
   "cell_type": "markdown",
   "metadata": {},
   "source": [
    "Figure 12: Scatter plot of mass shootings against civilian fire arms. Top  left: only the data are shown. Top right, the data and the OLS prediction and best fit line. Center left: data, best fit line, and confidence interval on the in-sample prediction, Center right: data, confidence interval on the prediction, OLS confidence region (reported by statsmodels).\n",
    "Bottom panel: seaborn best line fit and seaborn confidence interval for the regression estimate ( in green) and analytical confidence intervals. "
   ]
  },
  {
   "cell_type": "markdown",
   "metadata": {
    "run_control": {
     "frozen": false,
     "read_only": false
    }
   },
   "source": [
    "## Use the stsatsmodels.gaphics package to plot the influence plot. \n",
    "Read the package documentation to learn how to read this plot and extract the countries with the highest influence"
   ]
  },
  {
   "cell_type": "code",
   "execution_count": 55,
   "metadata": {
    "ExecuteTime": {
     "end_time": "2017-10-23T22:05:23.967180",
     "start_time": "2017-10-23T22:05:23.463021"
    },
    "collapsed": false,
    "run_control": {
     "frozen": false,
     "read_only": false
    }
   },
   "outputs": [
    {
     "data": {
      "image/png": "[encoded data removed]",
      "text/plain": [
       "<matplotlib.figure.Figure at 0x115fd5210>"
      ]
     },
     "metadata": {},
     "output_type": "display_data"
    }
   ],
   "source": [
    "import statsmodels.api as sm\n",
    "sm.graphics.influence_plot(modelOLS, alpha  = 0.05, criterion=\"cooks\");"
   ]
  },
  {
   "cell_type": "markdown",
   "metadata": {},
   "source": [
    "Figure 13: Influence plot. The vertical position of a point indicates the magnitude of its (studentized) residuals, the x position its leverage on the best fit, and the size of the plot represents the cook's distance.\n",
    "Points with high leverage: USA (label 21)\n",
    "Points with high residuals: New Zealand (label 16). \n",
    "\n",
    "Both have high influence on the plot"
   ]
  },
  {
   "cell_type": "code",
   "execution_count": 56,
   "metadata": {
    "ExecuteTime": {
     "end_time": "2017-10-23T22:05:23.982590",
     "start_time": "2017-10-23T22:05:23.970162"
    },
    "collapsed": false
   },
   "outputs": [
    {
     "name": "stdout",
     "output_type": "stream",
     "text": [
      "influencial observation that most affect the model\n"
     ]
    },
    {
     "data": {
      "text/plain": [
       "(Country                                United States\n",
       " Average total all civilian firearms          2.7e+08\n",
       " pop                                      3.13998e+08\n",
       " gdp                                      1.61553e+13\n",
       " Number of homicides by firearm                  9146\n",
       " Guns/100 inhabitants                            88.8\n",
       " Number of mass shootings                          78\n",
       " shootingspp                              0.000248409\n",
       " x                                            8.59877\n",
       " y                                            2.48409\n",
       " yerr                                          2.5761\n",
       " Name: 23, dtype: object, Country                                New Zealand\n",
       " Average total all civilian firearms         925000\n",
       " pop                                     4.4081e+06\n",
       " gdp                                    1.76193e+11\n",
       " Number of homicides by firearm                   7\n",
       " Guns/100 inhabitants                          22.6\n",
       " Number of mass shootings                         3\n",
       " shootingspp                            0.000680565\n",
       " x                                          2.09841\n",
       " y                                          6.80565\n",
       " yerr                                       3.60876\n",
       " Name: 16, dtype: object)"
      ]
     },
     "execution_count": 56,
     "metadata": {},
     "output_type": "execute_result"
    }
   ],
   "source": [
    "print (\"influencial observation that most affect the model\")\n",
    "df_.iloc[23], df_.iloc[16]"
   ]
  },
  {
   "cell_type": "code",
   "execution_count": 57,
   "metadata": {
    "ExecuteTime": {
     "end_time": "2017-10-23T22:05:25.171968",
     "start_time": "2017-10-23T22:05:23.986702"
    },
    "collapsed": false,
    "run_control": {
     "frozen": false,
     "read_only": false
    }
   },
   "outputs": [
    {
     "data": {
      "image/png": "[encoded data removed]",
      "text/plain": [
       "<matplotlib.figure.Figure at 0x115d5d110>"
      ]
     },
     "metadata": {},
     "output_type": "display_data"
    }
   ],
   "source": [
    "sns.jointplot(x=\"x\", y=\"y\", data=df_, kind=\"reg\");\n"
   ]
  },
  {
   "cell_type": "markdown",
   "metadata": {},
   "source": [
    "Figure 14: Another example of a sns plot that may be insightful: this plot shows the distribution of points along x and y axis as a histogram, and its Kernel density estimate (KDE). Also (automatically ) the correlation coefficient between endogenous and exogenous variable is indicates, and its p-value. In this case the p value is 0.037, but since we have not set an alpha significance at the beginning we refrain from commenting on its significance.\n",
    "\n"
   ]
  },
  {
   "cell_type": "markdown",
   "metadata": {
    "run_control": {
     "frozen": false,
     "read_only": false
    }
   },
   "source": [
    "# Discuss your findings"
   ]
  },
  {
   "cell_type": "markdown",
   "metadata": {
    "collapsed": true,
    "run_control": {
     "frozen": false,
     "read_only": false
    }
   },
   "source": [
    "The things I am most interested in is :\n",
    "    - an understanding of the fact that incorporating  different errors and even different normalizations  may lead to different results, \n",
    "    - in the presence of outliers that influence a linear model trends should not be over-interpreted. (e.g. it is difficult to say if more fire arms lead to more mass shootings per person, due to the US being such a large outlier)"
   ]
  },
  {
   "cell_type": "code",
   "execution_count": null,
   "metadata": {
    "collapsed": true
   },
   "outputs": [],
   "source": []
  }
 ],
 "metadata": {
  "anaconda-cloud": {},
  "kernelspec": {
   "display_name": "Python 3",
   "language": "python",
   "name": "python3"
  },
  "language_info": {
   "codemirror_mode": {
    "name": "ipython",
    "version": 2
   },
   "file_extension": ".py",
   "mimetype": "text/x-python",
   "name": "python",
   "nbconvert_exporter": "python",
   "pygments_lexer": "ipython2",
   "version": "2.7.12"
  },
  "latex_envs": {
   "LaTeX_envs_menu_present": true,
   "bibliofile": "biblio.bib",
   "cite_by": "apalike",
   "current_citInitial": 1,
   "eqLabelWithNumbers": true,
   "eqNumInitial": 1,
   "hotkeys": {
    "equation": "Ctrl-E",
    "itemize": "Ctrl-I"
   },
   "labels_anchors": false,
   "latex_user_defs": false,
   "report_style_numbering": false,
   "user_envs_cfg": false
  },
  "toc": {
   "colors": {
    "hover_highlight": "#DAA520",
    "running_highlight": "#FF0000",
    "selected_highlight": "#FFD700"
   },
   "moveMenuLeft": true,
   "nav_menu": {
    "height": "13px",
    "width": "251px"
   },
   "navigate_menu": true,
   "number_sections": true,
   "sideBar": true,
   "threshold": 4,
   "toc_cell": false,
   "toc_section_display": "block",
   "toc_window_display": true
  }
 },
 "nbformat": 4,
 "nbformat_minor": 1
}
