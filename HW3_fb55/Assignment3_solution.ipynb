{
 "cells": [
  {
   "cell_type": "markdown",
   "metadata": {
    "run_control": {
     "frozen": false,
     "read_only": false
    }
   },
   "source": [
    "Prepared by Federica B Bianco, NYU @fedhere\n",
    "for CUSP NYU\n",
    "solution to Assignment 3 HW 3"
   ]
  },
  {
   "cell_type": "code",
   "execution_count": 1,
   "metadata": {
    "ExecuteTime": {
     "end_time": "2017-10-16T11:32:40.379904",
     "start_time": "2017-10-16T11:32:39.960474"
    },
    "collapsed": true,
    "run_control": {
     "frozen": false,
     "read_only": false
    }
   },
   "outputs": [],
   "source": [
    "from __future__ import division, print_function\n",
    "import numpy as np"
   ]
  },
  {
   "cell_type": "markdown",
   "metadata": {
    "run_control": {
     "frozen": false,
     "read_only": false
    }
   },
   "source": [
    "# must have this!! a statement of Null and alternative, and the significance level chosen\n",
    " Stating the Null Hypothesis: The bus rerouting does not change the average travel time.\n",
    "\n",
    " $H_0$: TimeNew.mean() >= TimeOld.mean()\n",
    "\n",
    " $H_a$: TimeNew.mean() < TimeOld.mean()\n",
    "\n",
    " $\\alpha=0.05$"
   ]
  },
  {
   "cell_type": "code",
   "execution_count": 7,
   "metadata": {
    "ExecuteTime": {
     "end_time": "2017-10-16T11:34:06.975519",
     "start_time": "2017-10-16T11:34:06.723095"
    },
    "collapsed": false,
    "run_control": {
     "frozen": false,
     "read_only": false
    }
   },
   "outputs": [
    {
     "name": "stdout",
     "output_type": "stream",
     "text": [
      "  % Total    % Received % Xferd  Average Speed   Time    Time     Time  Current\n",
      "                                 Dload  Upload   Total   Spent    Left  Speed\n",
      "100  1179  100  1179    0     0   9737      0 --:--:-- --:--:-- --:--:-- 12410\n"
     ]
    }
   ],
   "source": [
    "# the raw input must be read directly \n",
    "!curl -O https://raw.githubusercontent.com/fedhere/PUI2017_fb55/master/Lab3_fb55/times.txt"
   ]
  },
  {
   "cell_type": "code",
   "execution_count": 8,
   "metadata": {
    "ExecuteTime": {
     "end_time": "2017-10-16T11:34:08.748065",
     "start_time": "2017-10-16T11:34:08.625314"
    },
    "collapsed": false
   },
   "outputs": [
    {
     "name": "stdout",
     "output_type": "stream",
     "text": [
      "31.62223931\r\n",
      "32.82137636\r\n",
      "30.2291014\r\n",
      "31.41376587\r\n",
      "39.01055035\r\n",
      "34.82207891\r\n",
      "39.87188366\r\n",
      "39.57994562\r\n",
      "31.02658678\r\n",
      "27.66246068\r\n"
     ]
    }
   ],
   "source": [
    "!head times.txt"
   ]
  },
  {
   "cell_type": "code",
   "execution_count": 9,
   "metadata": {
    "ExecuteTime": {
     "end_time": "2017-10-16T11:34:10.431483",
     "start_time": "2017-10-16T11:34:10.423583"
    },
    "collapsed": false,
    "run_control": {
     "frozen": false,
     "read_only": false
    }
   },
   "outputs": [],
   "source": [
    "alpha = 0.05\n",
    "timesOldMean = 36.\n",
    "timesOldStd = 6.\n",
    "timesNew = np.loadtxt(\"times.txt\", unpack=True)"
   ]
  },
  {
   "cell_type": "code",
   "execution_count": 10,
   "metadata": {
    "ExecuteTime": {
     "end_time": "2017-10-16T11:34:55.381297",
     "start_time": "2017-10-16T11:34:55.376443"
    },
    "collapsed": true
   },
   "outputs": [],
   "source": [
    "# alternative: in class I used. See the lab repo \n",
    "#pd.read_csv(\"https://raw.githubusercontent.com/fedhere/PUI2017_fb55/master/Lab3_fb55/times.txt\", header=None)"
   ]
  },
  {
   "cell_type": "markdown",
   "metadata": {},
   "source": [
    "Treating the old times distribution as a \"population\" and with 100 (>30) observation of new trips I can use the Z test. "
   ]
  },
  {
   "cell_type": "code",
   "execution_count": 11,
   "metadata": {
    "ExecuteTime": {
     "end_time": "2017-10-16T11:34:57.496575",
     "start_time": "2017-10-16T11:34:57.489258"
    },
    "collapsed": false,
    "run_control": {
     "frozen": false,
     "read_only": false
    }
   },
   "outputs": [
    {
     "name": "stdout",
     "output_type": "stream",
     "text": [
      "The new average travel time is 34.47\n"
     ]
    }
   ],
   "source": [
    "print(\"The new average travel time is {0:.2f}\".format(timesNew.mean()))"
   ]
  },
  {
   "cell_type": "code",
   "execution_count": 15,
   "metadata": {
    "ExecuteTime": {
     "end_time": "2017-10-16T11:36:29.406166",
     "start_time": "2017-10-16T11:36:29.400076"
    },
    "collapsed": false,
    "run_control": {
     "frozen": false,
     "read_only": false
    }
   },
   "outputs": [
    {
     "name": "stdout",
     "output_type": "stream",
     "text": [
      "The Z statistics is Z = 2.56\n"
     ]
    }
   ],
   "source": [
    "# here it is ok to use either the stdev from timesOld or from timesNew\n",
    "z = (timesOldMean - timesNew.mean()) / (timesOldStd / np.sqrt(len(timesNew)))\n",
    "print(\"The Z statistics is Z = {0:.2f}\".format(Z))"
   ]
  },
  {
   "cell_type": "code",
   "execution_count": 16,
   "metadata": {
    "ExecuteTime": {
     "end_time": "2017-10-16T11:36:29.906183",
     "start_time": "2017-10-16T11:36:29.896661"
    },
    "collapsed": false,
    "run_control": {
     "frozen": false,
     "read_only": false
    }
   },
   "outputs": [
    {
     "name": "stdout",
     "output_type": "stream",
     "text": [
      "Z score for Bus X8 rerouting: 2.6\n",
      "This means we are 2.6 standard deviations away\n",
      "from the mean of the old trip duration\n",
      "\n",
      "\n",
      "The Null Hypothesis that the new route makes commuting time worse\n",
      "IS REJECTED at the 95.0% significance level (p<0.05)\n"
     ]
    }
   ],
   "source": [
    "print(\"Z score for Bus X8 rerouting: {0:.1f}\".format(Z))\n",
    "print(\"This means we are {0:.1f} standard deviations away\".format(Z))\n",
    "print(\"from the mean of the old trip duration\\n\\n\")\n",
    "if z > 2:\n",
    "    result = \"IS REJECTED\"\n",
    "else: \n",
    "    result = \"CANNOT BE REJECTED\"\n",
    "\n",
    "print(\"The Null Hypothesis that the new route makes commuting time worse\")\n",
    "print(\"{0:s} at the {1:.1f}% significance level (p<0.05)\".format(result, 100*(1-alpha)))"
   ]
  },
  {
   "cell_type": "code",
   "execution_count": null,
   "metadata": {
    "collapsed": true,
    "run_control": {
     "frozen": false,
     "read_only": false
    }
   },
   "outputs": [],
   "source": []
  }
 ],
 "metadata": {
  "anaconda-cloud": {},
  "kernelspec": {
   "display_name": "Python 3",
   "language": "python",
   "name": "python3"
  },
  "language_info": {
   "codemirror_mode": {
    "name": "ipython",
    "version": 2
   },
   "file_extension": ".py",
   "mimetype": "text/x-python",
   "name": "python",
   "nbconvert_exporter": "python",
   "pygments_lexer": "ipython2",
   "version": "2.7.12"
  },
  "latex_envs": {
   "LaTeX_envs_menu_present": true,
   "bibliofile": "biblio.bib",
   "cite_by": "apalike",
   "current_citInitial": 1,
   "eqLabelWithNumbers": true,
   "eqNumInitial": 1,
   "hotkeys": {
    "equation": "Ctrl-E",
    "itemize": "Ctrl-I"
   },
   "labels_anchors": false,
   "latex_user_defs": false,
   "report_style_numbering": false,
   "user_envs_cfg": false
  },
  "toc": {
   "colors": {
    "hover_highlight": "#DAA520",
    "running_highlight": "#FF0000",
    "selected_highlight": "#FFD700"
   },
   "moveMenuLeft": true,
   "nav_menu": {
    "height": "11.992187999999999px",
    "width": "1.992188px"
   },
   "navigate_menu": true,
   "number_sections": true,
   "sideBar": true,
   "threshold": 4,
   "toc_cell": false,
   "toc_section_display": "block",
   "toc_window_display": false
  }
 },
 "nbformat": 4,
 "nbformat_minor": 0
}
