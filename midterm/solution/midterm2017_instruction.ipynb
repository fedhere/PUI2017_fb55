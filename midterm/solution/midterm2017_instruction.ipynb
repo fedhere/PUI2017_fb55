{
 "cells": [
  {
   "cell_type": "markdown",
   "metadata": {
    "run_control": {
     "frozen": false,
     "read_only": false
    }
   },
   "source": [
    "# Investigation of taxi tipping behavior with income\n",
    "\n",
    "The NYC taxi data is publicly accessible since 2009. There are, consequently, many data-driven studies, time series analyses, geospatial analyses, and a commonly attempted task is the prediction of the amount tipped. Many of these studies suggest a relation between the socioeconomic characteristics of the passenger and their tipping habits. This analysis is designed to test the hypothesis that the income of the passenger is related to the passenger tipping behavior (tipping generosity).\n",
    "\n",
    "**First hint: the data download may take some time - it took 9 minutes for me on my laptop a couple of days ago! Start downloading the data right away, then go back to the rest of the instructions. **"
   ]
  },
  {
   "cell_type": "markdown",
   "metadata": {
    "run_control": {
     "frozen": false,
     "read_only": false
    }
   },
   "source": [
    "# Objective: relate the yellow taxi tips to passenger income.\n",
    "\n",
    "## 1-5 are the data wrangling portion of the exercise, and are worth 50% of the points\n",
    "### In the data wrangling portion points are awarded for data processed so that they support the analysis in parts 5-10. This portion is likely going to be the most consuming.\n",
    "\n",
    "## 6-11 are the analysis portion of the exercise, and are worth 60% of the points \n",
    "### In the data analysis portion points are awarded for correct analysis, conclusions supported by the analysis *and expressed in full sentences*, and plots that support the analysis and conclusions.\n",
    "\n",
    "#### That sums up to 110%, so you have a better chance to get 100% on your test, and if you exceed 100% the rest will be accounted for as extra credit and help your cumulative score at the end of the semester.\n",
    "\n",
    "## Data Wrangling (each task is 10% of the points)\n",
    "### 1. Download yellowcab data from 2009 and subsample it to reduce it to a manageable size ([alternatives](https://docs.google.com/document/d/1QRXSMJdu-iP1967GbRxtZXGChVDVQ5WNVImn1j4hCl8/edit?usp=sharing)) \n",
    "### 2. Download income information from IRS for NYC and extract the income per person by zipcode ([alternatives](https://docs.google.com/document/d/1QRXSMJdu-iP1967GbRxtZXGChVDVQ5WNVImn1j4hCl8/edit?usp=sharing))\n",
    "### 3. Feature engineering task: extract the trip duration from the data and the tip percentage  ([alternatives](https://docs.google.com/document/d/1QRXSMJdu-iP1967GbRxtZXGChVDVQ5WNVImn1j4hCl8/edit?usp=sharing))\n",
    "### 4. Find the zipcodes of taxi rides origin and destination \n",
    "### 5. Data aggregation task: Join the datasets so that your data contains at least: trip duration, trip distance, fare amount, tip percentage, departure zipcode income, and destination zipcode income. \n",
    "\n",
    "## Analysis\n",
    "\n",
    "\n",
    "### 6. Plot the distribution of tip percentages and *report its first and second moment*. Remove outliers, replot and see if the moments changed significantly. \n",
    "\n",
    "### 7. Test if the distribution is consistent with a Gaussian.\n",
    "\n",
    "### 8. Fit a line to taxi fare vs trip duration and to taxi fare vs trip distance to decide which variable between duration and distance *contains more information when used in a model in conjunction with the fare*.\n",
    "\n",
    "### 9. Improve the fit by removing ''suspected'' outliers and *quantify* the improvement\n",
    "\n",
    "### 10. Create a multivariate liner model to predict the tip percentage as a function of trip fare and another variable, the one you chose in step 8. Create also a linear model to predict the tip percentage as a multivariate linear model with variables trip duration or distance and trip fare, and  also includes  income (by zipcode) at arrival and destination. \n",
    "\n",
    "### 11 Compare the two models in step 10 *formally*. Which is a better model? Finally,  create two mode models,  one with duration/distance,  fare and income at departure, one with duration/distance,  fare and income at destination. Which is better? Why? \n",
    "\n"
   ]
  },
  {
   "cell_type": "markdown",
   "metadata": {
    "run_control": {
     "frozen": false,
     "read_only": false
    }
   },
   "source": [
    "## 1. Download yellowtaxi data for February 2009. (10%)\n",
    "Data can be accessed through [this link](http://www.nyc.gov/html/tlc/html/about/trip_record_data.shtml). \n",
    "\n",
    "Note that the file is large, and will take some time to read! (Start the download right away and then go back to the instructions). If you need help [refer to this](https://docs.google.com/document/d/1-ets-S4KETuKQDSua-XSkwqRtsza-o6hSz_U5k_cQRo/edit?usp=sharing). \n",
    "\n",
    "Very important! this dataset is large! 13 million rows!  10,000 rows or so is plenty to write your code for this mitderm. ** [hint](https://docs.google.com/document/d/1vivVDYtdAT96_AMIMCXM7P93Ayb876BaIh55YP-UUCQ/edit?usp=sharing) about large data **`\n",
    "\n",
    "Subsample the way I did by taking every 1,000th row if you want to use the preprocessed datasets I prepared at any point (especially for the origin destination zipcode of each ride as you will **need to** unless you are handy with geopandas or you have access to premium google map API that allows >2,500 queries)\n",
    "\n",
    "**OR  **([alternative 1](https://docs.google.com/document/d/1QRXSMJdu-iP1967GbRxtZXGChVDVQ5WNVImn1j4hCl8/edit?usp=sharing))\n"
   ]
  },
  {
   "cell_type": "code",
   "execution_count": 6,
   "metadata": {
    "ExecuteTime": {
     "end_time": "2017-10-26T00:29:57.890603",
     "start_time": "2017-10-26T00:27:55.486003"
    },
    "run_control": {
     "frozen": false,
     "read_only": false
    },
    "scrolled": false
   },
   "outputs": [
    {
     "data": {
      "text/html": [
       "<div>\n",
       "<table border=\"1\" class=\"dataframe\">\n",
       "  <thead>\n",
       "    <tr style=\"text-align: right;\">\n",
       "      <th></th>\n",
       "      <th>vendor_name</th>\n",
       "      <th>Trip_Pickup_DateTime</th>\n",
       "      <th>Trip_Dropoff_DateTime</th>\n",
       "      <th>Passenger_Count</th>\n",
       "      <th>Trip_Distance</th>\n",
       "      <th>Start_Lon</th>\n",
       "      <th>Start_Lat</th>\n",
       "      <th>Rate_Code</th>\n",
       "      <th>store_and_forward</th>\n",
       "      <th>End_Lon</th>\n",
       "      <th>End_Lat</th>\n",
       "      <th>Payment_Type</th>\n",
       "      <th>Fare_Amt</th>\n",
       "      <th>surcharge</th>\n",
       "      <th>mta_tax</th>\n",
       "      <th>Tip_Amt</th>\n",
       "      <th>Tolls_Amt</th>\n",
       "      <th>Total_Amt</th>\n",
       "    </tr>\n",
       "  </thead>\n",
       "  <tbody>\n",
       "    <tr>\n",
       "      <th>0</th>\n",
       "      <td>DDS</td>\n",
       "      <td>2009-02-03 08:25:00</td>\n",
       "      <td>2009-02-03 08:33:39</td>\n",
       "      <td>1</td>\n",
       "      <td>1.60</td>\n",
       "      <td>-73.992768</td>\n",
       "      <td>40.758325</td>\n",
       "      <td>NaN</td>\n",
       "      <td>NaN</td>\n",
       "      <td>-73.994710</td>\n",
       "      <td>40.739723</td>\n",
       "      <td>CASH</td>\n",
       "      <td>6.9</td>\n",
       "      <td>0.0</td>\n",
       "      <td>NaN</td>\n",
       "      <td>0.0</td>\n",
       "      <td>0.0</td>\n",
       "      <td>6.9</td>\n",
       "    </tr>\n",
       "    <tr>\n",
       "      <th>1</th>\n",
       "      <td>VTS</td>\n",
       "      <td>2009-02-28 00:26:00</td>\n",
       "      <td>2009-02-28 00:40:00</td>\n",
       "      <td>5</td>\n",
       "      <td>3.05</td>\n",
       "      <td>0.000000</td>\n",
       "      <td>0.000000</td>\n",
       "      <td>NaN</td>\n",
       "      <td>NaN</td>\n",
       "      <td>0.000000</td>\n",
       "      <td>0.000000</td>\n",
       "      <td>CASH</td>\n",
       "      <td>10.5</td>\n",
       "      <td>0.5</td>\n",
       "      <td>NaN</td>\n",
       "      <td>0.0</td>\n",
       "      <td>0.0</td>\n",
       "      <td>11.0</td>\n",
       "    </tr>\n",
       "    <tr>\n",
       "      <th>2</th>\n",
       "      <td>DDS</td>\n",
       "      <td>2009-02-22 00:39:23</td>\n",
       "      <td>2009-02-22 00:45:52</td>\n",
       "      <td>1</td>\n",
       "      <td>1.50</td>\n",
       "      <td>-73.137393</td>\n",
       "      <td>41.366138</td>\n",
       "      <td>NaN</td>\n",
       "      <td>NaN</td>\n",
       "      <td>-73.137393</td>\n",
       "      <td>41.366138</td>\n",
       "      <td>CASH</td>\n",
       "      <td>5.7</td>\n",
       "      <td>0.5</td>\n",
       "      <td>NaN</td>\n",
       "      <td>0.0</td>\n",
       "      <td>0.0</td>\n",
       "      <td>6.2</td>\n",
       "    </tr>\n",
       "    <tr>\n",
       "      <th>3</th>\n",
       "      <td>VTS</td>\n",
       "      <td>2009-02-28 12:47:00</td>\n",
       "      <td>2009-02-28 12:54:00</td>\n",
       "      <td>1</td>\n",
       "      <td>1.42</td>\n",
       "      <td>-73.980458</td>\n",
       "      <td>40.748445</td>\n",
       "      <td>NaN</td>\n",
       "      <td>NaN</td>\n",
       "      <td>-73.996103</td>\n",
       "      <td>40.737095</td>\n",
       "      <td>CASH</td>\n",
       "      <td>6.1</td>\n",
       "      <td>0.0</td>\n",
       "      <td>NaN</td>\n",
       "      <td>0.0</td>\n",
       "      <td>0.0</td>\n",
       "      <td>6.1</td>\n",
       "    </tr>\n",
       "    <tr>\n",
       "      <th>4</th>\n",
       "      <td>DDS</td>\n",
       "      <td>2009-02-05 18:34:35</td>\n",
       "      <td>2009-02-05 18:43:26</td>\n",
       "      <td>1</td>\n",
       "      <td>1.50</td>\n",
       "      <td>-73.137393</td>\n",
       "      <td>41.366138</td>\n",
       "      <td>NaN</td>\n",
       "      <td>NaN</td>\n",
       "      <td>-73.137393</td>\n",
       "      <td>41.366138</td>\n",
       "      <td>CASH</td>\n",
       "      <td>6.9</td>\n",
       "      <td>1.0</td>\n",
       "      <td>NaN</td>\n",
       "      <td>0.0</td>\n",
       "      <td>0.0</td>\n",
       "      <td>7.9</td>\n",
       "    </tr>\n",
       "  </tbody>\n",
       "</table>\n",
       "</div>"
      ],
      "text/plain": [
       "  vendor_name Trip_Pickup_DateTime Trip_Dropoff_DateTime  Passenger_Count  \\\n",
       "0         DDS  2009-02-03 08:25:00   2009-02-03 08:33:39                1   \n",
       "1         VTS  2009-02-28 00:26:00   2009-02-28 00:40:00                5   \n",
       "2         DDS  2009-02-22 00:39:23   2009-02-22 00:45:52                1   \n",
       "3         VTS  2009-02-28 12:47:00   2009-02-28 12:54:00                1   \n",
       "4         DDS  2009-02-05 18:34:35   2009-02-05 18:43:26                1   \n",
       "\n",
       "   Trip_Distance  Start_Lon  Start_Lat  Rate_Code  store_and_forward  \\\n",
       "0           1.60 -73.992768  40.758325        NaN                NaN   \n",
       "1           3.05   0.000000   0.000000        NaN                NaN   \n",
       "2           1.50 -73.137393  41.366138        NaN                NaN   \n",
       "3           1.42 -73.980458  40.748445        NaN                NaN   \n",
       "4           1.50 -73.137393  41.366138        NaN                NaN   \n",
       "\n",
       "     End_Lon    End_Lat Payment_Type  Fare_Amt  surcharge  mta_tax  Tip_Amt  \\\n",
       "0 -73.994710  40.739723         CASH       6.9        0.0      NaN      0.0   \n",
       "1   0.000000   0.000000         CASH      10.5        0.5      NaN      0.0   \n",
       "2 -73.137393  41.366138         CASH       5.7        0.5      NaN      0.0   \n",
       "3 -73.996103  40.737095         CASH       6.1        0.0      NaN      0.0   \n",
       "4 -73.137393  41.366138         CASH       6.9        1.0      NaN      0.0   \n",
       "\n",
       "   Tolls_Amt  Total_Amt  \n",
       "0        0.0        6.9  \n",
       "1        0.0       11.0  \n",
       "2        0.0        6.2  \n",
       "3        0.0        6.1  \n",
       "4        0.0        7.9  "
      ]
     },
     "execution_count": 6,
     "metadata": {},
     "output_type": "execute_result"
    }
   ],
   "source": [
    "yc200902.head()"
   ]
  },
  {
   "cell_type": "code",
   "execution_count": 7,
   "metadata": {
    "ExecuteTime": {
     "end_time": "2017-10-26T00:29:57.938941",
     "start_time": "2017-10-26T00:29:57.912763"
    },
    "run_control": {
     "frozen": false,
     "read_only": false
    }
   },
   "outputs": [
    {
     "data": {
      "text/plain": [
       "(13380122, 18)"
      ]
     },
     "execution_count": 7,
     "metadata": {},
     "output_type": "execute_result"
    }
   ],
   "source": [
    "yc200902.shape"
   ]
  },
  {
   "cell_type": "markdown",
   "metadata": {
    "run_control": {
     "frozen": false,
     "read_only": false
    }
   },
   "source": [
    "At this point your file should look something like this. If you read in the file in the shortcuts you will also have a column \"Unnamed: 0\". You should consider setting that as the index if you have not done so yet."
   ]
  },
  {
   "cell_type": "code",
   "execution_count": 17,
   "metadata": {
    "ExecuteTime": {
     "end_time": "2017-10-26T00:36:29.516068",
     "start_time": "2017-10-26T00:36:29.456774"
    },
    "run_control": {
     "frozen": false,
     "read_only": false
    }
   },
   "outputs": [
    {
     "data": {
      "text/html": [
       "<div>\n",
       "<table border=\"1\" class=\"dataframe\">\n",
       "  <thead>\n",
       "    <tr style=\"text-align: right;\">\n",
       "      <th></th>\n",
       "      <th>vendor_name</th>\n",
       "      <th>Trip_Pickup_DateTime</th>\n",
       "      <th>Trip_Dropoff_DateTime</th>\n",
       "      <th>Passenger_Count</th>\n",
       "      <th>Trip_Distance</th>\n",
       "      <th>Start_Lon</th>\n",
       "      <th>Start_Lat</th>\n",
       "      <th>Rate_Code</th>\n",
       "      <th>store_and_forward</th>\n",
       "      <th>End_Lon</th>\n",
       "      <th>End_Lat</th>\n",
       "      <th>Payment_Type</th>\n",
       "      <th>Fare_Amt</th>\n",
       "      <th>surcharge</th>\n",
       "      <th>mta_tax</th>\n",
       "      <th>Tip_Amt</th>\n",
       "      <th>Tolls_Amt</th>\n",
       "      <th>Total_Amt</th>\n",
       "    </tr>\n",
       "  </thead>\n",
       "  <tbody>\n",
       "    <tr>\n",
       "      <th>0</th>\n",
       "      <td>DDS</td>\n",
       "      <td>2009-02-03 08:25:00</td>\n",
       "      <td>2009-02-03 08:33:39</td>\n",
       "      <td>1</td>\n",
       "      <td>1.60</td>\n",
       "      <td>-73.992768</td>\n",
       "      <td>40.758325</td>\n",
       "      <td>NaN</td>\n",
       "      <td>NaN</td>\n",
       "      <td>-73.994710</td>\n",
       "      <td>40.739723</td>\n",
       "      <td>CASH</td>\n",
       "      <td>6.9</td>\n",
       "      <td>0.0</td>\n",
       "      <td>NaN</td>\n",
       "      <td>0.00</td>\n",
       "      <td>0.0</td>\n",
       "      <td>6.90</td>\n",
       "    </tr>\n",
       "    <tr>\n",
       "      <th>1000</th>\n",
       "      <td>VTS</td>\n",
       "      <td>2009-02-11 23:03:00</td>\n",
       "      <td>2009-02-11 23:29:00</td>\n",
       "      <td>1</td>\n",
       "      <td>11.95</td>\n",
       "      <td>-73.968478</td>\n",
       "      <td>40.760553</td>\n",
       "      <td>NaN</td>\n",
       "      <td>NaN</td>\n",
       "      <td>-73.972788</td>\n",
       "      <td>40.637433</td>\n",
       "      <td>CASH</td>\n",
       "      <td>28.5</td>\n",
       "      <td>0.5</td>\n",
       "      <td>NaN</td>\n",
       "      <td>0.00</td>\n",
       "      <td>0.0</td>\n",
       "      <td>29.00</td>\n",
       "    </tr>\n",
       "    <tr>\n",
       "      <th>2000</th>\n",
       "      <td>VTS</td>\n",
       "      <td>2009-02-28 07:22:00</td>\n",
       "      <td>2009-02-28 07:32:00</td>\n",
       "      <td>3</td>\n",
       "      <td>2.86</td>\n",
       "      <td>-73.986690</td>\n",
       "      <td>40.726995</td>\n",
       "      <td>NaN</td>\n",
       "      <td>NaN</td>\n",
       "      <td>-73.988673</td>\n",
       "      <td>40.755612</td>\n",
       "      <td>CASH</td>\n",
       "      <td>9.3</td>\n",
       "      <td>0.0</td>\n",
       "      <td>NaN</td>\n",
       "      <td>0.00</td>\n",
       "      <td>0.0</td>\n",
       "      <td>9.30</td>\n",
       "    </tr>\n",
       "    <tr>\n",
       "      <th>3000</th>\n",
       "      <td>VTS</td>\n",
       "      <td>2009-02-14 17:02:00</td>\n",
       "      <td>2009-02-14 17:22:00</td>\n",
       "      <td>4</td>\n",
       "      <td>4.60</td>\n",
       "      <td>-73.991188</td>\n",
       "      <td>40.723345</td>\n",
       "      <td>NaN</td>\n",
       "      <td>NaN</td>\n",
       "      <td>-73.946650</td>\n",
       "      <td>40.776628</td>\n",
       "      <td>Credit</td>\n",
       "      <td>14.9</td>\n",
       "      <td>0.0</td>\n",
       "      <td>NaN</td>\n",
       "      <td>2.00</td>\n",
       "      <td>0.0</td>\n",
       "      <td>16.90</td>\n",
       "    </tr>\n",
       "    <tr>\n",
       "      <th>4000</th>\n",
       "      <td>CMT</td>\n",
       "      <td>2009-02-08 11:54:51</td>\n",
       "      <td>2009-02-08 12:06:43</td>\n",
       "      <td>1</td>\n",
       "      <td>2.40</td>\n",
       "      <td>-73.980833</td>\n",
       "      <td>40.744672</td>\n",
       "      <td>NaN</td>\n",
       "      <td>NaN</td>\n",
       "      <td>-73.984400</td>\n",
       "      <td>40.718905</td>\n",
       "      <td>Credit</td>\n",
       "      <td>9.3</td>\n",
       "      <td>0.0</td>\n",
       "      <td>NaN</td>\n",
       "      <td>1.39</td>\n",
       "      <td>0.0</td>\n",
       "      <td>10.69</td>\n",
       "    </tr>\n",
       "  </tbody>\n",
       "</table>\n",
       "</div>"
      ],
      "text/plain": [
       "     vendor_name Trip_Pickup_DateTime Trip_Dropoff_DateTime  Passenger_Count  \\\n",
       "0            DDS  2009-02-03 08:25:00   2009-02-03 08:33:39                1   \n",
       "1000         VTS  2009-02-11 23:03:00   2009-02-11 23:29:00                1   \n",
       "2000         VTS  2009-02-28 07:22:00   2009-02-28 07:32:00                3   \n",
       "3000         VTS  2009-02-14 17:02:00   2009-02-14 17:22:00                4   \n",
       "4000         CMT  2009-02-08 11:54:51   2009-02-08 12:06:43                1   \n",
       "\n",
       "      Trip_Distance  Start_Lon  Start_Lat  Rate_Code  store_and_forward  \\\n",
       "0              1.60 -73.992768  40.758325        NaN                NaN   \n",
       "1000          11.95 -73.968478  40.760553        NaN                NaN   \n",
       "2000           2.86 -73.986690  40.726995        NaN                NaN   \n",
       "3000           4.60 -73.991188  40.723345        NaN                NaN   \n",
       "4000           2.40 -73.980833  40.744672        NaN                NaN   \n",
       "\n",
       "        End_Lon    End_Lat Payment_Type  Fare_Amt  surcharge  mta_tax  \\\n",
       "0    -73.994710  40.739723         CASH       6.9        0.0      NaN   \n",
       "1000 -73.972788  40.637433         CASH      28.5        0.5      NaN   \n",
       "2000 -73.988673  40.755612         CASH       9.3        0.0      NaN   \n",
       "3000 -73.946650  40.776628       Credit      14.9        0.0      NaN   \n",
       "4000 -73.984400  40.718905       Credit       9.3        0.0      NaN   \n",
       "\n",
       "      Tip_Amt  Tolls_Amt  Total_Amt  \n",
       "0        0.00        0.0       6.90  \n",
       "1000     0.00        0.0      29.00  \n",
       "2000     0.00        0.0       9.30  \n",
       "3000     2.00        0.0      16.90  \n",
       "4000     1.39        0.0      10.69  "
      ]
     },
     "execution_count": 17,
     "metadata": {},
     "output_type": "execute_result"
    }
   ],
   "source": [
    "yc200902_short.head()"
   ]
  },
  {
   "cell_type": "markdown",
   "metadata": {
    "run_control": {
     "frozen": false,
     "read_only": false
    }
   },
   "source": [
    "(Here you may want to drop columns you will not need, but make sure you read all the instructions carefully to know which variables you will need before dropping them, and possibly save a copy of this short dataset to your disk.)"
   ]
  },
  {
   "cell_type": "code",
   "execution_count": 21,
   "metadata": {
    "ExecuteTime": {
     "end_time": "2017-10-26T00:38:12.121676",
     "start_time": "2017-10-26T00:38:12.116222"
    },
    "run_control": {
     "frozen": false,
     "read_only": false
    }
   },
   "outputs": [
    {
     "data": {
      "text/plain": [
       "(13381, 9)"
      ]
     },
     "execution_count": 21,
     "metadata": {},
     "output_type": "execute_result"
    }
   ],
   "source": [
    "yc200902_short.shape"
   ]
  },
  {
   "cell_type": "markdown",
   "metadata": {
    "run_control": {
     "frozen": false,
     "read_only": false
    }
   },
   "source": [
    "## 2. Downloading income data by zipcode "
   ]
  },
  {
   "cell_type": "markdown",
   "metadata": {
    "run_control": {
     "frozen": false,
     "read_only": false
    }
   },
   "source": [
    "In this task you should figure out how to extract income data from the IRS (internal revenue service, i.e. taxes). This is a tricky data processing task, but keep in mind you can use the file I provided and come back to this at the end if all goes well. \n",
    "\n",
    "Find income data : you can find it in this IRS file http://www.nber.org/tax-stats/zipcode/2009/09zp33ny.xls (the IRS website hosts more recent datasets, with identical format, but no longer hosts data as far back as 2009). You can use the function I saved in readIncomeXls.py as reader to get the file from [this link](http://bit.ly/2li1N7q).\n",
    "\n",
    "Use the *Adjusted gross income* for every zipcode. Additionally identify the columns indicating the number of returns, the number of dependents, the number of joint returns. Together they indicate the size of the family that filed that report, and allow you to obtain the **income per person** from the income of the whole zipcode.\n",
    "You should also convert the zip code to numeric values (with pd.to_numeric for example, or with a list comprehension [int(z)  for z in zipcode])\n",
    "\n",
    "For every zipcode the adjusted median income is the first valid row associated with that zipcode.\n"
   ]
  },
  {
   "cell_type": "markdown",
   "metadata": {
    "run_control": {
     "frozen": false,
     "read_only": false
    }
   },
   "source": [
    "Create a new dataframe zipincome with the value of income per zipcode, and income per person (per capita, PC) \n",
    "**OR ([alternative 2](https://docs.google.com/document/d/1QRXSMJdu-iP1967GbRxtZXGChVDVQ5WNVImn1j4hCl8/edit?usp=sharing))**"
   ]
  },
  {
   "cell_type": "code",
   "execution_count": 23,
   "metadata": {
    "ExecuteTime": {
     "end_time": "2017-10-26T00:46:50.083108",
     "start_time": "2017-10-26T00:46:50.004947"
    },
    "hide_input": false,
    "run_control": {
     "frozen": false,
     "read_only": false
    }
   },
   "outputs": [
    {
     "data": {
      "text/html": [
       "<div>\n",
       "<table border=\"1\" class=\"dataframe\">\n",
       "  <thead>\n",
       "    <tr style=\"text-align: right;\">\n",
       "      <th></th>\n",
       "      <th>Size of adjusted gross income</th>\n",
       "      <th>Number of returns</th>\n",
       "      <th>Number of joint returns</th>\n",
       "      <th>Number with paid preparer's signature</th>\n",
       "      <th>Number of exemptions</th>\n",
       "      <th>Number of dependents</th>\n",
       "      <th>Adjusted gross income (AGI)</th>\n",
       "      <th>Salaries and wages in AGI</th>\n",
       "      <th>Unnamed: 9</th>\n",
       "      <th>Taxable interest</th>\n",
       "      <th>...</th>\n",
       "      <th>Alternative minimum tax</th>\n",
       "      <th>Unnamed: 62</th>\n",
       "      <th>Income tax [6]</th>\n",
       "      <th>Unnamed: 64</th>\n",
       "      <th>Total tax liability [7]</th>\n",
       "      <th>Unnamed: 66</th>\n",
       "      <th>Tax due at time of filing [8]</th>\n",
       "      <th>Unnamed: 68</th>\n",
       "      <th>Overpayments refunded [9]</th>\n",
       "      <th>Unnamed: 70</th>\n",
       "    </tr>\n",
       "    <tr>\n",
       "      <th>ZIP\n",
       "code [1]</th>\n",
       "      <th></th>\n",
       "      <th></th>\n",
       "      <th></th>\n",
       "      <th></th>\n",
       "      <th></th>\n",
       "      <th></th>\n",
       "      <th></th>\n",
       "      <th></th>\n",
       "      <th></th>\n",
       "      <th></th>\n",
       "      <th></th>\n",
       "      <th></th>\n",
       "      <th></th>\n",
       "      <th></th>\n",
       "      <th></th>\n",
       "      <th></th>\n",
       "      <th></th>\n",
       "      <th></th>\n",
       "      <th></th>\n",
       "      <th></th>\n",
       "      <th></th>\n",
       "    </tr>\n",
       "  </thead>\n",
       "  <tbody>\n",
       "    <tr>\n",
       "      <th>NaN</th>\n",
       "      <td>NaN</td>\n",
       "      <td>NaN</td>\n",
       "      <td>NaN</td>\n",
       "      <td>NaN</td>\n",
       "      <td>NaN</td>\n",
       "      <td>NaN</td>\n",
       "      <td>NaN</td>\n",
       "      <td>Number of returns</td>\n",
       "      <td>Amount</td>\n",
       "      <td>Number of returns</td>\n",
       "      <td>...</td>\n",
       "      <td>Number of returns</td>\n",
       "      <td>Amount</td>\n",
       "      <td>Number of returns</td>\n",
       "      <td>Amount</td>\n",
       "      <td>Number of returns</td>\n",
       "      <td>Amount</td>\n",
       "      <td>Number of returns</td>\n",
       "      <td>Amount</td>\n",
       "      <td>Number of returns</td>\n",
       "      <td>Amount</td>\n",
       "    </tr>\n",
       "    <tr>\n",
       "      <th>NaN</th>\n",
       "      <td>NaN</td>\n",
       "      <td>-1.0</td>\n",
       "      <td>-2.0</td>\n",
       "      <td>-3.0</td>\n",
       "      <td>-4.0</td>\n",
       "      <td>-5.0</td>\n",
       "      <td>-6.0</td>\n",
       "      <td>-7</td>\n",
       "      <td>-8</td>\n",
       "      <td>-9</td>\n",
       "      <td>...</td>\n",
       "      <td>-60</td>\n",
       "      <td>-61</td>\n",
       "      <td>-62</td>\n",
       "      <td>-63</td>\n",
       "      <td>-64</td>\n",
       "      <td>-65</td>\n",
       "      <td>-66</td>\n",
       "      <td>-67</td>\n",
       "      <td>-68</td>\n",
       "      <td>-69</td>\n",
       "    </tr>\n",
       "    <tr>\n",
       "      <th>0</th>\n",
       "      <td>NaN</td>\n",
       "      <td>8859870.0</td>\n",
       "      <td>2885809.0</td>\n",
       "      <td>5831350.0</td>\n",
       "      <td>16840512.0</td>\n",
       "      <td>5270429.0</td>\n",
       "      <td>591058301.0</td>\n",
       "      <td>7279318</td>\n",
       "      <td>414308145</td>\n",
       "      <td>4100213</td>\n",
       "      <td>...</td>\n",
       "      <td>466119</td>\n",
       "      <td>3476047</td>\n",
       "      <td>5964627</td>\n",
       "      <td>81598109</td>\n",
       "      <td>6641628</td>\n",
       "      <td>85640574</td>\n",
       "      <td>1419456</td>\n",
       "      <td>5803715</td>\n",
       "      <td>6896726</td>\n",
       "      <td>23044299</td>\n",
       "    </tr>\n",
       "    <tr>\n",
       "      <th>0</th>\n",
       "      <td>$1 under $25,000</td>\n",
       "      <td>3555603.0</td>\n",
       "      <td>496249.0</td>\n",
       "      <td>2241627.0</td>\n",
       "      <td>5286324.0</td>\n",
       "      <td>1551565.0</td>\n",
       "      <td>42351360.0</td>\n",
       "      <td>2519194</td>\n",
       "      <td>29460761</td>\n",
       "      <td>955184</td>\n",
       "      <td>...</td>\n",
       "      <td>874</td>\n",
       "      <td>601</td>\n",
       "      <td>1174529</td>\n",
       "      <td>766535</td>\n",
       "      <td>1749990</td>\n",
       "      <td>1615697</td>\n",
       "      <td>449035</td>\n",
       "      <td>258237</td>\n",
       "      <td>2784252</td>\n",
       "      <td>6008426</td>\n",
       "    </tr>\n",
       "    <tr>\n",
       "      <th>0</th>\n",
       "      <td>$25,000 under $50,000</td>\n",
       "      <td>2107465.0</td>\n",
       "      <td>501518.0</td>\n",
       "      <td>1342830.0</td>\n",
       "      <td>3897170.0</td>\n",
       "      <td>1195917.0</td>\n",
       "      <td>76646332.0</td>\n",
       "      <td>1865259</td>\n",
       "      <td>63488214</td>\n",
       "      <td>817330</td>\n",
       "      <td>...</td>\n",
       "      <td>734</td>\n",
       "      <td>1209</td>\n",
       "      <td>1684304</td>\n",
       "      <td>4328850</td>\n",
       "      <td>1762100</td>\n",
       "      <td>4769972</td>\n",
       "      <td>251980</td>\n",
       "      <td>354726</td>\n",
       "      <td>1809800</td>\n",
       "      <td>5077936</td>\n",
       "    </tr>\n",
       "  </tbody>\n",
       "</table>\n",
       "<p>5 rows × 70 columns</p>\n",
       "</div>"
      ],
      "text/plain": [
       "              Size of adjusted gross income  Number of returns  \\\n",
       "ZIP\\ncode [1]                                                    \n",
       "NaN                                     NaN                NaN   \n",
       "NaN                                     NaN               -1.0   \n",
       "0                                       NaN          8859870.0   \n",
       "0                          $1 under $25,000          3555603.0   \n",
       "0                     $25,000 under $50,000          2107465.0   \n",
       "\n",
       "               Number of joint returns  Number with paid preparer's signature  \\\n",
       "ZIP\\ncode [1]                                                                   \n",
       "NaN                                NaN                                    NaN   \n",
       "NaN                               -2.0                                   -3.0   \n",
       "0                            2885809.0                              5831350.0   \n",
       "0                             496249.0                              2241627.0   \n",
       "0                             501518.0                              1342830.0   \n",
       "\n",
       "               Number of exemptions  Number of dependents  \\\n",
       "ZIP\\ncode [1]                                               \n",
       "NaN                             NaN                   NaN   \n",
       "NaN                            -4.0                  -5.0   \n",
       "0                        16840512.0             5270429.0   \n",
       "0                         5286324.0             1551565.0   \n",
       "0                         3897170.0             1195917.0   \n",
       "\n",
       "               Adjusted gross income (AGI) Salaries and wages in AGI  \\\n",
       "ZIP\\ncode [1]                                                          \n",
       "NaN                                    NaN         Number of returns   \n",
       "NaN                                   -6.0                        -7   \n",
       "0                              591058301.0                   7279318   \n",
       "0                               42351360.0                   2519194   \n",
       "0                               76646332.0                   1865259   \n",
       "\n",
       "              Unnamed: 9   Taxable interest     ...      \\\n",
       "ZIP\\ncode [1]                                   ...       \n",
       "NaN               Amount  Number of returns     ...       \n",
       "NaN                   -8                 -9     ...       \n",
       "0              414308145            4100213     ...       \n",
       "0               29460761             955184     ...       \n",
       "0               63488214             817330     ...       \n",
       "\n",
       "              Alternative minimum tax Unnamed: 62     Income tax [6]  \\\n",
       "ZIP\\ncode [1]                                                          \n",
       "NaN                 Number of returns      Amount  Number of returns   \n",
       "NaN                               -60         -61                -62   \n",
       "0                              466119     3476047            5964627   \n",
       "0                                 874         601            1174529   \n",
       "0                                 734        1209            1684304   \n",
       "\n",
       "              Unnamed: 64 Total tax liability [7] Unnamed: 66  \\\n",
       "ZIP\\ncode [1]                                                   \n",
       "NaN                Amount       Number of returns      Amount   \n",
       "NaN                   -63                     -64         -65   \n",
       "0                81598109                 6641628    85640574   \n",
       "0                  766535                 1749990     1615697   \n",
       "0                 4328850                 1762100     4769972   \n",
       "\n",
       "              Tax due at time of filing [8]  Unnamed: 68  \\\n",
       "ZIP\\ncode [1]                                              \n",
       "NaN                       Number of returns       Amount   \n",
       "NaN                                     -66          -67   \n",
       "0                                   1419456      5803715   \n",
       "0                                    449035       258237   \n",
       "0                                    251980       354726   \n",
       "\n",
       "              Overpayments refunded [9] Unnamed: 70  \n",
       "ZIP\\ncode [1]                                        \n",
       "NaN                   Number of returns      Amount  \n",
       "NaN                                 -68         -69  \n",
       "0                               6896726    23044299  \n",
       "0                               2784252     6008426  \n",
       "0                               1809800     5077936  \n",
       "\n",
       "[5 rows x 70 columns]"
      ]
     },
     "execution_count": 23,
     "metadata": {},
     "output_type": "execute_result"
    }
   ],
   "source": [
    "incomeByZip.head()"
   ]
  },
  {
   "cell_type": "code",
   "execution_count": 24,
   "metadata": {
    "ExecuteTime": {
     "end_time": "2017-10-26T00:46:55.739656",
     "start_time": "2017-10-26T00:46:55.722036"
    },
    "hide_input": false,
    "run_control": {
     "frozen": false,
     "read_only": false
    }
   },
   "outputs": [
    {
     "name": "stdout",
     "output_type": "stream",
     "text": [
      "('Adjusted gross income (AGI)  for zipcode 10001:', 1644776.0)\n"
     ]
    }
   ],
   "source": [
    "print (\"Adjusted gross income (AGI)  for zipcode 10001:\", \n",
    "       incomeByZip.loc[[10001]][\"Adjusted gross income (AGI)\"].iloc[0])"
   ]
  },
  {
   "cell_type": "code",
   "execution_count": 5,
   "metadata": {
    "ExecuteTime": {
     "end_time": "2017-10-26T12:51:09.597203",
     "start_time": "2017-10-26T12:51:09.581910"
    },
    "hide_input": false,
    "run_control": {
     "frozen": false,
     "read_only": false
    }
   },
   "outputs": [
    {
     "data": {
      "text/html": [
       "<div>\n",
       "<table border=\"1\" class=\"dataframe\">\n",
       "  <thead>\n",
       "    <tr style=\"text-align: right;\">\n",
       "      <th></th>\n",
       "      <th>POPULATION</th>\n",
       "      <th>ZIPCODE</th>\n",
       "      <th>incomePC</th>\n",
       "    </tr>\n",
       "  </thead>\n",
       "  <tbody>\n",
       "    <tr>\n",
       "      <th>0</th>\n",
       "      <td>17016108</td>\n",
       "      <td>0</td>\n",
       "      <td>34.735223</td>\n",
       "    </tr>\n",
       "    <tr>\n",
       "      <th>1</th>\n",
       "      <td>17426</td>\n",
       "      <td>10001</td>\n",
       "      <td>94.386319</td>\n",
       "    </tr>\n",
       "    <tr>\n",
       "      <th>10</th>\n",
       "      <td>40152</td>\n",
       "      <td>10011</td>\n",
       "      <td>121.765217</td>\n",
       "    </tr>\n",
       "    <tr>\n",
       "      <th>100</th>\n",
       "      <td>2050</td>\n",
       "      <td>10526</td>\n",
       "      <td>62.539512</td>\n",
       "    </tr>\n",
       "    <tr>\n",
       "      <th>1000</th>\n",
       "      <td>1478</td>\n",
       "      <td>13335</td>\n",
       "      <td>19.930311</td>\n",
       "    </tr>\n",
       "  </tbody>\n",
       "</table>\n",
       "</div>"
      ],
      "text/plain": [
       "      POPULATION  ZIPCODE    incomePC\n",
       "0       17016108        0   34.735223\n",
       "1          17426    10001   94.386319\n",
       "10         40152    10011  121.765217\n",
       "100         2050    10526   62.539512\n",
       "1000        1478    13335   19.930311"
      ]
     },
     "execution_count": 5,
     "metadata": {},
     "output_type": "execute_result"
    }
   ],
   "source": [
    "zipincome.head()"
   ]
  },
  {
   "cell_type": "markdown",
   "metadata": {
    "run_control": {
     "frozen": false,
     "read_only": false
    }
   },
   "source": [
    "the zip codes series should look like this, and may contain some spurious values (0, 99999), but should you worry about those??"
   ]
  },
  {
   "cell_type": "code",
   "execution_count": 35,
   "metadata": {
    "ExecuteTime": {
     "end_time": "2017-10-26T00:55:04.437041",
     "start_time": "2017-10-26T00:55:04.419654"
    },
    "hide_input": false,
    "run_control": {
     "frozen": false,
     "read_only": false
    }
   },
   "outputs": [
    {
     "data": {
      "text/plain": [
       "0           0\n",
       "1       10001\n",
       "10      10011\n",
       "100     10526\n",
       "1000    13335\n",
       "1001    13337\n",
       "1002    13338\n",
       "1003    13339\n",
       "1004    13340\n",
       "1005    13342\n",
       "Name: ZIPCODE, dtype: int64"
      ]
     },
     "execution_count": 35,
     "metadata": {},
     "output_type": "execute_result"
    }
   ],
   "source": [
    "zipincome.ZIPCODE[:10]"
   ]
  },
  {
   "cell_type": "markdown",
   "metadata": {
    "run_control": {
     "frozen": false,
     "read_only": false
    }
   },
   "source": [
    "## 3. Feature engineering task: extract the trip duration from the data and tip percentage\n",
    "\n",
    "I recommend you create a trip duration column where the duration is in hours. That is a reasonable unit, such that most trips will be near unit value. The pandas datetime package documentation may be helpful here, particularly the [time delta](https://pandas.pydata.org/pandas-docs/stable/timedeltas.html).\n",
    " \n",
    "** OR ([alternative 3](https://docs.google.com/document/d/1QRXSMJdu-iP1967GbRxtZXGChVDVQ5WNVImn1j4hCl8/edit?usp=sharing)) **\n",
    "\n",
    "Calculate the tip percentage (tipPC) from the tip amount and fare amount.\n"
   ]
  },
  {
   "cell_type": "code",
   "execution_count": 41,
   "metadata": {
    "ExecuteTime": {
     "end_time": "2017-10-26T00:55:56.840149",
     "start_time": "2017-10-26T00:55:56.833028"
    },
    "run_control": {
     "frozen": false,
     "read_only": false
    }
   },
   "outputs": [
    {
     "data": {
      "text/plain": [
       "0       0.144167\n",
       "1000    0.433333\n",
       "2000    0.166667\n",
       "3000    0.333333\n",
       "4000    0.197778\n",
       "Name: tripDurationHours, dtype: float64"
      ]
     },
     "execution_count": 41,
     "metadata": {},
     "output_type": "execute_result"
    }
   ],
   "source": [
    "yc200902_short.tripDurationHours.head()"
   ]
  },
  {
   "cell_type": "code",
   "execution_count": 44,
   "metadata": {
    "ExecuteTime": {
     "end_time": "2017-10-26T00:56:23.537147",
     "start_time": "2017-10-26T00:56:23.529474"
    },
    "hide_input": false,
    "run_control": {
     "frozen": false,
     "read_only": false
    }
   },
   "outputs": [
    {
     "data": {
      "text/plain": [
       "0       0.000000\n",
       "1000    0.000000\n",
       "2000    0.000000\n",
       "3000    0.134228\n",
       "4000    0.149462\n",
       "Name: tipPC, dtype: float64"
      ]
     },
     "execution_count": 44,
     "metadata": {},
     "output_type": "execute_result"
    }
   ],
   "source": [
    "yc200902_short.tipPC.head()"
   ]
  },
  {
   "cell_type": "markdown",
   "metadata": {
    "hide_input": true,
    "run_control": {
     "frozen": false,
     "read_only": false
    }
   },
   "source": [
    "## 4. Find the departure and destination zipcode of every ride\n",
    "You can download the files I prepared (no points loss!). \n",
    "There is still some data wrangling: the data files I provided are at the [same link](http://cosmo.nyu.edu/~fb55/data/), and are named departureZIP.csv and destinationZIP.csv. Those files contain the zipcode of the departure and destination coordinates respectively for all rides *with valid NYC departure/destination coordinates* for the subsampled dataset, sampled by choosing every 1000th row.** If you chose a different subsampling strategy then will need to find the zipcodes with one of the methods below**.\n",
    "\n",
    "\n",
    "**Alternatively:**\n",
    "\n",
    "If you are handy with goepandas you can to a spatial joint with [this file](https://www.google.com/url?sa=t&rct=j&q=&esrc=s&source=web&cd=1&ved=0ahUKEwj289ntl4vXAhVLKyYKHTnBCPoQFggoMAA&url=https%3A%2F%2Fdata.cityofnewyork.us%2FBusiness%2FZip-Code-Boundaries%2Fi8iw-xf4u&usg=AOvVaw0SKZTHDFVpjcyAMZOy0lDx) which is what I did, but you will lose no points if you just download and merge my data files. [Some help on this](https://docs.google.com/document/d/1F3QUlX6krQmwx_YONa41ETa-Tsq1l01creBDBqzzP6w/edit?usp=sharing).\n",
    "\n",
    "**Alternatively:**\n",
    "\n",
    "You can use the google API to [reverse geocode the coordinates](https://docs.google.com/document/d/1LWQd3ZJsDftx8RA5cT_dVlIKH2PJ7LaI2OIXBJmURjE/edit?usp=sharing) including the long and latitide of each ride, but unless you have a premium account you will hit the API limit. You have a limit of 2,500 requests/day. "
   ]
  },
  {
   "cell_type": "markdown",
   "metadata": {
    "run_control": {
     "frozen": false,
     "read_only": false
    }
   },
   "source": [
    "## 5. Data aggregation task: Join the datasets so that your data contains at least: trip duration, trip distance, fare amount, tip percentage, departure zipcode income, and destination zipcode income"
   ]
  },
  {
   "cell_type": "code",
   "execution_count": 61,
   "metadata": {
    "ExecuteTime": {
     "end_time": "2017-10-26T01:05:15.414756",
     "start_time": "2017-10-26T01:05:15.389349"
    },
    "run_control": {
     "frozen": false,
     "read_only": false
    }
   },
   "outputs": [
    {
     "data": {
      "text/html": [
       "<div>\n",
       "<table border=\"1\" class=\"dataframe\">\n",
       "  <thead>\n",
       "    <tr style=\"text-align: right;\">\n",
       "      <th></th>\n",
       "      <th>Fare_Amt</th>\n",
       "      <th>tripDurationHours</th>\n",
       "      <th>tipPC</th>\n",
       "      <th>income_departure</th>\n",
       "      <th>income_destination</th>\n",
       "      <th>Trip_Distance</th>\n",
       "    </tr>\n",
       "  </thead>\n",
       "  <tbody>\n",
       "    <tr>\n",
       "      <th>0</th>\n",
       "      <td>6.9</td>\n",
       "      <td>0.144167</td>\n",
       "      <td>0.0</td>\n",
       "      <td>120.643519</td>\n",
       "      <td>121.765217</td>\n",
       "      <td>1.60</td>\n",
       "    </tr>\n",
       "    <tr>\n",
       "      <th>1</th>\n",
       "      <td>6.9</td>\n",
       "      <td>0.199444</td>\n",
       "      <td>0.0</td>\n",
       "      <td>120.643519</td>\n",
       "      <td>121.765217</td>\n",
       "      <td>1.70</td>\n",
       "    </tr>\n",
       "    <tr>\n",
       "      <th>2</th>\n",
       "      <td>9.9</td>\n",
       "      <td>0.197222</td>\n",
       "      <td>0.0</td>\n",
       "      <td>120.643519</td>\n",
       "      <td>121.765217</td>\n",
       "      <td>2.30</td>\n",
       "    </tr>\n",
       "    <tr>\n",
       "      <th>3</th>\n",
       "      <td>7.3</td>\n",
       "      <td>0.150000</td>\n",
       "      <td>0.0</td>\n",
       "      <td>120.643519</td>\n",
       "      <td>121.765217</td>\n",
       "      <td>1.85</td>\n",
       "    </tr>\n",
       "    <tr>\n",
       "      <th>4</th>\n",
       "      <td>5.7</td>\n",
       "      <td>0.100000</td>\n",
       "      <td>0.0</td>\n",
       "      <td>120.643519</td>\n",
       "      <td>121.765217</td>\n",
       "      <td>1.37</td>\n",
       "    </tr>\n",
       "  </tbody>\n",
       "</table>\n",
       "</div>"
      ],
      "text/plain": [
       "   Fare_Amt  tripDurationHours  tipPC  income_departure  income_destination  \\\n",
       "0       6.9           0.144167    0.0        120.643519          121.765217   \n",
       "1       6.9           0.199444    0.0        120.643519          121.765217   \n",
       "2       9.9           0.197222    0.0        120.643519          121.765217   \n",
       "3       7.3           0.150000    0.0        120.643519          121.765217   \n",
       "4       5.7           0.100000    0.0        120.643519          121.765217   \n",
       "\n",
       "   Trip_Distance  \n",
       "0           1.60  \n",
       "1           1.70  \n",
       "2           2.30  \n",
       "3           1.85  \n",
       "4           1.37  "
      ]
     },
     "execution_count": 61,
     "metadata": {},
     "output_type": "execute_result"
    }
   ],
   "source": [
    "# you can compare your dataframe with mine to check that you are on track\n",
    "yc200902_shortcut.head()"
   ]
  },
  {
   "cell_type": "markdown",
   "metadata": {
    "run_control": {
     "frozen": false,
     "read_only": false
    }
   },
   "source": [
    "# ANALYSIS PORTION remember to make plots and describe your findings with complete sentences, *especially* the weaknesses of your analysis!"
   ]
  },
  {
   "cell_type": "markdown",
   "metadata": {
    "run_control": {
     "frozen": false,
     "read_only": false
    }
   },
   "source": [
    "## 6. Plot the distribution of tip percentages and describe its first and second *moment*.    \n",
    "Remove outliers if needed, replot and see if the moments changed significantly."
   ]
  },
  {
   "cell_type": "markdown",
   "metadata": {
    "run_control": {
     "frozen": false,
     "read_only": false
    }
   },
   "source": [
    "If you need help on removing data: https://gist.github.com/fedhere/89db40a3c9a28335bf5a35d52a52c595"
   ]
  },
  {
   "cell_type": "markdown",
   "metadata": {
    "run_control": {
     "frozen": false,
     "read_only": false
    }
   },
   "source": [
    "##  7.   Test if the distribution is consistent with a Gaussian\n",
    "\n",
    "you have done this  several times, for example in HW 5 assignment 2"
   ]
  },
  {
   "cell_type": "markdown",
   "metadata": {
    "run_control": {
     "frozen": false,
     "read_only": false
    }
   },
   "source": [
    "## 8.  Fit a line to taxi fare vs trip duration and to taxi fare vs trip distance to decide which variable between duration and distance \"contains more information\" when used with the fare.\n",
    "\n",
    "In the last step of the exercise you will model the *Tip Percentage* (endogenous variable) as a function of *Fare Amount* **and another variable** in a multivariate regression. In this step you will chose which variable you will include in that model. You can chose **trip duration** or **trip distance** as your second variable. Plot Fare Amount against each. Which of the two will be more useful in your multivariate model? Justify your answer. \n",
    "\n",
    "## 9. Remove outliers and assess if this has an effect this has on the model\n",
    "\n",
    "If appropriate (if there are obvious outliers) remove them and assess how that changes the model's predictive power: has the variance described by your model improved or not?"
   ]
  },
  {
   "cell_type": "markdown",
   "metadata": {
    "run_control": {
     "frozen": false,
     "read_only": false
    }
   },
   "source": [
    "You have fitted lines and curves in multiple HWs and labs: HW5, HW6, Lab5, Lab6. If you do it with statsmodels you get a variety of diagnostics with the .summary() method. In this case you just want to see which is the *more predictive* model. (why?)"
   ]
  },
  {
   "cell_type": "markdown",
   "metadata": {
    "run_control": {
     "frozen": false,
     "read_only": false
    }
   },
   "source": [
    "## 10.  Create two multivariate linear model to predict the tip percentage \n",
    "(Note: in class and in the HW you did linear models and quadratic models. A multivariate linear model is simply a linear model of multiple variables: y = ax + bz as opposed to y = ax \n",
    "With the formula package of slm it is easy to write a multivariate regression: just add each variable in the formula: \"y ~ x + z\")\n",
    "\n",
    "Your first model should have variables: trip fare amount, and one other, whichever you decide is best between trip duration and trip distance in step 8. \n",
    "\n",
    "Your second model should include the same exogenous variables, and also income at departure (income per person by zipcode) and at destination.\n",
    "\n",
    "## 11.  Compare multivariate linear model to predict the tip percentage and assess importance of socioeconomic variables\n",
    "Give a **rigorous answer** to the question: is the restricted model (only fare and duration/distance) better or worse than the complex model that includes income at departure at destination?  \n",
    "\n",
    "What about a model that contains only one income (at departure or destination)? Create the last two models, with duration/distance and fare and only one of the 2 incomes as exogenous variables. Is either of the model that includes the income (either median income at departure or median income at destination address) a better model than the restricted one that only includes fare amount and trip duration/distance? Which of those two latest models is better? You can answer all these questions rigorously (i.e. with p-values)."
   ]
  },
  {
   "cell_type": "markdown",
   "metadata": {
    "ExecuteTime": {
     "end_time": "2017-10-26T01:55:28.277028",
     "start_time": "2017-10-26T01:55:28.238022"
    },
    "run_control": {
     "frozen": false,
     "read_only": false
    }
   },
   "source": [
    "**What does this mean about our original question??**"
   ]
  },
  {
   "cell_type": "code",
   "execution_count": null,
   "metadata": {
    "collapsed": true,
    "run_control": {
     "frozen": false,
     "read_only": false
    }
   },
   "outputs": [],
   "source": []
  }
 ],
 "metadata": {
  "_draft": {
   "nbviewer_url": "https://gist.github.com/4c2689ce4f28af6e186dd87d98330ac1"
  },
  "anaconda-cloud": {},
  "gist": {
   "data": {
    "description": "midterm2017_morning_instructions.ipynb",
    "public": false
   },
   "id": "4c2689ce4f28af6e186dd87d98330ac1"
  },
  "kernelspec": {
   "display_name": "Python 3",
   "language": "python",
   "name": "python3"
  },
  "latex_envs": {
   "LaTeX_envs_menu_present": true,
   "bibliofile": "biblio.bib",
   "cite_by": "apalike",
   "current_citInitial": 1,
   "eqLabelWithNumbers": true,
   "eqNumInitial": 1,
   "hotkeys": {
    "equation": "Ctrl-E",
    "itemize": "Ctrl-I"
   },
   "labels_anchors": false,
   "latex_user_defs": false,
   "report_style_numbering": false,
   "user_envs_cfg": false
  },
  "toc": {
   "colors": {
    "hover_highlight": "#DAA520",
    "running_highlight": "#FF0000",
    "selected_highlight": "#FFD700"
   },
   "moveMenuLeft": true,
   "nav_menu": {
    "height": "512px",
    "width": "252px"
   },
   "navigate_menu": true,
   "number_sections": false,
   "sideBar": true,
   "threshold": 4,
   "toc_cell": false,
   "toc_section_display": "block",
   "toc_window_display": false
  }
 },
 "nbformat": 4,
 "nbformat_minor": 1
}
