{
 "cells": [
  {
   "cell_type": "markdown",
   "metadata": {
    "run_control": {
     "frozen": false,
     "read_only": false
    }
   },
   "source": [
    "# SQL CARTO QUERY FUNCTION\n",
    "# written for PUI2016_Python2"
   ]
  },
  {
   "cell_type": "markdown",
   "metadata": {
    "run_control": {
     "frozen": false,
     "read_only": false
    }
   },
   "source": [
    "##### This notebook is set up to link as a default to the fb55 account.  To turn in the homework use the same account you used in the lab (hvt201)  and query the database that you were querying in class (citibike_feb_2015)"
   ]
  },
  {
   "cell_type": "code",
   "execution_count": 14,
   "metadata": {
    "ExecuteTime": {
     "end_time": "2018-10-08T23:45:19.643806Z",
     "start_time": "2018-10-08T23:45:19.626410Z"
    },
    "run_control": {
     "frozen": false,
     "read_only": false
    }
   },
   "outputs": [],
   "source": [
    "from __future__ import print_function, division\n",
    "SQL_SOURCE = 'https://fb55.carto.com:443/api/v2/sql?q='\n",
    "\n",
    "import urllib2\n",
    "import urllib\n",
    "import StringIO\n",
    "import ast\n",
    "import pandas as pd\n",
    "\n",
    "#will need to check the last 2 queries\n",
    "import datetime as dt\n",
    "import numpy as np\n",
    "\n",
    "def queryCartoDB(query, format='CSV', source=SQL_SOURCE):\n",
    "    '''queries carto datasets from a given carto account\n",
    "    Arguments: \n",
    "    query - string: a valid sql query string\n",
    "    format - outlut format  OPTIONAL (default CSV)\n",
    "    source - a valid sql api endpoint OPTIONAL (default carto fb55 account)\n",
    "    Returns:\n",
    "    the return of the sql query AS A STRING\n",
    "    NOTES:\n",
    "    designed for the carto API, tested only with CSV return format'''\n",
    "    \n",
    "    data = urllib.urlencode({'format': format, 'q': query})\n",
    "    try:\n",
    "        response = urllib2.urlopen(source, data)\n",
    "    except urllib2.HTTPError, e:\n",
    "        raise ValueError('\\n'.join(ast.literal_eval(e.readline())['error']))\n",
    "    except Exception:\n",
    "        raise\n",
    "    return response.read()"
   ]
  },
  {
   "cell_type": "code",
   "execution_count": 19,
   "metadata": {
    "ExecuteTime": {
     "end_time": "2018-10-08T23:46:45.067603Z",
     "start_time": "2018-10-08T23:46:45.062082Z"
    },
    "run_control": {
     "frozen": false,
     "read_only": false
    }
   },
   "outputs": [],
   "source": [
    "test = '''\n",
    "SELECT *\n",
    "FROM fb55.citibike\n",
    "'''"
   ]
  },
  {
   "cell_type": "code",
   "execution_count": 20,
   "metadata": {
    "ExecuteTime": {
     "end_time": "2018-10-08T23:50:30.385126Z",
     "start_time": "2018-10-08T23:46:45.988701Z"
    },
    "run_control": {
     "frozen": false,
     "read_only": false
    }
   },
   "outputs": [
    {
     "data": {
      "text/html": [
       "<div>\n",
       "<style scoped>\n",
       "    .dataframe tbody tr th:only-of-type {\n",
       "        vertical-align: middle;\n",
       "    }\n",
       "\n",
       "    .dataframe tbody tr th {\n",
       "        vertical-align: top;\n",
       "    }\n",
       "\n",
       "    .dataframe thead th {\n",
       "        text-align: right;\n",
       "    }\n",
       "</style>\n",
       "<table border=\"1\" class=\"dataframe\">\n",
       "  <thead>\n",
       "    <tr style=\"text-align: right;\">\n",
       "      <th></th>\n",
       "      <th>the_geom</th>\n",
       "      <th>start_station_name</th>\n",
       "      <th>the_geom_webmercator</th>\n",
       "      <th>field_1</th>\n",
       "      <th>start_station_longitude</th>\n",
       "      <th>tripduration</th>\n",
       "      <th>starttime</th>\n",
       "      <th>stoptime</th>\n",
       "      <th>start_station_id</th>\n",
       "      <th>cartodb_id</th>\n",
       "      <th>start_station_latitude</th>\n",
       "      <th>end_station_id</th>\n",
       "      <th>end_station_name</th>\n",
       "      <th>end_station_latitude</th>\n",
       "      <th>end_station_longitude</th>\n",
       "      <th>bikeid</th>\n",
       "      <th>usertype</th>\n",
       "      <th>birth_year</th>\n",
       "      <th>gender</th>\n",
       "    </tr>\n",
       "  </thead>\n",
       "  <tbody>\n",
       "    <tr>\n",
       "      <th>0</th>\n",
       "      <td>NaN</td>\n",
       "      <td>E 20 St &amp; Park Ave</td>\n",
       "      <td>NaN</td>\n",
       "      <td>175</td>\n",
       "      <td>-73.987520</td>\n",
       "      <td>1090</td>\n",
       "      <td>2015-02-01 01:23:00+00</td>\n",
       "      <td>2015-02-01 01:42:00+00</td>\n",
       "      <td>503</td>\n",
       "      <td>107</td>\n",
       "      <td>40.738274</td>\n",
       "      <td>229</td>\n",
       "      <td>Great Jones St</td>\n",
       "      <td>40.727434</td>\n",
       "      <td>-73.993790</td>\n",
       "      <td>19718</td>\n",
       "      <td>Subscriber</td>\n",
       "      <td>1961.0</td>\n",
       "      <td>1</td>\n",
       "    </tr>\n",
       "    <tr>\n",
       "      <th>1</th>\n",
       "      <td>NaN</td>\n",
       "      <td>W 43 St &amp; 10 Ave</td>\n",
       "      <td>NaN</td>\n",
       "      <td>1159</td>\n",
       "      <td>-73.994618</td>\n",
       "      <td>682</td>\n",
       "      <td>2015-02-01 10:55:00+00</td>\n",
       "      <td>2015-02-01 11:07:00+00</td>\n",
       "      <td>515</td>\n",
       "      <td>1088</td>\n",
       "      <td>40.760094</td>\n",
       "      <td>490</td>\n",
       "      <td>8 Ave &amp; W 33 St</td>\n",
       "      <td>40.751551</td>\n",
       "      <td>-73.993934</td>\n",
       "      <td>21501</td>\n",
       "      <td>Subscriber</td>\n",
       "      <td>1981.0</td>\n",
       "      <td>1</td>\n",
       "    </tr>\n",
       "    <tr>\n",
       "      <th>2</th>\n",
       "      <td>NaN</td>\n",
       "      <td>E 6 St &amp; Avenue B</td>\n",
       "      <td>NaN</td>\n",
       "      <td>2827</td>\n",
       "      <td>-73.981854</td>\n",
       "      <td>751</td>\n",
       "      <td>2015-02-01 13:59:00+00</td>\n",
       "      <td>2015-02-01 14:11:00+00</td>\n",
       "      <td>317</td>\n",
       "      <td>2759</td>\n",
       "      <td>40.724537</td>\n",
       "      <td>466</td>\n",
       "      <td>W 25 St &amp; 6 Ave</td>\n",
       "      <td>40.743954</td>\n",
       "      <td>-73.991449</td>\n",
       "      <td>14788</td>\n",
       "      <td>Subscriber</td>\n",
       "      <td>1990.0</td>\n",
       "      <td>1</td>\n",
       "    </tr>\n",
       "    <tr>\n",
       "      <th>3</th>\n",
       "      <td>NaN</td>\n",
       "      <td>E 12 St &amp; 3 Ave</td>\n",
       "      <td>NaN</td>\n",
       "      <td>4961</td>\n",
       "      <td>-73.988900</td>\n",
       "      <td>272</td>\n",
       "      <td>2015-02-01 17:28:00+00</td>\n",
       "      <td>2015-02-01 17:32:00+00</td>\n",
       "      <td>483</td>\n",
       "      <td>4893</td>\n",
       "      <td>40.732233</td>\n",
       "      <td>345</td>\n",
       "      <td>W 13 St &amp; 6 Ave</td>\n",
       "      <td>40.736494</td>\n",
       "      <td>-73.997044</td>\n",
       "      <td>16219</td>\n",
       "      <td>Subscriber</td>\n",
       "      <td>1961.0</td>\n",
       "      <td>1</td>\n",
       "    </tr>\n",
       "    <tr>\n",
       "      <th>4</th>\n",
       "      <td>NaN</td>\n",
       "      <td>W 41 St &amp; 8 Ave</td>\n",
       "      <td>NaN</td>\n",
       "      <td>6156</td>\n",
       "      <td>-73.990026</td>\n",
       "      <td>240</td>\n",
       "      <td>2015-02-01 21:36:00+00</td>\n",
       "      <td>2015-02-01 21:40:00+00</td>\n",
       "      <td>477</td>\n",
       "      <td>6090</td>\n",
       "      <td>40.756405</td>\n",
       "      <td>490</td>\n",
       "      <td>8 Ave &amp; W 33 St</td>\n",
       "      <td>40.751551</td>\n",
       "      <td>-73.993934</td>\n",
       "      <td>18266</td>\n",
       "      <td>Customer</td>\n",
       "      <td>NaN</td>\n",
       "      <td>0</td>\n",
       "    </tr>\n",
       "  </tbody>\n",
       "</table>\n",
       "</div>"
      ],
      "text/plain": [
       "   the_geom  start_station_name  the_geom_webmercator  field_1  \\\n",
       "0       NaN  E 20 St & Park Ave                   NaN      175   \n",
       "1       NaN    W 43 St & 10 Ave                   NaN     1159   \n",
       "2       NaN   E 6 St & Avenue B                   NaN     2827   \n",
       "3       NaN     E 12 St & 3 Ave                   NaN     4961   \n",
       "4       NaN     W 41 St & 8 Ave                   NaN     6156   \n",
       "\n",
       "   start_station_longitude  tripduration               starttime  \\\n",
       "0               -73.987520          1090  2015-02-01 01:23:00+00   \n",
       "1               -73.994618           682  2015-02-01 10:55:00+00   \n",
       "2               -73.981854           751  2015-02-01 13:59:00+00   \n",
       "3               -73.988900           272  2015-02-01 17:28:00+00   \n",
       "4               -73.990026           240  2015-02-01 21:36:00+00   \n",
       "\n",
       "                 stoptime  start_station_id  cartodb_id  \\\n",
       "0  2015-02-01 01:42:00+00               503         107   \n",
       "1  2015-02-01 11:07:00+00               515        1088   \n",
       "2  2015-02-01 14:11:00+00               317        2759   \n",
       "3  2015-02-01 17:32:00+00               483        4893   \n",
       "4  2015-02-01 21:40:00+00               477        6090   \n",
       "\n",
       "   start_station_latitude  end_station_id end_station_name  \\\n",
       "0               40.738274             229   Great Jones St   \n",
       "1               40.760094             490  8 Ave & W 33 St   \n",
       "2               40.724537             466  W 25 St & 6 Ave   \n",
       "3               40.732233             345  W 13 St & 6 Ave   \n",
       "4               40.756405             490  8 Ave & W 33 St   \n",
       "\n",
       "   end_station_latitude  end_station_longitude  bikeid    usertype  \\\n",
       "0             40.727434             -73.993790   19718  Subscriber   \n",
       "1             40.751551             -73.993934   21501  Subscriber   \n",
       "2             40.743954             -73.991449   14788  Subscriber   \n",
       "3             40.736494             -73.997044   16219  Subscriber   \n",
       "4             40.751551             -73.993934   18266    Customer   \n",
       "\n",
       "   birth_year  gender  \n",
       "0      1961.0       1  \n",
       "1      1981.0       1  \n",
       "2      1990.0       1  \n",
       "3      1961.0       1  \n",
       "4         NaN       0  "
      ]
     },
     "execution_count": 20,
     "metadata": {},
     "output_type": "execute_result"
    }
   ],
   "source": [
    "pd.read_csv(StringIO.StringIO(queryCartoDB(test)), sep=',').head()"
   ]
  },
  {
   "cell_type": "code",
   "execution_count": null,
   "metadata": {
    "ExecuteTime": {
     "end_time": "2018-10-08T23:45:41.354813Z",
     "start_time": "2018-10-08T23:45:24.047Z"
    },
    "run_control": {
     "frozen": false,
     "read_only": false
    }
   },
   "outputs": [],
   "source": [
    "queries = ['''SELECT * FROM htv210.citibike_feb_2015\n",
    "ORDER BY start_station_id''',\n",
    "           \n",
    "'''SELECT * FROM htv210.citibike_feb_2015\n",
    "ORDER BY tripduration''',\n",
    "           \n",
    " '''SELECT * FROM htv210.citibike_feb_2015\n",
    "ORDER BY tripduration\n",
    "LIMIT 10''',\n",
    "           \n",
    " '''SELECT * FROM htv210.citibike_feb_2015\n",
    "ORDER BY tripduration DESC\n",
    "LIMIT 10''',\n",
    "           \n",
    " '''SELECT * FROM htv210.citibike_feb_2015\n",
    "WHERE tripduration<10800\n",
    "ORDER BY tripduration DESC\n",
    "LIMIT 10''',\n",
    "           \n",
    " '''SELECT * FROM htv210.citibike_feb_2015\n",
    "WHERE starttime >= '2015-02-02 00:00'\n",
    "AND starttime < '2015-02-03 00:00'\n",
    "''',\n",
    "           \n",
    " '''SELECT * FROM htv210.citibike_feb_2015\n",
    "WHERE extract(DOW FROM starttime) IN (0,6)''',\n",
    " '''SELECT * FROM htv210.citibike_feb_2015\n",
    "WHERE extract(DOW FROM starttime) NOT IN (0,6)''']"
   ]
  },
  {
   "cell_type": "code",
   "execution_count": null,
   "metadata": {
    "ExecuteTime": {
     "end_time": "2018-10-08T23:45:41.356639Z",
     "start_time": "2018-10-08T23:45:25.028Z"
    },
    "run_control": {
     "frozen": false,
     "read_only": false
    }
   },
   "outputs": [],
   "source": [
    "queriesRes = []\n",
    "for query in queries:\n",
    "    print (query)\n",
    "    queriesRes.append(pd.read_csv(StringIO.StringIO(queryCartoDB(query, format='CSV', \n",
    "                                               source=SQL_SOURCE))))\n",
    "    print (\"\\n\")"
   ]
  },
  {
   "cell_type": "markdown",
   "metadata": {
    "run_control": {
     "frozen": false,
     "read_only": false
    }
   },
   "source": [
    "# checking if it worked for each query"
   ]
  },
  {
   "cell_type": "code",
   "execution_count": 13,
   "metadata": {
    "ExecuteTime": {
     "end_time": "2018-10-08T23:41:01.048137Z",
     "start_time": "2018-10-08T23:41:01.041222Z"
    },
    "run_control": {
     "frozen": false,
     "read_only": false
    }
   },
   "outputs": [],
   "source": [
    "#the columns used to select in the queries\n",
    "relevantColumns = [\"start_station_id\", \"tripduration\", \"starttime\"]"
   ]
  },
  {
   "cell_type": "markdown",
   "metadata": {
    "run_control": {
     "frozen": false,
     "read_only": false
    }
   },
   "source": [
    "# 1: all rows sorted by trip station id"
   ]
  },
  {
   "cell_type": "code",
   "execution_count": 8,
   "metadata": {
    "run_control": {
     "frozen": false,
     "read_only": false
    }
   },
   "outputs": [
    {
     "data": {
      "text/html": [
       "<div style=\"max-height:1000px;max-width:1500px;overflow:auto;\">\n",
       "<table border=\"1\" class=\"dataframe\">\n",
       "  <thead>\n",
       "    <tr style=\"text-align: right;\">\n",
       "      <th></th>\n",
       "      <th>start_station_id</th>\n",
       "      <th>tripduration</th>\n",
       "    </tr>\n",
       "  </thead>\n",
       "  <tbody>\n",
       "    <tr>\n",
       "      <th>count</th>\n",
       "      <td>46200.000000</td>\n",
       "      <td>46200.000000</td>\n",
       "    </tr>\n",
       "    <tr>\n",
       "      <th>mean</th>\n",
       "      <td>439.865216</td>\n",
       "      <td>675.865823</td>\n",
       "    </tr>\n",
       "    <tr>\n",
       "      <th>std</th>\n",
       "      <td>328.568800</td>\n",
       "      <td>938.842345</td>\n",
       "    </tr>\n",
       "    <tr>\n",
       "      <th>min</th>\n",
       "      <td>72.000000</td>\n",
       "      <td>60.000000</td>\n",
       "    </tr>\n",
       "    <tr>\n",
       "      <th>25%</th>\n",
       "      <td>306.000000</td>\n",
       "      <td>354.000000</td>\n",
       "    </tr>\n",
       "    <tr>\n",
       "      <th>50%</th>\n",
       "      <td>417.000000</td>\n",
       "      <td>529.000000</td>\n",
       "    </tr>\n",
       "    <tr>\n",
       "      <th>75%</th>\n",
       "      <td>491.000000</td>\n",
       "      <td>796.000000</td>\n",
       "    </tr>\n",
       "    <tr>\n",
       "      <th>max</th>\n",
       "      <td>3002.000000</td>\n",
       "      <td>43016.000000</td>\n",
       "    </tr>\n",
       "  </tbody>\n",
       "</table>\n",
       "</div>"
      ],
      "text/plain": [
       "       start_station_id  tripduration\n",
       "count      46200.000000  46200.000000\n",
       "mean         439.865216    675.865823\n",
       "std          328.568800    938.842345\n",
       "min           72.000000     60.000000\n",
       "25%          306.000000    354.000000\n",
       "50%          417.000000    529.000000\n",
       "75%          491.000000    796.000000\n",
       "max         3002.000000  43016.000000"
      ]
     },
     "execution_count": 8,
     "metadata": {},
     "output_type": "execute_result"
    }
   ],
   "source": [
    "#describe the resulting df, only relevant columns - \"count\" tells you size of df\n",
    "i = 0\n",
    "queriesRes[i][relevantColumns].describe()"
   ]
  },
  {
   "cell_type": "code",
   "execution_count": 9,
   "metadata": {
    "run_control": {
     "frozen": false,
     "read_only": false
    }
   },
   "outputs": [
    {
     "data": {
      "text/html": [
       "<div style=\"max-height:1000px;max-width:1500px;overflow:auto;\">\n",
       "<table border=\"1\" class=\"dataframe\">\n",
       "  <thead>\n",
       "    <tr style=\"text-align: right;\">\n",
       "      <th></th>\n",
       "      <th>start_station_id</th>\n",
       "      <th>tripduration</th>\n",
       "      <th>starttime</th>\n",
       "    </tr>\n",
       "  </thead>\n",
       "  <tbody>\n",
       "    <tr>\n",
       "      <th>0</th>\n",
       "      <td>72</td>\n",
       "      <td>1678</td>\n",
       "      <td>2015-02-03 18:21:00+00</td>\n",
       "    </tr>\n",
       "    <tr>\n",
       "      <th>1</th>\n",
       "      <td>72</td>\n",
       "      <td>405</td>\n",
       "      <td>2015-02-06 15:07:00+00</td>\n",
       "    </tr>\n",
       "    <tr>\n",
       "      <th>2</th>\n",
       "      <td>72</td>\n",
       "      <td>377</td>\n",
       "      <td>2015-02-05 13:46:00+00</td>\n",
       "    </tr>\n",
       "    <tr>\n",
       "      <th>3</th>\n",
       "      <td>72</td>\n",
       "      <td>658</td>\n",
       "      <td>2015-02-05 08:48:00+00</td>\n",
       "    </tr>\n",
       "    <tr>\n",
       "      <th>4</th>\n",
       "      <td>72</td>\n",
       "      <td>928</td>\n",
       "      <td>2015-02-06 15:53:00+00</td>\n",
       "    </tr>\n",
       "  </tbody>\n",
       "</table>\n",
       "</div>"
      ],
      "text/plain": [
       "   start_station_id  tripduration               starttime\n",
       "0                72          1678  2015-02-03 18:21:00+00\n",
       "1                72           405  2015-02-06 15:07:00+00\n",
       "2                72           377  2015-02-05 13:46:00+00\n",
       "3                72           658  2015-02-05 08:48:00+00\n",
       "4                72           928  2015-02-06 15:53:00+00"
      ]
     },
     "execution_count": 9,
     "metadata": {},
     "output_type": "execute_result"
    }
   ],
   "source": [
    "#top and bottom (head and tail) of df will tell if sorting was ok\n",
    "queriesRes[i][relevantColumns].head()"
   ]
  },
  {
   "cell_type": "code",
   "execution_count": 10,
   "metadata": {
    "run_control": {
     "frozen": false,
     "read_only": false
    }
   },
   "outputs": [
    {
     "data": {
      "text/html": [
       "<div style=\"max-height:1000px;max-width:1500px;overflow:auto;\">\n",
       "<table border=\"1\" class=\"dataframe\">\n",
       "  <thead>\n",
       "    <tr style=\"text-align: right;\">\n",
       "      <th></th>\n",
       "      <th>start_station_id</th>\n",
       "      <th>tripduration</th>\n",
       "      <th>starttime</th>\n",
       "    </tr>\n",
       "  </thead>\n",
       "  <tbody>\n",
       "    <tr>\n",
       "      <th>46195</th>\n",
       "      <td>3002</td>\n",
       "      <td>286</td>\n",
       "      <td>2015-02-01 22:17:00+00</td>\n",
       "    </tr>\n",
       "    <tr>\n",
       "      <th>46196</th>\n",
       "      <td>3002</td>\n",
       "      <td>170</td>\n",
       "      <td>2015-02-03 20:40:00+00</td>\n",
       "    </tr>\n",
       "    <tr>\n",
       "      <th>46197</th>\n",
       "      <td>3002</td>\n",
       "      <td>132</td>\n",
       "      <td>2015-02-05 17:37:00+00</td>\n",
       "    </tr>\n",
       "    <tr>\n",
       "      <th>46198</th>\n",
       "      <td>3002</td>\n",
       "      <td>243</td>\n",
       "      <td>2015-02-06 07:55:00+00</td>\n",
       "    </tr>\n",
       "    <tr>\n",
       "      <th>46199</th>\n",
       "      <td>3002</td>\n",
       "      <td>501</td>\n",
       "      <td>2015-02-07 17:10:00+00</td>\n",
       "    </tr>\n",
       "  </tbody>\n",
       "</table>\n",
       "</div>"
      ],
      "text/plain": [
       "       start_station_id  tripduration               starttime\n",
       "46195              3002           286  2015-02-01 22:17:00+00\n",
       "46196              3002           170  2015-02-03 20:40:00+00\n",
       "46197              3002           132  2015-02-05 17:37:00+00\n",
       "46198              3002           243  2015-02-06 07:55:00+00\n",
       "46199              3002           501  2015-02-07 17:10:00+00"
      ]
     },
     "execution_count": 10,
     "metadata": {},
     "output_type": "execute_result"
    }
   ],
   "source": [
    "queriesRes[i][relevantColumns].tail()"
   ]
  },
  {
   "cell_type": "markdown",
   "metadata": {
    "run_control": {
     "frozen": false,
     "read_only": false
    }
   },
   "source": [
    "# 2: all rows sorted by trip duration"
   ]
  },
  {
   "cell_type": "code",
   "execution_count": 11,
   "metadata": {
    "collapsed": true,
    "run_control": {
     "frozen": false,
     "read_only": false
    }
   },
   "outputs": [],
   "source": [
    "i = 1"
   ]
  },
  {
   "cell_type": "code",
   "execution_count": 12,
   "metadata": {
    "run_control": {
     "frozen": false,
     "read_only": false
    }
   },
   "outputs": [
    {
     "data": {
      "text/html": [
       "<div style=\"max-height:1000px;max-width:1500px;overflow:auto;\">\n",
       "<table border=\"1\" class=\"dataframe\">\n",
       "  <thead>\n",
       "    <tr style=\"text-align: right;\">\n",
       "      <th></th>\n",
       "      <th>start_station_id</th>\n",
       "      <th>tripduration</th>\n",
       "    </tr>\n",
       "  </thead>\n",
       "  <tbody>\n",
       "    <tr>\n",
       "      <th>count</th>\n",
       "      <td>46200.000000</td>\n",
       "      <td>46200.000000</td>\n",
       "    </tr>\n",
       "    <tr>\n",
       "      <th>mean</th>\n",
       "      <td>439.865216</td>\n",
       "      <td>675.865823</td>\n",
       "    </tr>\n",
       "    <tr>\n",
       "      <th>std</th>\n",
       "      <td>328.568800</td>\n",
       "      <td>938.842345</td>\n",
       "    </tr>\n",
       "    <tr>\n",
       "      <th>min</th>\n",
       "      <td>72.000000</td>\n",
       "      <td>60.000000</td>\n",
       "    </tr>\n",
       "    <tr>\n",
       "      <th>25%</th>\n",
       "      <td>306.000000</td>\n",
       "      <td>354.000000</td>\n",
       "    </tr>\n",
       "    <tr>\n",
       "      <th>50%</th>\n",
       "      <td>417.000000</td>\n",
       "      <td>529.000000</td>\n",
       "    </tr>\n",
       "    <tr>\n",
       "      <th>75%</th>\n",
       "      <td>491.000000</td>\n",
       "      <td>796.000000</td>\n",
       "    </tr>\n",
       "    <tr>\n",
       "      <th>max</th>\n",
       "      <td>3002.000000</td>\n",
       "      <td>43016.000000</td>\n",
       "    </tr>\n",
       "  </tbody>\n",
       "</table>\n",
       "</div>"
      ],
      "text/plain": [
       "       start_station_id  tripduration\n",
       "count      46200.000000  46200.000000\n",
       "mean         439.865216    675.865823\n",
       "std          328.568800    938.842345\n",
       "min           72.000000     60.000000\n",
       "25%          306.000000    354.000000\n",
       "50%          417.000000    529.000000\n",
       "75%          491.000000    796.000000\n",
       "max         3002.000000  43016.000000"
      ]
     },
     "execution_count": 12,
     "metadata": {},
     "output_type": "execute_result"
    }
   ],
   "source": [
    "queriesRes[i][relevantColumns].describe()"
   ]
  },
  {
   "cell_type": "code",
   "execution_count": 13,
   "metadata": {
    "run_control": {
     "frozen": false,
     "read_only": false
    }
   },
   "outputs": [
    {
     "data": {
      "text/html": [
       "<div style=\"max-height:1000px;max-width:1500px;overflow:auto;\">\n",
       "<table border=\"1\" class=\"dataframe\">\n",
       "  <thead>\n",
       "    <tr style=\"text-align: right;\">\n",
       "      <th></th>\n",
       "      <th>start_station_id</th>\n",
       "      <th>tripduration</th>\n",
       "      <th>starttime</th>\n",
       "    </tr>\n",
       "  </thead>\n",
       "  <tbody>\n",
       "    <tr>\n",
       "      <th>0</th>\n",
       "      <td>474</td>\n",
       "      <td>60</td>\n",
       "      <td>2015-02-02 17:14:00+00</td>\n",
       "    </tr>\n",
       "    <tr>\n",
       "      <th>1</th>\n",
       "      <td>393</td>\n",
       "      <td>60</td>\n",
       "      <td>2015-02-07 21:40:00+00</td>\n",
       "    </tr>\n",
       "    <tr>\n",
       "      <th>2</th>\n",
       "      <td>471</td>\n",
       "      <td>60</td>\n",
       "      <td>2015-02-03 18:01:00+00</td>\n",
       "    </tr>\n",
       "    <tr>\n",
       "      <th>3</th>\n",
       "      <td>445</td>\n",
       "      <td>60</td>\n",
       "      <td>2015-02-06 20:40:00+00</td>\n",
       "    </tr>\n",
       "    <tr>\n",
       "      <th>4</th>\n",
       "      <td>2009</td>\n",
       "      <td>60</td>\n",
       "      <td>2015-02-05 09:32:00+00</td>\n",
       "    </tr>\n",
       "  </tbody>\n",
       "</table>\n",
       "</div>"
      ],
      "text/plain": [
       "   start_station_id  tripduration               starttime\n",
       "0               474            60  2015-02-02 17:14:00+00\n",
       "1               393            60  2015-02-07 21:40:00+00\n",
       "2               471            60  2015-02-03 18:01:00+00\n",
       "3               445            60  2015-02-06 20:40:00+00\n",
       "4              2009            60  2015-02-05 09:32:00+00"
      ]
     },
     "execution_count": 13,
     "metadata": {},
     "output_type": "execute_result"
    }
   ],
   "source": [
    "queriesRes[i][relevantColumns].head()"
   ]
  },
  {
   "cell_type": "code",
   "execution_count": 14,
   "metadata": {
    "run_control": {
     "frozen": false,
     "read_only": false
    }
   },
   "outputs": [
    {
     "data": {
      "text/html": [
       "<div style=\"max-height:1000px;max-width:1500px;overflow:auto;\">\n",
       "<table border=\"1\" class=\"dataframe\">\n",
       "  <thead>\n",
       "    <tr style=\"text-align: right;\">\n",
       "      <th></th>\n",
       "      <th>start_station_id</th>\n",
       "      <th>tripduration</th>\n",
       "      <th>starttime</th>\n",
       "    </tr>\n",
       "  </thead>\n",
       "  <tbody>\n",
       "    <tr>\n",
       "      <th>46195</th>\n",
       "      <td>438</td>\n",
       "      <td>37665</td>\n",
       "      <td>2015-02-02 08:29:00+00</td>\n",
       "    </tr>\n",
       "    <tr>\n",
       "      <th>46196</th>\n",
       "      <td>449</td>\n",
       "      <td>41908</td>\n",
       "      <td>2015-02-06 23:31:00+00</td>\n",
       "    </tr>\n",
       "    <tr>\n",
       "      <th>46197</th>\n",
       "      <td>195</td>\n",
       "      <td>42784</td>\n",
       "      <td>2015-02-02 20:07:00+00</td>\n",
       "    </tr>\n",
       "    <tr>\n",
       "      <th>46198</th>\n",
       "      <td>492</td>\n",
       "      <td>43013</td>\n",
       "      <td>2015-02-07 23:23:00+00</td>\n",
       "    </tr>\n",
       "    <tr>\n",
       "      <th>46199</th>\n",
       "      <td>263</td>\n",
       "      <td>43016</td>\n",
       "      <td>2015-02-02 22:00:00+00</td>\n",
       "    </tr>\n",
       "  </tbody>\n",
       "</table>\n",
       "</div>"
      ],
      "text/plain": [
       "       start_station_id  tripduration               starttime\n",
       "46195               438         37665  2015-02-02 08:29:00+00\n",
       "46196               449         41908  2015-02-06 23:31:00+00\n",
       "46197               195         42784  2015-02-02 20:07:00+00\n",
       "46198               492         43013  2015-02-07 23:23:00+00\n",
       "46199               263         43016  2015-02-02 22:00:00+00"
      ]
     },
     "execution_count": 14,
     "metadata": {},
     "output_type": "execute_result"
    }
   ],
   "source": [
    "queriesRes[i][relevantColumns].tail()"
   ]
  },
  {
   "cell_type": "markdown",
   "metadata": {
    "run_control": {
     "frozen": false,
     "read_only": false
    }
   },
   "source": [
    "# 3: 10 rows sorted by trip duration shortest trips"
   ]
  },
  {
   "cell_type": "code",
   "execution_count": 15,
   "metadata": {
    "collapsed": true,
    "run_control": {
     "frozen": false,
     "read_only": false
    }
   },
   "outputs": [],
   "source": [
    "i = 2"
   ]
  },
  {
   "cell_type": "code",
   "execution_count": 16,
   "metadata": {
    "run_control": {
     "frozen": false,
     "read_only": false
    }
   },
   "outputs": [
    {
     "data": {
      "text/html": [
       "<div style=\"max-height:1000px;max-width:1500px;overflow:auto;\">\n",
       "<table border=\"1\" class=\"dataframe\">\n",
       "  <thead>\n",
       "    <tr style=\"text-align: right;\">\n",
       "      <th></th>\n",
       "      <th>start_station_id</th>\n",
       "      <th>tripduration</th>\n",
       "    </tr>\n",
       "  </thead>\n",
       "  <tbody>\n",
       "    <tr>\n",
       "      <th>count</th>\n",
       "      <td>10.000000</td>\n",
       "      <td>10</td>\n",
       "    </tr>\n",
       "    <tr>\n",
       "      <th>mean</th>\n",
       "      <td>399.200000</td>\n",
       "      <td>60</td>\n",
       "    </tr>\n",
       "    <tr>\n",
       "      <th>std</th>\n",
       "      <td>113.664027</td>\n",
       "      <td>0</td>\n",
       "    </tr>\n",
       "    <tr>\n",
       "      <th>min</th>\n",
       "      <td>248.000000</td>\n",
       "      <td>60</td>\n",
       "    </tr>\n",
       "    <tr>\n",
       "      <th>25%</th>\n",
       "      <td>301.250000</td>\n",
       "      <td>60</td>\n",
       "    </tr>\n",
       "    <tr>\n",
       "      <th>50%</th>\n",
       "      <td>425.000000</td>\n",
       "      <td>60</td>\n",
       "    </tr>\n",
       "    <tr>\n",
       "      <th>75%</th>\n",
       "      <td>502.500000</td>\n",
       "      <td>60</td>\n",
       "    </tr>\n",
       "    <tr>\n",
       "      <th>max</th>\n",
       "      <td>523.000000</td>\n",
       "      <td>60</td>\n",
       "    </tr>\n",
       "  </tbody>\n",
       "</table>\n",
       "</div>"
      ],
      "text/plain": [
       "       start_station_id  tripduration\n",
       "count         10.000000            10\n",
       "mean         399.200000            60\n",
       "std          113.664027             0\n",
       "min          248.000000            60\n",
       "25%          301.250000            60\n",
       "50%          425.000000            60\n",
       "75%          502.500000            60\n",
       "max          523.000000            60"
      ]
     },
     "execution_count": 16,
     "metadata": {},
     "output_type": "execute_result"
    }
   ],
   "source": [
    "queriesRes[i][relevantColumns].describe()"
   ]
  },
  {
   "cell_type": "code",
   "execution_count": 17,
   "metadata": {
    "run_control": {
     "frozen": false,
     "read_only": false
    }
   },
   "outputs": [
    {
     "data": {
      "text/html": [
       "<div style=\"max-height:1000px;max-width:1500px;overflow:auto;\">\n",
       "<table border=\"1\" class=\"dataframe\">\n",
       "  <thead>\n",
       "    <tr style=\"text-align: right;\">\n",
       "      <th></th>\n",
       "      <th>start_station_id</th>\n",
       "      <th>tripduration</th>\n",
       "      <th>starttime</th>\n",
       "    </tr>\n",
       "  </thead>\n",
       "  <tbody>\n",
       "    <tr>\n",
       "      <th>0</th>\n",
       "      <td>521</td>\n",
       "      <td>60</td>\n",
       "      <td>2015-02-04 06:54:00+00</td>\n",
       "    </tr>\n",
       "    <tr>\n",
       "      <th>1</th>\n",
       "      <td>296</td>\n",
       "      <td>60</td>\n",
       "      <td>2015-02-04 08:41:00+00</td>\n",
       "    </tr>\n",
       "    <tr>\n",
       "      <th>2</th>\n",
       "      <td>251</td>\n",
       "      <td>60</td>\n",
       "      <td>2015-02-03 08:07:00+00</td>\n",
       "    </tr>\n",
       "    <tr>\n",
       "      <th>3</th>\n",
       "      <td>471</td>\n",
       "      <td>60</td>\n",
       "      <td>2015-02-03 18:01:00+00</td>\n",
       "    </tr>\n",
       "    <tr>\n",
       "      <th>4</th>\n",
       "      <td>512</td>\n",
       "      <td>60</td>\n",
       "      <td>2015-02-04 07:52:00+00</td>\n",
       "    </tr>\n",
       "    <tr>\n",
       "      <th>5</th>\n",
       "      <td>317</td>\n",
       "      <td>60</td>\n",
       "      <td>2015-02-01 14:34:00+00</td>\n",
       "    </tr>\n",
       "    <tr>\n",
       "      <th>6</th>\n",
       "      <td>474</td>\n",
       "      <td>60</td>\n",
       "      <td>2015-02-02 17:14:00+00</td>\n",
       "    </tr>\n",
       "    <tr>\n",
       "      <th>7</th>\n",
       "      <td>379</td>\n",
       "      <td>60</td>\n",
       "      <td>2015-02-02 21:39:00+00</td>\n",
       "    </tr>\n",
       "    <tr>\n",
       "      <th>8</th>\n",
       "      <td>523</td>\n",
       "      <td>60</td>\n",
       "      <td>2015-02-04 22:38:00+00</td>\n",
       "    </tr>\n",
       "    <tr>\n",
       "      <th>9</th>\n",
       "      <td>248</td>\n",
       "      <td>60</td>\n",
       "      <td>2015-02-04 18:22:00+00</td>\n",
       "    </tr>\n",
       "  </tbody>\n",
       "</table>\n",
       "</div>"
      ],
      "text/plain": [
       "   start_station_id  tripduration               starttime\n",
       "0               521            60  2015-02-04 06:54:00+00\n",
       "1               296            60  2015-02-04 08:41:00+00\n",
       "2               251            60  2015-02-03 08:07:00+00\n",
       "3               471            60  2015-02-03 18:01:00+00\n",
       "4               512            60  2015-02-04 07:52:00+00\n",
       "5               317            60  2015-02-01 14:34:00+00\n",
       "6               474            60  2015-02-02 17:14:00+00\n",
       "7               379            60  2015-02-02 21:39:00+00\n",
       "8               523            60  2015-02-04 22:38:00+00\n",
       "9               248            60  2015-02-04 18:22:00+00"
      ]
     },
     "execution_count": 17,
     "metadata": {},
     "output_type": "execute_result"
    }
   ],
   "source": [
    "queriesRes[i][relevantColumns]"
   ]
  },
  {
   "cell_type": "markdown",
   "metadata": {
    "run_control": {
     "frozen": false,
     "read_only": false
    }
   },
   "source": [
    "# 4: 10 rows sorted by trip duration longest trips (sorted longest to shortest)"
   ]
  },
  {
   "cell_type": "code",
   "execution_count": 18,
   "metadata": {
    "collapsed": true,
    "run_control": {
     "frozen": false,
     "read_only": false
    }
   },
   "outputs": [],
   "source": [
    "i = 3"
   ]
  },
  {
   "cell_type": "code",
   "execution_count": 19,
   "metadata": {
    "run_control": {
     "frozen": false,
     "read_only": false
    }
   },
   "outputs": [
    {
     "data": {
      "text/html": [
       "<div style=\"max-height:1000px;max-width:1500px;overflow:auto;\">\n",
       "<table border=\"1\" class=\"dataframe\">\n",
       "  <thead>\n",
       "    <tr style=\"text-align: right;\">\n",
       "      <th></th>\n",
       "      <th>start_station_id</th>\n",
       "      <th>tripduration</th>\n",
       "    </tr>\n",
       "  </thead>\n",
       "  <tbody>\n",
       "    <tr>\n",
       "      <th>count</th>\n",
       "      <td>10.000000</td>\n",
       "      <td>10.000000</td>\n",
       "    </tr>\n",
       "    <tr>\n",
       "      <th>mean</th>\n",
       "      <td>366.100000</td>\n",
       "      <td>37644.100000</td>\n",
       "    </tr>\n",
       "    <tr>\n",
       "      <th>std</th>\n",
       "      <td>146.728358</td>\n",
       "      <td>4648.316695</td>\n",
       "    </tr>\n",
       "    <tr>\n",
       "      <th>min</th>\n",
       "      <td>83.000000</td>\n",
       "      <td>31396.000000</td>\n",
       "    </tr>\n",
       "    <tr>\n",
       "      <th>25%</th>\n",
       "      <td>271.500000</td>\n",
       "      <td>34017.000000</td>\n",
       "    </tr>\n",
       "    <tr>\n",
       "      <th>50%</th>\n",
       "      <td>443.500000</td>\n",
       "      <td>36458.000000</td>\n",
       "    </tr>\n",
       "    <tr>\n",
       "      <th>75%</th>\n",
       "      <td>482.250000</td>\n",
       "      <td>42565.000000</td>\n",
       "    </tr>\n",
       "    <tr>\n",
       "      <th>max</th>\n",
       "      <td>497.000000</td>\n",
       "      <td>43016.000000</td>\n",
       "    </tr>\n",
       "  </tbody>\n",
       "</table>\n",
       "</div>"
      ],
      "text/plain": [
       "       start_station_id  tripduration\n",
       "count         10.000000     10.000000\n",
       "mean         366.100000  37644.100000\n",
       "std          146.728358   4648.316695\n",
       "min           83.000000  31396.000000\n",
       "25%          271.500000  34017.000000\n",
       "50%          443.500000  36458.000000\n",
       "75%          482.250000  42565.000000\n",
       "max          497.000000  43016.000000"
      ]
     },
     "execution_count": 19,
     "metadata": {},
     "output_type": "execute_result"
    }
   ],
   "source": [
    "queriesRes[i][relevantColumns].describe()"
   ]
  },
  {
   "cell_type": "code",
   "execution_count": 20,
   "metadata": {
    "run_control": {
     "frozen": false,
     "read_only": false
    }
   },
   "outputs": [
    {
     "data": {
      "text/html": [
       "<div style=\"max-height:1000px;max-width:1500px;overflow:auto;\">\n",
       "<table border=\"1\" class=\"dataframe\">\n",
       "  <thead>\n",
       "    <tr style=\"text-align: right;\">\n",
       "      <th></th>\n",
       "      <th>start_station_id</th>\n",
       "      <th>tripduration</th>\n",
       "      <th>starttime</th>\n",
       "    </tr>\n",
       "  </thead>\n",
       "  <tbody>\n",
       "    <tr>\n",
       "      <th>0</th>\n",
       "      <td>263</td>\n",
       "      <td>43016</td>\n",
       "      <td>2015-02-02 22:00:00+00</td>\n",
       "    </tr>\n",
       "    <tr>\n",
       "      <th>1</th>\n",
       "      <td>492</td>\n",
       "      <td>43013</td>\n",
       "      <td>2015-02-07 23:23:00+00</td>\n",
       "    </tr>\n",
       "    <tr>\n",
       "      <th>2</th>\n",
       "      <td>195</td>\n",
       "      <td>42784</td>\n",
       "      <td>2015-02-02 20:07:00+00</td>\n",
       "    </tr>\n",
       "    <tr>\n",
       "      <th>3</th>\n",
       "      <td>449</td>\n",
       "      <td>41908</td>\n",
       "      <td>2015-02-06 23:31:00+00</td>\n",
       "    </tr>\n",
       "    <tr>\n",
       "      <th>4</th>\n",
       "      <td>438</td>\n",
       "      <td>37665</td>\n",
       "      <td>2015-02-02 08:29:00+00</td>\n",
       "    </tr>\n",
       "    <tr>\n",
       "      <th>5</th>\n",
       "      <td>453</td>\n",
       "      <td>35251</td>\n",
       "      <td>2015-02-01 00:52:00+00</td>\n",
       "    </tr>\n",
       "    <tr>\n",
       "      <th>6</th>\n",
       "      <td>494</td>\n",
       "      <td>35127</td>\n",
       "      <td>2015-02-01 15:47:00+00</td>\n",
       "    </tr>\n",
       "    <tr>\n",
       "      <th>7</th>\n",
       "      <td>83</td>\n",
       "      <td>33647</td>\n",
       "      <td>2015-02-04 19:52:00+00</td>\n",
       "    </tr>\n",
       "    <tr>\n",
       "      <th>8</th>\n",
       "      <td>297</td>\n",
       "      <td>32634</td>\n",
       "      <td>2015-02-03 22:00:00+00</td>\n",
       "    </tr>\n",
       "    <tr>\n",
       "      <th>9</th>\n",
       "      <td>497</td>\n",
       "      <td>31396</td>\n",
       "      <td>2015-02-03 06:19:00+00</td>\n",
       "    </tr>\n",
       "  </tbody>\n",
       "</table>\n",
       "</div>"
      ],
      "text/plain": [
       "   start_station_id  tripduration               starttime\n",
       "0               263         43016  2015-02-02 22:00:00+00\n",
       "1               492         43013  2015-02-07 23:23:00+00\n",
       "2               195         42784  2015-02-02 20:07:00+00\n",
       "3               449         41908  2015-02-06 23:31:00+00\n",
       "4               438         37665  2015-02-02 08:29:00+00\n",
       "5               453         35251  2015-02-01 00:52:00+00\n",
       "6               494         35127  2015-02-01 15:47:00+00\n",
       "7                83         33647  2015-02-04 19:52:00+00\n",
       "8               297         32634  2015-02-03 22:00:00+00\n",
       "9               497         31396  2015-02-03 06:19:00+00"
      ]
     },
     "execution_count": 20,
     "metadata": {},
     "output_type": "execute_result"
    }
   ],
   "source": [
    "queriesRes[i][relevantColumns]"
   ]
  },
  {
   "cell_type": "markdown",
   "metadata": {
    "run_control": {
     "frozen": false,
     "read_only": false
    }
   },
   "source": [
    "# 5: 10 rows sorted by trip duration, longest duration less than 10800 (min) (sorted longest to shortest)"
   ]
  },
  {
   "cell_type": "code",
   "execution_count": 21,
   "metadata": {
    "collapsed": true,
    "run_control": {
     "frozen": false,
     "read_only": false
    }
   },
   "outputs": [],
   "source": [
    "i = 4"
   ]
  },
  {
   "cell_type": "code",
   "execution_count": 22,
   "metadata": {
    "run_control": {
     "frozen": false,
     "read_only": false
    }
   },
   "outputs": [
    {
     "data": {
      "text/html": [
       "<div style=\"max-height:1000px;max-width:1500px;overflow:auto;\">\n",
       "<table border=\"1\" class=\"dataframe\">\n",
       "  <thead>\n",
       "    <tr style=\"text-align: right;\">\n",
       "      <th></th>\n",
       "      <th>start_station_id</th>\n",
       "      <th>tripduration</th>\n",
       "    </tr>\n",
       "  </thead>\n",
       "  <tbody>\n",
       "    <tr>\n",
       "      <th>count</th>\n",
       "      <td>10.000000</td>\n",
       "      <td>10.00000</td>\n",
       "    </tr>\n",
       "    <tr>\n",
       "      <th>mean</th>\n",
       "      <td>417.200000</td>\n",
       "      <td>9951.70000</td>\n",
       "    </tr>\n",
       "    <tr>\n",
       "      <th>std</th>\n",
       "      <td>72.985234</td>\n",
       "      <td>461.23266</td>\n",
       "    </tr>\n",
       "    <tr>\n",
       "      <th>min</th>\n",
       "      <td>284.000000</td>\n",
       "      <td>9373.00000</td>\n",
       "    </tr>\n",
       "    <tr>\n",
       "      <th>25%</th>\n",
       "      <td>390.000000</td>\n",
       "      <td>9606.75000</td>\n",
       "    </tr>\n",
       "    <tr>\n",
       "      <th>50%</th>\n",
       "      <td>420.000000</td>\n",
       "      <td>9872.50000</td>\n",
       "    </tr>\n",
       "    <tr>\n",
       "      <th>75%</th>\n",
       "      <td>465.250000</td>\n",
       "      <td>10122.75000</td>\n",
       "    </tr>\n",
       "    <tr>\n",
       "      <th>max</th>\n",
       "      <td>512.000000</td>\n",
       "      <td>10757.00000</td>\n",
       "    </tr>\n",
       "  </tbody>\n",
       "</table>\n",
       "</div>"
      ],
      "text/plain": [
       "       start_station_id  tripduration\n",
       "count         10.000000      10.00000\n",
       "mean         417.200000    9951.70000\n",
       "std           72.985234     461.23266\n",
       "min          284.000000    9373.00000\n",
       "25%          390.000000    9606.75000\n",
       "50%          420.000000    9872.50000\n",
       "75%          465.250000   10122.75000\n",
       "max          512.000000   10757.00000"
      ]
     },
     "execution_count": 22,
     "metadata": {},
     "output_type": "execute_result"
    }
   ],
   "source": [
    "queriesRes[i][relevantColumns].describe()"
   ]
  },
  {
   "cell_type": "code",
   "execution_count": 23,
   "metadata": {
    "run_control": {
     "frozen": false,
     "read_only": false
    }
   },
   "outputs": [
    {
     "data": {
      "text/html": [
       "<div style=\"max-height:1000px;max-width:1500px;overflow:auto;\">\n",
       "<table border=\"1\" class=\"dataframe\">\n",
       "  <thead>\n",
       "    <tr style=\"text-align: right;\">\n",
       "      <th></th>\n",
       "      <th>start_station_id</th>\n",
       "      <th>tripduration</th>\n",
       "      <th>starttime</th>\n",
       "    </tr>\n",
       "  </thead>\n",
       "  <tbody>\n",
       "    <tr>\n",
       "      <th>0</th>\n",
       "      <td>284</td>\n",
       "      <td>10757</td>\n",
       "      <td>2015-02-07 12:17:00+00</td>\n",
       "    </tr>\n",
       "    <tr>\n",
       "      <th>1</th>\n",
       "      <td>512</td>\n",
       "      <td>10660</td>\n",
       "      <td>2015-02-03 17:42:00+00</td>\n",
       "    </tr>\n",
       "    <tr>\n",
       "      <th>2</th>\n",
       "      <td>405</td>\n",
       "      <td>10174</td>\n",
       "      <td>2015-02-07 09:31:00+00</td>\n",
       "    </tr>\n",
       "    <tr>\n",
       "      <th>3</th>\n",
       "      <td>386</td>\n",
       "      <td>9969</td>\n",
       "      <td>2015-02-02 18:22:00+00</td>\n",
       "    </tr>\n",
       "    <tr>\n",
       "      <th>4</th>\n",
       "      <td>468</td>\n",
       "      <td>9938</td>\n",
       "      <td>2015-02-03 14:10:00+00</td>\n",
       "    </tr>\n",
       "    <tr>\n",
       "      <th>5</th>\n",
       "      <td>435</td>\n",
       "      <td>9807</td>\n",
       "      <td>2015-02-04 10:53:00+00</td>\n",
       "    </tr>\n",
       "    <tr>\n",
       "      <th>6</th>\n",
       "      <td>457</td>\n",
       "      <td>9711</td>\n",
       "      <td>2015-02-05 11:12:00+00</td>\n",
       "    </tr>\n",
       "    <tr>\n",
       "      <th>7</th>\n",
       "      <td>402</td>\n",
       "      <td>9572</td>\n",
       "      <td>2015-02-04 19:09:00+00</td>\n",
       "    </tr>\n",
       "    <tr>\n",
       "      <th>8</th>\n",
       "      <td>499</td>\n",
       "      <td>9556</td>\n",
       "      <td>2015-02-02 13:25:00+00</td>\n",
       "    </tr>\n",
       "    <tr>\n",
       "      <th>9</th>\n",
       "      <td>324</td>\n",
       "      <td>9373</td>\n",
       "      <td>2015-02-03 19:25:00+00</td>\n",
       "    </tr>\n",
       "  </tbody>\n",
       "</table>\n",
       "</div>"
      ],
      "text/plain": [
       "   start_station_id  tripduration               starttime\n",
       "0               284         10757  2015-02-07 12:17:00+00\n",
       "1               512         10660  2015-02-03 17:42:00+00\n",
       "2               405         10174  2015-02-07 09:31:00+00\n",
       "3               386          9969  2015-02-02 18:22:00+00\n",
       "4               468          9938  2015-02-03 14:10:00+00\n",
       "5               435          9807  2015-02-04 10:53:00+00\n",
       "6               457          9711  2015-02-05 11:12:00+00\n",
       "7               402          9572  2015-02-04 19:09:00+00\n",
       "8               499          9556  2015-02-02 13:25:00+00\n",
       "9               324          9373  2015-02-03 19:25:00+00"
      ]
     },
     "execution_count": 23,
     "metadata": {},
     "output_type": "execute_result"
    }
   ],
   "source": [
    "queriesRes[i][relevantColumns]"
   ]
  },
  {
   "cell_type": "markdown",
   "metadata": {
    "run_control": {
     "frozen": false,
     "read_only": false
    }
   },
   "source": [
    "# 6: all trips between feb 2 and feb 3 2015"
   ]
  },
  {
   "cell_type": "code",
   "execution_count": 24,
   "metadata": {
    "collapsed": true,
    "run_control": {
     "frozen": false,
     "read_only": false
    }
   },
   "outputs": [],
   "source": [
    "i = 5"
   ]
  },
  {
   "cell_type": "code",
   "execution_count": 25,
   "metadata": {
    "run_control": {
     "frozen": false,
     "read_only": false
    }
   },
   "outputs": [
    {
     "data": {
      "text/html": [
       "<div style=\"max-height:1000px;max-width:1500px;overflow:auto;\">\n",
       "<table border=\"1\" class=\"dataframe\">\n",
       "  <thead>\n",
       "    <tr style=\"text-align: right;\">\n",
       "      <th></th>\n",
       "      <th>start_station_id</th>\n",
       "      <th>tripduration</th>\n",
       "    </tr>\n",
       "  </thead>\n",
       "  <tbody>\n",
       "    <tr>\n",
       "      <th>count</th>\n",
       "      <td>1459.000000</td>\n",
       "      <td>1459.000000</td>\n",
       "    </tr>\n",
       "    <tr>\n",
       "      <th>mean</th>\n",
       "      <td>435.982865</td>\n",
       "      <td>920.862234</td>\n",
       "    </tr>\n",
       "    <tr>\n",
       "      <th>std</th>\n",
       "      <td>326.792747</td>\n",
       "      <td>2369.695501</td>\n",
       "    </tr>\n",
       "    <tr>\n",
       "      <th>min</th>\n",
       "      <td>72.000000</td>\n",
       "      <td>60.000000</td>\n",
       "    </tr>\n",
       "    <tr>\n",
       "      <th>25%</th>\n",
       "      <td>305.000000</td>\n",
       "      <td>386.500000</td>\n",
       "    </tr>\n",
       "    <tr>\n",
       "      <th>50%</th>\n",
       "      <td>414.000000</td>\n",
       "      <td>623.000000</td>\n",
       "    </tr>\n",
       "    <tr>\n",
       "      <th>75%</th>\n",
       "      <td>490.000000</td>\n",
       "      <td>923.500000</td>\n",
       "    </tr>\n",
       "    <tr>\n",
       "      <th>max</th>\n",
       "      <td>3002.000000</td>\n",
       "      <td>43016.000000</td>\n",
       "    </tr>\n",
       "  </tbody>\n",
       "</table>\n",
       "</div>"
      ],
      "text/plain": [
       "       start_station_id  tripduration\n",
       "count       1459.000000   1459.000000\n",
       "mean         435.982865    920.862234\n",
       "std          326.792747   2369.695501\n",
       "min           72.000000     60.000000\n",
       "25%          305.000000    386.500000\n",
       "50%          414.000000    623.000000\n",
       "75%          490.000000    923.500000\n",
       "max         3002.000000  43016.000000"
      ]
     },
     "execution_count": 25,
     "metadata": {},
     "output_type": "execute_result"
    }
   ],
   "source": [
    "queriesRes[i][relevantColumns].describe()"
   ]
  },
  {
   "cell_type": "code",
   "execution_count": 26,
   "metadata": {
    "run_control": {
     "frozen": false,
     "read_only": false
    }
   },
   "outputs": [
    {
     "data": {
      "text/plain": [
       "('2015-02-02 00:02:00+00', '2015-02-02 23:58:00+00')"
      ]
     },
     "execution_count": 26,
     "metadata": {},
     "output_type": "execute_result"
    }
   ],
   "source": [
    "queriesRes[i][\"starttime\"].min(), queriesRes[i][\"starttime\"].max()"
   ]
  },
  {
   "cell_type": "markdown",
   "metadata": {
    "run_control": {
     "frozen": false,
     "read_only": false
    }
   },
   "source": [
    "# 7: weekends days"
   ]
  },
  {
   "cell_type": "code",
   "execution_count": 27,
   "metadata": {
    "collapsed": true,
    "run_control": {
     "frozen": false,
     "read_only": false
    }
   },
   "outputs": [],
   "source": [
    "i = 6"
   ]
  },
  {
   "cell_type": "code",
   "execution_count": 28,
   "metadata": {
    "run_control": {
     "frozen": false,
     "read_only": false
    }
   },
   "outputs": [
    {
     "data": {
      "text/plain": [
       "0"
      ]
     },
     "execution_count": 28,
     "metadata": {},
     "output_type": "execute_result"
    }
   ],
   "source": [
    "#checking how many rows have weekends in it\n",
    "np.array([dt.date.weekday(t) < 5 \n",
    "          for t in pd.to_datetime(queriesRes[i][\"starttime\"])]).sum()"
   ]
  },
  {
   "cell_type": "markdown",
   "metadata": {
    "run_control": {
     "frozen": false,
     "read_only": false
    }
   },
   "source": [
    "# 8: week days"
   ]
  },
  {
   "cell_type": "code",
   "execution_count": 29,
   "metadata": {
    "collapsed": true,
    "run_control": {
     "frozen": false,
     "read_only": false
    }
   },
   "outputs": [],
   "source": [
    "i = 7"
   ]
  },
  {
   "cell_type": "code",
   "execution_count": 30,
   "metadata": {
    "run_control": {
     "frozen": false,
     "read_only": false
    }
   },
   "outputs": [
    {
     "data": {
      "text/plain": [
       "32969"
      ]
     },
     "execution_count": 30,
     "metadata": {},
     "output_type": "execute_result"
    }
   ],
   "source": [
    "#checking how many rows have day of the week in it\n",
    "np.array([dt.date.weekday(t) < 5 \n",
    "          for t in pd.to_datetime(queriesRes[i][\"starttime\"])]).sum()"
   ]
  },
  {
   "cell_type": "code",
   "execution_count": 31,
   "metadata": {
    "run_control": {
     "frozen": false,
     "read_only": false
    }
   },
   "outputs": [
    {
     "data": {
      "text/html": [
       "<div style=\"max-height:1000px;max-width:1500px;overflow:auto;\">\n",
       "<table border=\"1\" class=\"dataframe\">\n",
       "  <thead>\n",
       "    <tr style=\"text-align: right;\">\n",
       "      <th></th>\n",
       "      <th>start_station_id</th>\n",
       "      <th>tripduration</th>\n",
       "    </tr>\n",
       "  </thead>\n",
       "  <tbody>\n",
       "    <tr>\n",
       "      <th>count</th>\n",
       "      <td>32969.000000</td>\n",
       "      <td>32969.000000</td>\n",
       "    </tr>\n",
       "    <tr>\n",
       "      <th>mean</th>\n",
       "      <td>443.692014</td>\n",
       "      <td>681.052292</td>\n",
       "    </tr>\n",
       "    <tr>\n",
       "      <th>std</th>\n",
       "      <td>329.473824</td>\n",
       "      <td>955.523156</td>\n",
       "    </tr>\n",
       "    <tr>\n",
       "      <th>min</th>\n",
       "      <td>72.000000</td>\n",
       "      <td>60.000000</td>\n",
       "    </tr>\n",
       "    <tr>\n",
       "      <th>25%</th>\n",
       "      <td>311.000000</td>\n",
       "      <td>363.000000</td>\n",
       "    </tr>\n",
       "    <tr>\n",
       "      <th>50%</th>\n",
       "      <td>426.000000</td>\n",
       "      <td>537.000000</td>\n",
       "    </tr>\n",
       "    <tr>\n",
       "      <th>75%</th>\n",
       "      <td>493.000000</td>\n",
       "      <td>799.000000</td>\n",
       "    </tr>\n",
       "    <tr>\n",
       "      <th>max</th>\n",
       "      <td>3002.000000</td>\n",
       "      <td>43016.000000</td>\n",
       "    </tr>\n",
       "  </tbody>\n",
       "</table>\n",
       "</div>"
      ],
      "text/plain": [
       "       start_station_id  tripduration\n",
       "count      32969.000000  32969.000000\n",
       "mean         443.692014    681.052292\n",
       "std          329.473824    955.523156\n",
       "min           72.000000     60.000000\n",
       "25%          311.000000    363.000000\n",
       "50%          426.000000    537.000000\n",
       "75%          493.000000    799.000000\n",
       "max         3002.000000  43016.000000"
      ]
     },
     "execution_count": 31,
     "metadata": {},
     "output_type": "execute_result"
    }
   ],
   "source": [
    "# compare to size of df (count)\n",
    "queriesRes[i][relevantColumns].describe()"
   ]
  }
 ],
 "metadata": {
  "anaconda-cloud": {},
  "kernelspec": {
   "display_name": "Python 2",
   "language": "python",
   "name": "python2"
  },
  "language_info": {
   "codemirror_mode": {
    "name": "ipython",
    "version": 2
   },
   "file_extension": ".py",
   "mimetype": "text/x-python",
   "name": "python",
   "nbconvert_exporter": "python",
   "pygments_lexer": "ipython2",
   "version": "2.7.9"
  },
  "toc": {
   "colors": {
    "hover_highlight": "#DAA520",
    "running_highlight": "#FF0000",
    "selected_highlight": "#FFD700"
   },
   "moveMenuLeft": true,
   "nav_menu": {
    "height": "276px",
    "width": "252px"
   },
   "navigate_menu": true,
   "number_sections": true,
   "sideBar": true,
   "threshold": 4,
   "toc_cell": false,
   "toc_section_display": "block",
   "toc_window_display": false
  }
 },
 "nbformat": 4,
 "nbformat_minor": 1
}
