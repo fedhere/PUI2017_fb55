{
 "cells": [
  {
   "cell_type": "markdown",
   "metadata": {
    "run_control": {
     "frozen": false,
     "read_only": false
    }
   },
   "source": [
    "# SQL CARTO QUERY FUNCTION\n",
    "# written for PUI2016_Python2"
   ]
  },
  {
   "cell_type": "markdown",
   "metadata": {
    "run_control": {
     "frozen": false,
     "read_only": false
    }
   },
   "source": [
    "##### This notebook is set up to link as a default to the fb55 account.  To turn in the homework use the same account you used in the lab (hvt201)  and query the database that you were querying in class (citibike_feb_2015)"
   ]
  },
  {
   "cell_type": "code",
   "execution_count": 1,
   "metadata": {
    "ExecuteTime": {
     "end_time": "2018-10-08T23:46:02.033804Z",
     "start_time": "2018-10-08T23:46:01.614588Z"
    },
    "run_control": {
     "frozen": false,
     "read_only": false
    }
   },
   "outputs": [],
   "source": [
    "SQL_SOURCE = 'https://fb55.carto.com/api/v2/sql?q='\n",
    "\n",
    "import urllib2\n",
    "import urllib\n",
    "import StringIO\n",
    "import ast\n",
    "import pandas as pd\n",
    "\n",
    "def queryCartoDB(query, format='CSV', source=SQL_SOURCE):\n",
    "    '''queries carto datasets from a given carto account\n",
    "    Arguments: \n",
    "    query - string: a valid sql query string\n",
    "    format - outlut format  OPTIONAL (default CSV)\n",
    "    source - a valid sql api endpoint OPTIONAL (default carto fb55 account)\n",
    "    Returns:\n",
    "    the return of the sql query AS A STRING\n",
    "    NOTES:\n",
    "    designed for the carto API, tested only with CSV return format'''\n",
    "    \n",
    "    data = urllib.urlencode({'format': format, 'q': query})\n",
    "    try:\n",
    "        response = urllib2.urlopen(source, data)\n",
    "    except urllib2.HTTPError, e:\n",
    "        raise ValueError('\\n'.join(ast.literal_eval(e.readline())['error']))\n",
    "    except Exception:\n",
    "        raise\n",
    "    return response.read()"
   ]
  },
  {
   "cell_type": "code",
   "execution_count": 2,
   "metadata": {
    "ExecuteTime": {
     "end_time": "2018-10-08T23:46:02.788589Z",
     "start_time": "2018-10-08T23:46:02.782190Z"
    },
    "run_control": {
     "frozen": false,
     "read_only": false
    }
   },
   "outputs": [],
   "source": [
    "test = '''\n",
    "SELECT *\n",
    "FROM citibike\n",
    "'''"
   ]
  },
  {
   "cell_type": "code",
   "execution_count": 4,
   "metadata": {
    "ExecuteTime": {
     "end_time": "2018-10-08T23:55:02.041352Z",
     "start_time": "2018-10-08T23:52:07.116912Z"
    },
    "run_control": {
     "frozen": false,
     "read_only": false
    }
   },
   "outputs": [
    {
     "data": {
      "text/html": [
       "<div>\n",
       "<style scoped>\n",
       "    .dataframe tbody tr th:only-of-type {\n",
       "        vertical-align: middle;\n",
       "    }\n",
       "\n",
       "    .dataframe tbody tr th {\n",
       "        vertical-align: top;\n",
       "    }\n",
       "\n",
       "    .dataframe thead th {\n",
       "        text-align: right;\n",
       "    }\n",
       "</style>\n",
       "<table border=\"1\" class=\"dataframe\">\n",
       "  <thead>\n",
       "    <tr style=\"text-align: right;\">\n",
       "      <th></th>\n",
       "      <th>the_geom</th>\n",
       "      <th>start_station_name</th>\n",
       "      <th>the_geom_webmercator</th>\n",
       "      <th>field_1</th>\n",
       "      <th>start_station_longitude</th>\n",
       "      <th>tripduration</th>\n",
       "      <th>starttime</th>\n",
       "      <th>stoptime</th>\n",
       "      <th>start_station_id</th>\n",
       "      <th>cartodb_id</th>\n",
       "      <th>start_station_latitude</th>\n",
       "      <th>end_station_id</th>\n",
       "      <th>end_station_name</th>\n",
       "      <th>end_station_latitude</th>\n",
       "      <th>end_station_longitude</th>\n",
       "      <th>bikeid</th>\n",
       "      <th>usertype</th>\n",
       "      <th>birth_year</th>\n",
       "      <th>gender</th>\n",
       "    </tr>\n",
       "  </thead>\n",
       "  <tbody>\n",
       "    <tr>\n",
       "      <th>0</th>\n",
       "      <td>NaN</td>\n",
       "      <td>E 20 St &amp; Park Ave</td>\n",
       "      <td>NaN</td>\n",
       "      <td>175</td>\n",
       "      <td>-73.987520</td>\n",
       "      <td>1090</td>\n",
       "      <td>2015-02-01 01:23:00+00</td>\n",
       "      <td>2015-02-01 01:42:00+00</td>\n",
       "      <td>503</td>\n",
       "      <td>107</td>\n",
       "      <td>40.738274</td>\n",
       "      <td>229</td>\n",
       "      <td>Great Jones St</td>\n",
       "      <td>40.727434</td>\n",
       "      <td>-73.993790</td>\n",
       "      <td>19718</td>\n",
       "      <td>Subscriber</td>\n",
       "      <td>1961.0</td>\n",
       "      <td>1</td>\n",
       "    </tr>\n",
       "    <tr>\n",
       "      <th>1</th>\n",
       "      <td>NaN</td>\n",
       "      <td>W 43 St &amp; 10 Ave</td>\n",
       "      <td>NaN</td>\n",
       "      <td>1159</td>\n",
       "      <td>-73.994618</td>\n",
       "      <td>682</td>\n",
       "      <td>2015-02-01 10:55:00+00</td>\n",
       "      <td>2015-02-01 11:07:00+00</td>\n",
       "      <td>515</td>\n",
       "      <td>1088</td>\n",
       "      <td>40.760094</td>\n",
       "      <td>490</td>\n",
       "      <td>8 Ave &amp; W 33 St</td>\n",
       "      <td>40.751551</td>\n",
       "      <td>-73.993934</td>\n",
       "      <td>21501</td>\n",
       "      <td>Subscriber</td>\n",
       "      <td>1981.0</td>\n",
       "      <td>1</td>\n",
       "    </tr>\n",
       "    <tr>\n",
       "      <th>2</th>\n",
       "      <td>NaN</td>\n",
       "      <td>E 6 St &amp; Avenue B</td>\n",
       "      <td>NaN</td>\n",
       "      <td>2827</td>\n",
       "      <td>-73.981854</td>\n",
       "      <td>751</td>\n",
       "      <td>2015-02-01 13:59:00+00</td>\n",
       "      <td>2015-02-01 14:11:00+00</td>\n",
       "      <td>317</td>\n",
       "      <td>2759</td>\n",
       "      <td>40.724537</td>\n",
       "      <td>466</td>\n",
       "      <td>W 25 St &amp; 6 Ave</td>\n",
       "      <td>40.743954</td>\n",
       "      <td>-73.991449</td>\n",
       "      <td>14788</td>\n",
       "      <td>Subscriber</td>\n",
       "      <td>1990.0</td>\n",
       "      <td>1</td>\n",
       "    </tr>\n",
       "    <tr>\n",
       "      <th>3</th>\n",
       "      <td>NaN</td>\n",
       "      <td>E 12 St &amp; 3 Ave</td>\n",
       "      <td>NaN</td>\n",
       "      <td>4961</td>\n",
       "      <td>-73.988900</td>\n",
       "      <td>272</td>\n",
       "      <td>2015-02-01 17:28:00+00</td>\n",
       "      <td>2015-02-01 17:32:00+00</td>\n",
       "      <td>483</td>\n",
       "      <td>4893</td>\n",
       "      <td>40.732233</td>\n",
       "      <td>345</td>\n",
       "      <td>W 13 St &amp; 6 Ave</td>\n",
       "      <td>40.736494</td>\n",
       "      <td>-73.997044</td>\n",
       "      <td>16219</td>\n",
       "      <td>Subscriber</td>\n",
       "      <td>1961.0</td>\n",
       "      <td>1</td>\n",
       "    </tr>\n",
       "    <tr>\n",
       "      <th>4</th>\n",
       "      <td>NaN</td>\n",
       "      <td>W 41 St &amp; 8 Ave</td>\n",
       "      <td>NaN</td>\n",
       "      <td>6156</td>\n",
       "      <td>-73.990026</td>\n",
       "      <td>240</td>\n",
       "      <td>2015-02-01 21:36:00+00</td>\n",
       "      <td>2015-02-01 21:40:00+00</td>\n",
       "      <td>477</td>\n",
       "      <td>6090</td>\n",
       "      <td>40.756405</td>\n",
       "      <td>490</td>\n",
       "      <td>8 Ave &amp; W 33 St</td>\n",
       "      <td>40.751551</td>\n",
       "      <td>-73.993934</td>\n",
       "      <td>18266</td>\n",
       "      <td>Customer</td>\n",
       "      <td>NaN</td>\n",
       "      <td>0</td>\n",
       "    </tr>\n",
       "  </tbody>\n",
       "</table>\n",
       "</div>"
      ],
      "text/plain": [
       "   the_geom  start_station_name  the_geom_webmercator  field_1  \\\n",
       "0       NaN  E 20 St & Park Ave                   NaN      175   \n",
       "1       NaN    W 43 St & 10 Ave                   NaN     1159   \n",
       "2       NaN   E 6 St & Avenue B                   NaN     2827   \n",
       "3       NaN     E 12 St & 3 Ave                   NaN     4961   \n",
       "4       NaN     W 41 St & 8 Ave                   NaN     6156   \n",
       "\n",
       "   start_station_longitude  tripduration               starttime  \\\n",
       "0               -73.987520          1090  2015-02-01 01:23:00+00   \n",
       "1               -73.994618           682  2015-02-01 10:55:00+00   \n",
       "2               -73.981854           751  2015-02-01 13:59:00+00   \n",
       "3               -73.988900           272  2015-02-01 17:28:00+00   \n",
       "4               -73.990026           240  2015-02-01 21:36:00+00   \n",
       "\n",
       "                 stoptime  start_station_id  cartodb_id  \\\n",
       "0  2015-02-01 01:42:00+00               503         107   \n",
       "1  2015-02-01 11:07:00+00               515        1088   \n",
       "2  2015-02-01 14:11:00+00               317        2759   \n",
       "3  2015-02-01 17:32:00+00               483        4893   \n",
       "4  2015-02-01 21:40:00+00               477        6090   \n",
       "\n",
       "   start_station_latitude  end_station_id end_station_name  \\\n",
       "0               40.738274             229   Great Jones St   \n",
       "1               40.760094             490  8 Ave & W 33 St   \n",
       "2               40.724537             466  W 25 St & 6 Ave   \n",
       "3               40.732233             345  W 13 St & 6 Ave   \n",
       "4               40.756405             490  8 Ave & W 33 St   \n",
       "\n",
       "   end_station_latitude  end_station_longitude  bikeid    usertype  \\\n",
       "0             40.727434             -73.993790   19718  Subscriber   \n",
       "1             40.751551             -73.993934   21501  Subscriber   \n",
       "2             40.743954             -73.991449   14788  Subscriber   \n",
       "3             40.736494             -73.997044   16219  Subscriber   \n",
       "4             40.751551             -73.993934   18266    Customer   \n",
       "\n",
       "   birth_year  gender  \n",
       "0      1961.0       1  \n",
       "1      1981.0       1  \n",
       "2      1990.0       1  \n",
       "3      1961.0       1  \n",
       "4         NaN       0  "
      ]
     },
     "execution_count": 4,
     "metadata": {},
     "output_type": "execute_result"
    }
   ],
   "source": [
    "pd.read_csv(StringIO.StringIO(queryCartoDB(test)), sep=',').head()"
   ]
  },
  {
   "cell_type": "markdown",
   "metadata": {
    "collapsed": true,
    "run_control": {
     "frozen": false,
     "read_only": false
    }
   },
   "source": [
    "# extra credit: make the function python 2 and 3 compatible so that it works on the  PUI2016_Python3 kernel"
   ]
  }
 ],
 "metadata": {
  "anaconda-cloud": {},
  "kernelspec": {
   "display_name": "Python 2",
   "language": "python",
   "name": "python2"
  },
  "language_info": {
   "codemirror_mode": {
    "name": "ipython",
    "version": 2
   },
   "file_extension": ".py",
   "mimetype": "text/x-python",
   "name": "python",
   "nbconvert_exporter": "python",
   "pygments_lexer": "ipython2",
   "version": "2.7.9"
  },
  "toc": {
   "colors": {
    "hover_highlight": "#DAA520",
    "running_highlight": "#FF0000",
    "selected_highlight": "#FFD700"
   },
   "moveMenuLeft": true,
   "nav_menu": {
    "height": "84px",
    "width": "252px"
   },
   "navigate_menu": true,
   "number_sections": true,
   "sideBar": true,
   "threshold": 4,
   "toc_cell": false,
   "toc_section_display": "block",
   "toc_window_display": false
  }
 },
 "nbformat": 4,
 "nbformat_minor": 1
}
