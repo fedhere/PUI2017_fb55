{
 "cells": [
  {
   "cell_type": "code",
   "execution_count": 1,
   "metadata": {
    "ExecuteTime": {
     "end_time": "2017-12-06T08:10:42.995353",
     "start_time": "2017-12-06T08:09:50.687148"
    },
    "collapsed": false,
    "run_control": {
     "frozen": false,
     "read_only": false
    }
   },
   "outputs": [
    {
     "name": "stderr",
     "output_type": "stream",
     "text": [
      "//anaconda/envs/py35/lib/python3.5/site-packages/matplotlib/font_manager.py:280: UserWarning: Matplotlib is building the font cache using fc-list. This may take a moment.\n",
      "  'Matplotlib is building the font cache using fc-list. '\n"
     ]
    },
    {
     "name": "stdout",
     "output_type": "stream",
     "text": [
      "Populating the interactive namespace from numpy and matplotlib\n"
     ]
    }
   ],
   "source": [
    "import pandas as pd\n",
    "import pylab as pl\n",
    "import json\n",
    "%pylab inline\n",
    "pl.rcParams[\"font.size\"] = 20"
   ]
  },
  {
   "cell_type": "markdown",
   "metadata": {
    "run_control": {
     "frozen": false,
     "read_only": false
    }
   },
   "source": [
    "# Categorical distance metrics"
   ]
  },
  {
   "cell_type": "markdown",
   "metadata": {
    "run_control": {
     "frozen": false,
     "read_only": false
    }
   },
   "source": [
    "### reading in Women Services database from NYC open data"
   ]
  },
  {
   "cell_type": "code",
   "execution_count": 2,
   "metadata": {
    "ExecuteTime": {
     "end_time": "2017-12-06T08:10:44.029739",
     "start_time": "2017-12-06T08:10:42.997243"
    },
    "collapsed": false,
    "run_control": {
     "frozen": false,
     "read_only": false
    }
   },
   "outputs": [
    {
     "data": {
      "text/html": [
       "<div>\n",
       "<table border=\"1\" class=\"dataframe\">\n",
       "  <thead>\n",
       "    <tr style=\"text-align: right;\">\n",
       "      <th></th>\n",
       "      <th>OrganizationName</th>\n",
       "      <th>Brooklyn</th>\n",
       "      <th>Bronx</th>\n",
       "      <th>Manhattan</th>\n",
       "      <th>Queens</th>\n",
       "      <th>Staten Island</th>\n",
       "      <th>Fax</th>\n",
       "      <th>Phone</th>\n",
       "      <th>URL</th>\n",
       "      <th>noURL</th>\n",
       "      <th>...</th>\n",
       "      <th>Location 2</th>\n",
       "      <th>Borough</th>\n",
       "      <th>Latitude</th>\n",
       "      <th>Longitude</th>\n",
       "      <th>Community Board</th>\n",
       "      <th>Community Council</th>\n",
       "      <th>Census Tract</th>\n",
       "      <th>BIN</th>\n",
       "      <th>BBL</th>\n",
       "      <th>NTA</th>\n",
       "    </tr>\n",
       "  </thead>\n",
       "  <tbody>\n",
       "    <tr>\n",
       "      <th>0</th>\n",
       "      <td>YWCA of the City of New York</td>\n",
       "      <td>Y</td>\n",
       "      <td>N</td>\n",
       "      <td>Y</td>\n",
       "      <td>N</td>\n",
       "      <td>Y</td>\n",
       "      <td>2.122236e+09</td>\n",
       "      <td>2.127554e+09</td>\n",
       "      <td>http://www.ywcanyc.org</td>\n",
       "      <td>N</td>\n",
       "      <td>...</td>\n",
       "      <td>NaN</td>\n",
       "      <td>NaN</td>\n",
       "      <td>NaN</td>\n",
       "      <td>NaN</td>\n",
       "      <td>NaN</td>\n",
       "      <td>NaN</td>\n",
       "      <td>NaN</td>\n",
       "      <td>NaN</td>\n",
       "      <td>NaN</td>\n",
       "      <td>NaN</td>\n",
       "    </tr>\n",
       "    <tr>\n",
       "      <th>1</th>\n",
       "      <td>RightRides for Women's Safety</td>\n",
       "      <td>Y</td>\n",
       "      <td>Y</td>\n",
       "      <td>Y</td>\n",
       "      <td>Y</td>\n",
       "      <td>N</td>\n",
       "      <td>NaN</td>\n",
       "      <td>7.185221e+09</td>\n",
       "      <td>http://www.rightrides.org</td>\n",
       "      <td>N</td>\n",
       "      <td>...</td>\n",
       "      <td>NaN</td>\n",
       "      <td>BROOKLYN</td>\n",
       "      <td>40.693244</td>\n",
       "      <td>-73.990660</td>\n",
       "      <td>2.0</td>\n",
       "      <td>33.0</td>\n",
       "      <td>9.0</td>\n",
       "      <td>3002094.0</td>\n",
       "      <td>3.002500e+09</td>\n",
       "      <td>Brooklyn Heights-Cobble Hill                  ...</td>\n",
       "    </tr>\n",
       "    <tr>\n",
       "      <th>2</th>\n",
       "      <td>Charles B. Wang Community Health Center</td>\n",
       "      <td>N</td>\n",
       "      <td>N</td>\n",
       "      <td>Y</td>\n",
       "      <td>N</td>\n",
       "      <td>N</td>\n",
       "      <td>NaN</td>\n",
       "      <td>2.129660e+09</td>\n",
       "      <td>http://www.cbwchc.org/hcs/wh/wh.html</td>\n",
       "      <td>N</td>\n",
       "      <td>...</td>\n",
       "      <td>NaN</td>\n",
       "      <td>NaN</td>\n",
       "      <td>NaN</td>\n",
       "      <td>NaN</td>\n",
       "      <td>NaN</td>\n",
       "      <td>NaN</td>\n",
       "      <td>NaN</td>\n",
       "      <td>NaN</td>\n",
       "      <td>NaN</td>\n",
       "      <td>NaN</td>\n",
       "    </tr>\n",
       "    <tr>\n",
       "      <th>3</th>\n",
       "      <td>American-Italian Cancer Foundation's Mobile Ma...</td>\n",
       "      <td>Y</td>\n",
       "      <td>Y</td>\n",
       "      <td>Y</td>\n",
       "      <td>Y</td>\n",
       "      <td>Y</td>\n",
       "      <td>NaN</td>\n",
       "      <td>2.126289e+09</td>\n",
       "      <td>http://www.americanitaliancancer.org</td>\n",
       "      <td>N</td>\n",
       "      <td>...</td>\n",
       "      <td>NaN</td>\n",
       "      <td>MANHATTAN</td>\n",
       "      <td>40.770141</td>\n",
       "      <td>-73.963670</td>\n",
       "      <td>8.0</td>\n",
       "      <td>4.0</td>\n",
       "      <td>128.0</td>\n",
       "      <td>1083890.0</td>\n",
       "      <td>1.014058e+09</td>\n",
       "      <td>Upper East Side-Carnegie Hill                 ...</td>\n",
       "    </tr>\n",
       "    <tr>\n",
       "      <th>4</th>\n",
       "      <td>QHC-Diabetes Center</td>\n",
       "      <td>N</td>\n",
       "      <td>N</td>\n",
       "      <td>N</td>\n",
       "      <td>Y</td>\n",
       "      <td>N</td>\n",
       "      <td>7.188836e+09</td>\n",
       "      <td>7.188833e+09</td>\n",
       "      <td>http://nyc.gov</td>\n",
       "      <td>N</td>\n",
       "      <td>...</td>\n",
       "      <td>NaN</td>\n",
       "      <td>QUEENS</td>\n",
       "      <td>40.717250</td>\n",
       "      <td>-73.803433</td>\n",
       "      <td>8.0</td>\n",
       "      <td>24.0</td>\n",
       "      <td>1267.0</td>\n",
       "      <td>4442431.0</td>\n",
       "      <td>4.068580e+09</td>\n",
       "      <td>Pomonok-Flushing Heights-Hillcrest            ...</td>\n",
       "    </tr>\n",
       "  </tbody>\n",
       "</table>\n",
       "<p>5 rows × 56 columns</p>\n",
       "</div>"
      ],
      "text/plain": [
       "                                    OrganizationName Brooklyn Bronx Manhattan  \\\n",
       "0                       YWCA of the City of New York        Y     N         Y   \n",
       "1                      RightRides for Women's Safety        Y     Y         Y   \n",
       "2            Charles B. Wang Community Health Center        N     N         Y   \n",
       "3  American-Italian Cancer Foundation's Mobile Ma...        Y     Y         Y   \n",
       "4                                QHC-Diabetes Center        N     N         N   \n",
       "\n",
       "  Queens Staten Island           Fax         Phone  \\\n",
       "0      N             Y  2.122236e+09  2.127554e+09   \n",
       "1      Y             N           NaN  7.185221e+09   \n",
       "2      N             N           NaN  2.129660e+09   \n",
       "3      Y             Y           NaN  2.126289e+09   \n",
       "4      Y             N  7.188836e+09  7.188833e+09   \n",
       "\n",
       "                                    URL noURL  \\\n",
       "0                http://www.ywcanyc.org     N   \n",
       "1             http://www.rightrides.org     N   \n",
       "2  http://www.cbwchc.org/hcs/wh/wh.html     N   \n",
       "3  http://www.americanitaliancancer.org     N   \n",
       "4                        http://nyc.gov     N   \n",
       "\n",
       "                         ...                         Location 2    Borough  \\\n",
       "0                        ...                                NaN        NaN   \n",
       "1                        ...                                NaN  BROOKLYN    \n",
       "2                        ...                                NaN        NaN   \n",
       "3                        ...                                NaN  MANHATTAN   \n",
       "4                        ...                                NaN  QUEENS      \n",
       "\n",
       "    Latitude  Longitude Community Board Community Council  Census Tract  \\\n",
       "0        NaN        NaN             NaN                NaN          NaN   \n",
       "1  40.693244 -73.990660             2.0               33.0          9.0   \n",
       "2        NaN        NaN             NaN                NaN          NaN   \n",
       "3  40.770141 -73.963670             8.0                4.0        128.0   \n",
       "4  40.717250 -73.803433             8.0               24.0       1267.0   \n",
       "\n",
       "         BIN           BBL                                                NTA  \n",
       "0        NaN           NaN                                                NaN  \n",
       "1  3002094.0  3.002500e+09  Brooklyn Heights-Cobble Hill                  ...  \n",
       "2        NaN           NaN                                                NaN  \n",
       "3  1083890.0  1.014058e+09  Upper East Side-Carnegie Hill                 ...  \n",
       "4  4442431.0  4.068580e+09  Pomonok-Flushing Heights-Hillcrest            ...  \n",
       "\n",
       "[5 rows x 56 columns]"
      ]
     },
     "execution_count": 2,
     "metadata": {},
     "output_type": "execute_result"
    }
   ],
   "source": [
    "womenserv = pd.read_csv(\"https://data.cityofnewyork.us/api/views/pqg4-dm6b/rows.csv?accessType=DOWNLOAD\")\n",
    "#NYC_Women_s_Resource_Network_Database.csv\")\n",
    "womenserv.head()"
   ]
  },
  {
   "cell_type": "markdown",
   "metadata": {
    "run_control": {
     "frozen": false,
     "read_only": false
    }
   },
   "source": [
    "### encoding variable as a binary\n",
    "(reference on categorical encoding in python: http://pbpython.com/categorical-encoding.html)"
   ]
  },
  {
   "cell_type": "code",
   "execution_count": 3,
   "metadata": {
    "ExecuteTime": {
     "end_time": "2017-12-06T08:10:46.739603",
     "start_time": "2017-12-06T08:10:46.677829"
    },
    "collapsed": false,
    "run_control": {
     "frozen": false,
     "read_only": false
    }
   },
   "outputs": [
    {
     "data": {
      "text/html": [
       "<div>\n",
       "<table border=\"1\" class=\"dataframe\">\n",
       "  <thead>\n",
       "    <tr style=\"text-align: right;\">\n",
       "      <th></th>\n",
       "      <th>OrganizationName</th>\n",
       "      <th>Brooklyn</th>\n",
       "      <th>Bronx</th>\n",
       "      <th>Manhattan</th>\n",
       "      <th>Queens</th>\n",
       "      <th>Staten Island</th>\n",
       "      <th>Fax</th>\n",
       "      <th>Phone</th>\n",
       "      <th>URL</th>\n",
       "      <th>noURL</th>\n",
       "      <th>...</th>\n",
       "      <th>Location 2</th>\n",
       "      <th>Borough</th>\n",
       "      <th>Latitude</th>\n",
       "      <th>Longitude</th>\n",
       "      <th>Community Board</th>\n",
       "      <th>Community Council</th>\n",
       "      <th>Census Tract</th>\n",
       "      <th>BIN</th>\n",
       "      <th>BBL</th>\n",
       "      <th>NTA</th>\n",
       "    </tr>\n",
       "  </thead>\n",
       "  <tbody>\n",
       "    <tr>\n",
       "      <th>0</th>\n",
       "      <td>YWCA of the City of New York</td>\n",
       "      <td>1</td>\n",
       "      <td>0</td>\n",
       "      <td>1</td>\n",
       "      <td>0</td>\n",
       "      <td>1</td>\n",
       "      <td>2.122236e+09</td>\n",
       "      <td>2.127554e+09</td>\n",
       "      <td>http://www.ywcanyc.org</td>\n",
       "      <td>N</td>\n",
       "      <td>...</td>\n",
       "      <td>NaN</td>\n",
       "      <td>NaN</td>\n",
       "      <td>NaN</td>\n",
       "      <td>NaN</td>\n",
       "      <td>NaN</td>\n",
       "      <td>NaN</td>\n",
       "      <td>NaN</td>\n",
       "      <td>NaN</td>\n",
       "      <td>NaN</td>\n",
       "      <td>NaN</td>\n",
       "    </tr>\n",
       "    <tr>\n",
       "      <th>1</th>\n",
       "      <td>RightRides for Women's Safety</td>\n",
       "      <td>1</td>\n",
       "      <td>1</td>\n",
       "      <td>1</td>\n",
       "      <td>1</td>\n",
       "      <td>0</td>\n",
       "      <td>NaN</td>\n",
       "      <td>7.185221e+09</td>\n",
       "      <td>http://www.rightrides.org</td>\n",
       "      <td>N</td>\n",
       "      <td>...</td>\n",
       "      <td>NaN</td>\n",
       "      <td>BROOKLYN</td>\n",
       "      <td>40.693244</td>\n",
       "      <td>-73.990660</td>\n",
       "      <td>2.0</td>\n",
       "      <td>33.0</td>\n",
       "      <td>9.0</td>\n",
       "      <td>3002094.0</td>\n",
       "      <td>3.002500e+09</td>\n",
       "      <td>Brooklyn Heights-Cobble Hill                  ...</td>\n",
       "    </tr>\n",
       "    <tr>\n",
       "      <th>2</th>\n",
       "      <td>Charles B. Wang Community Health Center</td>\n",
       "      <td>0</td>\n",
       "      <td>0</td>\n",
       "      <td>1</td>\n",
       "      <td>0</td>\n",
       "      <td>0</td>\n",
       "      <td>NaN</td>\n",
       "      <td>2.129660e+09</td>\n",
       "      <td>http://www.cbwchc.org/hcs/wh/wh.html</td>\n",
       "      <td>N</td>\n",
       "      <td>...</td>\n",
       "      <td>NaN</td>\n",
       "      <td>NaN</td>\n",
       "      <td>NaN</td>\n",
       "      <td>NaN</td>\n",
       "      <td>NaN</td>\n",
       "      <td>NaN</td>\n",
       "      <td>NaN</td>\n",
       "      <td>NaN</td>\n",
       "      <td>NaN</td>\n",
       "      <td>NaN</td>\n",
       "    </tr>\n",
       "    <tr>\n",
       "      <th>3</th>\n",
       "      <td>American-Italian Cancer Foundation's Mobile Ma...</td>\n",
       "      <td>1</td>\n",
       "      <td>1</td>\n",
       "      <td>1</td>\n",
       "      <td>1</td>\n",
       "      <td>1</td>\n",
       "      <td>NaN</td>\n",
       "      <td>2.126289e+09</td>\n",
       "      <td>http://www.americanitaliancancer.org</td>\n",
       "      <td>N</td>\n",
       "      <td>...</td>\n",
       "      <td>NaN</td>\n",
       "      <td>MANHATTAN</td>\n",
       "      <td>40.770141</td>\n",
       "      <td>-73.963670</td>\n",
       "      <td>8.0</td>\n",
       "      <td>4.0</td>\n",
       "      <td>128.0</td>\n",
       "      <td>1083890.0</td>\n",
       "      <td>1.014058e+09</td>\n",
       "      <td>Upper East Side-Carnegie Hill                 ...</td>\n",
       "    </tr>\n",
       "    <tr>\n",
       "      <th>4</th>\n",
       "      <td>QHC-Diabetes Center</td>\n",
       "      <td>0</td>\n",
       "      <td>0</td>\n",
       "      <td>0</td>\n",
       "      <td>1</td>\n",
       "      <td>0</td>\n",
       "      <td>7.188836e+09</td>\n",
       "      <td>7.188833e+09</td>\n",
       "      <td>http://nyc.gov</td>\n",
       "      <td>N</td>\n",
       "      <td>...</td>\n",
       "      <td>NaN</td>\n",
       "      <td>QUEENS</td>\n",
       "      <td>40.717250</td>\n",
       "      <td>-73.803433</td>\n",
       "      <td>8.0</td>\n",
       "      <td>24.0</td>\n",
       "      <td>1267.0</td>\n",
       "      <td>4442431.0</td>\n",
       "      <td>4.068580e+09</td>\n",
       "      <td>Pomonok-Flushing Heights-Hillcrest            ...</td>\n",
       "    </tr>\n",
       "  </tbody>\n",
       "</table>\n",
       "<p>5 rows × 56 columns</p>\n",
       "</div>"
      ],
      "text/plain": [
       "                                    OrganizationName  Brooklyn  Bronx  \\\n",
       "0                       YWCA of the City of New York         1      0   \n",
       "1                      RightRides for Women's Safety         1      1   \n",
       "2            Charles B. Wang Community Health Center         0      0   \n",
       "3  American-Italian Cancer Foundation's Mobile Ma...         1      1   \n",
       "4                                QHC-Diabetes Center         0      0   \n",
       "\n",
       "   Manhattan  Queens  Staten Island           Fax         Phone  \\\n",
       "0          1       0              1  2.122236e+09  2.127554e+09   \n",
       "1          1       1              0           NaN  7.185221e+09   \n",
       "2          1       0              0           NaN  2.129660e+09   \n",
       "3          1       1              1           NaN  2.126289e+09   \n",
       "4          0       1              0  7.188836e+09  7.188833e+09   \n",
       "\n",
       "                                    URL noURL  \\\n",
       "0                http://www.ywcanyc.org     N   \n",
       "1             http://www.rightrides.org     N   \n",
       "2  http://www.cbwchc.org/hcs/wh/wh.html     N   \n",
       "3  http://www.americanitaliancancer.org     N   \n",
       "4                        http://nyc.gov     N   \n",
       "\n",
       "                         ...                         Location 2    Borough  \\\n",
       "0                        ...                                NaN        NaN   \n",
       "1                        ...                                NaN  BROOKLYN    \n",
       "2                        ...                                NaN        NaN   \n",
       "3                        ...                                NaN  MANHATTAN   \n",
       "4                        ...                                NaN  QUEENS      \n",
       "\n",
       "    Latitude  Longitude Community Board Community Council  Census Tract  \\\n",
       "0        NaN        NaN             NaN                NaN          NaN   \n",
       "1  40.693244 -73.990660             2.0               33.0          9.0   \n",
       "2        NaN        NaN             NaN                NaN          NaN   \n",
       "3  40.770141 -73.963670             8.0                4.0        128.0   \n",
       "4  40.717250 -73.803433             8.0               24.0       1267.0   \n",
       "\n",
       "         BIN           BBL                                                NTA  \n",
       "0        NaN           NaN                                                NaN  \n",
       "1  3002094.0  3.002500e+09  Brooklyn Heights-Cobble Hill                  ...  \n",
       "2        NaN           NaN                                                NaN  \n",
       "3  1083890.0  1.014058e+09  Upper East Side-Carnegie Hill                 ...  \n",
       "4  4442431.0  4.068580e+09  Pomonok-Flushing Heights-Hillcrest            ...  \n",
       "\n",
       "[5 rows x 56 columns]"
      ]
     },
     "execution_count": 3,
     "metadata": {},
     "output_type": "execute_result"
    }
   ],
   "source": [
    "Y21N20 = {'Y':1, 'N':0}\n",
    "    \n",
    "for br in 'Brooklyn', 'Bronx', 'Manhattan', 'Queens', 'Staten Island':\n",
    "    #womenserv[br][womenserv[br] == 'Y'] = 1\n",
    "    #womenserv[br][womenserv[br] == 'N'] = 0\n",
    "    womenserv[br] = womenserv[br].map(Y21N20)\n",
    "womenserv.head()"
   ]
  },
  {
   "cell_type": "markdown",
   "metadata": {
    "run_control": {
     "frozen": false,
     "read_only": false
    }
   },
   "source": [
    "## define similarity"
   ]
  },
  {
   "cell_type": "code",
   "execution_count": 4,
   "metadata": {
    "ExecuteTime": {
     "end_time": "2017-12-06T08:10:48.038169",
     "start_time": "2017-12-06T08:10:48.031740"
    },
    "collapsed": true,
    "run_control": {
     "frozen": false,
     "read_only": false
    }
   },
   "outputs": [],
   "source": [
    "def SimpleSimilarity(x,y):\n",
    "    '''Calculates Simple similarity for categorical binary variables\n",
    "    Arguments: \n",
    "    x: series (array) of categorical observation for an feature\n",
    "    y: series (array) of categorical observation for an feature\n",
    "    Returns:\n",
    "    Simple similarity (float)\n",
    "    '''\n",
    "    \n",
    "    coocc = x + y\n",
    "    m11 = np.sum(coocc==0) # in neither\n",
    "    m00 = np.sum(coocc==2) # in both\n",
    "    p = len(coocc)\n",
    "    return (m11 + m00) * 1.0 / p"
   ]
  },
  {
   "cell_type": "code",
   "execution_count": 5,
   "metadata": {
    "ExecuteTime": {
     "end_time": "2017-12-06T08:10:48.628175",
     "start_time": "2017-12-06T08:10:48.622850"
    },
    "collapsed": true,
    "run_control": {
     "frozen": false,
     "read_only": false
    }
   },
   "outputs": [],
   "source": [
    "def JaccardSimilarity(x,y):\n",
    "    '''Calculates Jaccard similarity for categorical binary variables\n",
    "    Arguments: \n",
    "    x: series (array) of categorical observation for an feature\n",
    "    y: series (array) of categorical observation for an feature\n",
    "    Returns:\n",
    "    Jaccard similarity (float)\n",
    "    '''\n",
    "    \n",
    "    coocc = x + y\n",
    "    a = (coocc==2).sum() # in both\n",
    "    bc = (coocc==1).sum() #in either but not both\n",
    "    return (a) * 1.0 / bc"
   ]
  },
  {
   "cell_type": "code",
   "execution_count": 9,
   "metadata": {
    "ExecuteTime": {
     "end_time": "2017-12-06T08:11:42.784996",
     "start_time": "2017-12-06T08:11:42.768743"
    },
    "collapsed": false,
    "run_control": {
     "frozen": false,
     "read_only": false
    }
   },
   "outputs": [
    {
     "name": "stdout",
     "output_type": "stream",
     "text": [
      "How similar is Brooklyn to the Bronx?\n",
      "Simple Similarity:  0.770706190061 \n",
      " Jaccard Similarity:  0.733840304183 \n",
      "\n",
      "\n",
      "How similar is Manhattan to the Bronx?\n",
      "Simple Similarity:  0.502179598954 \n",
      " Jaccard Similarity:  0.353765323993 \n",
      "\n",
      "\n",
      "How similar is Manhattan to the Brooklyn?\n",
      "Simple Similarity:  0.426329555362 \n",
      " Jaccard Similarity:  0.313069908815 \n",
      "\n",
      "\n",
      "How similar is Manhattan to the SI?\n",
      "Simple Similarity:  0.531822144725 \n",
      " Jaccard Similarity:  0.329608938547 \n",
      "\n",
      "\n"
     ]
    }
   ],
   "source": [
    "print (\"How similar is Brooklyn to the Bronx?\")\n",
    "    \n",
    "print (\"Simple Similarity: \", SimpleSimilarity(womenserv.Brooklyn.values, womenserv.Bronx.values), \"\\n\",\n",
    "      \"Jaccard Similarity: \", JaccardSimilarity(womenserv.Brooklyn.values, womenserv.Bronx.values),\n",
    "      \"\\n\\n\")\n",
    "\n",
    "print (\"How similar is Manhattan to the Bronx?\")\n",
    "    \n",
    "print (\"Simple Similarity: \", SimpleSimilarity(womenserv.Manhattan.values, womenserv.Bronx.values), \"\\n\",\n",
    "      \"Jaccard Similarity: \", JaccardSimilarity(womenserv.Manhattan.values, womenserv.Bronx.values),\n",
    "      \"\\n\\n\")\n",
    "\n",
    "print (\"How similar is Manhattan to the Brooklyn?\")\n",
    "    \n",
    "print (\"Simple Similarity: \", SimpleSimilarity(womenserv.Manhattan.values, womenserv.Brooklyn.values), \"\\n\",\n",
    "      \"Jaccard Similarity: \", JaccardSimilarity(womenserv.Manhattan.values, womenserv.Brooklyn.values),\n",
    "      \"\\n\\n\")\n",
    "\n",
    "print (\"How similar is Manhattan to the SI?\")\n",
    "    \n",
    "print (\"Simple Similarity: \", SimpleSimilarity(womenserv.Manhattan.values, womenserv[\"Staten Island\"].values), \"\\n\",\n",
    "      \"Jaccard Similarity: \", JaccardSimilarity(womenserv.Manhattan.values, womenserv[\"Staten Island\"].values),\n",
    "      \"\\n\\n\")\n"
   ]
  }
 ],
 "metadata": {
  "kernelspec": {
   "display_name": "Python [conda env:py35]",
   "language": "python",
   "name": "conda-env-py35-py"
  },
  "toc": {
   "colors": {
    "hover_highlight": "#DAA520",
    "running_highlight": "#FF0000",
    "selected_highlight": "#FFD700"
   },
   "moveMenuLeft": true,
   "nav_menu": {
    "height": "120px",
    "width": "252px"
   },
   "navigate_menu": true,
   "number_sections": true,
   "sideBar": true,
   "threshold": 4,
   "toc_cell": false,
   "toc_section_display": "block",
   "toc_window_display": false
  }
 },
 "nbformat": 4,
 "nbformat_minor": 0
}
